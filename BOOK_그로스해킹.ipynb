{
  "nbformat": 4,
  "nbformat_minor": 0,
  "metadata": {
    "colab": {
      "provenance": [],
      "collapsed_sections": [
        "RxP6GuzBYpoL",
        "bL6MZGZVaRfM",
        "KhrPVOJcf_RM",
        "rYRk95ten32s",
        "NGgUJv3_qa-_",
        "zD9ydvT7Net9",
        "P6XZeFpSWZrg",
        "4XT1KfsdUIos",
        "j-6vkWcGeDQY",
        "zVQ1ZnLhqpK5"
      ],
      "authorship_tag": "ABX9TyPxlgSPIfiDl6fCAuJHbzim",
      "include_colab_link": true
    },
    "kernelspec": {
      "name": "python3",
      "display_name": "Python 3"
    },
    "language_info": {
      "name": "python"
    }
  },
  "cells": [
    {
      "cell_type": "markdown",
      "metadata": {
        "id": "view-in-github",
        "colab_type": "text"
      },
      "source": [
        "<a href=\"https://colab.research.google.com/github/ev1025/DA_Study/blob/main/BOOK_%EA%B7%B8%EB%A1%9C%EC%8A%A4%ED%95%B4%ED%82%B9.ipynb\" target=\"_parent\"><img src=\"https://colab.research.google.com/assets/colab-badge.svg\" alt=\"Open In Colab\"/></a>"
      ]
    },
    {
      "cell_type": "markdown",
      "source": [
        "# 그로스해킹"
      ],
      "metadata": {
        "id": "_qbiamPjYrJ4"
      }
    },
    {
      "cell_type": "markdown",
      "source": [
        "## 기획"
      ],
      "metadata": {
        "id": "RxP6GuzBYpoL"
      }
    },
    {
      "cell_type": "markdown",
      "source": [
        "**생각해보기**\n",
        "- 정말 사용자가 원하는 서비스인가?\n",
        "- 최소한의 기능으로 사용자에게 가치를 전달하는가?\n",
        "\n",
        "**최소한의 프로토타입**\n",
        "- 가설을 토대로 최소한의 기능을 가진 제품으로 반응을 테스트 한 뒤 반응이 좋은 것을 개발해야한다.\n",
        "\n",
        "- 기능을 늘린다고 실패할 제품이 성공하지는 않음(서비스 개선 = 기능추가가 되어선 안된다.)"
      ],
      "metadata": {
        "id": "yvRbDa4zYbVT"
      }
    },
    {
      "cell_type": "markdown",
      "source": [
        "### 제품-시장 적합성"
      ],
      "metadata": {
        "id": "bL6MZGZVaRfM"
      }
    },
    {
      "cell_type": "markdown",
      "source": [
        "**주안점**\n",
        "- 고객이 원하는 제품을 만드는 것\n",
        "- 우리가 생각하는 문제가 있긴 한가?\n",
        "- 우리가 만든 제품이 정말 그 문제를 해결하는가?\n",
        "- 가설이 무엇이며 검증이 되었는가?\n"
      ],
      "metadata": {
        "id": "56T0Khk9uzl6"
      }
    },
    {
      "cell_type": "markdown",
      "source": [
        "**제품-시장 적합성 확인 지표(PMF, Product-Market Fit)**\n",
        "1. **리텐션** : 적합성을 만족하는 제품은 초기 일정 시간이 지나면 기울기가 유지된다.\n",
        "2. **전환률(퍼널분석)**\n",
        "3. **순수추천지수(NPS)** : 비추천, 소극적추천, 적극적추천 그룹으로 나누어서 구하는 지수\n",
        "   - -1에서 1사이의 값, 양수만 되도 긍정적\n",
        "   - 충성사용자를 확인하는 지표(적당히 좋아하는 사람보다 구하기 힘듬)\n",
        ">$ NPS = \\frac{적극추천그룹 - 비추천그룹}{전체 응답자}$\n",
        "\n",
        "**적합성이 충분하지 않으면 제품을 다시 점검해볼 필요가 있다.**"
      ],
      "metadata": {
        "id": "_lLP1kY6vZbR"
      }
    },
    {
      "cell_type": "markdown",
      "source": [
        "**적합성 확인단계에서 해야할 일**\n",
        "  - 정량분석 : 사용자 데이터 분석\n",
        "  - 정성분석 : 사용자 인터뷰(포커스그룹 인터뷰보다는 1:1 인터뷰가 더 좋음, 모더레이터가 할 필요 없음)\n",
        "  \n",
        "        - 미래가 아닌 과거와 현재에 초점\n",
        "        - 가정이 아닌 경험을 질문\n",
        "        - 결과가 아닌 과정을 깊게 살펴볼 것\n",
        "        - 기억이 아닌 습관을 통해 드러난 구체적인 경험\n",
        "        - 일반화된 진술이 아닌 개인의 경험이 드러나도록\n",
        "        - 편향된 믿음이 아닌 순수한 호기심으로 접근"
      ],
      "metadata": {
        "id": "mxAwK4N4atxw"
      }
    },
    {
      "cell_type": "markdown",
      "source": [
        " **하지 말아야 할 행동**\n",
        "- 도움이 되지 않는 지표 : 순 가입자수, 순수 활동유저\n",
        "\n",
        "- 브레인스토밍, 새기능 추가 : 새로운걸 추가하려는 노력보다는 요구사항을 다시 탐구해보아야 한다.\n",
        "- 전환률 개선을 위한 실험 : 적합하지 않은 상태에서 일시적으로 전환률이 높아지는 것은 의미가 없다.\n",
        "\n"
      ],
      "metadata": {
        "id": "Ak76NAqs7xTx"
      }
    },
    {
      "cell_type": "markdown",
      "source": [
        "## AARRR(과업기반 지표관리)"
      ],
      "metadata": {
        "id": "KhrPVOJcf_RM"
      }
    },
    {
      "cell_type": "markdown",
      "source": [
        "**등장배경**\n",
        "- 예전에는 각 부서마다 개별 지표를 관리했다.\n",
        "- 전체적으로 서비스 관점에서 무엇이 중요한 지표인지 판단하기 어려웠다.   \n",
        "(핵심지표가 나뉘고 우선순위를 결정하기 어려움)\n",
        "- 결국 놓치게되는 지표가 생기게 되었다."
      ],
      "metadata": {
        "id": "HB9B4YbhgFnH"
      }
    },
    {
      "cell_type": "markdown",
      "source": [
        "**AARRR (프레임워크기반 지표관리)** \n",
        "- 그로스 해킹은 핵심지표를 찾고, 그 지표를 성장시키는 방법을 찾는 활동\n",
        "- 사용자의 서비스 이용흐름에 따라 단계별 주요 지표를 서비스관점에서 정의\n",
        "- 우선 지표를 정의한 후 해당 지표를 원하는 방향으로 움직이게 하기 위한 과업을 고민해야한다.   \n",
        "\n",
        "\n",
        "        Acquisition(유치) : 사용자를 어떻게 데려올 것인가?\n",
        "        Activation(활성화) : 사용자가 핵심기능을 사용하는가?\n",
        "        Retention(유지) : 사용자가 지속적으로 방문하는가? \n",
        "        Revenue(수익화) : 사용자가 핵심 기능을 사용하기 위해 결제하는가?\n",
        "        Referral(추천) : 사용자가 서비스를 주변에 추천하는가?"
      ],
      "metadata": {
        "id": "Ha8IFhhxk62n"
      }
    },
    {
      "cell_type": "markdown",
      "source": [
        "**활용 방법**\n",
        "1. 각 단계별 풀어야하는 문제를 확인\n",
        "2. 각 단계별 핵심지표를 선정하고, 현재 지표의 위치를 측정\n",
        "3. 측정된 위치의 의미를 이해한다.\n",
        "4. 개선 목표를 정하고 실험을 통해 단계적으로 개선"
      ],
      "metadata": {
        "id": "EnN_gmNCl7ZX"
      }
    },
    {
      "cell_type": "markdown",
      "source": [
        "**개선 순서**\n",
        "1. 활성화(Activation), 유지율(Retention)\n",
        "2. 고객유치(Acquisition),  추천(Referral)\n",
        "3. 수익화(Revenue)"
      ],
      "metadata": {
        "id": "iBYcQdstlVD9"
      }
    },
    {
      "cell_type": "markdown",
      "source": [
        "### **1. Acquisition(고객 유치)**\n"
      ],
      "metadata": {
        "id": "rYRk95ten32s"
      }
    },
    {
      "cell_type": "markdown",
      "source": [
        "**사용자의 유입 채널을 최대한 누락없이 추적하고, 각 채널 별 성과를 평가**\n",
        "- 고객 유치에 기여한 채널의 성과를 판단할 수 있는 모델을 만드는 것\n",
        "\n",
        "- 유입채널에 따라 사용자를 구분하는 방법\n",
        "  - Organic User / Direct user : 자발적 유입 ([해결방법](https://www.artience.com/blog/direct-traffic-in-google-analytics))    \n",
        "  (식별불가의 유저도 Direct나 Organic로 표현한다.)\n",
        "  - Paid User : 마케팅 활동을 통해 유입\n",
        "  - GA나 앱스플라이어 등에서 지원하는 기능   \n",
        "  \n",
        "\n",
        "- `결과적으로, Organic유저의 증가가 목표이지만, 단순하게 Organic유저를 늘리기보다 식별불가 유저의 유입을 줄이는 방법에 대해 고민해야한다.`"
      ],
      "metadata": {
        "id": "XDs9ccN_qY2S"
      }
    },
    {
      "cell_type": "markdown",
      "source": [
        "#### **고객 획득 비용 (CAC, Customer Acquisition Cost)**"
      ],
      "metadata": {
        "id": "NGgUJv3_qa-_"
      }
    },
    {
      "cell_type": "markdown",
      "source": [
        "- 고객유치의 핵심 지표\n",
        "- 채널별, 캠페인별, 광고별, 날짜별로 평균 고객 획득 비용을 확인해봐야 의미가 있다.\n",
        "\n",
        "> $고객획득비용 = \\frac{마케팅비용}{가입 고객 수}$ => 아무의미없음"
      ],
      "metadata": {
        "id": "2EmG97DcqrT3"
      }
    },
    {
      "cell_type": "markdown",
      "source": [
        "**UTM 파라미터(Urchin Tracking Module)**\n",
        "- 서비스로 인입된 트래픽이 어느 경로를 통해 들어왔는지 그 출처를 확인할 수 있도록 URL 뒤에 추가된 파라미터\n",
        "   - Source(장소정보) : 지하철, 골목, 횡단보도\n",
        "   - Campaign(강조할 문구) : 30%할인, 3개월 시 1개월 무료\n",
        "   - Medium(매체) : 전단지, 부채, 휴지\n",
        "   - term(검색어), content(콘텐츠)\n",
        "- **구조**\n",
        "   - URL뒤에 ?를 붙인 뒤 utm_source, utm_campaign 같은 파라미터를 추가\n",
        "   - 동시에 사용할 경우 &으로 연결\n",
        "\n",
        "- **방법**\n",
        "   - 구글이 제공하는 campaign url builder로 만듬\n",
        "   - GA-> 획득 -> 전체 트래픽 -> 소스/매체에서 확인\n",
        "   - 캠페인,검색어 등을 추가하려면 보조측정기준 클릭\n",
        "   "
      ],
      "metadata": {
        "id": "Lm5zVVsVseaD"
      }
    },
    {
      "cell_type": "markdown",
      "source": [
        "**모바일 앱 어트리뷰션(Attribution)**\n",
        "- 모바일기여도 확인을 위해서 사용하는 도구\n",
        "- 대부분 유료이며 새로운 기술이 필요하다.\n"
      ],
      "metadata": {
        "id": "ATFRPaEZkn0t"
      }
    },
    {
      "cell_type": "markdown",
      "source": [
        "**어트리뷰션 윈도우(룩백 윈도우)**\n",
        "- 앱 광고를 클릭한 고객이 설치까지 완료하는데 걸리는 시간(광고의 기여도 인정기간), 표준화 되어있지 않다.\n",
        "    - View-through : 조회를 통해 발생하는 기여\n",
        "    - Click-through : 클릭을 통해 발생하는 기여(어트리뷰션 윈도우를 더 길게 책정하는 편)\n",
        "\n"
      ],
      "metadata": {
        "id": "6wA43-uMsHuq"
      }
    },
    {
      "cell_type": "markdown",
      "source": [
        "**어트리뷰션 모델**\n",
        "-  여러 광고를 접하고 앱실행이 이루어 졌을 때 기여도를 정하는 방법\n",
        "    - **싱글터치 어트리뷰션(퍼스트클릭, 라스트클릭)** : 처음이나 마지막에 클릭한 광고를 100% 기여도로 인정 (주로 라스트클릭 채택)\n",
        "    - **멀티 터치 어트리뷰션** : 접점이 있는 모든 채널에 기여도 분배\n",
        "   - 선형(Linear) : 모든 접점에 같은 가중치 부여\n",
        "   - 타임 디케이(Time Decay) : 시간의 흐름에 따라 가중치 부여(최근일수록 높은 가중치)\n",
        "   - U자형(U-Shape) : 처음과 마지막 접점에 높은 가중치부여(처음과 마지막에만 가중치를 주기도 함)\n",
        "- 채널의 특성에 맞게 다른 기준치를 정해야한다.(일괄적으로 기준을 정하는건 좋지 않음)"
      ],
      "metadata": {
        "id": "qH-7SCF9te_h"
      }
    },
    {
      "cell_type": "markdown",
      "source": [
        "**딥링크와 디퍼드 딥링크**\n",
        "- 딥링크 : 모바일앱을 설치한 사용자가 딥링크를 누르면 웹브라우저 대신 앱이 실행되며 렌딩페이지로 이동하여 전환률을 상승시킴(단, 앱이 설치되어 있어야 한다)\n",
        "- 디퍼드 딥링크 : 앱을 설치하지 않은 사람은 앱설치단계를 거친 후 렌딩페이지로 연결 \n",
        "- 딥링크는 사용 맥락이 유지되어 사용자 경험에 좋은 영향을 준다.\n",
        "- 디퍼드 딥 링크는 생성시 파라미터를 추가하여 유입경로 파악이 가능하다."
      ],
      "metadata": {
        "id": "PJeH_RZh45ax"
      }
    },
    {
      "cell_type": "markdown",
      "source": [
        "**고객유치(Acquisition) 정리**\n",
        "1. 고객유치의 목표는 유저의 유입 채널을 최대한 누락없이 정확하게 추척하고, 채널별 성과를 정확하게 파악하여 진짜 Organic유저를 늘리는데 있다.\n",
        "\n",
        "2. 가능하다면 Raw Data를 직접 받아서 확인하는 것이 좋다.\n",
        "\n",
        "3. 어트리뷰션 데이터를 단독으로 보기보다는 서비스이용 데이터와 결합하여 분석하는 것이 좋다.\n",
        "\n",
        "4. 영향력있는 소수의 채널을 최적화시킨 후 채널포화도에 따라 확장해나가야 한다.\n",
        "  - 기존 채널에서의 최적화가 충분히 잘 돼 있는가?\n",
        "  - 마케팅 예산이 커져서 기존 채널에만 사용하기는 비효율적인가?\n",
        "\n",
        "5. 지표에 매몰되지 말고 큰 숲을 볼 것\n",
        "\n"
      ],
      "metadata": {
        "id": "IeBiXpfAM1w_"
      }
    },
    {
      "cell_type": "markdown",
      "source": [
        "### **2. Activation(활성화)**"
      ],
      "metadata": {
        "id": "zD9ydvT7Net9"
      }
    },
    {
      "cell_type": "markdown",
      "source": [
        "- Acquisition을 통해 들어온 사용자가 우리의 핵심 가치를 경험하도록 만드는 것\n",
        "- 새롭게 가입한 사용자가 on-boarding을 성공적으로 마무리하는 비율은 적다.\n",
        "\n"
      ],
      "metadata": {
        "id": "HVU52dzOQFYf"
      }
    },
    {
      "cell_type": "markdown",
      "source": [
        "**Funnel(퍼널분석)**"
      ],
      "metadata": {
        "id": "Jw4uA-CcRpn3"
      }
    },
    {
      "cell_type": "markdown",
      "source": [
        "- 유저의 서비스 사용 여정을 도표로 나타내면 깔데기(Funnel)와 비슷하다고 하여 붙은 이름이다.\n",
        "- Funnel은 활성화 단계의 핵심이다.\n",
        "  - 앱다운로드 -> 앱실행 -> 튜토리얼 -> 회원가입 -> 전화번호인증 -> 가입완료\n",
        "  \n",
        "- 고려해야 할 요소 3가지\n",
        "        - 핵심 가치를 경험하는 시점과 그곳으로 연결되는 각 단계가 잘 정의되어 있는가?\n",
        "        - 각 단계별 전환율은 어떤 기준으로 측정하는가?\n",
        "        - 코호트(cohort)에 따른 퍼널별 전환율은 보고 있는가?"
      ],
      "metadata": {
        "id": "fwNRCdEmRvws"
      }
    },
    {
      "cell_type": "markdown",
      "source": [
        "**퍼널의 세부단계 정의하기**\n",
        "- 우선적으로 해야할 일은 핵심가치 구체화 및 사용자가 핵심가치를 경험하는 순간을 정의하는 것이다.\n",
        "\n",
        "- 핵심가치는 아하 모먼트(Aha moment) 또는 머스트 해브(Must have)라는 용어를 사용하기도 한다.\n",
        "- 핵심가치는 서비스 제공자가 아닌 사용자의 입장에서 정의해야한다.   \n",
        "(좋은 물건을 싸게 산 순간, 데이팅 앱에서 운명의 상대를 매칭한 순간 등..)\n",
        "- 사용자의 핵심가치와 서비스의 핵심가치가 일치하는지 확인하기 위해서는 홍보에 사용되는 마케팅 메세지와 사용자 리뷰의 서비스 키워드가 일치하는지 대조해보면 알 수 있다.\n",
        "\n",
        "- 서비스에 진입해서 핵심가치를 경험하기까지의 경로를 Critical Path라고 한다. "
      ],
      "metadata": {
        "id": "EKnDnSHwSVAj"
      }
    },
    {
      "cell_type": "markdown",
      "source": [
        "**전환률 측정**\n",
        "- 퍼널분석의 핵심이며 단순히 전체에서 전환된 비율로 보면 안된다.\n",
        "- 전환률은 합의된 기준에 따라 달라진다\n",
        "\n",
        "        5명의 유저의 경로(쿠폰페이지를 가서 쿠폰을 받고 돌아와서 결제해야하는 시스템)\n",
        "            A : 상세페이지 -> 쿠폰페이지 -> 상세페이지-> 결제\n",
        "            B : 상세페이지 -> 쿠폰페이지 -> 상세페이지-> 결제\n",
        "            C : 상세페이지 -> 쿠폰페이지 -> 상세페이지-> 결제\n",
        "            D : 상세페이지 -> 쿠폰페이지 -> 상세페이지-> 결제\n",
        "            E : 상세페이지 -> 쿠폰페이지 -> 이탈\n",
        "    - 유저 기준 전환률 : 4/5 \n",
        "       - 유저 5명중 4명 구매전환\n",
        "    - 트래픽(Pageview)기준 전환률 : 4/9\n",
        "       - 상세페이지 9번 방문, 구매전환은 4번\n",
        "       - 결제로 넘어가기 전에 거쳐야하는 페이지가 있어서 전환률이 떨어지므로 UI개선 필요\n",
        "\n",
        "- 트래픽(Pageview)기준 전환률\n",
        " - 특정 시나리오에서의 사용성 개선을 목적으로 사용\n",
        " - UX/UI 측면에서의 개선점을 찾는데 도움을 준다.\n",
        "- 유저 기준 전환률\n",
        " - 성과 판단 지표로 사용\n",
        " -  (UX/UI가 좋지 않은데도 전환률이 높을 경우) 상품의 가격이나 매력도 등을 종합적으로 파악할 수 있다.   \n"
      ],
      "metadata": {
        "id": "cuWjofR2SQl5"
      }
    },
    {
      "cell_type": "markdown",
      "source": [
        "**Cohort별 전환률**\n",
        "- 공통적인 특성에 따라 여러집단으로 분류한 사용자 그룹\n",
        "- 퍼널에 영향을 미치는 선행지표를 찾을 수 있다.\n",
        "- **퍼널분석의 진정한 목표**는 주요퍼널의 단편적인 전환률 계산이 아닌 `전환률에 영향을 미치는 선행지표를 찾는 것`\n",
        "      - 가입시점에 따라 구매전환률에 차이를 보이는가?\n",
        "      - Source(장소), Medium(매체), Campaign(강조문구)에 따라 전환률 차이를 보이는가?\n",
        "      - 특정 이벤트 경험에 따라 차이를 보이는가?\n",
        "      - 시간, 요일, 계절, 날씨 등 외부 변수에 차이를 보이는가?\n",
        "      - 인구통계학적 정보에 따라 차이를 보이는가?"
      ],
      "metadata": {
        "id": "bXqMN6BzZmlT"
      }
    },
    {
      "cell_type": "markdown",
      "source": [
        "**Funnel의 전환률을 높이는 방법**"
      ],
      "metadata": {
        "id": "fAhFvoZzOO2C"
      }
    },
    {
      "cell_type": "markdown",
      "source": [
        "1. 개인화   \n",
        "    - 메일 제목에 사용자의 이름을 넣기 (메일 오픈률 높아짐)\n",
        "    - 사용자 개인의 사용내역을 이용한 페이지 (최근 본 제품, 최근 구매한 상품)\n",
        "    - 초기에는 규칙기반추천을 사용해도 제법 잘 맞기 때문에 간단한 규칙을 정리하면 개인화 추천이 가능하다.\n",
        "\n",
        "2. UX/UI 개선\n",
        "    - 개선 전과 후의 지표를 면밀하게 측정하고 비교해야한다. (A/B Test)\n",
        "    - 개선 초기에는 사용자들이 적응하는 시간이 필요해 지표가 낮아질 수 있다.\n",
        "    - 일정 시간이 지나도 전환률이 회복되지 않으면 기존의 UX/UI를 사용해야한다.\n",
        "\n",
        "3. 적절한 개입\n",
        "    - CRM채널(이메일, 앱푸쉬, 인앱메세지 등)을 적절히 사용하면 사용자의 전환률을 높일 수 있다.\n",
        "    - 회원가입 후 활동하지 않는 회원에게 쿠폰을 보내거나, 장바구니에 상품을 담아놓은 고객에게 푸쉬하는 방법이 있다.\n",
        "    - 제대로 타케팅 하지 않은 푸쉬는 오히려 회원탈퇴나 앱삭제로 이어지기 때문에 적절한 타게팅이 필요하다."
      ],
      "metadata": {
        "id": "Gf0KaODGOTe7"
      }
    },
    {
      "cell_type": "markdown",
      "source": [
        "**Activation(활성화) 정리**\n",
        "\n"
      ],
      "metadata": {
        "id": "q0QS-FUeRaXd"
      }
    },
    {
      "cell_type": "markdown",
      "source": [
        "- 활성화 단계부터는 실력으로 헤쳐나가야 한다.\n",
        "- 핵심가치를 정의하고, 단계별 퍼널을 정의하고, 코호트 기반 분석을 해야한다.\n",
        "- 퍼널의 최적화가 단순히 전환률을 높이는 것이 아니다. (퍼널의 단계 수를 줄이는 것이 효과적인 경우가 많다.)\n",
        "- 즉, 단계별 전환률을 확인하기 전에 필요없는 단계를 제거하거나 통합하는 과정이 선행되어야한다.(또는 재설계)\n",
        "- 높은 활성화지표는 리텐션(Retention)의 바탕이 된다."
      ],
      "metadata": {
        "id": "-sW9N4G6RgX6"
      }
    },
    {
      "cell_type": "markdown",
      "source": [
        "### **3.Retention(유지율)**"
      ],
      "metadata": {
        "id": "P6XZeFpSWZrg"
      }
    },
    {
      "cell_type": "markdown",
      "source": [
        "- 활성화 과정에서 경험한 핵심 가치를 꾸준히 경험하게 하고 그 수준을 측정할 수 있는 지표를 정의하여 관리해야한다.\n",
        "- Retention은 성공을 예측할 수 있는 가장 중요한 지표로 잘될 때 더 세심하게 관리해야 한다.\n",
        "- Acqusition과 Activation만 나쁘지 않으면 어느정도 성장이 가능한 것 처럼 보이지만 Retention이 낮다면 급속도로 나빠질 수 있다.\n",
        "- Retention은 개선이 어렵고 효과가 한참 뒤에 나타난다. (결과 확인에도 오랜 시간이 소요된다.)\n",
        "- 일반적으로 `접속`을 기준으로 측정하나 유의미한 행동을 기준으로 해도 된다.\n",
        "        유의미한 행동\n",
        "        - 상품페이지 5개이상 방문\n",
        "        - 구매하기 클릭\n",
        "        - 구매 완료\n",
        "        - 재구매\n",
        "        - 친구 초대\n",
        "        - 메세지 주고받기\n",
        "        - 콘텐츠 시청"
      ],
      "metadata": {
        "id": "CTWEILE1Wc-J"
      }
    },
    {
      "cell_type": "markdown",
      "source": [
        "**리텐션 측정방법**"
      ],
      "metadata": {
        "id": "r3pZdNIjZd-G"
      }
    },
    {
      "cell_type": "markdown",
      "source": [
        "1. 클래식 리텐션(Classic Retention)\n",
        "    - 가장 일반적인 Retention 계산방법이다.\n",
        "    - 특정일에 이벤트를 발생시킨 유저의 비율을 계산하는 방식으로 `Day N 리텐션`이라고도 한다.\n",
        "    - 이용 첫날과 알고자하는 날짜에 이용하면 집계된다.   \n",
        "        - 0,1,2,3일에 이용한 사람 : Day0, Day1, Day2, Day3 집계\n",
        "        - 0,3일에 이용한 사람 : Day0, Day3 집계   \n",
        "> $$Classic Retention = \\frac{DayN 이용자}{Day0이용자}$$\n",
        "\n",
        "    - 특정일의 노이즈에 민감하고 일 단위로 로그데이터를 모두 확보해야한다는 단점이 있다.\n",
        "    - 평소에 잘 접속하다가 `측정일에만 접속하지 않는 경우`나 접속을 하지 않다가 `측정일에만 접속한 경우`가 발생하기 때문에 일반적으로 매일 사용할 것 같은 서비스에서 활용하는 지표   \n",
        "    (SNS, 전화, 메신저 등..)\n",
        "    - 노이즈를 줄이려면 여러 기준일을 두고 평균값을 계산하여 N일의 리텐션을 구하는 방법이 있다.\n",
        "> $$Day10's  Retention = \\frac{Day0+ Day2 + Day4+ Day6+ Day8+ Day10}{6}$$\n",
        "\n",
        "\n",
        "    \n",
        "\n",
        "\n",
        "\n",
        "\n"
      ],
      "metadata": {
        "id": "2wVXUBnAZmAj"
      }
    },
    {
      "cell_type": "markdown",
      "source": [
        "2. 범위 리텐션(Range Retention)\n",
        "    - 특정 기간에 이벤트를 발생시킨 유저의 비율을 계산하는 방식\n",
        "    (SQL의 RANGE BETWEEN과 같은 방식)\n",
        "> $$RangeRetention = \\frac{RangeN이용자}{Range0이용자}$$\n",
        "\n",
        "    - 클래식 리텐션대비 측정일에 따른 노이즈가 적다.\n",
        "    - 다만 기준이되는 기간이 길어질수록 리텐션 과대추정이 될 수 있고 의미있는 결과를 보기위해서는 어느정도 기간이 축적되어야한다.\n",
        "    - 사용주기가 길도 주기적인 서비스에서 많이 활용한다.    \n",
        "    (배달, 가계부 등..)"
      ],
      "metadata": {
        "id": "mOaZPU3uzhtv"
      }
    },
    {
      "cell_type": "markdown",
      "source": [
        "3. 롤링 리텐션(Rolling Retention)\n",
        "    - 특정일 기준으로 이탈한 고객을 집계하여 계산하는 방법   \n",
        "> $$Rolling Retention = \\frac{AfterDayN이용자}{Day0이용자}$$\n",
        "    - 클래식 리텐션과 다르게 시작날과 마지막 접속날만 알면 된다. 하지만 유지율이 과대추징되는 경향이 크다. \n",
        "    - 사용빈도가 높지 않은 서비스에서 사용된다.   \n",
        "    (의류 쇼핑몰, 여행서비스 등..)"
      ],
      "metadata": {
        "id": "Hd-fYLK8AmSm"
      }
    },
    {
      "cell_type": "markdown",
      "source": [
        "4. 약식 리텐션 인게이지먼트(Engagement)\n",
        "    - 접속일자를 따지지 않고도 간단한 계산으로 가늠할 수 있는 방법이다.\n",
        "> $$Engagement = \\frac{DAU(Daily Active User)}{MAU(Monthly Active User)}$$\n",
        "    - 매일 동일한 사용자가 반복적으로 들어오는지 빠르게 가늠할 수 있다.\n",
        "    - 주로 SNS, 전화, 메신저 등 클래식리텐션에 잘 맞는 서비스에 사용\n",
        "    - 기간에 따라 인게이지먼트가 어떻게 달라지는지 코호트별 변화추이를 보면 된다."
      ],
      "metadata": {
        "id": "M3nA-rPECTz6"
      }
    },
    {
      "cell_type": "markdown",
      "source": [
        "**리텐션 분석방법**"
      ],
      "metadata": {
        "id": "8m_5zU6RFh87"
      }
    },
    {
      "cell_type": "markdown",
      "source": [
        "- 단순한 기간별 리텐션 수치만 계산하는건 의미가 없고 코호트에 따른 차이를 분석해야한다.   \n",
        "(가입 월별, 첫 구매 월별, 유입채널별 등..)\n",
        "        - 하나의 코호트에서 기간에 따른 유지율 추이는 어떠한가?\n",
        "        - 유지율이 급격히 떨어지지 않고 안정화되는 지점이 있는가? \n",
        "        - 대략 어느정도의 기간이 지나야 안정화 된다고 볼 수 있는가?\n",
        "        - 서로 다른 코호트(1월가입자와 3월가입자)의 30일 리텐션 차이가 있는가?\n",
        "        - 코호트의 볼륨은 어떻게 달라지고 있는가? (가입자 또는 접속자의 유지율)"
      ],
      "metadata": {
        "id": "27Mov2W_Fu89"
      }
    },
    {
      "cell_type": "markdown",
      "source": [
        "**리텐션 개선방법**"
      ],
      "metadata": {
        "id": "CiVEySrdHrmt"
      }
    },
    {
      "cell_type": "markdown",
      "source": [
        "1. 초기 리텐션 하락속도 늦추기\n",
        "    - Activation 프로세스의 영향을 가장 많이 받는 구간으로 신규사용자경험NUX(New User Experience)관리 필요\n",
        "    - 사용자가 서비스에 처음 들어와서 가입하는 동선, 서비스 핵심 기능을 사용하는 프로세스 등을 단계별로 쪼개서 살펴보고 이탈율이 많은 구간을 확인해야한다.\n",
        "2. 리텐션이 안정화된 이후 기울기를 평평하게 오래 유지하기\n",
        "    - 리텐션이 가파르게 떨어지는 구간이후 안정화 단계에서 사용자와의 관계 유지가 중요하다.\n",
        "    - 정기적 커뮤니케이션 플랜, CRM 마케팅 활동, 주기적 프로모션 등이 도움이 된다.\n",
        "    - 휴면 예정 고객의 리마케팅을 꾸준히 진행할 필요가 있다.\n",
        "    - 일반적으로 축적되는 가치를 만들고 사용자가 가치를 포기할 수 없도록 만들어야한다.\n",
        "    - 그래서 후발주자의 경우 그동안 축적해 놓은 가치를 손실 없이 이전하는 기능(가져오기)을 제공하여 신규고객을 데려온다."
      ],
      "metadata": {
        "id": "GEF0NNkQPpEM"
      }
    },
    {
      "cell_type": "markdown",
      "source": [
        "**리텐션(Retention) 정리**"
      ],
      "metadata": {
        "id": "33K-8k8dSNJs"
      }
    },
    {
      "cell_type": "markdown",
      "source": [
        "- 단순히 리텐션 지표만 보지말고 전반적인 사용자 경험을 고려해야한다.\n",
        "- 푸쉬, 이메일, sms 등의 커뮤니케이션 채널을 활용하면 일시적인 리텐션 지표는 올라가지만 사용자가 탈퇴 또는 삭제하는 경우가 생긴다.\n",
        "- 따라서 유저 커뮤니케이션 채널은 사내 특정부서에서 일원화 해서 관리하는 것이 좋다.\n",
        "- 전체 회원을 대상으로 한 푸시나 이메일을 보낼 때 반응률, 클릭률, 앱삭제나 회원탈퇴 등 다양한 지표를 체크해야한다.\n",
        "- 리텐션은 일관되게 유지되지 않기 때문에 장기적으로 꾸준히 관리해야 점진적으로 개선된다.\n",
        "- 서비스별로 리텐션 목표 수준이 달라야한다. 이를 잘 정의하지 않으면 잘 사용하고 있는 사용자들을 불편하게 만들 수 있다."
      ],
      "metadata": {
        "id": "O0p0zjqASQtb"
      }
    },
    {
      "cell_type": "markdown",
      "source": [
        "### **4. 수익화(Revenue)**"
      ],
      "metadata": {
        "id": "4XT1KfsdUIos"
      }
    },
    {
      "cell_type": "markdown",
      "source": [
        "- 사업의 성패를 가르는 가장 중요한 지표\n",
        "- 서비스가 어떤 비즈니스 모델을 가지고 있는지 명확히 이해하고, 그 비즈니스 모델이 잘 동작하는지 비용대비 숭기이 안정적인지 데이터를 통해 확인할 수 있어야 한다."
      ],
      "metadata": {
        "id": "65Ko-ctEUWlb"
      }
    },
    {
      "cell_type": "markdown",
      "source": [
        "**수익화 관련 주요지표**"
      ],
      "metadata": {
        "id": "llxvIWsZUxYV"
      }
    },
    {
      "cell_type": "markdown",
      "source": [
        "1. ARPU(Average Revenue Per User)\n",
        "    - 매출을 유저 수로 나눈 값이며 이후 유저가 늘어난다면 매출이 어떤 속도로 증가할지 가늠하는 좋은 기준이 된다.\n",
        "    - User와 Revenue에 대한 정의를 확실히 해야한다.\n",
        "    - 보통 월기준으로 집계를 하는게 일반적이며 일, 주간 기준으로 하기도 한다.   \n",
        "    (ARPDAU[일간],  ARPWAU[주간])\n",
        "> $$ARPU(인당평균매출) = \\frac{Revenue}{User}$$"
      ],
      "metadata": {
        "id": "pQHgIXUYU0E_"
      }
    },
    {
      "cell_type": "markdown",
      "source": [
        "2. ARPPU(Average Revenue Per Paying User)\n",
        "    - 매출을 결제자 기준으로 나눈 값이며 ARPU와 마찬가지로 기간을 잘 정의해야한다.\n",
        "> $$ARPPU(결제인당평균매출) = \\frac{Revenue}{Paying User}$$\n",
        "\n"
      ],
      "metadata": {
        "id": "t4mJfRVSWWnY"
      }
    },
    {
      "cell_type": "markdown",
      "source": [
        "3. LTV(LifeTime Value)\n",
        "    - 고객생애가치, 수익화를 분석할 때 핵심이 되는 지표로 CLV(Customer Lifetime Value)라고도 쓰인다.\n",
        "    - 한 명의 사용자가 진입하는 순간부터 이탈하는 순간까지의 전체 활동을 기간에 누적해서 발생시키는 수익으로 정의할 수 있다.\n",
        "> $$LTV = \\frac{(M-c)}{1-r+i} - AC$$\n",
        "    M : 1인당 평균 매출 /  c : 1인당 평균 비용 / r : 고객 유지 비율 / i : 할인률(이자율) / AC : 고객 획득비용(Acqusition Cost)\n",
        "    - 현실적으로 M, c, r은 일정하지 않아서 실제 계산을 활용하기는 어려워서 밑에 LTR을 활용하는 것이 좋다.\n"
      ],
      "metadata": {
        "id": "t1KBykEHXKap"
      }
    },
    {
      "cell_type": "markdown",
      "source": [
        "4. LTR(Lifetime Revenue)\n",
        "    - 고객생애매출, `따로 비용을 고려하지 않아도 되므로` 비교적 간단하게 계산할 수 있다.\n",
        "    - 1월에 가입한 유저가 1000명이고 8월에 모든 유저가 이탈했다고 가정했을 때,   \n",
        "     1~8 월의 가입자당결제금액의 평균 값이 1월에 가입한 유저의 LTR이다.\n",
        "> $$결제금액 = ARPPU × Paying User$$  \n",
        "$$1월 가입자당 결제금액 = \\frac{월결제금액}{1월 가입자수}$$\n",
        "    - 실제로 딱 떨어지는 숫자로 계산하기 쉽지 않고, 매달 새로운 사용자가 들어오기 때문에 훨씬 더 조건이 까다롭다."
      ],
      "metadata": {
        "id": "azODTwyVZyZv"
      }
    },
    {
      "cell_type": "markdown",
      "source": [
        "**수익화 분석**"
      ],
      "metadata": {
        "id": "8RYWLQgffQnq"
      }
    },
    {
      "cell_type": "markdown",
      "source": [
        "1. 고객생애매출(LTR)활용\n",
        "    - 현실적으로 신규 가입고객, 이탈고객이 나타나기 때문에 계산이 까다롭다.\n",
        "    - 전체 고객생애매출을 딱 떨어지는 숫자로 요약할 필요는 없다. \n",
        "    - 전체회원보다는 코호트를 잘 나누고 추이를 관찰하는 것이 유용하다. \n",
        "    - 가장 일반적인 코호트 분류 기준은 `가입시점`이다.\n",
        "    - 기간별 LTR 증가 추이를 계산하고  고객획득비용(CAC)과 비교하면 수익모델이 잘 동작하고 있는지 확인할 수 있다.\n",
        "    - 건강하게 성장하는 서비스의 LTR은 CAC를 빠르게 따라잡고 장기적으로 CAC의 몇 배수가 되어야한다.(5~10배)\n",
        "    - 고객생애매출이 고객획득비용을 넘어서는 기간(Payback Period)도 고려해야한다.\n",
        "    - 고객생애매출을 늘리는 것이 고객획득비용을 줄이는것보다 효과적이다.   \n",
        "      >  *LTR = 100원 / CAC =50원인 서비스*\n",
        "        - LTR 10% 증가 -> LTR = 110원 / CAC = 50원(10원 이득)\n",
        "        - CAC 10% 감소 -> LTR = 100원 / CAC = 45원(5원 이득)\n",
        "    - 현실적으로 고객생애매출보다 고객획득비용이 조금 더 변화시키기 쉬운 지표\n",
        "    > 1. 가입코호트별 LTR을 비교하거나 기간별 LTR의 변화추이를 살펴본다.\n",
        "    > 2. CAC의 수준을 LTR의 10~20%로 정한다.\n"
      ],
      "metadata": {
        "id": "Aw6lPqXgfpMN"
      }
    },
    {
      "cell_type": "markdown",
      "source": [
        "2. 수익화 쪼개보기   \n",
        "\n",
        "\n",
        "\n"
      ],
      "metadata": {
        "id": "xvV0pP_umAEc"
      }
    },
    {
      "cell_type": "markdown",
      "source": [
        "> 아이템별 매출의 합계\n",
        " - 매출기여 아이템, 그렇지 않은 아이템\n",
        " - 판매량 증가 아이템, 판매량 감소아이템\n",
        " - 아이템A 매출 + 아이템B 매출 + 아이템C 매출..."
      ],
      "metadata": {
        "id": "EG1BYQNcYVxJ"
      }
    },
    {
      "cell_type": "markdown",
      "source": [
        "> 사용자별 매출합계\n",
        "- 인구통계학적 정보 (성별이나 연령)\n",
        "- 가입 기간을 기준으로 나누기 (신규회원 매출 + 기존 회원 매출)\n"
      ],
      "metadata": {
        "id": "R-HWEtJvVpnS"
      }
    },
    {
      "cell_type": "markdown",
      "source": [
        "\n",
        "> 매출을 여러 퍼널로 자르면 어느 부분에서 변화가 일어난건지 세부적으로 파악이 가능하다.      \n",
        "> (설치, 가입전환율, 리텐션, 결제비율, ARPPU의 중요도 설정)\n",
        ">\n",
        "> $$매출 = 결제자 수 \\times ARPPU$$   \n",
        "$$결제자 수 = 활동유저 × 결제비율$$   \n",
        "$$활동 유저 = 가입유저 × 리텐션$$   \n",
        "$$가입유저 = 설치 수 × 가입전환률$$   \n",
        "$$매출 = 설치 수× 가입전환률 × 리텐션 × 결제비율 × ARPPU$$ \n"
      ],
      "metadata": {
        "id": "8iGig_SeV4WC"
      }
    },
    {
      "cell_type": "markdown",
      "source": [
        "**월별 반복 매출(Monthly Recurring Revenue, MRR)**   \n",
        "   - 구독서비스의 매출을 이르는 개념\n",
        "   - 마찬가지로 매출요소를 나누어서 보면 매출변화의 원인을 찾을 수 있다.\n",
        "            - Base MRR : 전월 기준 매출\n",
        "            - New MRR : 신규 고객 매출\n",
        "            - Churn MRR : 이탈 고객 감소매출\n",
        "            - Upgrade MRR : 기존 고객 크로스셀링, 업셀링으로 인한 매출\n",
        "            - Downgrade MRR : 기존 고객 요금제 하향조정으로 인한 감소매출\n",
        "\n",
        "$$월별 반복 매출 = 기준MRR + 신규MRR - 이탈MRR + 업그레이드 MMR - 다운그레이드 MRR$$"
      ],
      "metadata": {
        "id": "oA0ha4QfaYqC"
      }
    },
    {
      "cell_type": "markdown",
      "source": [
        "**수익화 정리**\n",
        "- 대부분 수익화지표가 대푯값의 형태로 계산되지만 실제로는 사용자마다 차이가 크다.\n",
        "- 전체 사용자의 20%가 80%의 매출을 책임지는 파레토법칙이 흔한 패턴이다.\n",
        "- 게임의 경우 1%의 사용자가 50% 이상의 매출을 차지하여 평균값 사용에 주의를 기울여야한다.   \n",
        "(ARPPU나 ARPU가 흔들릴 수 있다.)\n",
        "- 평균 사용자라는 모호한 개념보다 서비스충성도가 높고 매출기여도가 높은 사용자를 고려하여 기획하는 편이 효과적이다.\n",
        "- 실제 수익화의 성패는 이러한 고래(Whale)사용자들을 얼마나 잘 관리하느냐에 달려있기 때문에 다양한 방식으로 사용자를 그루핑하고 각 그룹에 맞는 운영 및 수익화 전략을 세우는 것이 중요하다."
      ],
      "metadata": {
        "id": "-wgg-pZ4cXIL"
      }
    },
    {
      "cell_type": "markdown",
      "source": [
        "### **5. 추천(Referral)**"
      ],
      "metadata": {
        "id": "j-6vkWcGeDQY"
      }
    },
    {
      "cell_type": "markdown",
      "source": [
        "- Organic유입의 하나로, 기존 사용자의 추천이나 입소문을 통해 새로운 사용자를 데려오는 것\n",
        "\n",
        "- 친구추천프로모션이 아닌 서비스 내에서 입소문을 통한 선순환구조를 구축하는 것\n",
        "\n",
        "- 일반적으로 친구 추천에 대한 보상은 유료 마케팅채널을 활용한 CAC의 50~70% 수준이다.   \n",
        "(이 점을 이용해 경쟁사의 비용을 추론 가능)\n",
        "\n",
        "- 다른 마케팅 채널보다 저렴한 비용이 들고 진성유저가 될 가능성이 높다는 점에서 중요한 추천 채널이다.\n"
      ],
      "metadata": {
        "id": "IxR84qZRe04u"
      }
    },
    {
      "cell_type": "markdown",
      "source": [
        "**친구 초대 플로 설계**\n",
        "- 친구 초대는 세세한 프로세스와 UX가 얼마나 잘 설계되어 있는지에 따라 효과가 크게 달라진다.\n",
        "\n",
        "- 서비스마다 친구 초대 유도 시점, 보상, 맥락, 핵심메세지 등이 천차만별이고 효과의 편차도 크다.   \n",
        "\n",
        "    - 초대 맥락 (억지가 아닌 자연스러운 흐름)\n",
        "        - 카카오 모임통장은 실제로 카카오뱅크의 계좌가 없는 사용자가 다수였으나, 모임통장 사용 이후에 진성고객으로 전환된 고객이 많았다.\n",
        "\n",
        "    - 메세지 / 보상\n",
        "        - 토스는 송금지원금이라는 기능으로 친구들에게 소액의 현금을 선물할 수 있는 기능을 제공했는데, '링크를 클릭하고 친구가 보낸 돈을 받으세요.'와 같은 메세지로 혜택을 강조하기도 하였다.\n",
        "        - 에어비엔비는 `친구를 초대하고 25달러를 받으세요.`를 `친구에게 25달러를 선물하세요.`로 변경한 사례가 있다.\n",
        "        - 보상 종류는 쿠폰, 적립금, 포인트, 기프티콘, 서비스 업그레이드 등이 있다.\n",
        "    - 온보딩 프로세스\n",
        "        - 초대받은 친구의 온보딩 프로세스를 잘 설계하면 전환률을 크게 높일 수 있다.   \n",
        "        (에어비엔비는 친구를 통해 가입하면 받을 수 있는 혜택에 대해 먼저 안내)\n"
      ],
      "metadata": {
        "id": "IGqOGXOEf82G"
      }
    },
    {
      "cell_type": "markdown",
      "source": [
        "**바이럴 계수(Viral Coefficient)**\n",
        "- 추천에 가장 핵심이 되는 지표이며 각 서비스는 바이럴 계수를 통해 추천 엔진이 얼마나 효과적으로 동작하는지 확인할 수 있다.\n",
        "$$바이럴계수 = \\frac{사용자수×초대비율×인당초대한친구수×전환율}{사용자수}$$\n",
        "\n",
        "        바이럴 계수 높이는 방법\n",
        "        - 친구 초대와 같은 추천 액션에 참여하는 사용자의 비율 높이기\n",
        "        - 한 사람이 평균적으로 초대하는 친구의 수 늘리기\n",
        "        - 초대받은 친구가 가입으로 전환되는 비율 높이기 \n",
        "- 이론적으로 바이럴 계수가 1을 넘어가면 기하급수적으로 증가한다. \n",
        "- 추천을 통해 늘어난 사용자가 다음 추천을 시작하는 모집단이 되어 추천시스템은 복리의 특성을 가진다.\n",
        "- 주의사항\n",
        "    - 추천시스템의 초대 주기를 빠르게 만들어야 같은 기간에 더 많은 사이클을 돌릴 수 있다.\n",
        "    - 바이럴 계수는 목표시장의 포화도를 고려하지 않고 계산되기 때문에 목표시장의 크기나 서비스가 이미 확보한 사용자 규모를 종합적으로 고려해야한다.\n",
        "    - 추천으로 유입된 유저가 핵심가치를 잘 경험하고 유지되는지에 대한 장기적인 관심이 필요하다.\n"
      ],
      "metadata": {
        "id": "goSBP1k_js-3"
      }
    },
    {
      "cell_type": "markdown",
      "source": [
        "**추천(Referral) 정리**\n",
        "- 좋은 서비스를 만든다고 무조건 추천하는 횟수가 증가하는 것은 아니다.\n",
        "- 지속적인 친구 추천유도가 단기적인 성과는 가져올 수 있지만 장기적으로 사용자의 반발을 부를 수 있다.\n",
        "- 카테고리에 따라 추천이 거의 동작하지 않는 경우도 있으니 그런 경우너무 추천에 집착할 필요는 없다.   \n",
        "(소개팅앱을 사용한다는 사실을 주변 지인에게 굳이 알리고 싶지 않은 경우)\n",
        "\n",
        "- 추천과 관련된 사용 플로는 필수적으로 신규사용자경험(NUX)와 연계된다. 따라서 활성화단계가 잘 구축되어 있어야 한다.\n",
        "- 가입과 온보딩은 유저가 우리 서비스에서 단 한번 겪는 과정이기 때문에 코호트를 나누거나 테스트를 진행하기도 쉽지 않아서 꼼꼼하게 설계해두어야한다."
      ],
      "metadata": {
        "id": "bGTfriTnnsFJ"
      }
    },
    {
      "cell_type": "markdown",
      "source": [
        "## 지표"
      ],
      "metadata": {
        "id": "zVQ1ZnLhqpK5"
      }
    },
    {
      "cell_type": "markdown",
      "source": [
        "### 지표관리"
      ],
      "metadata": {
        "id": "-LSeJl8mqvOy"
      }
    },
    {
      "cell_type": "markdown",
      "source": [
        "- 그로스해킹은 궁극적으로 목표지표를 설정하고 그 지표를 개선하기 위한 일련의 활동을 의미한다.\n",
        "- 지표의 속성은 스톡(stock)형태와 플로(Flow)형태의 지표로 구분할 수 있고 보통 플로형태가 더 많은 정보를 담고 있다.(핵심지표에 따라 다르다)\n",
        "- Stock : 저량지표라고도 하며 특정 시점의 스냅샷에 해당하는 지표로 시작과 끝이 없고 특정 찰나에 관찰한 누적값이다.   \n",
        "(누적 가입자 수, 누적 거래액, 레벨1인 사용자 수 등..)\n",
        "- Flow : 유량지표라고하며 시작과 끝에 대한 시간 범위가 존재하여 일정한 시간동안의 변화량을 나타내는 지표다.   \n",
        "(1월 1일의 가입자 수, 2월 1일의 하루 매출, 일 평균 주고받은 메세지 수 등..)"
      ],
      "metadata": {
        "id": "WGdYwIvZsyVZ"
      }
    },
    {
      "cell_type": "markdown",
      "source": [
        "**지표를 명확하게 정의하기**"
      ],
      "metadata": {
        "id": "0nSYzouPvMQz"
      }
    },
    {
      "cell_type": "markdown",
      "source": [
        "- 사람마다 지표에 대한 생각이 다르기 때문에 회의를 통해 지표의 기준을 정하는 일이 굉장히 중요하다."
      ],
      "metadata": {
        "id": "lsMSSYpfzHKa"
      }
    },
    {
      "cell_type": "markdown",
      "source": [
        "- MAU인가?\n",
        "    - 최근 30일간 로그인 한 사용자?\n",
        "    - 로그인 없이 방문한 사용자 포함?\n",
        "    - 같은 사람의 웹과 앱 방문을 1명으로 셀까?\n",
        "    - 다양한 웹브라우저를 사용한 경우 1명으로 셀까?"
      ],
      "metadata": {
        "id": "Y-Xo7MvKwCft"
      }
    },
    {
      "cell_type": "markdown",
      "source": [
        "- 결제전환율인가?\n",
        "    - 결제 회원수 / 누적 가입자 수\n",
        "    - 오늘 결제한 회원 수 / 오늘 로그인한 회원 수\n",
        "    - 오늘 결제한 회원 수 / 오늘 방문한 유저 수\n",
        "    - 오늘 가입&결제한 회원 수 / 오늘 가입한 회원 수\n",
        "    - 결제한 회원 수 / 결제하기버튼 클릭한 회원 수\n",
        "    - 결제 세션 수 / 결제하기버튼 클릭 수\n"
      ],
      "metadata": {
        "id": "I58g3k8vxEdS"
      }
    },
    {
      "cell_type": "markdown",
      "source": [
        "- 크로스셀인가?\n",
        "    - 런던 항공권을 산 사람이 런던 호텔을 샀다.\n",
        "    - 런던 항공권을 산 사람이 파리 호텔을 샀다.\n",
        "    - 런던 항공권을 산 사람이 파리 호텔과 런던-파리 유로스타 티켓을 샀다.\n",
        "    - 1월에 런던 항공권을 산 사람이 7월에 파리투어를 샀다.\n",
        "    - 1월에 `10월 항공권`을 구매하고 9월에 `10월 런던투어`를 구매했다.\n",
        "    - 런던 항공권을 취소한 사람이 런던 호텔을 샀다.\n",
        "    - 런던 야경투어를 산 사람이 런던 박물관투어를 샀다.\n",
        "    - 런던 야경투어를 산 사람이 그 다음날 똑같은 투어를 하나 더 샀다."
      ],
      "metadata": {
        "id": "DD9BOQNIzN3D"
      }
    },
    {
      "cell_type": "markdown",
      "source": [
        "**허무 지표(Vanity metric)에 빠지지 않기**"
      ],
      "metadata": {
        "id": "stzX-Rnk0VWh"
      }
    },
    {
      "cell_type": "markdown",
      "source": [
        "- 좋은 지표는 actionable 지표\n",
        "- 허무지표 : 누적 다운로드, 누적 앱 설치, 누적 방문자, 페이지 뷰\n",
        "- 주로 주간업무보고에서 허무지표를 다루는 경우가 많은데, 주간업무보고는 시간에 따라 사용하는 지표가 달라져야한다."
      ],
      "metadata": {
        "id": "kGzrR4dI0aUc"
      }
    },
    {
      "cell_type": "markdown",
      "source": [
        "**전체 관점에서의 최적화**"
      ],
      "metadata": {
        "id": "jSx_9tni1nqM"
      }
    },
    {
      "cell_type": "markdown",
      "source": [
        "- 지표를 개선하기위한 행동은 부분 최적화가 아닌 전체 관점에서의 최적화가 되어야 한다.\n",
        "- 잘못된 예시\n",
        "    - 특정 페이지의 CTR(Click Through Rate)에만 집중하다가 전체 퍼널의 전환율 하락\n",
        "    - 퍼포먼스 광고의 CPC(Cost Per Click)에만 집중하다가 전체 광고의 성과 하락\n",
        "- CPC(Cost per Click)는 낮을수록 효율적이라고 한다. 하지만 페이스북광고가 1000원, 배너 광고가 500원일 때 페이스북 광고는 정말 관심있는 사람이 들어올 것이고, 배너 광고는 잘못누르는 경우도 많을 것이다. 따라서 광고가 노출되는 지면의 형태와 해당 지면을 많이 방문하는 사용자의 특성을 알아야 한다.(단순 클릭 수에 매몰되면 안된다.)\n",
        "- ROAS(Return of Ad Spend)만을 기준으로 마케팅 성과를 판단하는 것도 능사는 아니다.(어떻게 집계할 것인가에 따라 달라지기 때문에)\n",
        "- 결국 지표들은 여러가지 관점에서 보아야한다."
      ],
      "metadata": {
        "id": "7azqljim131B"
      }
    },
    {
      "cell_type": "markdown",
      "source": [
        "**심슨 패러독스**"
      ],
      "metadata": {
        "id": "C1tHH-RXh80z"
      }
    },
    {
      "cell_type": "markdown",
      "source": [
        "- 쪼개진 데이터에서 성립하는 관계가 합쳐진 데이터에서는 반대로 나타나는 현상\n",
        "    - 버클리대학 남녀 합격률 성차별 문제 : 쪼개본 결과 여자의 합격률이 더 높은 경우가 많았으며, 여자들이 합격률이 낮은 학과에 지원하는 경우가 많았음\n",
        "    - 마이리얼트립 크로스셀 문제 : 실험을 거듭할수록 전체 크로스셀이 낮아졌다. 하지만, 나라별로 쪼개서 보니 크로스셀이 올라가고 있었다. 하지만 한일외교문제로 해외여행의 주축을 이루는 일본여행 수요가 급감하면서 전체 크로스셀이 낮아지는 것처럼 보인 것이다."
      ],
      "metadata": {
        "id": "Fn6RysjNiDlt"
      }
    },
    {
      "cell_type": "markdown",
      "source": [
        "**대푯값을 사용할 때 주의사항**"
      ],
      "metadata": {
        "id": "1sao4PoTkfPg"
      }
    },
    {
      "cell_type": "markdown",
      "source": [
        "- 데이터 분석에서 가장 일반적으로 활용되는 대푯값은 평균이다. 하지만 모든 경우에 평균값이 최선일 순없다.\n",
        "- 데이터가 정규분포에 가까우면 평균을 사용해도 문제가 없지만 이상치가 있거나 아웃라이어가 많은 경우 평균대신 중앙값을 쓰는 것이 안정적이다.\n",
        "- 일반적으로 산점도(scatter)나 박스(Box-and-whisker)플롯을 그려보는 것으로 분포, 상관관계, 아웃라이어를 확인할 수 있다.\n"
      ],
      "metadata": {
        "id": "wDMXc3YskjZX"
      }
    },
    {
      "cell_type": "markdown",
      "source": [
        "**생존자 편향(Survivorship bias) 피하기**\n",
        "- 잘못된 데이터(편향된)로 분석을 할 경우 안좋은 결과를 도출할 수 있다."
      ],
      "metadata": {
        "id": "BltTWVtnpDZI"
      }
    },
    {
      "cell_type": "markdown",
      "source": [
        "### OMTM(One Metric That Matters)"
      ],
      "metadata": {
        "id": "TfekRBIIq20S"
      }
    },
    {
      "cell_type": "markdown",
      "source": [
        "- 그로스해킹에서는 상황에 따라 집중해야하는 지표가 다르다.(모든 지표를 관리할 순 없다.)\n",
        "- 지금 우리 서비스에서 가장 중요한 지표는 무엇인가? 가 OMTM이며 북극성지표(NSM)라고도 한다. \n",
        "- 모든 구성원이 하나의 OMTM을 바라보아야 한다.\n",
        "- OMTM을 매출로 정하는 것은 바람직하지 못하다."
      ],
      "metadata": {
        "id": "7C0tM-NesCN1"
      }
    },
    {
      "cell_type": "markdown",
      "source": [
        "**AARRR의 주요 지표**   \n",
        "\n",
        "![캡처.JPG](data:image/jpeg;base64,/9j/4AAQSkZJRgABAQEAYABgAAD/4RDaRXhpZgAATU0AKgAAAAgABAE7AAIAAAAFAAAISodpAAQAAAABAAAIUJydAAEAAAAKAAAQyOocAAcAAAgMAAAAPgAAAAAc6gAAAAgAAAAAAAAAAAAAAAAAAAAAAAAAAAAAAAAAAAAAAAAAAAAAAAAAAAAAAAAAAAAAAAAAAAAAAAAAAAAAAAAAAAAAAAAAAAAAAAAAAAAAAAAAAAAAAAAAAAAAAAAAAAAAAAAAAAAAAAAAAAAAAAAAAAAAAAAAAAAAAAAAAAAAAAAAAAAAAAAAAAAAAAAAAAAAAAAAAAAAAAAAAAAAAAAAAAAAAAAAAAAAAAAAAAAAAAAAAAAAAAAAAAAAAAAAAAAAAAAAAAAAAAAAAAAAAAAAAAAAAAAAAAAAAAAAAAAAAAAAAAAAAAAAAAAAAAAAAAAAAAAAAAAAAAAAAAAAAAAAAAAAAAAAAAAAAAAAAAAAAAAAAAAAAAAAAAAAAAAAAAAAAAAAAAAAAAAAAAAAAAAAAAAAAAAAAAAAAAAAAAAAAAAAAAAAAAAAAAAAAAAAAAAAAAAAAAAAAAAAAAAAAAAAAAAAAAAAAAAAAAAAAAAAAAAAAAAAAAAAAAAAAAAAAAAAAAAAAAAAAAAAAAAAAAAAAAAAAAAAAAAAAAAAAAAAAAAAAAAAAAAAAAAAAAAAAAAAAAAAAAAAAAAAAAAAAAAAAAAAAAAAAAAAAAAAAAAAAAAAAAAAAAAAAAAAAAAAAAAAAAAAAAAAAAAAAAAAAAAAAAAAAAAAAAAAAAAAAAAAAAAAAAAAAAAAAAAAAAAAAAAAAAAAAAAAAAAAAAAAAAAAAAAAAAAAAAAAAAAAAAAAAAAAAAAAAAAAAAAAAAAAAAAAAAAAAAAAAAAAAAAAAAAAAAAAAAAAAAAAAAAAAAAAAAAAAAAAAAAAAAAAAAAAAAAAAAAAAAAAAAAAAAAAAAAAAAAAAAAAAAAAAAAAAAAAAAAAAAAAAAAAAAAAAAAAAAAAAAAAAAAAAAAAAAAAAAAAAAAAAAAAAAAAAAAAAAAAAAAAAAAAAAAAAAAAAAAAAAAAAAAAAAAAAAAAAAAAAAAAAAAAAAAAAAAAAAAAAAAAAAAAAAAAAAAAAAAAAAAAAAAAAAAAAAAAAAAAAAAAAAAAAAAAAAAAAAAAAAAAAAAAAAAAAAAAAAAAAAAAAAAAAAAAAAAAAAAAAAAAAAAAAAAAAAAAAAAAAAAAAAAAAAAAAAAAAAAAAAAAAAAAAAAAAAAAAAAAAAAAAAAAAAAAAAAAAAAAAAAAAAAAAAAAAAAAAAAAAAAAAAAAAAAAAAAAAAAAAAAAAAAAAAAAAAAAAAAAAAAAAAAAAAAAAAAAAAAAAAAAAAAAAAAAAAAAAAAAAAAAAAAAAAAAAAAAAAAAAAAAAAAAAAAAAAAAAAAAAAAAAAAAAAAAAAAAAAAAAAAAAAAAAAAAAAAAAAAAAAAAAAAAAAAAAAAAAAAAAAAAAAAAAAAAAAAAAAAAAAAAAAAAAAAAAAAAAAAAAAAAAAAAAAAAAAAAAAAAAAAAAAAAAAAAAAAAAAAAAAAAAAAAAAAAAAAAAAAAAAAAAAAAAAAAAAAAAAAAAAAAAAAAAAAAAAAAAAAAAAAAAAAAAAAAAAAAAAAAAAAAAAAAAAAAAAAAAAAAAAAAAAAAAAAAAAAAAAAAAAAAAAAAAAAAAAAAAAAAAAAAAAAAAAAAAAAAAAAAAAAAAAAAAAAAAAAAAAAAAAAAAAAAAAAAAAAAAAAAAAAAAAAAAAAAAAAAAAAAAAAAAAAAAAAAAAAAAAAAAAAAAAAAAAAAAAAAAAAAAAAAAAAAAAAAAAAAAAAAAAAAAAAAAAAAAAAAAAAAAAAAAAAAAAAAAAAAAAAAAAAAAAAAAAAAAAAAAAAAAAAAAAAAAAAAAAAAAAAAAAAAAAAAAAAAAAAAAAAAAAAAAAAAAAAAAAAAAAAAAAAAAAAAAAAAAAAAAAAAAAAAAAAAAAAAAAAAAAAAAAAAAAAAAAAAAAAAAAAAAAAAAAAAAAAAAAAAAAAAAAAAAAAAAAAAAAAAAAAAAAAAAAAAAAAAAAAAAAAAAAAAAAAAAAAAAAAAAAAAAAAAAAAAAAAAAAAAAAAAAAAAAAAAAAAAAAAAAAAAAAAAAAAAAAAAAAAAAAAAAAAAAAAAAAAAAAAAAAAAAAAAAAAAAAAAAAAAAAAAAAAAAAAAAAAAAAAAAAAAAAAAAAAAAAAAAAAAAAAAAAAAAAAAAAAAAAAAAAAAAAAAAAAAAAAAAAAAAAAAAAAAAAAAAAAAAAAAAAAAAAAAAAAAAAAAAAAAAAAAAAAAAAAAAAAAAAAAAAAAAAAAAAAAAAAAAAAAAAAAAAAAAAAAAAAAAAAAAAAAAAAAAAAAAAAAAAAAAAAAAAAAAAAAAAAAAAAAAAAAAAAAAAAAAAAAAAAAAAAAAAAAAAAAAAAAAAAAAAAAAAAAAAAAAAAAAAAAAAAAAAAAAAAAAAAAAAAAAAAAAAAAAAAAAAAAAAAAAAAAAAAAAAAAAAAAAAAAAAAAAAAAAAAAAAAAAAAAAAAAAAAAAAAAAAAAAAAAAAAAAAAAAAAAAAAAAAAAAAAAAAAAAAAAAAAAAAAAAAAAAAAAAAAAAAAAAAAAAAAAAAAAAAAAAAAAAAAAAAAAAAAAAAAAAAAAAAAAAAAAAAAAAAAAAAAAAAAAAAAAAAAAAAAAAAAAAAAAAAAAAAAAAAAAAAAAAAAAAAAAAAAAAAAAAAAAAAAAAAAAAAAAAAAAAAAAAAAAAAAAAAAAAAAAAAAAAAAAAAAAAAAAAAAAAAAAAAAAAAAAAAAAAAAAAAAAAAAAAAAAAAAAAGVudnkAAAAFkAMAAgAAABQAABCekAQAAgAAABQAABCykpEAAgAAAAM4OQAAkpIAAgAAAAM4OQAA6hwABwAACAwAAAiSAAAAABzqAAAACAAAAAAAAAAAAAAAAAAAAAAAAAAAAAAAAAAAAAAAAAAAAAAAAAAAAAAAAAAAAAAAAAAAAAAAAAAAAAAAAAAAAAAAAAAAAAAAAAAAAAAAAAAAAAAAAAAAAAAAAAAAAAAAAAAAAAAAAAAAAAAAAAAAAAAAAAAAAAAAAAAAAAAAAAAAAAAAAAAAAAAAAAAAAAAAAAAAAAAAAAAAAAAAAAAAAAAAAAAAAAAAAAAAAAAAAAAAAAAAAAAAAAAAAAAAAAAAAAAAAAAAAAAAAAAAAAAAAAAAAAAAAAAAAAAAAAAAAAAAAAAAAAAAAAAAAAAAAAAAAAAAAAAAAAAAAAAAAAAAAAAAAAAAAAAAAAAAAAAAAAAAAAAAAAAAAAAAAAAAAAAAAAAAAAAAAAAAAAAAAAAAAAAAAAAAAAAAAAAAAAAAAAAAAAAAAAAAAAAAAAAAAAAAAAAAAAAAAAAAAAAAAAAAAAAAAAAAAAAAAAAAAAAAAAAAAAAAAAAAAAAAAAAAAAAAAAAAAAAAAAAAAAAAAAAAAAAAAAAAAAAAAAAAAAAAAAAAAAAAAAAAAAAAAAAAAAAAAAAAAAAAAAAAAAAAAAAAAAAAAAAAAAAAAAAAAAAAAAAAAAAAAAAAAAAAAAAAAAAAAAAAAAAAAAAAAAAAAAAAAAAAAAAAAAAAAAAAAAAAAAAAAAAAAAAAAAAAAAAAAAAAAAAAAAAAAAAAAAAAAAAAAAAAAAAAAAAAAAAAAAAAAAAAAAAAAAAAAAAAAAAAAAAAAAAAAAAAAAAAAAAAAAAAAAAAAAAAAAAAAAAAAAAAAAAAAAAAAAAAAAAAAAAAAAAAAAAAAAAAAAAAAAAAAAAAAAAAAAAAAAAAAAAAAAAAAAAAAAAAAAAAAAAAAAAAAAAAAAAAAAAAAAAAAAAAAAAAAAAAAAAAAAAAAAAAAAAAAAAAAAAAAAAAAAAAAAAAAAAAAAAAAAAAAAAAAAAAAAAAAAAAAAAAAAAAAAAAAAAAAAAAAAAAAAAAAAAAAAAAAAAAAAAAAAAAAAAAAAAAAAAAAAAAAAAAAAAAAAAAAAAAAAAAAAAAAAAAAAAAAAAAAAAAAAAAAAAAAAAAAAAAAAAAAAAAAAAAAAAAAAAAAAAAAAAAAAAAAAAAAAAAAAAAAAAAAAAAAAAAAAAAAAAAAAAAAAAAAAAAAAAAAAAAAAAAAAAAAAAAAAAAAAAAAAAAAAAAAAAAAAAAAAAAAAAAAAAAAAAAAAAAAAAAAAAAAAAAAAAAAAAAAAAAAAAAAAAAAAAAAAAAAAAAAAAAAAAAAAAAAAAAAAAAAAAAAAAAAAAAAAAAAAAAAAAAAAAAAAAAAAAAAAAAAAAAAAAAAAAAAAAAAAAAAAAAAAAAAAAAAAAAAAAAAAAAAAAAAAAAAAAAAAAAAAAAAAAAAAAAAAAAAAAAAAAAAAAAAAAAAAAAAAAAAAAAAAAAAAAAAAAAAAAAAAAAAAAAAAAAAAAAAAAAAAAAAAAAAAAAAAAAAAAAAAAAAAAAAAAAAAAAAAAAAAAAAAAAAAAAAAAAAAAAAAAAAAAAAAAAAAAAAAAAAAAAAAAAAAAAAAAAAAAAAAAAAAAAAAAAAAAAAAAAAAAAAAAAAAAAAAAAAAAAAAAAAAAAAAAAAAAAAAAAAAAAAAAAAAAAAAAAAAAAAAAAAAAAAAAAAAAAAAAAAAAAAAAAAAAAAAAAAAAAAAAAAAAAAAAAAAAAAAAAAAAAAAAAAAAAAAAAAAAAAAAAAAAAAAAAAAAAAAAAAAAAAAAAAAAAAAAAAAAAAAAAAAAAAAAAAAAAAAAAAAAAAAAAAAAAAAAAAAAAAAAAAAAAAAAAAAAAAAAAAAAAAAAAAAAAAAAAAAAAAAAAAAAAAAAAAAAAAAAAAAAAAAAAAAAAAAAAAAAAAAAAAAAAAAAAAAAAAAAAAAAAAAAAAAAAAAAAAAAAAAAAAAAAAAAAAAAAAAAAAAAAAAAAAAAAAAAAAAAAAAAAAAAAAAAAAAAAAAAAAAAAAAAAAAAAAAAAAAAAAAAAAAAAAAAAAAAAAAAAAAAAAAAAAAAAAAAAAAAAAAAAAAAAAAAAAAAAAAAAAAAAAAAAAAAAAAAAAAAAAAAAAAAAAAAAAAAAAAAAAAAAAAAAAAAAAAAAAAAAAAAAAAAAAAAAAAAAAAAAAAAAAAAAAAAAAAAAAAAAAAAAAAAAAAAAAAAAAAAAAAAAAAAAAAAAAAAAAAAAAAAAAAAAAAAAAAAAAAAAAAAAAAAAAAAAAAAAAAAAAAAAAAAAAAAAAAAAAAAAAAAAAAAAAAAAAAAAAAAAAAAAAAAAAAAAAAAAAAAAAAAAAAAAAAAAAAAAAAAAAAAAAAAAAAAAAAAAAAAAAAAAAAAAAAAAAAAAAAAAAAAAAAAAAAAAAAAAAAAAAAAAAAAAAAAAAAAAAAAAAAAAAAAAAAAAAAAAAAAAAAAAAAAAAAAAAAAAAAAAAAAAAAAAAAAAAAAAAAAAAAAAAAAAAAAAAAAAAAAAAAAAAAAAAAAAAAAAAAAAAAAAAAAAAAAAAAAAAAAAAAAAAAAAAAAAAAAAAAAAAAAAAAAAAAAAAAAAAAAAAAAAAAAAAAAAAAAAAAAAAAAAAAAAAAAAAAAAAAAAAAAAAAAAAAAAAAAAAAAAAAAAAAAAAAAAAAAAAAAAAAAAAAAAAAAAAAAAAAAAAAAAAAAAAAAAAAAAAAAAAAAAAAAAAAAAAAAAAAAAAAAAAAAAAAAAMjAyMzowNToxNSAxMzozMDoyNAAyMDIzOjA1OjE1IDEzOjMwOjI0AAAAZQBuAHYAeQAAAP/hCxdodHRwOi8vbnMuYWRvYmUuY29tL3hhcC8xLjAvADw/eHBhY2tldCBiZWdpbj0n77u/JyBpZD0nVzVNME1wQ2VoaUh6cmVTek5UY3prYzlkJz8+DQo8eDp4bXBtZXRhIHhtbG5zOng9ImFkb2JlOm5zOm1ldGEvIj48cmRmOlJERiB4bWxuczpyZGY9Imh0dHA6Ly93d3cudzMub3JnLzE5OTkvMDIvMjItcmRmLXN5bnRheC1ucyMiPjxyZGY6RGVzY3JpcHRpb24gcmRmOmFib3V0PSJ1dWlkOmZhZjViZGQ1LWJhM2QtMTFkYS1hZDMxLWQzM2Q3NTE4MmYxYiIgeG1sbnM6ZGM9Imh0dHA6Ly9wdXJsLm9yZy9kYy9lbGVtZW50cy8xLjEvIi8+PHJkZjpEZXNjcmlwdGlvbiByZGY6YWJvdXQ9InV1aWQ6ZmFmNWJkZDUtYmEzZC0xMWRhLWFkMzEtZDMzZDc1MTgyZjFiIiB4bWxuczp4bXA9Imh0dHA6Ly9ucy5hZG9iZS5jb20veGFwLzEuMC8iPjx4bXA6Q3JlYXRlRGF0ZT4yMDIzLTA1LTE1VDEzOjMwOjI0Ljg5MTwveG1wOkNyZWF0ZURhdGU+PC9yZGY6RGVzY3JpcHRpb24+PHJkZjpEZXNjcmlwdGlvbiByZGY6YWJvdXQ9InV1aWQ6ZmFmNWJkZDUtYmEzZC0xMWRhLWFkMzEtZDMzZDc1MTgyZjFiIiB4bWxuczpkYz0iaHR0cDovL3B1cmwub3JnL2RjL2VsZW1lbnRzLzEuMS8iPjxkYzpjcmVhdG9yPjxyZGY6U2VxIHhtbG5zOnJkZj0iaHR0cDovL3d3dy53My5vcmcvMTk5OS8wMi8yMi1yZGYtc3ludGF4LW5zIyI+PHJkZjpsaT5lbnZ5PC9yZGY6bGk+PC9yZGY6U2VxPg0KCQkJPC9kYzpjcmVhdG9yPjwvcmRmOkRlc2NyaXB0aW9uPjwvcmRmOlJERj48L3g6eG1wbWV0YT4NCiAgICAgICAgICAgICAgICAgICAgICAgICAgICAgICAgICAgICAgICAgICAgICAgICAgICAgICAgICAgICAgICAgICAgICAgICAgICAgICAgICAgICAgICAgICAgICAgICAgICAKICAgICAgICAgICAgICAgICAgICAgICAgICAgICAgICAgICAgICAgICAgICAgICAgICAgICAgICAgICAgICAgICAgICAgICAgICAgICAgICAgICAgICAgICAgICAgICAgICAgIAogICAgICAgICAgICAgICAgICAgICAgICAgICAgICAgICAgICAgICAgICAgICAgICAgICAgICAgICAgICAgICAgICAgICAgICAgICAgICAgICAgICAgICAgICAgICAgICAgICAgCiAgICAgICAgICAgICAgICAgICAgICAgICAgICAgICAgICAgICAgICAgICAgICAgICAgICAgICAgICAgICAgICAgICAgICAgICAgICAgICAgICAgICAgICAgICAgICAgICAgICAKICAgICAgICAgICAgICAgICAgICAgICAgICAgICAgICAgICAgICAgICAgICAgICAgICAgICAgICAgICAgICAgICAgICAgICAgICAgICAgICAgICAgICAgICAgICAgICAgICAgIAogICAgICAgICAgICAgICAgICAgICAgICAgICAgICAgICAgICAgICAgICAgICAgICAgICAgICAgICAgICAgICAgICAgICAgICAgICAgICAgICAgICAgICAgICAgICAgICAgICAgCiAgICAgICAgICAgICAgICAgICAgICAgICAgICAgICAgICAgICAgICAgICAgICAgICAgICAgICAgICAgICAgICAgICAgICAgICAgICAgICAgICAgICAgICAgICAgICAgICAgICAKICAgICAgICAgICAgICAgICAgICAgICAgICAgICAgICAgICAgICAgICAgICAgICAgICAgICAgICAgICAgICAgICAgICAgICAgICAgICAgICAgICAgICAgICAgICAgICAgICAgIAogICAgICAgICAgICAgICAgICAgICAgICAgICAgICAgICAgICAgICAgICAgICAgICAgICAgICAgICAgICAgICAgICAgICAgICAgICAgICAgICAgICAgICAgICAgICAgICAgICAgCiAgICAgICAgICAgICAgICAgICAgICAgICAgICAgICAgICAgICAgICAgICAgICAgICAgICAgICAgICAgICAgICAgICAgICAgICAgICAgICAgICAgICAgICAgICAgICAgICAgICAKICAgICAgICAgICAgICAgICAgICAgICAgICAgICAgICAgICAgICAgICAgICAgICAgICAgICAgICAgICAgICAgICAgICAgICAgICAgICAgICAgICAgICAgICAgICAgICAgICAgIAogICAgICAgICAgICAgICAgICAgICAgICAgICAgICAgICAgICAgICAgICAgICAgICAgICAgICAgICAgICAgICAgICAgICAgICAgICAgICAgICAgICAgICAgICAgICAgICAgICAgCiAgICAgICAgICAgICAgICAgICAgICAgICAgICAgICAgICAgICAgICAgICAgICAgICAgICAgICAgICAgICAgICAgICAgICAgICAgICAgICAgICAgICAgICAgICAgICAgICAgICAKICAgICAgICAgICAgICAgICAgICAgICAgICAgICAgICAgICAgICAgICAgICAgICAgICAgICAgICAgICAgICAgICAgICAgICAgICAgICAgICAgICAgICAgICAgICAgICAgICAgIAogICAgICAgICAgICAgICAgICAgICAgICAgICAgICAgICAgICAgICAgICAgICAgICAgICAgICAgICAgICAgICAgICAgICAgICAgICAgICAgICAgICAgICAgICAgICAgICAgICAgCiAgICAgICAgICAgICAgICAgICAgICAgICAgICAgICAgICAgICAgICAgICAgICAgICAgICAgICAgICAgICAgICAgICAgICAgICAgICAgICAgICAgICAgICAgICAgICAgICAgICAKICAgICAgICAgICAgICAgICAgICAgICAgICAgICAgICAgICAgICAgICAgICAgICAgICAgICAgICAgICAgICAgICAgICAgICAgICAgICAgICAgICAgICAgICAgICAgICAgICAgIAogICAgICAgICAgICAgICAgICAgICAgICAgICAgICAgICAgICAgICAgICAgICAgICAgICAgICAgICAgICAgICAgICAgICAgICAgICAgICAgICAgICAgICAgICAgICAgICAgICAgCiAgICAgICAgICAgICAgICAgICAgICAgICAgICAgICAgICAgICAgICAgICAgICAgICAgICAgICAgICAgICAgICAgICAgICAgICAgICAgICAgICAgICAgICAgICAgICAgICAgICAKICAgICAgICAgICAgICAgICAgICAgICAgICAgICAgICAgICAgICAgICAgICAgICAgICAgICAgICAgICAgICAgICAgICAgICAgICAgICAgICAgICAgICAgICAgICAgICAgICAgIAogICAgICAgICAgICAgICAgICAgICAgICAgICAgPD94cGFja2V0IGVuZD0ndyc/Pv/bAEMABwUFBgUEBwYFBggHBwgKEQsKCQkKFQ8QDBEYFRoZGBUYFxseJyEbHSUdFxgiLiIlKCkrLCsaIC8zLyoyJyorKv/bAEMBBwgICgkKFAsLFCocGBwqKioqKioqKioqKioqKioqKioqKioqKioqKioqKioqKioqKioqKioqKioqKioqKioqKv/AABEIAUgCHwMBIgACEQEDEQH/xAAfAAABBQEBAQEBAQAAAAAAAAAAAQIDBAUGBwgJCgv/xAC1EAACAQMDAgQDBQUEBAAAAX0BAgMABBEFEiExQQYTUWEHInEUMoGRoQgjQrHBFVLR8CQzYnKCCQoWFxgZGiUmJygpKjQ1Njc4OTpDREVGR0hJSlNUVVZXWFlaY2RlZmdoaWpzdHV2d3h5eoOEhYaHiImKkpOUlZaXmJmaoqOkpaanqKmqsrO0tba3uLm6wsPExcbHyMnK0tPU1dbX2Nna4eLj5OXm5+jp6vHy8/T19vf4+fr/xAAfAQADAQEBAQEBAQEBAAAAAAAAAQIDBAUGBwgJCgv/xAC1EQACAQIEBAMEBwUEBAABAncAAQIDEQQFITEGEkFRB2FxEyIygQgUQpGhscEJIzNS8BVictEKFiQ04SXxFxgZGiYnKCkqNTY3ODk6Q0RFRkdISUpTVFVWV1hZWmNkZWZnaGlqc3R1dnd4eXqCg4SFhoeIiYqSk5SVlpeYmZqio6Slpqeoqaqys7S1tre4ubrCw8TFxsfIycrS09TV1tfY2dri4+Tl5ufo6ery8/T19vf4+fr/2gAMAwEAAhEDEQA/APpGiiigAorPfW7KPXo9IZ2+1yR+YoxxjnjPrgE49q0KSaew2mtwooopiCioorgSzTR+XKnksF3OmFfgHKnuOcfWm3F4ltIiyJKVZWYyKhKoFGTuPb29aV0OzJ6Kq22oQ3jQm2WV4poBOk3lkIVOMDJ6HnOKtUXuDTQUUUUxBRRRQAUUUUAFFI7rHGzuQqqMknsKy9A16LXrWWaOF4GjcAxyddpUMrfQg5pXSdh8rauatFUJ9b06Gxu7pbuGdLRC8qwyKzDA6dep6AGkttXguZU2mNYZIkkjkMy5YsSAu3Oc8fj07UuZD5XuaFFRS3dvBv8AOnij8tQz73A2j1PoKpXXiDTrWC2nNzHLFczrAjxSKy5PcnPQd6bkluJRb2NKiqaalCtvPNePDaxxTNFveZSpwcZJzwT6HkVI1/ZpCkz3UCxOCUcyAKw9Qe9F0FmWKKZDNFcQrLbyJLGwyrowYH6EU+mIKKKKACiiigAooooAKKKKACiiigAooooAKK5seLZFtnvp9JmTTo5Wje6WVG24fYWK5zjIrce/s47tbWS7gW4flYWkAdvovWpUovYtwktyxRUX2qDyTL58flg7S+8bQc4xn68Uz7fZ/bPsn2uD7TjPk+YN/wD3z1p3RNmWKKrjULJrhbdbuAzMSBGJV3HHXjOe1P8AtMGwP50e0vsDbxgtnGPrnjFF0FmS0VXF/ZteG0W7gNyBkwiQbx/wHrVimIKKKKACiiigAooooAKKKztZ1VtKgt2itWupLidYEjVwuSQT1PHak2krsaTbsjRorKsNcFxcXFtf2r6fc28YldJXVlKHPzBgcY4NGo+IrCx0WXUoZ4ruJGCKIZVIZiQAM5x3z9M0uaNrj5JXsatFVP7Ts0aCO4ureGedQyRNMu5s+nPP4U97+zikMct3AjrnKtIARgZPH05+lO6FZliiqr6pp8UJlkvrZIw+wu0yhQ3pnPX2qN9UjGq2lnGPMF1C8qyqwK4Xb+ed1HMg5WXqKKKYgooooAKKKKACiiigApGYKpZjgAZJPalooA8+dNYubS412DT4mDXQv4pTORJ5SDCps290z3/iqa7uNIudVv59dkn8yQRPppjLB/LKAgxY/i3Zz713dGKx9l5m/tvI821h7EW2utq8ky6wrt9k3MwcRbRs244x13fjmrd/qcdjbeIrW5ldLi5t42tkwSXBgAJX6EHPpXc3VrDe2sttcpvilQo65Iyp6jI5p6IqIqoMBRgewpeyd9/61H7ZW1X9af5HAX6pIt8LufyYRfQEmZGaFv8AR1+WTBBCk9/XFJabb+Gxgit2WDZfRqqSM8cg2rgxk4O3J4H1r0IjI5o6dKPZa7h7bTY83hMyaLANG80SLoXIjzuD+avmY/2vvf0pb5rFbfUP+EWdzZf2a5uSjMVEmRs6/wAeN2e9ej0AY6Uex03D22uxzOmafFpXi9ILLzFin04yShnZt8gkUBjk9cE101FFaxjy6IxlJyd2FFFFUSFFFFAGP4nju7nRWsbBW829dbcyBSREjfeY47bQR+IrCu9I1y2muEQwy/b7FrUG0iZFjZFJjLZJxkFlz9K7Wis5U1J3NI1HFWRxf2W31HSp7ay8PT286abJD5ksPlAMV4QZ++dwzntjOaamjz38NwkVpLak6VAIS8WzZMjuwHsc4P4121FL2S6le1fQ4SaLUZ9KfVLzTXFxfXsZkje3aVraJAQp8vqeQTj/AGs1Vj0y6aS4uJtOupol1G2nAe1VWdApDkIBj0yOvTNei0UvYp9Rqs10OHaxnt9QjvL3T57iyi1K7d4lhLn58bJNn8Q4PPbOaSw0aSfUrB7jTXSwe/uZ47eWLiFDGNu5ei5YEge9dzRR7JB7Z2Mbw1aPZQahC0DQR/b5mhQrtGwkEbR6Vs0UVrFWVjKT5ncKKKKZIUUUUAFFFFABRRRQAUUUUAFFFFAHAjw/dppcN5Kl9cRx30j3GmM7bZI/NbBVO5HDY71FdaVeyXuoW0yXhku70zRPFZKwKkgq3mn7m0cYJGMe9eh0Vh7FG/t5HIyaXenxQdPEDnSpLpdRaXHy7gOY/TlwGxWVDpF6Lv7FcpefaPt5m82OyUr9/cJPOPbHbOe2K9DopukmCrNHEjRGXS3nXT2F7/bXnB/K/ebPP+9nrjb+GKYFvEt4dK/s28MsWsid5RCfL8vzt+4N0PB/nXc0UeyXQXtn1R55YaRerdW1ndJeC5ivjM0iWS7PvlvM87uCO2c9sV6HRRVwgoEzqOe4UUUVZmFFFFABRRRQAVh+KLGXUItNih88AX8bO8BIaNdrZbI6detblFKS5lYqMuV3OBvdCv4LbU7QRXV3MZ4pxdvmVriANny/m4LLz8vGfSmS6VPeafqU8dvdzGRrZQstiIfMKyglgg54UkEkdK9BorH2KNfbs8/1XSroalqsEsN063si+R9nsllDJtAA8w/c247kY6irsuiSeR4nme0ea7lhEUErR5aQeQAdv1OeldnRT9kg9s/6/ryOL1GxNhJpVva6c0VvHbN++hsvPcSHaCu3opIGSxHb60eGdPvba50j7TazxCCO8V/MTGzdIpUHHHI6Y49K7Sin7JXuL2r5bBRRRWpiFFFFABRRRQAUUUUAFFFFABRTfNj8zZvXf/dzzTqACiq9jf2+owPNaOXRJpIWJUjDxuUYc+jKRVigAoqG3u4LsSG3kEgikaJ8fwsvUVBd6pBZ6ha2cqyGS6WRkKgYAQAnPPvQBdoqrpeoRatpFnqNsrrDeQJPGJAAwV1DDOM84NWqACiiigAooooAKKKKACigkAEngDqaakiSZ8t1bHXac0AOoqnq2pw6Ppc1/crI8cIHyRgFnJIAUZIGSSByR1qxBI81vHJJC8DsoLRSFSyH0O0kZ+hNAElFFFABRVTVtSh0bR7vUrpXaG0haaRYwCxVRk4yRzxT76+ttNsZby+lWGCIZdz27dBySTwAOSaALFFUtN1WDVEkMEV1EYyAyXNtJC3PQ4cDI+lXaACiiigAooqE3GL0W3lS5MZk8zZ8gwQMbvXnOPTNAE1FFFABRRRQAUUUUAFFFFABRTTLGH2F1Df3c806gAorKg8R2FzqjWEH2l3WRoTKtrIYfMXO5fM27cjBzz1GOvFXNSv4tL0q71C4DtFaQPO4QZYqqljjPfAoAs0U2OQSxJIucOoYZ96dQAUUUUAFFFFABRRRQAUUUUAFFFISFUliAB1JoAWimo6SDMbKw9Qc1Bc39vaXNpBcOUe8kMUPynDOFL4z2+VWPPpQBZoqjHq9vNqMlnAs0skUvkzMkZKRN5YkwzdPusv4kCr1ABRVRNShfWpdLCv58VulwzYG3a7OoGc5zlD29Kt0AFFFU9W1SHR9MkvblZHRCqhIlyzszBVUAkDJZgOSOtAFyisa18RrdXs1sml36m3kjhmfajCOR1Vth2uT8qupJAKj1rWml8m3kl2O+xS2yNcs2BnAHc0APopsUnmwpJtZN6htrjBGexHY06gAoqG1u4L2Ey2sgkjEjxlh/eRirD8GUj8KmoAKKKKAMd9B3eIv7V+045B8ry/RdvXP9K2KKKSilsNyb3OBstDkvL3ToNSsJntP7Q1Z5o5Y2CFWuGaMuOhUjBGeDwRVGSxmtdF0aafT7m9vbKKSKGxubGWVHHm/LhwP3MgCrh242+3I9MopiPOVsrfS7HWLWPQSZZtWPnM2nSyx+QzFkfagHmqOm1TxnnGDT9Asb6CbR0mtblYornUY4t1s8YRH5j+U52KQDgE4HAr0OigDF8Go8XgfRIZo5IpYbCCKSOVCjIyoFIIPIwQa2qKKACiiigAooooAKKKKAI7iLz7WWHO3zEK5xnGRiqGiaN/Y0Mqef53mMDnZtx+prTopcqbuPmdrHP8AjfThqnhSa3+yG7bzoWEYj3niVcnH0z+GawLmO4tbm+0q30+9y+vWNxCYbZzEturW2W3gbQBsYEZyMZxjJrv6KYjgl0SVL5dSWyuPty+ImKzbGLC3ZiDj0jIJPHHemWOh3NvJpOoQWc0eovrN8s8zoxIgb7Vs3Z6R5ERHbJUjk8+gUUAeUw6LfSeEtVUpKNSOizw3VsmlzRNczFR8zyszLM+QcFeoY444ruPFEE17ottc2UElz9mu7e8NuFw8qI4YgA/xY5APcAVvUUAclruoDXNLiNvY6k9hDeRG+jezljaaHncojYB3AbYWAHIyOeRWVbaO97eWMI0+5TQ31qR4LaSJ4xHB9jYHchwUjM2cKwA+YDGCBXoVFAHniWeraLpMF1pVlctPBc6hp8UHlsdsLzOYGx/cVkiwegRielR3Xh+4ttcFlJI6RQxW0em3f9mzXTxhAA22RHAjbcCWLDkHkkDA9HooA4C48PwS6bq9zqMFzHPLqkmyRrN7nMQkDKpjHLQkjJAwD196hkt9Yu9PD2GmTWEh0WeJIoEaMA+euAm7BRmQEqpwVz7V6LRQB5zdaf51jrC+G9OvbTTJILVRALaSBmnE2XZEIDAhMbmA5x1JBrpfD2mDSfEGtwWlq1tYOYJIVCkRlihDle2eBnHfrXQ0UAFFFFABRRRQAUUUUAY82g+d4gTU/tONpU+X5fXAx1z/AErYoopKKWw3Jvc4uN5bTxUi6BFqkH2i9Y39lc2r/ZtpyWmSQjapJ5wrfMTyuc451LO/vRqMtrpM1o19oV9HcW0dhLFic7PLR3Y/vn5cBhgHnFerUUxHnV9p93e6/vuWkgWWK1bTrg6VNO8ICjcFdWAhbdktuAyCM5AwNPQ7cWfje8FtZSTrcmeSa8nspIpYSXBCGVhtlQ/wgcqF7iuyooAKKKKACiiigAooooAKKKKACoL22+2WM1vu2eahXdjOM+1T0UbhsZ2i6V/Y9m8HnedukL7tm3HAGOp9Kr+K7WafQWntI2lurGVLyBEGWdo2DFQO5ZQy/wDAq2aKSSSshttu7OJs9PvVOhXUltOs11cXd5djYcxGWNyqv6EAqnP92sxNHS18I+HbK50Yu93ZrJez3FjLdOkwjQbWRSCHOWAZjhNmPSvSaKYji/B0OoR6hYyapBcrPJ4ds0keaNgfNRpN6sT0Yb1yDzz9aI7YL4h1U3ljcPrUk7nTr1rV5I0iMQCbZACqKDnKkjJ5wciu0ooA8zg0++On7fDFjfWGoDR5o9QknieIzXJCbPmbAkk3ByHBPB64IofQI7zQblYbXzonutPJsk0ea1VCtwPMfbIzbmKMQ7DsvJr0yigZ5+nh1dPu9RbTdKNuG8RWjIYYCuYFS3LEYH3A2/J6Z3e9Pt7SNbLWo7vTbt/EMi3oN19kkbzEO/ywsuNu3ZsAQHIIxjOa72igR5tPpV/Pq8a35kgYwWgsbj+y5rl4CqjcFdGAibeDu3DkEZyBgWxocgvRqP2Gf7aPELYlKMWFuzEHHpGQSTjg9a76igDl/AthbaZpt5aRae1ncR3tx52bZow6maQxkMQA42FcYJwMdK6iiigAooooAb5sfmbN67/7ueadWO+g7vEX9q/accg+V5fou3rn+lbFJN9SmktjG07xC2qXrpbaZdmzE0kAvi0fll4yVb5d28DcpAOOSPoalXxDp8OnWl1ql5Z6ebpNyJLdx4PHIVs4b6isOLTr8eLIbqw0e40ktcM2oTLcxtbXUe1gDsDZLk7TuKKRzknvzcmmXlpZ2umXNpcHytAhg1NbdIpXiTc/QtIoU/K/zLv6dBhSWI9HbWdLSSGN9StFechYlM6gyEgEBRnnIIIx6ip/tlsM/wCkRcSCI/OOHP8AD9eRx1rjLzRptaste1Cws1k/tSO0lsZG2qzqqq3c5XB5wcU+bS9X/tCe0j0x3hbXYtQF350YTysoTxu3bgQeMYwOCeAQR1aatp0l8LKPULVro7sQLMpkO0kN8uc8EEH0xVuvPdKsrnUZTb22ltGsPiO4u5NQLRhcJO+QMHeWI+TpjBPPavQqACiiigAooooAKKKKAAkAEngDqaakiSZ8t1bHXac024i8+1lhzt8xCucZxkYqhomjf2NDKnn+d5jA52bcfqam7uVZWLGp6lb6Rpst7eFvKjwMIu5mYkKqqO5JIAHqazZPEF9Dp81zL4c1BDD8zRmWDJTBJYHzMcYwRnPI69an8Tadcalo2yx2G6guIbqFJDhXaKRZApPbO3Ge2c0wXOoatpd/FNo9xYFoGSJbiWItIxUg42MwA6ck856VRJUXxdI2nafdf2HfBtSmWK1h8yHdIDE0u7O/AG1D1IPtWrpGrR6vbyukE1tLBM0E8E4XfG4AODtJB4IOQSMGsG68PXd7ovhOzlSaP7DLG12YLjy3iAtZEyGUg/fZR8p7+ma0fCWm3GkaK1jeRETRTyBrhpN7XYzxMxyTuYYznuDjjFAG5RRRQAUUUUAFFFFABRRRQAUUUUAFFFFABRRRQAUUUUANMsYfYXUN/dzzTqx5tB87xAmp/acbSp8vy+uBjrn+lbFSm+pTS6HPw+JrmXXm0p9BvYpI0SWSRpoNqRszKH4kzjKNwBnjpV+TxDosUfmS6vYIm4Lua5QDJAIGc9SCD+NVf7Puv+Ew1C+8r/R5tMhgR9w5dZJiRjOejrz05rnV0PVrPwroOk2+nOiLphhvBaeR5izlEBVmk42E79xXJJA/GiTsrrVtOsSBe39rbE7cCaZUzuzt6nvg49cGnNqdguorYNe24vWXctsZV8wj125ziuMj8LX8umXCXlikk7+F4dPUuyMfPCy70znjll56H14q3b6fq1n4hglsLG4j84xm+ed4mt5NsATeuGMiuMKvA2kZ+tAHT2uqaffPMllfW1w0BxMsUyuYz/tYPH41n3Hi/QLYWrPq1myXU5gSRLhCoYKWOTnjGMfUj1rjx4c8RanHO11ay2802jyWsizPAkXm+ZG3lIIskRkBwC2TgnPvu6jHe3sWlXkPhy4gNhqCyyWheDzHTyZIyVw+3guvUjhfpQBvf2vbQw3c+oS29nBbTGIyy3Cbeg5Jz8p56Hn86km1XT7e1W5uL+1igdN6yvMqqy8cgk4I5HPvXKvo2pW2qnUjp7XkUOrzXQtUkTc6PAqLIu5guVOeCQcE+2XaV4cvI9Q0i4u7GNIorm+uTCWRhaCVsoo568nO3IBJ7UAdhFLHPCksEiyRyKGR0bKsD0II6in1j+FLCfS/DFrZXcXkyQlxsDA7RvYqOOOhFbFABRRRQAUhIVSWIAHUmlqC9tvtljNb7tnmoV3YzjPtQBKjpIMxsrD1BzVXU9Ti0uGCSdHcTXMVsoTHDSOFBOe2TUWi6V/Y9m8HnedukL7tm3HAGOp9Kg8SWNxf2lklpH5jRajbTONwGESVWY8+gB4pK9tRu19C6NW05rwWi39qbkhiIRMu8hSQ3y5zwQQfTBpl7qsFrpjXcUsE2YWmhUzqizALnIYnGMc56Y5rm7fw5dxfZJBZIsyeIbi9kcMm7ynMwDk55yrqMdcHpxVC58KarJo+uWItg8dvp1xY6QPMX94srM3r8uAIk5x909jTA62DxHpU+pXtgt7AtxYgGdGlUbRjJPXoM8nsajuvFmhWltbXMmqWjW91P5EcyToULYyfmzjA7+nFZF/Z6ta6l4hfTtL+0NfJFJbzExFCVUK6EMwO7AJGRtJxk1mRaFq8Uk99Jp13c/8AE2gvBDPJb+dKgh8tzhSIwc44yOBQB2a6vbpb3dxey29rb20pjMz3CbcYByTnC9eh5/OpJdX02C0S6m1C1jt3TekzzKEZeOQ2cEcjn3rlZNG1KG7N+dPa5SHW3vfsgkTdLG0Hlhhltu5WOcEjoe+KXS/Dl4NX068u7BIoVu7258hmRvsol27BwcbjhiduQCx570COxiljnhSWCRZI5FDI6NlWB6EEdRT6x/ClhPpfhi1sruLyZIS42Bgdo3sVHHHQitigAooooAKKKKACiiigAoqudQtBefZDOn2j/nnnnpn+VWKLhZhVK90bTNSmSXUNOtbqSMYR54VcqOuASOlU7bxCb6/aOx0y8uLNJ2ga+UxiMOpw2AWDFQQQSB1HfrUlp4htLvXb/S1V0ksVVmkfAR+AW2nP8O5c+7UAaoGBgdKKx9J8QNrEkclvpd4lhOpaC9k8sJIvZtu7eAeoJXn24rYoAZFDFArLBEkYZi7BFAyxOSeO5JyTT6KKACiiigAooooAKKKKACikd1jjZ3O1VGST2FQ2t7bXqs1rMsoU4JU9KLhZk9FUNa1VNF0mW+lhknEbIojixuYs4QAZIHVh1NZ8Pi2E6pFp17YXdldSSpGUm2ELvSRkbKsQVbynUd8jBAzQBv0VTsdSiv7q+hhRwLKfyHc42u2xWO36bgPqDVTU9fNjqaafaaddajdGE3DpA0a7I87c5dlySegHp2oA16KqS6pY281vBd3cFtPc/wCqhmlVXc+gBPJ+lNfWdMjExk1G0UQLulLTqPLGSuW54GQRz3FAF2iqcusaZb2Md7PqNpFaykCOd51CPnphicGludW06zkVLu/tYHcqFWWZVLFs7cZPfBx64oAt0VjS+JbWLTtQumhmzY3X2R4QBveQlQgHOPm3oR/vCrK6xbRWU13qM1vZQxTvCZJbhNvysVGWzgE46HkdDQBoUVXOoWSxvI13AEjRXdjKuFVvuknPAPY96lWaN5XjSRWePG9QwJXPTI7UAPooooAKKKKACiiigAooooAKKrtqFol2LVp0E5xiMnmrFFwsworno/F8TXTLJpt5HaLfGw+2ExmPzfM8sZAfeAWwAdvcZxW2t5bP5ey4ibzXaOPDg72XOVHqRtbI7YPpQBNRVE63pS28s7anZiGEKZJDcJtQMMrk5wMjketUl8VacNamsp7q1hiWC3lhuHuFCzmUyAKuev8Aq+xOd1AG3RVWTU7CG/jsZb22S7lGUt2lUSOPZc5NEWqafcXc9rBfW0txb/66FJlLxf7wByPxoAtUVXstQs9ShM2nXcF3EGKl4JQ6gjqMg9ahl1vSoRKZtTs4xCMyl7hBsGSuTzxyCOe4NAF6isqTxNo8epWNidQtzNfxGW3IlXEigqBg55yW4x1wfSrkGo2V1dTW1teW808BxNFHKrNH/vAHI/GgCzRRRQAUUU2WVIYmklYKijLMewoAdRUNtdwXkZktZVlQHaSp71W1jVo9GsVuJIZJ3klSGKGLG6SR2CqoLEAcnqSBQBforCn8TfY/7O/tKxfTxd3MkEhupkAhCwvJvypKkHZjqOvtir8ut6VBZw3c+p2cdtP/AKqZ7hAkn+6xOD+FAF6iq8uoWcE6QzXcEcshUJG8oDMWztwM852nHrg+lJaajZX5lFjeW9yYW2SCGVX2N6HB4NAFmiiigAooooAKKKKACiiigAooooAzW0O2bWv7TLy+dkHbkbeF2+menvWlRRSSS2G23ucxoo1bQov7IOjy3UUdxI0V7HNGIzEzlxuBbeHAbGNpBI6gHjKtPCmsQrpt7cXMstxO041C1HlgQrcgtLtYYLbXEfc8Lx2rvKKYjnvDkurWlnY6Tf6PJH9khEMt6JozC4RcBkAYv82BwVGOeeBnoaKKACiiigAooooAKKKKACiiigBk0SzwSRPkLIpU464IxVPS9Ig0iORLZ5GEhBPmEH+QFX6KVle47u1jF8Xadcat4ansrNWaWSWEgK4UgLKjMQT0IAJ/Cqmp+F0i0S9OliafUy0dzHLcTl3kkhbfGu5jwMgjHA+Y+prpaKYjnNIkuNEtdIsbu133mpzTTXW2QEwyMGlc/wC0oYhMjgZX1FR+LLGS9kj8rQ7q7mjjP2W/sbpIZbeQ9iWZSF4U8bge68c9PRQByWm2erabrUk2qaadUlvorUPeQNGFhZEAcEMwIUNlxtB+8ehqi/hjUIfD9sbe3kiuodbuL+eO3MPmzI0k2wgvlCwV42Ab+7jggY7uigDgpPDuoW82n3tpHqzRhboTQA2ZuEeV1bdhh5WDtOQuCNw96LnwhOdL123t7FpfN8OwWFibh4zIZFWf5CwOAQWjyeBnHPHHe0UAcnc6Dfy+MreVYgdMmMN3dsXHE8KsqjGcnJMRz28r3FZ83h/WIWtrqOO6H2fU7+ZorRoDIUmkYpIvm5Tp24OHPuD3lFAHBXHg2eZtOsobeYaZd2og1L7RJH5kQjcyxAhPlPzOy/LwB7Vu+D7HUrXTJrjXYxHqV3KHnUOGxsRYxyCRghN3/AvXNdBRQAUUUUAFFFFABRRRQAUUUUAZsuh20usLqTPKJlIIUEbeBj0z+taVFFJJLYbbe5y2i+FVW5urnVhcFv7UnuoIGuSYhmQsj7AcZ6HnoeeDVHTdL1eLUNItZtMdINO1e8uZLszR7HjlW42FVDbv+Wqg5AwfUZI7eimI4ax8PXuk+HvCxGl+fJpfzXdlE0e4u0ZXeCSFZlYnv0Jwc07VfD13qkPiWZdJWKS+0KO1s43aPcsoE5KZBIXBaPnOOnPFdvRQBw2u6Zr2o6vsSzmMMV7ZTwyRNAsbIjxtI0hJ8wuMOABgYx1qO60HWLmDV9M0y1ns7G5gnYLdvCw855A2ImUs2x8vuDjjIx3Fd7RQBgeGbCWCa8vLqLUYp7hYo2F8bbkIGxtEHH8WMnk4HYVlRaRqumeHEjs7Ai5m1e4nujAIWmETzSsjoZDs3YMfXopPGRiu0ooA4TQ9D1TS7rRp7jTZZFhl1CKQCSJnhWe4WSNzyAQFXnbyM8Cp/CHh+902eyTVE1AzadbPAJna2+zybiu4rsAkO4qG+fv1yeT2lFABRRRQAVFdW6XdrLbyFgkilSV64NS0UAU9L0uHSbZoLZpGVn3kyEE5wB2A9Kg8QQi50h4X0kavFIwEtrvVWZfVdxAyDgjJHrnIrTopJJKyG227s4iw0HVJbnSje2s5sbTVpLiGC+mSaW2g+yuq7m3HcfNORyxAK88cQSaNrcFgNPisJfsslxqJP2Ywb1WS4ZogTISFjZGJO35ug46V31FMRxOneGNQKZuYhb3J8N2+npcllZopwJN4BBJ4JU5HB7GrnhLSLmzmWa+g1CCeG0S1xcG28rAOcJ5IBIBHBYDhumc11VFABRRRQAUUUUAFFFFABRRRQAUUUUAVzqFoLz7IZ0+0f88889M/yqxWa2h2za1/aZeXzsg7cjbwu30z0960j7UlfqU7dDCg8TJL4mvNMe3Kw28bGO4UlvNdAhkUKB2EqdMkndxxVKy8f6deLpRW3u1/tF3QD7NKdm0Z/ucjpyOBn2NQ2Xg26szpmoLds2qQ3bXN2GuJDA3m7vOCKeBw528D7oziix8P61YW+iqI7GR9JnlUD7S4E0Lqy7s+X8rDI+XkdeaYjVfxPYTyLHp13E7LdpbSmSOTaGL7CgYLjfkHjPoTwc1X0HxdaakwtryVYr1ru5t0RYnCN5crqFDkbS+xAxXOepxio4vDV3HolpZmSDzIdYe/chjgobl5cdPvbWA9M9+9V7Lw5q6vZ2d39iWxtNTn1ATRTO0km6SR0TaUAXBkGTuPTGOc0CN5de017e3mjuN6XUbyQbI2JkVBlsADPA7dT2qho/iqDXINKubbEEd9G7tFPG6vkKrfISoBA3cnoe2aoaJ4c1ixvNIS8NkLXSVnjR4pXaSZX+6xBUBSABkZP1pmm+FNRXT9HstQa2jj021ns2eCVmaRGjVFcAqNp4ORk49TQBtQeLNFuYriWK9Bjt4GuXdonUNEvWRCR86j+8uR09asabr2m6vPNDp9z5skKq7AxsuVbO1l3AblODhhkHHWuYm8K61qGli0vTYQm00i40+2eGRyJmkRUDuCo2KAo+UbuT14GegtdJng8SHUGaMxHT47XAJ3bldmJ6dMNQBr0UUUAFFFFACO6xxs7naqjJJ7CobW9tr1Wa1mWUKcEqelSTRLPBJE+QsilTjrgjFU9L0iDSI5EtnkYSEE+YQf5AVOt/IrS3mGt6qujaU92YmnfekUUKnBlkdgiLntlmAz261mx+I7iwvJrbxPbW9lstJL1JreZpY2jjx5mcopBXcp6HIPHpV/X9LfV9JNvbyrDcRyx3EEjDKrJG4dcjuMqAfYmuVmt77xVqWpWetW/wDZl2mnXNhbRIkksbCUKGm80oqkHaoCjkc554FEnXXGs6faNMtzdJGYIFuJNwPyxsSAfxKkY61WbxVoyWYuZbtokM/2fbJDIkgl2lwhQruDFRkDHORjORWBd+Fta1lbuXUmsrWaS1tYoktp5GAeCYy8vtUgMcDI5H1FW7fwzcGWwuHt4baaHUlupw2oTXZkVYHjHzyKDnLjjgYHXtQBtx67p0luZ1uMILhbYho2VhKxACFSMg/MO3Q56VBqur3UGpW2maTax3N7PG8x8+UxxxRqQCzEAkklgAAOeemKx1s0vviRI1pKslnbql1dovIS7CtEgJ6ZMbZI7eWh7itTVdO1Aa1baxowt5biKB7aW3uZDGssbEMCHCsVYFfQggnp1oAkuPEFtpdvB/bpW1upEZ2hgDz7Qv3myq52DI+YgAZ5qzJrenRLcFrtNtvareSsuSFhO7D5HUHY3T0rIn07X01JNWto9NlvJrP7LPDJM6xx4csrK2wlsbiCCFzgHjpWXP4O1W0057DSJbSaKfQo9JklupGQoYxIA4VVO4HzDxkYwOtAHQ3HivRbS7+zT3oWUNGrARuRHvxsLEDCg5GCcDPFO03xFbanrWpaZFHMsunyiNmaFwrfKrEhiAP48YzyBkcc1lXnha9uLHW4Ultw2oLbiIlmwpjVQd3HqOMZrT07T72y8SavOywNZX8iTq4kPmI6xJGVKbcYwmc7u+Md6ANiiiigAooooAKKKKACiiigAooooArtqFol2LVp0E5xiMnmrFZsuh20usLqTPKJlIIUEbeBj0z+taVSr9SnboYkPiMS+LptG+z4iSMhbnf96ZQjNHjH9yRDnP8Ae9KoWXiy+mezmu9Oto7K9vpLKJ4rotKGVnUEoUAwfLOcNxnvUMHg26g+x6iLsnV49QN5MDcyGA72IkVVxj/VsVB29hnFN0nwSdI1Gw1O3ishfx3Fz9rcL/rYZZGYENtzvX5Pw3DODmqET6R4svrxdJlv9Nt4bfV94t2gujI6sqM+HUoMDah5BPOB3q5a+JWuND8O6gbUKdZMIKb/APVb4mk645xtx2pvhXwnZ6BpdqstpanUY4fLluYxknPXDEZwfwqlpfh7V4E0TTr37GNP0Rw0U8UrNLcBY2jjDIVATAbJ+ZskcdaBHXUUUUAFFFFABRRRQAUUUUAFNllSGJpJWCooyzHsKdUV1bpd2stvIWCSKVJXrg0AhLa7gvIzJayrKgO0lT3qj4g1WfSNPiltLeO4mmuobZElkKLmRwmSQCcDOelWNL0uHSbZoLZpGVn3kyEE5wB2A9KqeJdGOu6bBafuyi3kE0qyEgMiSBmHHcgHFJXtqN2voVrfxVHC13BrkSWl1azpCUtme4ExdN6hAEDMcZyu3IxnpzVqTxRpEdtaz/amlS6DGEQwvKzBThyVVSQFJAJIGDwcVTvPDn2KTTrnw3aWcUljNJIbZyYkmDoVYllUkN0OcHpjvkZtz4W1UaSotktDqbzXFz9qS7kgNpJK+75CEO9RxlWwGwCR2piN7SfEVrq+palZQRzI9hP5LM8Lqr/IjEglQOr4xnPGehFa1YmiabqGm6pqhuTBNbXky3Kzq5Em/wAqONlKbcAZjJyG7gYrboAKKKKACiiigAooooAKKKKACiiigAoqi2sWi6r/AGcWb7RkDG3jpnr9KvUk09htNbhRWDY61qmqzNPp2nWx0wTPCs01yyySbGKlwgQjbuBAyckc+xr2Ou65NqmoW13p2nxx6cB5zxXjsW3R7xtBjGewOSKYjpqK5nRfE99fT6UmpWFtbrq1obm3a3ujKVAVWIdSi44Ycgnnj0rpqACiiigAooooAKKKKACiiigAopssiwwvK/3UUsfoKq6fqltqkbvaMzBDg7lxSur2HZ2uXKKzfEOr/wBhaDcaiYhL5O0bWfYo3MFyzYO1RnJODgAmooNZktdKN3rwtYAXCxNZytcLNuxt2gIGJJOMAHpTEa9FZE3inSLewjvJLmTyJA53JbyMUCHD7wFJTaeDuxjvUkviPSYb42b3i+csfmsArEJHtLb2YDCrgHkkCgDTormtQ8ZWkNnZ3dk5NvLex28rz28ifIyscoCAWzgYIyDnjNbWm6naatZ/abCUyRb2Q7kZGVlOCrKwBBB7EUAW6K5rQfFv/CQPaJaWy7jbi4vj5uVtQwOxOnzM2M44wBk9Rm7D4r0WdS0d78oKAM0Tqrh3CKykjDKWIG4ZXnrQBsUVR/tmw/tP+z/tA+1b9nl7T97ZvxnGM7ecelQJ4m0aSyiu01CL7PNDJOkpyFMcZAdunABYDn1oA1aKyV8U6O1hPePeeTDbuiTGeJ4miLkBdysAQCSMEjHes3xB43sdM0O7uLKRpLyO1aeKKS2lwOoXzBgbASCBuK57UAdRRWX4g1WfSNPiltLeO4mmuobZElkKLmRwmSQCcDOelVLTxQEN9DrNuLe4spkidbMvdLIXTeu3agYnGcjbx9KAN+isiXxVo0NtaztebkvI2ktxHE7tKFwGwqgsSNwyMZHPHBqt/wAJVa/2kWNxCdKOmpepcAEltzlRj1yMYGM5P4UAdBRQDlQR39RiigAooooAKKoyaxaRamtg7N57EADbxyM9avUk09htNbhRWJD4jEvi6bRvs+IkjIW53/emUIzR4x/ckQ5z/e9KoWXiy+mezmu9Oto7K9vpLKJ4rotKGVnUEoUAwfLOcNxnvTEdVRXK6P4svr3+yJL/AE63gt9X3C3eC6Mjqyoz4dSgwNqHkE84Heo9L8YX1zZ6ZdahplvDFqto1zbGC6MjKRH5m1wUXHHcE88d6AOuorEi8QtJZeHZ/swH9tOild/+q3W7zenP3Mduua26ACiiigAooooAKKKKACiio7idLa3knlJCRqWYgZ4FAElFVdP1G31O3aa0ZmRW2nK45wD/AFpmsaiNJ0e6vmTzDDGWSMHBkboqj3JwPxpJp6obTTsy7RWLb+J7P+wbbUNRP2Z5nMDQRq0reepKvGqqNzEFW6DoCaq6Z4vtJtH+3ahIE829ube3SCGR3kWOV1BCAFidqgnjj2piOkorIuPFOjW0VrI955gu4jNbiCJ5WlQYyQEBJxuGfSq3/CYafLqn2G0ZpN9kLyK5ETtEynJGWC4xgZzn268UAdBRWI3inTLOztH1G8jWSe2W4Ywxu6KhH+sJA+RM/wAT4FS3finRrK+Npc3oWZWRXAjdhGXxsLMBhQcjBJAoA1qKp6nq9jo8MUuoziFJpPKj+UsXfaWCgAEkkKcDv0HJFVx4k0w3yWZmlWaT7ge2kUMdu/aGK4LbQTtzu4PFAGpRXPaf400u+0hL9/tEIkmaFIjbSs7sC33VC5bhSTgHHOelblrdQX1pFdWkqywSqHR16MDQBLRRRQAUUUUAUzpVk2o/bzD/AKTnO/cfTHTOOlXKKKVkthtt7nO6Vp2taM40+2Wxl0wXDyJcSSuJY42cuY/LC4JG4gNuHGMjjmzBpFxFqWu3DPHs1ER+UATldsWw7uPX0zWzRTEcl4Z8G/8ACNXljPZw2ce7To7XUBGuC0qAYkQ7ecktuzjPynqK62iigAooooAKKKKACiiigAooooAbJGssTRyDKOpVh6g1XsdNtdOR1sovLVzlhuJz+Zq1RSsr3Hd2sVdRF41i405bd7jjCXORG4zyCRkjIzzg49DXHDwVfNbtNFHa2LJfreQabaXkscKYiaNwJUVWQtvLfKuMgcHJru6KYjib3wrqs1ilraxwxW80U4ntzqlwQszniQvt3S8ZyrYGT361YTwdcyaXq1nczwp9v0y3s1kTLbWjjZSSCBkZYfUZ6V11FAHPTWGtaqmnnUYbC2ezvo5yILh5A6qrBiMouDkjA/Wrui6ZNprakZmjYXV9JcJsJ4VgvB468GtSigDitJ8CyaRpunxWZt4ZjbyWupmNiBcI+TuBxkurHIyBwWHHFRw+G4dM0C6XxL5MEMVgbP7f/aU83yttGVjk4jJKoQFJOQAPfuaKAOGTw5q+qeB4JTJHba/cXH255JMqI3dTGQcAkERNtx6qOlPfwLcbtWihngjtmRBpicnyT5gmkDjHRpFXoTxXbUUAcjd+G9V1Zr67vxZ29zdGyjWCKZpI1jgn80ksUBLHcwA24GBzyabr/hzWLs69Bpn2F4NagVWkuJXRoHCbMABDuBAHcYOetdhRQBkeJdFOvabBaFYXjW8gmlSYZV40kDMuMHOQCMViL4V1PTLNtP0X7MmnDUGuFgS4e1d4nU5jaRFJG2QggjqoCnGOeyooA5TQPC97pU2jtPJbkWMd8sgjdjnzpldNuRk4C4Oe/r1rMj8AX4j0+Q3kUdzptgkdvsdvL+0JKXUsuBuTBx+J4yAR31FADYy5jUyhVfA3BTkA98HAz+VOoooAKKKKAKb6VZSagL14c3CkEPuPbjpnFXKKKVkth3b3OPg8G3UH2PURdk6vHqBvJgbmQwHexEiquMf6tioO3sM4puk+CTpGo2Gp28VkL+O4uftbhf8AWwyyMwIbbnevyfhuGcHNdlRTEc74V8J2nh/SrUSWtqdSjh8uW5jGSc9cMRnB49KTwv4PstC8P2dtLaW329LJLa4uIhkudoDYYjOCRnt24ro6KAOU0rQdZjfQ7XU/sQtNDH7qaGVmkuWETQqWQqAnyuxPLc+1dXRRQAUUUUAFFFFABRRRQAUyaGO4geGZd0cilWGcZFPooAr2VhbadCYrOPy0ZtxG4nnp3+lUPEOjy65FZWnm+VaLdLNclJGR2VAWQKR0PmBDnI4Wteila2w7t6nGp4U1PS9UW60mSG6it717mCG8uX3MJYtkoL7WIO4bgcHO5hxS2fhzWtNktNQhFjcX0U180lu0zpEUuZhL8r7CQVKqPu8jNdjRTEcHb6dqmh+IdGtrGO1vLtdNv3l82Voo90lxC7bSFY4DNgDHQVbsfCuo6X9njt3triNtLayuHd2jKPuZ9yqFOVJcjBIwMda7GigDjR4Z1mytWi0/7DM13pUGn3BnkdRC0asu9cKd4+c/KdvQc8nEk3hC6Gl6xZW80LLdx20cDSMcjykVSW44Py9s111FAGXrGmS6jd6RJEYwtjfC5kDk8r5UiccdcuPTvWHN4b1m78TQXt3LDJDbaj9pjkN3LkRbGURiHbsUjd97JJ/GuwooA4ceE9WW3sQRA7abPcCIRahNb/aIpWLZLIoKMPl4+YHnpxXWaRZLp2kwWqQrBsUkxrM0oViST87fM3JPJq5RQAUUUUAFFFFAFFtYtF1X+zizfaMgY28dM9fpV6qZ0qybUft5h/0nOd+4+mOmcdKuUlfqU7dDltH12+vvEF1bXt9ZWrQTSq2mSW7JMIlJCSq5fDhgFYkLjDY6jmxD400+WEzvb3kMDW0l3bSyxgLdRIMsU5z0IIDBSQcjikn8N32oanay6vqUF1aWczzQotn5cx3Ky7WkDY24Y9FXOBn3rweDJmt4LPUtTFzZ2VnJaWiR2/luqumzc7biGYJwMBRyTj0ZJo3niiwsYZpZxNtg0/8AtByFB/dfn146VH/wlMbTxwRaXqMtw8fnNAsaB44txCyMCwwCQcD73B+Xg1mv4LvbvT7yDUdYjlkudKOmK8VnsVF7PguSTzyMgemK1b7Rr064dU0i/htZZrdba4Se2MyuqMzKRh1ww3v6g56cUAOj8S2suprarBc+U1w1ql4UHktMoO5Ac7sjawzjGQRnPFbFc1p/g+HTtekvYU014pLmS5zJp4NyjuSxAm3dNzEj5cgcZrpaACiiigAooooAKKKKACiiigAooooAKKKKACiiigAooooAKKKKACiiigAooooAKKKKACiiigAooooAoyaxaRamtg7N57EADbxyM9avVTfSrKTUBevDm4Ugh9x7cdM4q5Uq/Up26HOQeIbiXxpJp7JGNOJe3ikwdzXCIkjDOcEbXYdODG1ZGk+ML671CzjbUNMu3uL+a2k06CIieCNHkUSE7zwAgJyoHzdemdGHwNZwRWs8bxjVobwXb6gIPmlYuWkBGejKzL14BHXFT2PhQae+nzW15tubSe4Z5BF/r4ppGdoiM9iVIOeqZxyRVCMnw74t1DUJtHFxe6beHUlcy21tEVltAqM25jvbK5ULyByw+lT6F4h1l7Hw9e6w1nPba4iAfZ4Gia3kaIyAHLsGU7SM8EHHXtveH9Ei0HQ7bT4ykjQxhGmWMIZPcjn+dYuneDtQtdO060u9ajmXSbfy7HybMxhJBGY1lcF23kAngFRyfbAILXxXdzya0XSFYo7aW500hT+8SJnjfdzz8yq3GOJBWgNauS3hsbY/+Jpnz/lPH7hpPl545UevFVLbwHpdidOOnxx27W0TW9wyx/NdxNHtZWOepba2eeV96m0rw3e2l1p7alqkd5BpcTR2aJbeW3K7N0jbiGYLkcBRyTj0AOiooooAKKKKACiiigAooooAKKKKACiiigAooooAKKKKACiiigAooooAKKKKACiiigAorLbXYl17+y/JfzMgb8jHK7q1KSaew2mtworhH8c30fh3X5mig/tCzvJYbNNp2vGJXjR2GcnHlSE47Ia3D4rt4FjE1vcS7Ionu54UHl2xkAxuyc98/KDgYJwKYjforldU8VO19a2+lw3Ii/tSOzmvPLUwsd2HjGTuyORnGMgjOav6Vr8Nwba3kllnmuprtY3MQQAQylGBAJ6cAHvjPFAG3RXOS+NrFbeGWCzv7oy2z3QSGJSVjRtrE5YAY9M5PbJ4q3pXiW01e9NtBBdRFrdbmF549qzxE43rznGccMAeRxQBsUUUUAFFFFABRRRQAyaaK3jMk8iRIOrOwA/M0kNxDcpvt5o5VzjKMGH6Vh+MwW0WACFZyb2ACJiAJP3g+U59elc8L6bTZ9Z1S10630ya0hjtWsoyDud3G2VgAAQAePXmspVOWVjaNLmjdHoNFefave6vLoeq2l2100H2TzRNc2qRMCGAKYU4wQeD1GKu32sayNRu7O0luCdPijG6G0R1mcpuJfJ+UduPfml7Vdh+xfc7SmySJDGXldURerMcAfjXIS6rrl4dRlt7pLFbKyiuTA0Acl2jLFCT24IqhcXV0Zdd1EyRsHsLSTyXhVl+bJA5645/P2odVdgVF9WegUVyN7q+rGDV9UtryKGDTJ2iW0aIEShMZLN1BOeMe1Q3es6yLfVtSgvI47fTp1C2zQAmRdqEhm6j73am6qQlSb6naUUUVqYhRRRQAUUUUAFFFFABRRRQAUUUUAFFFFABRWXLrsUOtrpphcyMQN4IxyM1qUk09htNbhRXOQeIbiXxpJp7JGNOJe3ikwdzXCIkjDOcEbXYdODG1Q6Brl/qWs3MF7e2cEsLyCTSmt2SeJAxCOHLfOCADuC4546csR1NFcR4W8WahqkmiC6vdOvjqdoZ5oLSIpJZnYGy3ztlcnbyAckfSu3oAKKKKACiiigAooooAKKKKACiiigAooooAKKKKACiiigAooooAKKKKACiiigAooooAKKKKAITaWxuPtBt4jN/z02Dd0x169KmoooA5dvA1rJC/mXLm4xehJAuFH2iSRgSueSglcDkfeb14ZJ4Ih/tcXqLps/mJCs4vdPE7ZjULujbcNmVAGDkZAPrnq6KAOX/AOETu1ukjj1SNdOj1I6ikBtcyBy5kZN+/G3czEfLkZ6nHLl8KXVqtjJp2pRx3Npc3coeW2LqyXEjOy7Q4ORuGDn+HpziumooA5rTvCH2CKFDfmXytPlstxhwW3vu38HtjGP5Vc03w/8A2fe2Fx9p8z7HposNvl434Knf14+709+tbNFABRRRQAUUUUAFFFFAEN1ZwXsaJcx+YqSLIoyRhlOQePeobjSbG7uHnubZZJJITA5JPzITnaR0NXKKVkxptbGXb+G9KtoLiKO13Lcp5cvmyM5Zf7uWJIHsKbceGNIuvL861J8uMRDErjcg6K2D8w+ua1qKXJHaw+eV73Kn9l2QNziBR9qjEUwBIDKAQB7cEjioJfD2lzZ8y0B3QLbnDsMxqQQDzzjA561pUUcq7BzS7mZc+HNKvL43dxaB5WKs/wA7BXI6FlBwxHuKmk0ixlt7uCSANHePvnXcfnOAM9eOAOlXaKOWPYOaXcKKKKokKKKKACiiigAooooAKKKKACiiigAooooAha0tmuBO1vEZh0kKDcPx61NRRQBy0PgazgitZ43jGrQ3gu31AQfNKxctICM9GVmXrwCOuKsDw/qFxrNjd6rqcF1Hp8jy2+yz8uUlkZMO+4gjDHhVXJA9K6GigDN8PaLF4f0Cy02IpI1rbxwtMsYQylVA3Ec9ceprSoooAKKKKACiiigAooooAKKKKACiiigAooooAKKKKACiiigAooooAKKKKACiiigAooooAKKKKAMttdiXXv7L8l/MyBvyMcrurUqE2lsbj7QbeIzf89Ng3dMdevSpqSv1KduhzWgf2jrarrU2q3EMb3EojsY0j8oRI7IFbK7ix25JyME4HHWJ/Gywatd2M9vbs8FtPcILe8ErfusZSRQv7tiCCOT3zitCDw2lpftNZ6lfW9q85uGsY3TyjITuY527wC2SVDAEk8cnNODwPZwosbahfSwxwT28MTtGBEk33gMICT6FiT9aZJVk8aajHHOf+Ef+aOxGoqDeLzBzkH5eJOPujI5+8KsX3jCeBr6Sy0o3Vrp9rHeXEpuAjeW6lvkXB3MApOCQPetF/Ddm4kzJP+80/wDs44Yf6vnnp97nr09qyG8HyXWralFPeXcGlz2tvbGOJ4/9JRFYMrZUsOCBlduQT+ABav8AxdHYa3Z2bx2zw3csUaMLsed+84VvJxnZkgZJH0NU08VyW2nxiztWuppHv5D9suxGAlvOUb59p55G1ccDqeMnQl8IWsuoyXIvbyOKS7hvWtUKCPzY9gU527sYjUbd2OuMVka34VkSewis4Ly5tIWupiYltpHWWaUScrONm0HdggbhwM4JyAWrnxnew27yQ6KJmh0xNTmH2raFjYv8oymS2E4GADzkjHPVQyrPbxzR/ckUMufQjNYVn4fmvNPlm16VjqF9py2N15JUKFBc5HH3v3hyenHArct4VtraKBCSsaBAT1wBigCSiiigAooooAKKjuWdLWV4RukVCUGM5OOOKzdBu9Qu4Zm1OFomVgEDRlMjHvU82tiuXS5rUVieLrue00D/AEWZrdri6t7Zp16wpJMiMw9CAxwexwazde0i20jSLYWcl0Vk1bT8rPdSTYIuo+RvY4znnHWqJOtorlE8UXX/AAlcFgnkXVpcyzwI0VvKnlvGrNgysdjn5GBCj5T3NV7fxNrcuiXEhhgOpwtF59mtlLvs1YncTHuzMBg4KEBsHHSgDs6K4qXxSttJNqKrb37x6SJVmgLxrI3nMgXBJ2jd1yCRz6YrqdNXUlgYavLayy7sqbWJkUDHQhmbnOee/oKALlFeXeH9SmjuNNlVdVjnQXN3eTXN4XhurdC6lUjLtlgxj/hUjHoeb194r1y78I6ncQx/Z2bS3u4rhbGeIW5AH7ve+A7YbKuuB8pO3GKBnodFcbqHinV7HUJ7KKBbuexijknWDT7iT7SzZOxCuRH8oHLE5J6ADNSSeJdWTUJXEVn9gh1ePTWXDGVw5QBwc4GC44wcjPSgR11FcLbahqZt5H1WS3vE/wCEhW2hVUdDHibbnO/kDjA6euav2XibUZ5dPvZ4rb+zdSvHtIYkVvOixv2uzZw2fLOVAG3PU4NAHV0VyOh+JdWvrrSHv4rNbXVUm2JCG3xNHyCWJwQQDxgY45NddQAUUUUAFFFFABRRRQBly67FDra6aYXMjEDeCMcjNalQtaWzXAna3iMw6SFBuH49amqVfqU7dDntKa81vTb9JdRuLZ4tTuIkltwgYIkhCr8ykYx7ZrG0S+1WDw74b1q81a6vI794VvUmWMKvmoVUrtQEfvGj6k9a6Gw8PNpuoSz22sX4gmuJLh7NlgMRZySefL34yc/epy+G7NfCSeHhLOLWO3WBJdw81duNrA4xuBAOcYyOlUSHh28uNRtbu9nkLwzXkotVwBsiQ+WMeu4oX5/vVr1X0+xh0zTbaxtQRDbRLFHuOThRgZ9+KsUAFFFFABRRRQAUUUUAFFFFABRRRQAUUUUAFFFFABRRRQAUUUUAFFFFABRRRQAUUUUAFFFFABRWK+uyL4m/svyF2ZA8zdzyu7pW1SUk9inFrcKK880zxBf3GuR28GqX9xevq1zFJZSWqi3FrHcOjMJPLH3V2chz8xAI5qz/AGnq/wDwi/8Awlv9py48zzf7O8tPJ8jzNuz7u/ft53bvvdscUyTuqK41fFRPxE+xf2hD9jMh08Wm5d/nCMS+b/ex96P0yKk0u/vI/FD2+vajfWt1LcTC3tXij+yXEQLFBG4XO4JgkFt2Q3GOgB11FFFABRRRQAUUUUAFFFFABRRRQBDd2lvf2ctrewpNBMpSSNxkMDWYnhXSktZIClzIsjxOXmvJZHBjbfHh2YsoVhkAGthmCKSxCgdSTQrBlBUgg9CDQBkQ+FNIgvVuo7eXzElkljBuZCkbSBg5VC21c72zgdTn0pI/CulxpKE+2b5dgMxv5zKAmdqhy+4KNzcA45NbNFAGTD4Y0eGB4VslaOS3a2dZHZ98bMWYNknJLMxJPJJ61a03S7fSoWitWuGVjkm4uZJj0wAC7Ege1XKa8iRjLsqj3OKAKEegaZFFZxx2u1bGRpLf52yhYMG5zkg7jkHI/IVDB4X0q3sbiySGZrS4hMD20lzI8axkYKqpYhBz/DjH4Vr0UAZH/CMaaJIZR9sEsSCPzRfTB5FBJAdg+XAJON2cZI6GrDaHpzLIrW+RJdret87czKVIbr6ovHTjpV+igDLHhvTBdSz+TJuluUumXz5NglU5DhN20HIGcDnvmkt/DWlWup/b4bdxMHeRFMzmON3zuZYydqscnJAB5Pqa01ljd3RHVmjOHUHJU4zg+nBBp1AFC30PTrVbIQW+wWG/7N87HZuGG6nnOe+av0UUAFFFFABRRRQAUUUUAFFFFABRRRQAUUUUAFFFFABRRRQAUUUUAFFFFABRRRQAUUUUAFFFFABRRRQAUUUUAFFFFABRRRQAUUUUAFFFFABRRRQBjR+GLKJbby5bhZLa+lvo5Qy7g0ruzp0+4d5GPTHORmoP+EPtPO2fbbz+zvtH2n+zdyeR5m7f/d37d3zbd23PbHFdBRQBi/8ACK2H9lrZbpcrdC7FzlfN83zfN3bsY5bjp0OKRfDSnUoLm61S/u4baYzwWs7oUjcgjOQodsBjgMxx+Axt0UAFFFFABRRRQAUUUUAFFFFAEdyzpayvCN0ioSgxnJxxxWboN3qF3DM2pwtEysAgaMpkY961qKm2tyr6WOb8frv8F3SCJJt01uPLkOFf9/HweDwfoawNNmOnTay0UCaJcS3UFimm6YqSHzAGbzF3qqZkVh8xAGEGeRgd/Pbw3UJiuYo5oyQSkihgSDkHB9CAfwqvd6Ppt/5n27T7W580KJDLCrbwpJUHI5wSSPTJqiTkNP1zWtSh0uzN8baaa/vLSefyo3kKxByp4ygf5QCQCM54qvJ4g1650yyhhu7gXbQXoElnaJK800M3lJuUqQqHqTgDJ6rXcwaXYWoiFtY20IhYtEI4VXYSMEjA4JHBxWLrXhCDU7y3lhj04RQxyILe7sfOjVnbczqAy7WJ6nnPt3BmXLqviRtXuLKzW6mm05Lfcqi2CTl1DOZCxVgOqjYBgqTz0FrxtA1zqfh2NNOttSJu5SLW6YLG+LeQ8kq31HHX0rXtPDGlwWWnw3VrDfzWESxxXN1EryDb0O4jI55rTkt4ZZYpZYo3khJaJ2UEoSCCQe3BI47GgR51pOoX9vpekWWlLNAmpvd3RhsFhLWmx1/0ZfPIUbSzZ4z8jYAHIsLfa3Y6rqeq300n2u08PRXT6eojMckg8/jIBOMqG4bPzYyRgV2dxoul3du8F1ptpNE8pmZJIFZWkPVyCPve/WnDSNNFxbTiwtRLaIY7eQQruhTGNqnHyjHGBQByEmr+JLXRZ7hpJtkhs/IubuO3b5pJ1RwqwsQUKsMZ56/Meoh1SbVZJ5NNm1mcm01u0jS5WKJXZJFRsMNu3hiccc8A5rsbfQdHtI5EtdKsoUlZXkWO3RQ7KdykgDkg8j0PNS3OlafeRTxXdjbTpclTOskSsJSuNpbI5xgYz0wKAOVuNVvodbvNPt50tjcavBZm8EKbkU2ayFjxgsWXaCwIG4ccAU2LWNYur+20lNS2EalcWb3qwIWlRIRICBjaGBO0nGMqeO1dXJpGmzW01vLp9q8E+3zY2hUrJtAA3DHOAoAz0AHpT4NMsbWO3jtrK3hS1z5CxxKoiyMHbgcZBPT1oAoeFb661Hw7DNfyCW4WWaF5AoXeY5Xj3YHAztzx61sVHBbw20Xl20SQx7i2yNQoySSTgdySSfc1JQAUUUUAFFFFABRRRQAUUUUAFFFFABRRRQAUUUUAFFFFABRRRQAUUUUAFFFFABRRRQAUUUUAFFFFABRRRQAUUUUAFFFFABRRRQAUUUUAYr67Ivib+y/IXZkDzN3PK7ulbVFFJJrdlNp7I88sPEGpf2tC8l/qBSTWri0kWe2QWixCeREUSBAQ3CKPmOWODXQWnit7m6tHfT/L02+uXtrW687LM67sFkx8qtsbByT0yBmnReD4I5SJNSv5rP7a18LJzEIhKZTLnKoHIDnIBYjgdaktfClra30Mwu7uS2tp3uLeydl8qGR92WGF3H77YBYgZ4HTDJIrXxcl1Y6TcizZRqWnSXwXzM+WEVDt6c58zr7VUi8cmO3NxqelvaxSad/aFuEmEjyplV2EYAVsumOSOeoq1YeCrSwMIF/fTR21tLa20UjpthikxlRhRnG0YJyeO9Ty+EdOuLaCCczvHDpzacAXAzGSh3ZAzuBjXBGPpQBW1DxTc6Pa241ezsrO7u5jHAkuoBYdoXcWeQoNuOmAp5Ixkc1Fq3iR7r4cXOt6bI1tJtIDxkSbGWTY204IYZBwcc8Grz+GnlhhM+tahLd28vmQXjeSJIvl2lcCMKQQecqfXsMW7zR01HQ30y+uriZZFAec7RI2CDnhQvbsKAOe0fXbndq81vdz6lp1okYWfU1W0KTZbzELFF+VV2Ekrxk4z0EcfjPUNTuNKXSrS0fzNRltLoC73RtsgaQbH2cqRtbOAeMY5zW1qHhW0v5ryVbi5tnu3glfySu0SwsGSQBlI3fKoOcghRxxUQ8HwJiSPUr5boXxvhdZjL+YYvKYYKbdpXPGOM8Y4oAr2Pji0v8AXo7CIWxjmuJbaMrdq02+MNktDjKodjAHJPTIGa6msqw0MabevJaahdravI8v2E+WYlZySxB27wNxJxuxk+nFatABRRRQAUVHciQ2sog/1uw7P97HFZugpqiQzf2wWL7hs3Mp4x7VN9bFW0uarMEUliFA6kmhWDKCpBB6EGuc8frv8F3SCJJt01uPLkOFf9/HweDwfoa5yxnudPvr8WdvaaDJdajb6dJbWwDpbcO3njKqpaQMqg7ccLnJBFUSehyTwxSRRyyojzMViVmALkAsQB3OATx2BpsN5bXAjNvcQyiRS6bHDblBwSMdQCQK4tL66uPE2lWl5P8Aazp+uzW6XW0KZR9gkfkKANwLlTgAfL0HSs6x1W503w3aPaeWskPh3UbpHMSsyyRyR7eSM4+Y5HQ8Z6UAel0VxF3rOtaUuqo9+t266XFexM0Cr5Ts7KwUD7wwAVDEnPGTmtnww2pyG/k1G6vLi384LZm8t0hcoEXLFVRSPnLDkdFHHcgG4siMxVXUkdQD0p1eW6Xa7tcs86ZZWhl16+kTVlb99KY7iUmAjaMblDDliCqnvgVcg1bxFrHhW5v5PtUNteaXPM7MLcLbuFyqxbWLn+JTvGc8/KeKAPRqK8/Opa/H9m0vS57y5lh0mK8SZEtv3zuWAV95X5F2gHYN3zckcZsX+s65HcardLeiCPTb60iFmIUYOsiwmRWfGf8Alo2CMYPcjgAHbSSxwpvmdY1yBuY4GScAfiTinV5/JJeWi+Jbh75rkLrtrCsE8UbIoY2vONuchWwPoD15q4uu6mZ01A3oMba02mf2b5a4CCUx7t2N2/A8zrjb270AdpRXFadrGsPeaVd3OoCW3vtWvLBrUQIqqkZuNjbsbtw8kd8EHpnmu1oAKKKKACiiigAooooAKKKKACiiigAooooAKKKKACiiigAooooAKKKKACiiigAooooAKKKKACiiigAooooAKKKKACiiigAooooAKKKKACiiigAooooAKKKKACiiigAooooAKKKKACiiigAooooAjnt4bqExXMUc0ZIJSRQwJByDg+hAP4VDcaZYXfn/AGqyt5vtCLHN5kSt5igkhWyOQCTgHpk0+8vbbTrR7q/njt7ePG+WVgqrk4GSfcimWOp2Gp2xuNOvbe6hUkGSGUOoI6gkdDQA2LSNOht7e3hsLaOG1k8yCNIlCxPz8yjHB5PI9TQuj6akRjXT7UIUkjK+SuCkh3SL06MeSOhPWli1SwntLe6hvIHt7pgsEqyArKT0Cnv0NTrcQvcyW6So00Sq0kYPzKGzgke+D+RoAz9a0ODVtMuLZBFBLPEsRlMIbKBt2xhxlDyCuRwT0qt4d8NJoU93OptkNysamCztzBCm3dyE3N8x3cnPIC8cVqtexrqSWOGMrwtNkDhVBUc+5LcfQ+lCahaSm5Ed1CxtG23GHH7o43Yb04IPNAB/Z9l5Sx/Y4NizeeF8pcCTdu34x97cSc9cnNRQ6NplteTXdvp1rFczgiWZIFDyA9ckDJz3px1XTxaW10b2AW92yLby+YNspf7oU9ye2OtTJcwyXMtukqNNEFaSMN8yBs4JHbOD+VAFBvDOhNaw2zaNp7QQEmKI2yFYyeuBjAzVx7CzkEwktIGE7K8oaMHzGXG0t6kbVwT0wPSpLe4hu7WK5tZUmgmQPHIhyrqRkEHuCKkoApvo+mS3kl3Lp9q9xKFEkrQqWfaQVycZOCoI9CB6UDSNNGqHUhp9qL4jBuvJXzMYx97GenFXKKAK62FmixBLSBRDK00YEYGyRt25x6Md7ZPU7j6mrFFFABRRRQAUUUUAFFFFABRRRQAUUUUAFFFFABRRRQAUUUUAFFFFABRRRQAUUUUAFFFFABRRRQAUUUUAFFFFABRRRQAUUUUAFFFFABRRRQAUUUUAFFFFABRRRQAUUUUAFFFFABRRRQAUUUUAR3IkNrKIP9bsOz/exxWboKaokM39sFi+4bNzKeMe1a1FTbW5V9LHO+O5Eh8H3EszrHGk9szOxwFAnjySewrm9a1FNQ1LVJvDTJOmpWkGmi4hbEc87u3KuMglIixLDOBgdsV6NRVEnm7Sy6ZFJZ6jbx2UWl6xBqGyOTzEhtpmbLbsD5RJ5mTjgfSuk8P3dvqfijW9R0+ZLmzaO2gS4iYMjugkLBWHBxvUcd8jtXSUAADAGB6CgDJ0n/StW1TUDyplW0iPqkWc/wDkRpB+Arj/ALDeTeItahtIZJLbWL82V4yjiJFSN9x9MxtMufUoK9ChgitovLgRY03FsKO5JJP4kk/jUlAHlkEF/wCIPDWhaVplvHMbPQ0ndnm8vyZ5U2QuDtOSoWQ49xWvpXirT7fVbrV9YuI7FdS0y1miErbd7p5okjXPV1YgbRzyK7yggHGRnHSgDH8I2s1j4K0S1ukMc0NhBHIhHKsIwCPzrYoooAKKKKACiiigAooooAKKKKACiiigAooooAKKKKACiiigAooooAKKKKACiiigAooooAKKKKACiiigAooooAKKKKACiiigAooooAKKKKACiiigAooooAKKKKACiiigAooooAKKKKACiiigAooooAKKKKACio7mNpbWWOM7XdCqnOMEis3QdOvNOhmW+nWZnYFSrlsDHuKm7vYqytcv3l7badZvdX9xHb28eN8srBVXJwMk+5FR6dq2n6vE8ul3kF2iNtZoXDAH04rI8dhz4PuBEypIZ7bazLuAPnx4JGRn6ZFVdRg1SXXNF0/UdVYrcfaGmNgrWwkVVUqv32Iwe4IPb1qiTrKK880/UtXn1udhe2y6jFc3QksJdRcvJGok8tFtigVRxGwcHJGTk5xVSy1RpVt10jXLy/vLjQbye7jNyzlLkCLb8n/LNgWcbQBj0oA9Oorzm78UXN5bTzeH9QN35eixO7ROWVHMgEjZAPzqhJPBI447U+K4u5rW2jtdaR7O51SCJWsdUa7dFMbb1MrKDg/Kcc4zwRxgA9Dorz030tskdjqOq3UGkxaxcW0149yyuqBN0cbTZ3KCxxuyDwBnmrWo3lxb3MFjpWo3Fxba7BFDZXImMhjZGxK6v6mJt4PrGT3oA7iiiigAooooAKKKKACiiigAooooAKKKKACiiigAooooAKKKKACiiigAooooAKKKKACiiigAooooAKKKKACiiigAooooAKKKKACiiigAooooAKKKKACiiigAooooAKKKKACiiigAooooAKKKKACiiigAooooAKKKKACiiigAwM5xz61Ul02CXWLbUmLie2hlhQAjaRIULZHr+7XH40UUAWwMdOKAAOgxRRQAEAjBGRVFtKik1qPUppppHhjKQwsR5cRP3mAAzuI4ySeM4xk0UUAXqKKKACiiigAooooAKKKKACiiigAooooAKKKKACiiigAooooAKKKKACiiigAooooAKKKKACiiigAooooAKKKKACiiigAooooAKKKKACiiigAooooA/9k=)"
      ],
      "metadata": {
        "id": "kVid5jqMrKnW"
      }
    },
    {
      "cell_type": "markdown",
      "source": [
        "**OMTM을 정의하기 위한 질문**"
      ],
      "metadata": {
        "id": "oFjdPQPrtHZn"
      }
    },
    {
      "cell_type": "markdown",
      "source": [
        "1. 어떤 비즈니스 모델을 가진 서비스인가\n",
        "2. 우리의 서비스 라이프 사이클은 어느 단계인가?\n",
        "3. 현재 가장 신경쓰이는 문제는?\n",
        "4. 우리가 원하는 행동을 하는 사용자와 아닌 사용자의 차이는?\n",
        "5. 4를 구분할 수 있는 이벤트나 속성은 무엇이고 추세가 달라지는 지점은 어디인가?\n"
      ],
      "metadata": {
        "id": "n-BlzA5ntK2m"
      }
    },
    {
      "cell_type": "markdown",
      "source": [
        "**OMTM vs KPI(Key Perfomance Index)**"
      ],
      "metadata": {
        "id": "m3B9XRAMuUMH"
      }
    },
    {
      "cell_type": "markdown",
      "source": [
        "- OMTM은 성장을 목표로하는 지표로 OMTM을 바탕으로 어떤 의사결정을 하고 전사적으로 리소스배분을 어떻게 할 것인지 결정하는 것이다. OMTM은 가변적이다.   \n",
        "(성장, 협력, 하나의 목표, 가변적, 진짜 잘하고 있는지 알려줌)\n",
        "\n",
        "- KPI는 일반적으로 평가를 위해 활용하는 지표로 팀별로 다르게 설정된다. 이는 팀간의 경쟁을 유도하게 된다. KPI는 불변적이다.   \n",
        "(평가, 경쟁, 다른 목표, 불변적, 달성과 서비스의 성공은 별개)"
      ],
      "metadata": {
        "id": "BukhJXhTuwPL"
      }
    },
    {
      "cell_type": "markdown",
      "source": [
        "**OMTM vs OKR(Objectives & Key Results)**\n",
        "- OKR은 구글이 도입한 목표관리체계로 3\\~5개의 목표(Object)와 목표당 3\\~5개정도의 핵심 결과(Key Results)로 구성된다.\n",
        "- Object \n",
        "    - 매우 도전적인 목표\n",
        "    - 주로 정성적인 언어로 표현되며 구성원들의 가슴을 뛰게할 수 있는 크고 담대한 목표로 설정\n",
        "- Key Results \n",
        "    - 목표를 달성하기 위한 구체적인 결과지표\n",
        "    - 객관적으로 측정하고 모니터링 할 수 있는 지표\n",
        "    - 하나의 목표에 연계된 핵심 결과는 3개 이하를 권장한다.\n",
        "- OKR은 도전적인 목표, 전사적인 정렬(alignment), 투명한 공유를 강조한다.\n",
        "- 적당히 달성가능한 수준이 아니라 굉장히 도전적이고 어려운 수준으로 정해야 한다. 이를 통해 눈앞의 일에 매몰되지 않고 멀지않은 미래에 달성하고자 하는 큰 목표를 염두에 두고 목표와 우선순위를 정하게 된다.\n",
        "- 목표가 정해지면 방향성이 일치하도록 정렬하며 모든 구성원의 OKR을 투명하게 공개하여 협업을 장려한다.\n",
        "\n",
        "- 둘의 차이는 OMTM는 핵심지표를 더 강조하는 반면 OKR은 그 지표를 개선하기 위한 구제적인 액션 플랜에 가깝다는 정도"
      ],
      "metadata": {
        "id": "BXKf9ab1wksS"
      }
    },
    {
      "cell_type": "markdown",
      "source": [
        "## 그로스해킹 시작"
      ],
      "metadata": {
        "id": "Dc7irv4izhOC"
      }
    },
    {
      "cell_type": "markdown",
      "source": [
        "**작은 기업그로스해킹 순서**\n",
        "1. 데이터를 활용할 수 있는 업무 환경 만들기\n",
        "2. 데이터파이프라인 구축\n",
        "3. 데이터 활용을 위한 역량과 문화 갖추기\n",
        "4. 성장 실험"
      ],
      "metadata": {
        "id": "PyNm0ypSzkcM"
      }
    },
    {
      "cell_type": "markdown",
      "source": [
        "**회사 데이터 체크리스트(5개 이상이면 환경 재정비)**   \n",
        "\n",
        "    - 우리회사에 어떤 데이터가 있고, 어디에 있는지 모른다.\n",
        "    - 데이터는 있는데 보는 사람이 없다(데이터 정확도를 믿을 수 없다.)\n",
        "    - 데이터 추출을 요청하면 몇일이 걸린다.\n",
        "    - 추출 요청 후 받은 데이터가 원하는 데이터가 아니다.\n",
        "    - 필요한 데이터를 분석가나 개발자에게 요청하지 못한 적이있다.\n",
        "    - 데이터 전담 조직이 없다.\n",
        "    - 우리서비스 첫 페이지에서 사용자들이 어떤 메뉴나 버튼을 클릭하는지 자세히 모른다.\n",
        "    - 우리 서비스 사용자들의 고객생애가치를 관리하는 조직이 없다.\n",
        "    - 매출 외에 전사적으로 모든 구성원들이 알고있는 핵심지표가 없다.\n",
        "    - GA를 사용하는데 사용법을 잘모른다.\n"
      ],
      "metadata": {
        "id": "_-jy-oxYtF8D"
      }
    },
    {
      "cell_type": "markdown",
      "source": [
        "데이터분석가가 엔지니어 없이 사용할 수 있는 ETL 자동화 서비스(StitchData, Fivetran, Supermetrics)"
      ],
      "metadata": {
        "id": "22TKm-RG2Q3_"
      }
    },
    {
      "cell_type": "markdown",
      "source": [
        "**로그데이터**"
      ],
      "metadata": {
        "id": "b0jN6uJl2W40"
      }
    },
    {
      "cell_type": "markdown",
      "source": [
        "- **서비스로그** : 트랜잭션의 결과를 기록하는 로그로 가입하거나 예약하거나 결제하는 것처럼 하나의 트랜잭션(이벤트)가 완료되면 각각에 대한 서비스로그가 남는다.\n",
        "- **행동로그** : 사용자가 서비스에서 하는 하나하나의 액션에 대한 로그를 의미한다.(상품 클릭이나 배너를 스와이프하는 액션 등)"
      ],
      "metadata": {
        "id": "uTIrlUf2v94y"
      }
    },
    {
      "cell_type": "markdown",
      "source": [
        "이벤트와 속성\n",
        "- 행동로그 설계의 핵심은 이벤트의 속성(Property)를 어떤 수준으로 함께 남길 것인가를 정의하는 부분이다.\n",
        "- 속성은 특정 이벤트가 발생했을 때 함께 남길 수 있는 세부정보   \n",
        "        상품클릭이라는 이벤트가 발생했을 때 (Key:value)\n",
        "        - 이벤트속성 :{카테고리 : 애완동물. 상품명: 사료, 가격 : 5000, 섹션 : 할인이벤트}\n",
        "        - 사용자속성 :{가입일 : 21-05-01, 누적구매 : 13, 성별:남성, 쿠폰보유:N}\n",
        "\n",
        "- 이벤트 스키마 설계서 : 이벤트를 어떤 기준으로 쌓아서 볼 것인지 정의하는 문서\n",
        "        - 어떤 화면의 어떤 이벤트를 기록할지\n",
        "        - 그 이벤트가 발생하는 정확한 조건이 무엇인지\n",
        "        - 이벤트와 함께 기록해야하는 속성에 어떤 것들이 있는지\n",
        "        - 각 속성의 데이터 타입은 어떻게 할지\n",
        "        - 해당 이벤트가 처음 시기록되는 시점"
      ],
      "metadata": {
        "id": "FWbg5iPV2Y0o"
      }
    },
    {
      "cell_type": "markdown",
      "source": [
        "**A/B Test 용어**"
      ],
      "metadata": {
        "id": "AmLX7mI7_npm"
      }
    },
    {
      "cell_type": "markdown",
      "source": [
        "가설수립\n",
        "- A/B테스트의 출발점으로 실험을 통해 무엇을 확인하고 싶은지 명확히 해야한다.\n",
        "- 독립변수를 정의하고 종속변수의 목표수준을 정한다.   \n",
        "(`A가 B보다 전환률이 10% 높을 것이다`처럼 구체적이면 좋다.)\n"
      ],
      "metadata": {
        "id": "wpj8-ig9_t-i"
      }
    },
    {
      "cell_type": "markdown",
      "source": [
        "실험 집단/통제 집단\n",
        "- 모수 중 실험 조건에 할당되는 사용자들을 어떤 기준으로 구분하고 어떤 비율로 할당할 것인지 정의\n",
        "- 통제변수 관리와 엄격한 기준에 따른 샘플링이 중요하다.\n"
      ],
      "metadata": {
        "id": "_gAhchdRAhWa"
      }
    },
    {
      "cell_type": "markdown",
      "source": [
        "독립변수\n",
        "- 설명변수, 예측변수라고도 하며 인과관계에서 원인이 되는 변수(종속변수에 영향을 줄거라고 예상하는 변수)\n",
        "- 해당 변수의 구체적인 수준을 어떻게 설정할 것인지 결정해야한다.   \n",
        "(A/B테스트에서 비교할 A화면과 B화면)"
      ],
      "metadata": {
        "id": "R7oiguBoA_lt"
      }
    },
    {
      "cell_type": "markdown",
      "source": [
        "종속변수\n",
        "- 결과변수라고도하며 독립변수에 의해 영향을 받을 것으로 기대되는 변수\n",
        "- 구체적으로 어떤 기준으로 측정할 것인지 조작적 정의를 명확하게 해야한다.\n",
        "- 종속변수의 현재 수준을 측정하고 실험을 통해 어느 정도의 변화를 기대하는지 정의해야한다.   \n",
        "(구매전환률)"
      ],
      "metadata": {
        "id": "8AXKZjaKBdaW"
      }
    },
    {
      "cell_type": "markdown",
      "source": [
        "통제변수\n",
        "- 실험 결과에 영향을 미칠 수 있기 때문에 실험 집단/통제 집단에 동등한 조건을 가져야하는 변수\n",
        "- 독립변수는 아니지만 종속변수에 영향을 미칠 수 있는 제 3의 변수\n",
        "- 통제변수를 제대로 설정하지 않으면 실험집단과 통제집단을 잘못 나누는 경우가 생김\n",
        "- 통제변수를 얼마나 잘 관리하는지가 A/B테스트의 성패를 좌우함   \n",
        "(가입경로:유료광고, 친구추천 등)"
      ],
      "metadata": {
        "id": "N7NZkDzqCE9K"
      }
    },
    {
      "cell_type": "markdown",
      "source": [
        "샘플크기 ([샘플 사이즈 계산기](https://www.evanmiller.org/ab-testing/sample-size.html))\n",
        "- 가설 검증에 필요한 실험 참가자의 숫자\n",
        "- 통계적 유의도를 확보하기 위해 실험 전에 미리 정해야한다. 미리 정하지 않으면 조기중지, 엿보기의 함정에 빠지게 된다.\n",
        "- 샘플사이즈 계산 사이트에 가설, 검정력, 유의수준 등을 입력하면 필요한 샘플 수를 계산해준다.\n",
        "\n"
      ],
      "metadata": {
        "id": "PuXuNB7_CuAi"
      }
    },
    {
      "cell_type": "markdown",
      "source": [
        "실험기간\n",
        "- 샘플 크기를 고려했을 때 가설 검증을 위한 데이터를 수집하는 데 필요한 기간\n",
        "- 특별한 이유없이 진행중인 실험을 임의로 중단하고 중간에 결론을 내리면 안됨\n"
      ],
      "metadata": {
        "id": "9SGb3kCfC4qy"
      }
    },
    {
      "cell_type": "markdown",
      "source": [
        "**A/B Test 유의사항**"
      ],
      "metadata": {
        "id": "AtxRUrPvDZHr"
      }
    },
    {
      "cell_type": "markdown",
      "source": [
        "실험 집단과 통제 집단 샘플링\n",
        "- 실험 집단을 선별할 때는 통제변수를 잘 정의하고 샘플링을 해야한다.   \n",
        "- 보통 전체 집합을 홀,짝으로 나눠서 랜덤샘플링하는데, 이는 통제변수를 통제하지 않은 결과\n",
        "- 친구추천으로 가입한 고객을 대상으로 샘플링 한다거나 유료광고를 통해 들어온 고객을 대상으로 샘플링을 한다거나.. 해야한다.\n"
      ],
      "metadata": {
        "id": "ueHQKBuMDbse"
      }
    },
    {
      "cell_type": "markdown",
      "source": [
        "순차 테스트 / 동시 테스트   \n",
        "- 순차테스트 \n",
        "    - A 조건으로 테스트한 뒤 연이어 B 조건으로 테스트   \n",
        "    - 통제변수관리를 제대로 할 수 없어서 좋지않다.\n",
        "    - A-B-A처럼 재차테스트하는것으로 보완\n",
        "- 동시 테스트 : A/B를 나눠서 같은 시간에 테스트하는 방법"
      ],
      "metadata": {
        "id": "lseLfxIuEpEu"
      }
    },
    {
      "cell_type": "markdown",
      "source": [
        "시간의 흐름에 따른 종속변수의 차이를 살펴보기\n",
        "- 종속변수의 평균을 비교하는 것도 중요하지만, 시간의 흐름에 따라 종속변수의 변화를 관찰하는 것도 중요하다.\n",
        "- 실험 초기에는 차이가 나는것 같다가 후반부에 차이가 없는 경우나 반대의 경우, `샘플링에 실패했거나, 특정 시점에 기능오류가 발생했거나, 데이터 수집과정에서의 오류일 수 있다.`"
      ],
      "metadata": {
        "id": "5wAO0ylWQG7R"
      }
    },
    {
      "cell_type": "markdown",
      "source": [
        "과거의 A/B Test를 지나치게 신뢰하지 말 것\n",
        "- 잘 설계한 과거의 A/B Test 경험을 지나치게 신뢰하면 안된다.(어제의 결과가 오늘은 레거시(낡은 것)일 수 있다."
      ],
      "metadata": {
        "id": "H0Zfy9MRVBCq"
      }
    },
    {
      "cell_type": "markdown",
      "source": [
        "A/B Test는 국지적 최적화 \n",
        "- A/B테스트는 주어진 조건 안에서 성과를 비교하는 실험으로 항상 모든 경우에 최적의 조건이 아닐 수 있다."
      ],
      "metadata": {
        "id": "mAu_BvUTVRvF"
      }
    },
    {
      "cell_type": "markdown",
      "source": [
        "**A/B Test결과 분석방법**"
      ],
      "metadata": {
        "id": "y4904m_XGSSG"
      }
    },
    {
      "cell_type": "markdown",
      "source": [
        "p-value(유의확률)\n",
        "- A의 클릭률이 5.2%이고 B의 클릭률이 5.8%일 때 B가 A보다 높으므로 B가 좋다고 직접적으로 비교하면 안된다.\n",
        "- 통계적 가설검증에서 귀무가설이 맞다는 전제하에 실제 표본에서 관측된 값(t-통계량or F-통계량)과 같거나 더 극단적인 값이 관측될 확률이다.\n",
        "- p-value < (0.1or 0.05)면 귀무가설을 기각한다."
      ],
      "metadata": {
        "id": "HLjOcgKOGWbQ"
      }
    },
    {
      "cell_type": "markdown",
      "source": [
        "A/B테스트의 통계적 유의성 계산기\n",
        "- 종속 변수가 범주형(클릭여부, 가입여부) - 로지스틱 회귀, 카이 제곱 검정([링크](https://www.evanmiller.org/ab-testing/chi-squared.html))\n",
        "- 종속 변수가 이산형(클릭 횟수, 결제금액) - T검증, 분산분석 ([링크](https://www.evanmiller.org/ab-testing/t-test.html))\n"
      ],
      "metadata": {
        "id": "ygeLDwW5OyrH"
      }
    },
    {
      "cell_type": "markdown",
      "source": [
        "테스트 비용과 효과 크기\n",
        "- p값이 절대적 기준은 아니다. 표본의 크기가 커지면 p값은 낮아지는 특징이있다.(왜곡 가능성)\n",
        "- p값이 충분히 낮아도 A와 B의 전환률이 비슷하면 의미가 없을 수도 있을 수도 있다.\n",
        "    - 99% 유의수준에서 A가 3.0%이고 B가 3.5%일 때 유의미한 변화일까?\n",
        "            DAU가 1천 명, ARPPU가 만 원\n",
        "            - 1000 x 10,000 x 0.05 = 50,000원\n",
        "            DAU가 1천만 명, ARPPU가 만 원\n",
        "            - 10000000 x 10,000 x 0.05 = 50,000,000원\n",
        "            즉, 상황에 따라서 다르다.\n",
        "\n"
      ],
      "metadata": {
        "id": "IIyNfNWDQHA4"
      }
    },
    {
      "cell_type": "markdown",
      "source": [
        "## 그로스 조직과 업무 프로세스"
      ],
      "metadata": {
        "id": "5nbWFj9IV6UB"
      }
    },
    {
      "cell_type": "markdown",
      "source": [
        "- 그로스해킹은 데이터 분석 환경조성, 주요지표 정의, 지표개선을 위한 실험, 실험결과를 바탕으로 변화하는 과정으로 혼자서 해낼 수 있는 과정이 아니다.\n",
        "- 다양한 직군의 사람들이 각자의 전문성을 발휘하면서 협업하는 프로젝트성 업무에 가깝다.\n",
        "\n"
      ],
      "metadata": {
        "id": "R0laKiQ2WJP9"
      }
    },
    {
      "cell_type": "markdown",
      "source": [
        "**그로스 조직의 목표**\n",
        "- 가장 중요한 목표는 핵심지표를 개선하는 것이다. 핵심지표를 정의하고 가설-실행-검증의 반복으로 핵심지표를 가시적으로 개선해야한다.\n",
        "이 과정이 서비스 전체적인 측면에서 글로벌 최적화에 기여하는지도 고려해야한다.\n",
        "- 그로스 조직은 회사에 성장 DNA를 전파하는 조직이 돼야한다. 지금 가장 중요한 지표를 공유하고 데이터 기반 커뮤니케이션이 이루어지도록 돕고 사내 구성원들이 가설을 수립하고 실험을 통해 검증하는 업무프로세스를 이해하고 실행할 수 있도록 해야한다.\n"
      ],
      "metadata": {
        "id": "1TZipkaPW3ZJ"
      }
    },
    {
      "cell_type": "markdown",
      "source": [
        "**그로스 조직이 일하는 방식**\n",
        " - 데이터를 기반으로 가설을 세우고\n",
        " - 실험을 바탕으로 이를 검증하고\n",
        " - 배움을 축적하는 과정을 빠르게 반복한다.\n"
      ],
      "metadata": {
        "id": "p_rNEMj1XUvc"
      }
    },
    {
      "cell_type": "markdown",
      "source": [
        "**업무 순서**\n",
        "1. 목표지표를 정의하고 측정하기\n",
        "    - 목표는 정성적, 개념적인 언어로 표현가능하다.   \n",
        "    (충성고객을 늘린다.)\n",
        "    - 지표는 명확하거나 측정가능한 수준으로 구체화해야 한다.    \n",
        "    (충성고객 증가는 리텐션으로 판단하며, 리텐션은 30일 클래식 리텐션 기준으로 가입 기준 1개월 지표를 확인한다.) \n",
        "    - 현재 수준을 확인하고 목표치를 설정한다.\n",
        "2. 아이디에이션과 데이터분석\n",
        "    - 아이디에이션은 진행할 실험에 대한 아이디어를 수집하고 구체화하는 과정\n",
        "    - 스프린트 전체 기간동안 지속적으로 진행해야한다.\n",
        "    - 아이디어 공급로(공유폴더에 공유)하여 모든 구성원들이 자유롭게 의견을 나눌 수 있도록 한다.\n",
        "    - 단순 브레인스토밍이 아닌 여러 데이터와 시행착오를 거쳐서 조금씩 다듬어가야한다.\n",
        "    - 단순히 많은 아이디어를 내기보다 토론을 통해 아이디어를 발전시키고 다듬어야한다.\n",
        "3. 플래닝\n",
        "    - 아이디어 공급로에 있는 아이디어의 우선순위를 정의하고 실험 대상이 되는 아이디어를 선별하는 프로세스\n",
        "    - 스프린트에서 실험할 아이디어를 선택하는 과정이다.\n",
        "    - 우선순위를 정하기 위해서는 목표로 삼은 지표가 명확해야하며 스프린트에서 활용가능한 리소스나 일정도 고려해야한다.\n",
        "    - 우선순위는 ICE 프레임워크(Impact, Confidence, Ease)가 널리 사용된다. 임팩트, 성공자신감, 진행난이도의 점수를 매기고 합산해서 아이디어의 우선순위를 정한다.(절대적인 기준이 되어서는 안된다.)\n",
        "4. 실험 준비, 진행, 분석\n",
        "    - 실험을 진행하다보면 안내문구, 디자인구성요소, 배치 등 많은 것을 결정해야하는데 책임자를 정하지 않으면 적당한 타협안을 선정하게 된다.\n",
        "    - 실험 계획, 진행사항, 결과 및 성과분석을 문서화해서 공유하는 것이 중요하다.\n",
        "          - 개요 : 실험을 하게 된 배경, 실험책임자, 각 파트별 담당자\n",
        "          - 가설 : 실험을 통해 검증하고자 하는 가설\n",
        "          - 설계 : 대상자, 실험 범위, 독립변수, 종속변수, 통제변수, 측정방법\n",
        "          - 목표 : 종속 변수의 목표 수준\n",
        "          - 일정 : 실험을 위한 개발 및 배포 일정, 실험 기간\n",
        "          - 기타 참고사항\n",
        "5. 회고\n",
        "- 스프린트가 마무리되면 진행했던 모든 경험에 대해 회고해야하며, 스프린트 회고 때 나온 아쉬운 점이 다음 스프린트 회고에서도 나온다면 생산성에 대한 고민이 필요하다.\n",
        "- 회고는 따로 시간을 내서 회고를 작성하도록 한 뒤에 이야기를 나누는 것이 좋다.\n",
        "- 회고의 내용은 구체적 일수록 좋다\n",
        "        - 이번 스프린트를 통해 배운 것\n",
        "        - 지금처럼 유지하거나 더 많이 할 것\n",
        "        - 더 적게 하거나 다른 방법으로 할 것\n",
        "- 다음 회고에 스프린트가 개선 됐는지 반드시 체크해야한다.\n",
        "\n",
        "\n",
        "\n",
        "\n"
      ],
      "metadata": {
        "id": "GmbXsZTEZjER"
      }
    },
    {
      "cell_type": "markdown",
      "source": [
        "**제품 개발과 그로스의 조화**\n",
        "- 제품 개발과 그로스해킹은 다르다. 마이리얼트립의 항공예약서비스 진출을 그로스해킹을 통해 결정할 수는 없다.\n",
        "- 그로스해킹은 항공예약 고객의 크로스셀 유도, 전환율 증가같은 보완재역할이다."
      ],
      "metadata": {
        "id": "V4wxIUDvfpQp"
      }
    },
    {
      "cell_type": "markdown",
      "source": [
        "**통계학 공부**\n",
        "- 사이트 : 칸아카데미, K-MMOC, star-MOOC, KOCW\n",
        "- 책\n",
        "    - 숫자에 약한 사람들을 위한 통계학 수업(웅진지식하우스,2020)\n",
        "    - 통계학도감(성인당,2018)\n",
        "    - 데이터 과학을 위한 통계(한빛미디어,2018)\n",
        "    - 따라하며 배우는 데이터 과학(제이펍,2017)\n"
      ],
      "metadata": {
        "id": "qNiw9GYriNAm"
      }
    },
    {
      "cell_type": "markdown",
      "source": [
        "**도메인지식**\n",
        "- 우리 서비스는 어떤 카테고리이며 경쟁자는 누구인가?\n",
        "- 그 카테고리에 속한 서비스들은 어떤 특성이 있는가?\n",
        "- 서비스 사용자는 누구이고 어디서 만날 수 있는가?\n",
        "- 우리는 어떻게 돈을 벌고 있는가?\n",
        "- 우리 서비스와 관련된 법이나 규제는 어떠한가?\n",
        "- 우리 서비스 및 관련 카테고리는 지난 10년간 어떻게 발전해 왔는가?"
      ],
      "metadata": {
        "id": "ismrs-Nziyzf"
      }
    }
  ]
}
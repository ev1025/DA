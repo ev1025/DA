{
  "nbformat": 4,
  "nbformat_minor": 0,
  "metadata": {
    "colab": {
      "provenance": [],
      "authorship_tag": "ABX9TyMzauEcl5Dju/pchng7ISIH",
      "include_colab_link": true
    },
    "kernelspec": {
      "name": "python3",
      "display_name": "Python 3"
    },
    "language_info": {
      "name": "python"
    }
  },
  "cells": [
    {
      "cell_type": "markdown",
      "metadata": {
        "id": "view-in-github",
        "colab_type": "text"
      },
      "source": [
        "<a href=\"https://colab.research.google.com/github/ev1025/DA_Study/blob/main/BOOK_%EA%B7%B8%EB%A1%9C%EC%8A%A4%ED%95%B4%ED%82%B9.ipynb\" target=\"_parent\"><img src=\"https://colab.research.google.com/assets/colab-badge.svg\" alt=\"Open In Colab\"/></a>"
      ]
    },
    {
      "cell_type": "markdown",
      "source": [
        "# 그로스해킹"
      ],
      "metadata": {
        "id": "_qbiamPjYrJ4"
      }
    },
    {
      "cell_type": "markdown",
      "source": [
        "## 기획"
      ],
      "metadata": {
        "id": "RxP6GuzBYpoL"
      }
    },
    {
      "cell_type": "markdown",
      "source": [
        "**생각해보기**\n",
        "- 정말 사용자가 원하는 서비스인가?\n",
        "- 최소한의 기능으로 사용자에게 가치를 전달하는가?\n",
        "\n",
        "**최소한의 프로토타입**\n",
        "- 가설을 토대로 최소한의 기능을 가진 제품으로 반응을 테스트 한 뒤 반응이 좋은 것을 개발해야한다.\n",
        "\n",
        "- 기능을 늘린다고 실패할 제품이 성공하지는 않음(서비스 개선 = 기능추가가 되어선 안된다.)"
      ],
      "metadata": {
        "id": "yvRbDa4zYbVT"
      }
    },
    {
      "cell_type": "markdown",
      "source": [
        "### 제품-시장 적합성"
      ],
      "metadata": {
        "id": "bL6MZGZVaRfM"
      }
    },
    {
      "cell_type": "markdown",
      "source": [
        "**주안점**\n",
        "- 고객이 원하는 제품을 만드는 것\n",
        "- 우리가 생각하는 문제가 있긴 한가?\n",
        "- 우리가 만든 제품이 정말 그 문제를 해결하는가?\n",
        "- 가설이 무엇이며 검증이 되었는가?\n"
      ],
      "metadata": {
        "id": "56T0Khk9uzl6"
      }
    },
    {
      "cell_type": "markdown",
      "source": [
        "**제품-시장 적합성 확인 지표(PMF, Product-Market Fit)**\n",
        "1. **리텐션** : 적합성을 만족하는 제품은 초기 일정 시간이 지나면 기울기가 유지된다.\n",
        "2. **전환률(퍼널분석)**\n",
        "3. **순수추천지수(NPS)** : 비추천, 소극적추천, 적극적추천 그룹으로 나누어서 구하는 지수\n",
        "   - -1에서 1사이의 값, 양수만 되도 긍정적\n",
        "   - 충성사용자를 확인하는 지표(적당히 좋아하는 사람보다 구하기 힘듬)\n",
        ">$ NPS = \\frac{적극추천그룹 - 비추천그룹}{전체 응답자}$\n",
        "\n",
        "**적합성이 충분하지 않으면 제품을 다시 점검해볼 필요가 있다.**"
      ],
      "metadata": {
        "id": "_lLP1kY6vZbR"
      }
    },
    {
      "cell_type": "markdown",
      "source": [
        "**적합성 확인단계에서 해야할 일**\n",
        "  - 정량분석 : 사용자 데이터 분석\n",
        "  - 정성분석 : 사용자 인터뷰(포커스그룹 인터뷰보다는 1:1 인터뷰가 더 좋음, 모더레이터가 할 필요 없음)\n",
        "  \n",
        "        - 미래가 아닌 과거와 현재에 초점\n",
        "        - 가정이 아닌 경험을 질문\n",
        "        - 결과가 아닌 과정을 깊게 살펴볼 것\n",
        "        - 기억이 아닌 습관을 통해 드러난 구체적인 경험\n",
        "        - 일반화된 진술이 아닌 개인의 경험이 드러나도록\n",
        "        - 편향된 믿음이 아닌 순수한 호기심으로 접근"
      ],
      "metadata": {
        "id": "mxAwK4N4atxw"
      }
    },
    {
      "cell_type": "markdown",
      "source": [
        " **하지 말아야 할 행동**\n",
        "- 도움이 되지 않는 지표 : 순 가입자수, 순수 활동유저\n",
        "\n",
        "- 브레인스토밍, 새기능 추가 : 새로운걸 추가하려는 노력보다는 요구사항을 다시 탐구해보아야 한다.\n",
        "- 전환률 개선을 위한 실험 : 적합하지 않은 상태에서 일시적으로 전환률이 높아지는 것은 의미가 없다.\n",
        "\n"
      ],
      "metadata": {
        "id": "Ak76NAqs7xTx"
      }
    },
    {
      "cell_type": "markdown",
      "source": [
        "## AARRR(과업기반 지표관리)"
      ],
      "metadata": {
        "id": "KhrPVOJcf_RM"
      }
    },
    {
      "cell_type": "markdown",
      "source": [
        "**등장배경**\n",
        "- 예전에는 각 부서마다 개별 지표를 관리했다.\n",
        "- 전체적으로 서비스 관점에서 무엇이 중요한 지표인지 판단하기 어려웠다.   \n",
        "(핵심지표가 나뉘고 우선순위를 결정하기 어려움)\n",
        "- 결국 놓치게되는 지표가 생기게 되었다."
      ],
      "metadata": {
        "id": "HB9B4YbhgFnH"
      }
    },
    {
      "cell_type": "markdown",
      "source": [
        "**AARRR (프레임워크기반 지표관리)** \n",
        "- 그로스 해킹은 핵심지표를 찾고, 그 지표를 성장시키는 방법을 찾는 활동\n",
        "- 사용자의 서비스 이용흐름에 따라 단계별 주요 지표를 서비스관점에서 정의\n",
        "- 우선 지표를 정의한 후 해당 지표를 원하는 방향으로 움직이게 하기 위한 과업을 고민해야한다.   \n",
        "\n",
        "\n",
        "        Acquisition(유치) : 사용자를 어떻게 데려올 것인가?\n",
        "        Activation(활성화) : 사용자가 핵심기능을 사용하는가?\n",
        "        Retention(유지) : 사용자가 지속적으로 방문하는가? \n",
        "        Revenue(수익화) : 사용자가 핵심 기능을 사용하기 위해 결제하는가?\n",
        "        Referral(추천) : 사용자가 서비스를 주변에 추천하는가?"
      ],
      "metadata": {
        "id": "Ha8IFhhxk62n"
      }
    },
    {
      "cell_type": "markdown",
      "source": [
        "**활용 방법**\n",
        "1. 각 단계별 풀어야하는 문제를 확인\n",
        "2. 각 단계별 핵심지표를 선정하고, 현재 지표의 위치를 측정\n",
        "3. 측정된 위치의 의미를 이해한다.\n",
        "4. 개선 목표를 정하고 실험을 통해 단계적으로 개선"
      ],
      "metadata": {
        "id": "EnN_gmNCl7ZX"
      }
    },
    {
      "cell_type": "markdown",
      "source": [
        "**개선 순서**\n",
        "1. 활성화(Activation), 유지율(Retention)\n",
        "2. 고객유치(Acquisition),  추천(Referral)\n",
        "3. 수익화(Revenue)"
      ],
      "metadata": {
        "id": "iBYcQdstlVD9"
      }
    },
    {
      "cell_type": "markdown",
      "source": [
        "### **1. Acquisition(고객 유치)**\n"
      ],
      "metadata": {
        "id": "rYRk95ten32s"
      }
    },
    {
      "cell_type": "markdown",
      "source": [
        "**사용자의 유입 채널을 최대한 누락없이 추적하고, 각 채널 별 성과를 평가**\n",
        "- 고객 유치에 기여한 채널의 성과를 판단할 수 있는 모델을 만드는 것\n",
        "\n",
        "- 유입채널에 따라 사용자를 구분하는 방법\n",
        "  - Organic User / Direct user : 자발적 유입 ([해결방법](https://www.artience.com/blog/direct-traffic-in-google-analytics))    \n",
        "  (식별불가의 유저도 Direct나 Organic로 표현한다.)\n",
        "  - Paid User : 마케팅 활동을 통해 유입\n",
        "  - GA나 앱스플라이어 등에서 지원하는 기능   \n",
        "  \n",
        "\n",
        "- `결과적으로, Organic유저의 증가가 목표이지만, 단순하게 Organic유저를 늘리기보다 식별불가 유저의 유입을 줄이는 방법에 대해 고민해야한다.`"
      ],
      "metadata": {
        "id": "XDs9ccN_qY2S"
      }
    },
    {
      "cell_type": "markdown",
      "source": [
        "#### **고객 획득 비용 (CAC, Customer Acquisition Cost)**"
      ],
      "metadata": {
        "id": "NGgUJv3_qa-_"
      }
    },
    {
      "cell_type": "markdown",
      "source": [
        "- 고객유치의 핵심 지표\n",
        "- 채널별, 캠페인별, 광고별, 날짜별로 평균 고객 획득 비용을 확인해봐야 의미가 있다.\n",
        "\n",
        "> $고객획득비용 = \\frac{마케팅비용}{가입 고객 수}$ => 아무의미없음"
      ],
      "metadata": {
        "id": "2EmG97DcqrT3"
      }
    },
    {
      "cell_type": "markdown",
      "source": [
        "**UTM 파라미터(Urchin Tracking Module)**\n",
        "- 서비스로 인입된 트래픽이 어느 경로를 통해 들어왔는지 그 출처를 확인할 수 있도록 URL 뒤에 추가된 파라미터\n",
        "   - Source(장소정보) : 지하철, 골목, 횡단보도\n",
        "   - Campaign(강조할 문구) : 30%할인, 3개월 시 1개월 무료\n",
        "   - Medium(매체) : 전단지, 부채, 휴지\n",
        "   - term(검색어), content(콘텐츠)\n",
        "- **구조**\n",
        "   - URL뒤에 ?를 붙인 뒤 utm_source, utm_campaign 같은 파라미터를 추가\n",
        "   - 동시에 사용할 경우 &으로 연결\n",
        "\n",
        "- **방법**\n",
        "   - 구글이 제공하는 campaign url builder로 만듬\n",
        "   - GA-> 획득 -> 전체 트래픽 -> 소스/매체에서 확인\n",
        "   - 캠페인,검색어 등을 추가하려면 보조측정기준 클릭\n",
        "   "
      ],
      "metadata": {
        "id": "Lm5zVVsVseaD"
      }
    },
    {
      "cell_type": "markdown",
      "source": [
        "**모바일 앱 어트리뷰션(Attribution)**\n",
        "- 모바일기여도 확인을 위해서 사용하는 도구\n",
        "- 대부분 유료이며 새로운 기술이 필요하다.\n"
      ],
      "metadata": {
        "id": "ATFRPaEZkn0t"
      }
    },
    {
      "cell_type": "markdown",
      "source": [
        "**어트리뷰션 윈도우(룩백 윈도우)**\n",
        "- 앱 광고를 클릭한 고객이 설치까지 완료하는데 걸리는 시간(광고의 기여도 인정기간), 표준화 되어있지 않다.\n",
        "    - View-through : 조회를 통해 발생하는 기여\n",
        "    - Click-through : 클릭을 통해 발생하는 기여(어트리뷰션 윈도우를 더 길게 책정하는 편)\n",
        "\n"
      ],
      "metadata": {
        "id": "6wA43-uMsHuq"
      }
    },
    {
      "cell_type": "markdown",
      "source": [
        "**어트리뷰션 모델**\n",
        "-  여러 광고를 접하고 앱실행이 이루어 졌을 때 기여도를 정하는 방법\n",
        "    - **싱글터치 어트리뷰션(퍼스트클릭, 라스트클릭)** : 처음이나 마지막에 클릭한 광고를 100% 기여도로 인정 (주로 라스트클릭 채택)\n",
        "    - **멀티 터치 어트리뷰션** : 접점이 있는 모든 채널에 기여도 분배\n",
        "   - 선형(Linear) : 모든 접점에 같은 가중치 부여\n",
        "   - 타임 디케이(Time Decay) : 시간의 흐름에 따라 가중치 부여(최근일수록 높은 가중치)\n",
        "   - U자형(U-Shape) : 처음과 마지막 접점에 높은 가중치부여(처음과 마지막에만 가중치를 주기도 함)\n",
        "- 채널의 특성에 맞게 다른 기준치를 정해야한다.(일괄적으로 기준을 정하는건 좋지 않음)"
      ],
      "metadata": {
        "id": "qH-7SCF9te_h"
      }
    },
    {
      "cell_type": "markdown",
      "source": [
        "**딥링크와 디퍼드 딥링크**\n",
        "- 딥링크 : 모바일앱을 설치한 사용자가 딥링크를 누르면 웹브라우저 대신 앱이 실행되며 렌딩페이지로 이동하여 전환률을 상승시킴(단, 앱이 설치되어 있어야 한다)\n",
        "- 디퍼드 딥링크 : 앱을 설치하지 않은 사람은 앱설치단계를 거친 후 렌딩페이지로 연결 \n",
        "- 딥링크는 사용 맥락이 유지되어 사용자 경험에 좋은 영향을 준다.\n",
        "- 디퍼드 딥 링크는 생성시 파라미터를 추가하여 유입경로 파악이 가능하다."
      ],
      "metadata": {
        "id": "PJeH_RZh45ax"
      }
    },
    {
      "cell_type": "markdown",
      "source": [
        "**고객유치(Acquisition) 정리**\n",
        "1. 고객유치의 목표는 유저의 유입 채널을 최대한 누락없이 정확하게 추척하고, 채널별 성과를 정확하게 파악하여 진짜 Organic유저를 늘리는데 있다.\n",
        "\n",
        "2. 가능하다면 Raw Data를 직접 받아서 확인하는 것이 좋다.\n",
        "\n",
        "3. 어트리뷰션 데이터를 단독으로 보기보다는 서비스이용 데이터와 결합하여 분석하는 것이 좋다.\n",
        "\n",
        "4. 영향력있는 소수의 채널을 최적화시킨 후 채널포화도에 따라 확장해나가야 한다.\n",
        "  - 기존 채널에서의 최적화가 충분히 잘 돼 있는가?\n",
        "  - 마케팅 예산이 커져서 기존 채널에만 사용하기는 비효율적인가?\n",
        "\n",
        "5. 지표에 매몰되지 말고 큰 숲을 볼 것\n",
        "\n"
      ],
      "metadata": {
        "id": "IeBiXpfAM1w_"
      }
    },
    {
      "cell_type": "markdown",
      "source": [
        "### **2. Activation(활성화)**"
      ],
      "metadata": {
        "id": "zD9ydvT7Net9"
      }
    },
    {
      "cell_type": "markdown",
      "source": [
        "- Acquisition을 통해 들어온 사용자가 우리의 핵심 가치를 경험하도록 만드는 것\n",
        "- 새롭게 가입한 사용자가 on-boarding을 성공적으로 마무리하는 비율은 적다.\n",
        "\n"
      ],
      "metadata": {
        "id": "HVU52dzOQFYf"
      }
    },
    {
      "cell_type": "markdown",
      "source": [
        "### **Funnel(퍼널분석)**"
      ],
      "metadata": {
        "id": "Jw4uA-CcRpn3"
      }
    },
    {
      "cell_type": "markdown",
      "source": [
        "- 유저의 서비스 사용 여정을 도표로 나타내면 깔데기(Funnel)와 비슷하다고 하여 붙은 이름이다.\n",
        "- Funnel은 활성화 단계의 핵심이다.\n",
        "  - 앱다운로드 -> 앱실행 -> 튜토리얼 -> 회원가입 -> 전화번호인증 -> 가입완료\n",
        "  \n",
        "- 고려해야 할 요소 3가지\n",
        "        - 핵심 가치를 경험하는 시점과 그곳으로 연결되는 각 단계가 잘 정의되어 있는가?\n",
        "        - 각 단계별 전환율은 어떤 기준으로 측정하는가?\n",
        "        - 코호트(cohort)에 따른 퍼널별 전환율은 보고 있는가?"
      ],
      "metadata": {
        "id": "fwNRCdEmRvws"
      }
    },
    {
      "cell_type": "markdown",
      "source": [
        "**퍼널의 세부단계 정의하기**\n",
        "- 우선적으로 해야할 일은 핵심가치 구체화 및 사용자가 핵심가치를 경험하는 순간을 정의하는 것이다.\n",
        "\n",
        "- 핵심가치는 아하 모먼트(Aha moment) 또는 머스트 해브(Must have)라는 용어를 사용하기도 한다.\n",
        "- 핵심가치는 서비스 제공자가 아닌 사용자의 입장에서 정의해야한다.   \n",
        "(좋은 물건을 싸게 산 순간, 데이팅 엡에서 운명의 상대를 매칭한 순간 등..)\n",
        "- 사용자의 핵심가치와 서비스의 핵심가치가 일치하는지 확인하기 위해서는 홍보에 사용되는 마케팅 메세지와 사용자 리뷰의 서비스 키워드가 일치하는지 대조해보면 알 수 있다.\n",
        "\n",
        "- 서비스에 진입해서 핵심가치를 경험하기까지의 경로를 Critical Path라고 한다. "
      ],
      "metadata": {
        "id": "EKnDnSHwSVAj"
      }
    },
    {
      "cell_type": "markdown",
      "source": [
        "**전환률 측정**\n",
        "- 퍼널분석의 핵심이며 단순히 전체에서 전환된 비율로 보면 안된다.\n",
        "- 전환률은 합의된 기준에 따라 달라진다\n",
        "\n",
        "        5명의 유저의 경로(쿠폰페이지를 가서 쿠폰을 받고 돌아와서 결제해야하는 시스템)\n",
        "            A : 상세페이지 -> 쿠폰페이지 -> 상세페이지-> 결제\n",
        "            B : 상세페이지 -> 쿠폰페이지 -> 상세페이지-> 결제\n",
        "            C : 상세페이지 -> 쿠폰페이지 -> 상세페이지-> 결제\n",
        "            D : 상세페이지 -> 쿠폰페이지 -> 상세페이지-> 결제\n",
        "            E : 상세페이지 -> 쿠폰페이지 -> 상세페이지-> 이탈\n",
        "    - 유저 기준 전환률 : 4/5 \n",
        "       - 유저 5명중 4명 구매전환\n",
        "    - 트래픽(Pageview)기준 전환률 : 4/9\n",
        "       - 상세페이지 9번 방문, 구매전환은 4번\n",
        "       - 결제로 넘어가기 전에 거쳐야하는 페이지가 있어서 전환률이 떨어지므로 UI개선 필요\n",
        "\n",
        "- 트래픽(Pageview)기준 전환률\n",
        " - 특정 시나리오에서의 사용성 새건을 목적으로 사용\n",
        " - UX/UI 측면에서의 개선점을 찾는데 도움을 준다.\n",
        "- 유저 기준 전환률\n",
        " - 성과 판단 지표로 사용\n",
        " -  (UX/UI가 좋지 않은데도 전환률이 높을 경우) 상품의 가격이나 매력도 등을 종합적으로 파악할 수 있다.   \n"
      ],
      "metadata": {
        "id": "cuWjofR2SQl5"
      }
    },
    {
      "cell_type": "markdown",
      "source": [
        "**Cohort별 전환률**\n",
        "- 공통적인 특성에 따라 여러집단으로 분류한 사용자 그룹\n",
        "- 퍼널에 영향을 미치는 선행지표를 찾을 수 있다.\n",
        "- **퍼널분석의 진정한 목표**는 주요퍼널의 단편적인 전환률 계산이 아닌 `전환률에 영향을 미치는 선행지표를 찾는 것`\n",
        "      - 가입시점에 따라 구매전환률에 차이를 보이는가?\n",
        "      - Source(장소), Medium(매체), Campaign(강조문구)에 따라 전환률 차이를 보이는가?\n",
        "      - 특정 이벤트 경험에 따라 차이를 보이는가?\n",
        "      - 시간, 요일, 계절, 날씨 등 외부 변수에 차이를 보이는가?\n",
        "      - 인구통계학적 정보에 따라 차이를 보이는가?"
      ],
      "metadata": {
        "id": "bXqMN6BzZmlT"
      }
    }
  ]
}
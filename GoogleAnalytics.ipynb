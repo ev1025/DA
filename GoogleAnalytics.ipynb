{
  "nbformat": 4,
  "nbformat_minor": 0,
  "metadata": {
    "colab": {
      "provenance": [],
      "authorship_tag": "ABX9TyN9WJIR6t509Rnn6y2y8COk",
      "include_colab_link": true
    },
    "kernelspec": {
      "name": "python3",
      "display_name": "Python 3"
    },
    "language_info": {
      "name": "python"
    }
  },
  "cells": [
    {
      "cell_type": "markdown",
      "metadata": {
        "id": "view-in-github",
        "colab_type": "text"
      },
      "source": [
        "<a href=\"https://colab.research.google.com/github/ev1025/DA_Study/blob/main/GoogleAnalytics.ipynb\" target=\"_parent\"><img src=\"https://colab.research.google.com/assets/colab-badge.svg\" alt=\"Open In Colab\"/></a>"
      ]
    },
    {
      "cell_type": "markdown",
      "source": [
        "# Google Analytics"
      ],
      "metadata": {
        "id": "nSh70CCV6tB8"
      }
    },
    {
      "cell_type": "markdown",
      "source": [
        "**사용목적**   \n",
        "- 고효율 매체\n",
        "- 고품질 유저\n",
        "- 고관여 행동(리뷰 10초 뷰, 스크롤링 75% 등..)"
      ],
      "metadata": {
        "id": "1gjCy68r7Ig1"
      }
    },
    {
      "cell_type": "markdown",
      "source": [
        "- 측정기준(Dimension) : 연령, 성별 등\n",
        "- 측정항목(Metric) : 사용자, 이탈률, 세션 등"
      ],
      "metadata": {
        "id": "r49XuMloBO4X"
      }
    },
    {
      "cell_type": "markdown",
      "source": [
        "### 분석메뉴(왼쪽탭)"
      ],
      "metadata": {
        "id": "3STxAHrITxhV"
      }
    },
    {
      "cell_type": "markdown",
      "source": [
        "**획득**\n",
        "- 전체트래픽 -> 채널(Channel Grouping)\n",
        "- Direct : Referral인데 주소값이 없는경우(문자나 카톡 등으로 링크타고 들어왔을때)\n",
        "- affiliates : 제휴사(계열사 같은 사이트를 통해 들어온것, 미리 지정해둘 수 있음)\n",
        "- Display 배너광고처럼 그림을 눌러서 들어온 경우"
      ],
      "metadata": {
        "id": "-EJyyJakDd2X"
      }
    },
    {
      "cell_type": "markdown",
      "source": [
        "**행동**\n",
        "- 이탈률(bounced) : 아무것도 하지 않고 나가는 비율로 40~70%에 위치해야 정상범위(40%보다 낮으면 좋은 사이트)\n",
        "- 비율을 조절할 때는 왼쪽 위에 정렬기준 가중치로 선택해서 확인해야함\n",
        "- 방문페이지 : landing page (카테고리에 랜딩을 시켜서 유저에게 선택지를 줄지, 상세페이지로 랜딩시켜서 세션 수를 줄일지 고민)\n",
        "- 종료 페이지 : exit page\n"
      ],
      "metadata": {
        "id": "TiOqqgxkFicf"
      }
    },
    {
      "cell_type": "markdown",
      "source": [
        "**전환**\n",
        "- 목표 : 쇼핑몰이 아닌 경우\n",
        "- 전자상거래 : 쇼핑몰인 경우\n",
        "    - 쇼핑행동의 결제한 세션보다 거래가 발생항 횟수가 많은경우 : 네이버페이는 누르면 사이트를 이탈해서 집계가 되지 않음"
      ],
      "metadata": {
        "id": "2n4C4nMUH5sy"
      }
    },
    {
      "cell_type": "markdown",
      "source": [
        "### 실습"
      ],
      "metadata": {
        "id": "G6oVaiFVTtzj"
      }
    },
    {
      "cell_type": "markdown",
      "source": [
        "**GA 아이디 만들고 등록하기**\n",
        "1. 내 티스토리 메인 뒤에 /MANAGE 쓰기\n",
        "2. 왼쪽 꾸미기에 스킨편집\n",
        "3. 오른쪽 상단에 HTML 편집\n",
        "4. HEAD의 첫번째 항목에 붙여넣기   \n",
        "(GA의 추적 코드를 넣으면됨)\n"
      ],
      "metadata": {
        "id": "NnYljqSLLiFw"
      }
    },
    {
      "cell_type": "markdown",
      "source": [
        "**UTM Builder**\n",
        "- Source : 웹사이트\n",
        "- Medium : 매체(cpc, banner(=display) 등..)\n",
        "- campaign name : 캠페인 이름(summer_campaign)\n",
        "- campaign term(ga의 키워드) : 키워드광고의 입찰한 키워드(강남역 맛집)\n",
        "- campaign content(ga의 광고컨텐츠) : 페북,인스타같은 광고 몇번째 이미지인지(ImageA , ImageB)\n",
        "- 주의사항 \n",
        "    - GA에서는 Medium에 cpc를 넣으면 검색광고로 인지해서 term값을 가져온다.   \n",
        "    (페이스북 이미지광고라서 content를 설정했는데 cpc이면 term값에 (not set)이 입력됨)\n",
        "    - 반대로 Medium에 display를 넣으면 배너광고로 인지함"
      ],
      "metadata": {
        "id": "iwUAEFRk5vr_"
      }
    },
    {
      "cell_type": "markdown",
      "source": [
        "**목표 세팅**\n",
        "- 목표 : 측정하고자 하는 전환율 값\n",
        "    - 도착 : 특정 URL에 도착했을 때\n",
        "    - 시간 : 일정시간 이상 머무를 때\n",
        "    - 페이지뷰 : n개 이상 조회 했을 때\n",
        "    - 이벤트 : 웹사이트 내에 특정 상호작용 했을 때\n",
        "- 왼쪽아래 톱니 -> 오른쪽 3번째 컬럼 목표 -> +새목표 -> 단계 진행-> 3. 목표세부정보에서 원하는 목표 사이트 url 입력(기본도메인 생략가능)\n",
        "- 목표 세부정보에 정규표현식을 이용하면 여러 상세 페이지를 모두 추적할 수 있음   \n",
        "(최종목표 밑에 같음버튼 -> 정규식으로 바꾸고 .\\*detail.\\*를 입력하면 주소에 detail이라는 문자를 포함한 경우를 의미한다.)   \n",
        "    **정규표현식**   \n",
        "    > '.'  단일 문자   \n",
        "    > '\\*'  이전 항목 0개이상  \n",
        "    > '.\\*' 무한대값 아무거나 와도 됨(만능문자 많이 사용)   \n",
        "    > '\\+' 이전 항목이 1개 이상 포함   \n",
        "    > '?' 이전 항목이 0이나 1개 포함   \n",
        "    > '|' a|b는 a나 b와 일치   \n",
        "    > '^' 시작부분이 일치(^site는 site와 일치, mysite와 불일치)   \n",
        "    > '$' 끝부분이 일치(site$는 site와 일치, sitescan과 불일치)   \n",
        "    > '()' Thank(s|you)는 Thanks, Thankyou와 일치   \n",
        "    > '[]' 항목의 리스트를 만듬 [abc] = a,b,c   \n",
        "    > '\\-' [A-Z] A~Z\n",
        "\n",
        "- 3. 목표세부정보 단계에서 유입경로를 설정하면 유입경로시각화가 됨   \n",
        "    (전환 -> 목표 -> 유입경로 시각화)\n",
        "    - 이름 : 상세페이지, 화면/페이지 : .\\*detail.\\*\n",
        "    - 이름 : 장바구니, 화면/페이지 : .\\*cart.\\*\n",
        "    - 이름 : 결제시작페이지, 화면/페이지 : .\\*payment.\\*\n",
        "\n",
        "- 목표 -> 이벤트(클릭이나 스크롤 같은 행위)\n",
        "    - 구글 태그매니저(Tag Manager를 사용)\n",
        "    - 코딩으로 이벤트 명령어를 짤 수 없으니, 컨테이너를 만들어서 그 안에 명령어를 넣어주는 것\n",
        "    - 만들기로 컨테이너를 만들면 head와 body 코드가 나오는데 이것을 붙여넣기\n",
        "    - 왼쪽탭\n",
        "        - 태그 : 명령하는 말   \n",
        "        - 트리거 : 태그가 발동되는 시점   \n",
        "        - 변수 : 변수 값   \n",
        "    EX) 빨간 모자를 쓴 사람(변수)이 문을 열고 들어오면(트리거) 박수를 쳐라(태그)\n",
        "        - 만드는법\n",
        "            1.  태그 -> 만들기-> 태그유형 선택-> 추적유형,ga설정 새변수(추적ID : GA의 추적코드입력)->저장 (이벤트 추적 매개변수는 원하는대로 지정)\n",
        "            2. 트리거 -> 오른쪽 위 +버튼-> 트리거유형(클릭-모든 요소) -> 일부 클릭 선택(모든 클릭: 모든 클릭값을 저장)->이벤트가 발생하고 모든 조건~(기본제공변수선택) -> Click Classes,포함,클래스명(HTML) : 원하는 기준에 따라 선택하면 됨 -> 저장\n",
        "            3. 제출 -> 게시 -> 계속 -> 버전이 변경됨\n",
        "            4. GA가서 목표 클릭 세팅\n",
        "        \n",
        "\n",
        "\n"
      ],
      "metadata": {
        "id": "Fb0Hy-tS9nBg"
      }
    },
    {
      "cell_type": "markdown",
      "source": [
        "# 페이스북, 인스타그램광고\n"
      ],
      "metadata": {
        "id": "k2U8uUWa1-pe"
      }
    },
    {
      "cell_type": "markdown",
      "source": [
        "- 이미지, 배너광고\n",
        "- 광고송출 방식\n",
        "    - 구좌 계약 방식 : 네이버 메인 배너 같은거 시간대별 대여(고가)\n",
        "    - RTB(Real Time Bidding):시간대별로 입찰경쟁을 통해 입찰된 광고 송출(페이스북의 알고리즘으로 자동화)   \n",
        "    [입찰가]x[추산행동률+광고관련성+광고품질]\n",
        "    - "
      ],
      "metadata": {
        "id": "pBwaXLVq3uuw"
      }
    }
  ]
}
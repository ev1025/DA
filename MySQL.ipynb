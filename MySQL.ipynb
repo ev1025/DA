{
  "nbformat": 4,
  "nbformat_minor": 0,
  "metadata": {
    "colab": {
      "provenance": [],
      "authorship_tag": "ABX9TyPGAhy4LCh9aG9ex0DO9EKE",
      "include_colab_link": true
    },
    "kernelspec": {
      "name": "python3",
      "display_name": "Python 3"
    },
    "language_info": {
      "name": "python"
    }
  },
  "cells": [
    {
      "cell_type": "markdown",
      "metadata": {
        "id": "view-in-github",
        "colab_type": "text"
      },
      "source": [
        "<a href=\"https://colab.research.google.com/github/ev1025/DA_Study/blob/main/MySQL.ipynb\" target=\"_parent\"><img src=\"https://colab.research.google.com/assets/colab-badge.svg\" alt=\"Open In Colab\"/></a>"
      ]
    },
    {
      "cell_type": "markdown",
      "source": [
        "# 설치"
      ],
      "metadata": {
        "id": "G5NICNEw3J8S"
      }
    },
    {
      "cell_type": "markdown",
      "source": [
        "**설치**\n",
        "1. Bitnami WAMP 검색하여 설치(찾아봐야함) Window에서 Apach, Mysql, PHP 한번에 설치해주는 파일    \n",
        "- 설치url : https://bitnami.com/redirect/to/1449638/bitnami-wampstack-8.0.3-2-windows-x64-installer.exe?bypassauth=false&fb=1&with_popup_skip_signin=1\n",
        "2. 오른쪽 로컬인스톨 맨위\n",
        "3. root 비밀번호설정(다중 사용프로그램)\n",
        "4. cloud with Bitnami 체크 해제, 설치\n",
        "5. Bitnami WAMP에서 Manage Severs탭에 MySQL이 초록색이어야 실행됨   \n",
        "- 출처 https://opentutorials.org/course/3161/19532\n",
        "\n",
        "**실행**\n",
        "1. cmd에서 C:\\Bitnami\\wampstack-버전\\mysql\\bin (탭눌러서 선택하면됨)\n",
        "2. mysql -uroot -p\n",
        "3. root 패스워드 입력\n",
        "\n",
        "**버전8 root 비밀번호 초기화**\n",
        "1. MySQL 중지\n",
        "2. C드라이브에 밑의 내용으로 mysql-init.txt파일 생성\n",
        "   - ALTER USER 'root'@'localhost' IDENTIFIED BY '비밀번호';\n",
        "3. cmd를 관리자권한으로 실행한 뒤 밑에 명령어 입력(MySQL을 명령어로 실행시키고, 비밀번호 변경)\n",
        "   - mysql경로\\\\mysqld --defaults-file=\"파일경로\\\\my.ini\" --init-file=C:\\mysql-init.txt\n",
        "   - 예시 : mysqld --defaults-file=\"C:\\\\Bitnami\\\\wampstack-8.0.3-2\\\\mysql\\\\my.ini\" --init-file=C:\\\\mysql-init.txt\n",
        "\n",
        "4. 새 cmd로 MySQL 실행하여 비밀번호 잘 바뀌었는지 확인\n",
        "\n",
        "- 공식문서 https://dev.mysql.com/doc/refman/8.0/en/resetting-permissions.html\n",
        "- 유튜브 https://www.youtube.com/watch?v=aUpsnwG7zOQ&t=167s\n",
        "\n"
      ],
      "metadata": {
        "id": "103OD74xsmfX"
      }
    },
    {
      "cell_type": "markdown",
      "source": [
        "# MySQL"
      ],
      "metadata": {
        "id": "XA1vXKNY3Mmz"
      }
    },
    {
      "cell_type": "markdown",
      "source": [
        "- 생활코딩 참고 : https://opentutorials.org/course/3161"
      ],
      "metadata": {
        "id": "nGZjkTYNDItn"
      }
    },
    {
      "cell_type": "markdown",
      "source": [
        "- Table : 데이터를 저장하는 표\n",
        "- Database : 연관된 테이블을 모아놓은 것\n",
        "- Schema : 데이터베이스에서 테이블이 구성되는 방식과 서로 다른 엔티티 간의 관계를 표현\n",
        "   - 엔티티(Entity) : 테이블\n",
        "   - 필드(Field) : 열(Column)\n",
        "   - 레코드(Record) : 행(Row)"
      ],
      "metadata": {
        "id": "F2u4NwEM4QTp"
      }
    },
    {
      "cell_type": "code",
      "source": [
        "# mysql monitor\n",
        "mysql -u유저이름 # -u는 사용자를 뜻함 root는 관리자권한\n",
        "mysql -u유저이름 -p비밀번호 # -p는 비밀번호\n",
        "mysql -uroot -p -h서버주소 # -h서버주소에 접속(안쓰면 자동으로 localhost)"
      ],
      "metadata": {
        "id": "amfKWA0B6t-i"
      },
      "execution_count": null,
      "outputs": []
    },
    {
      "cell_type": "markdown",
      "source": [
        "## 데이터베이스"
      ],
      "metadata": {
        "id": "NbfmZ6MpY69Q"
      }
    },
    {
      "cell_type": "code",
      "source": [
        "# 데이터베이스 만들기\n",
        "CREATE DATABASE 데이터베이스명;\n",
        "\n",
        "# 데이터베이스 삭제\n",
        "DROP DATABASE [IF EXISTS] 데이터베이스명; \n",
        "# 데이터베이스 확인\n",
        "SHOW DATABASES;\n",
        "\n",
        "# 데이터베이스 변경\n",
        "USE 데이터베이스명\n",
        "\n",
        "# 현재 사용중인 DB 확인\n",
        "SELECT database();"
      ],
      "metadata": {
        "id": "j0MhrNubXwyx"
      },
      "execution_count": null,
      "outputs": []
    },
    {
      "cell_type": "markdown",
      "source": [
        "## 테이블"
      ],
      "metadata": {
        "id": "_BTh1xPgY9GU"
      }
    },
    {
      "cell_type": "markdown",
      "source": [
        "- 데이터 타입 : https://www.techonthenet.com/mysql/datatypes.php\n",
        "- **AUTO_INCREMENT** : 추가할 때 마다 자동으로 1씩 증가하도록 설정\n",
        "- **VARCHAR와 CHAR의 차이** : VAR는 변동이있음\n",
        "- **DATA와 DATATIME** : 시간까지 표시하는지 여부\n",
        "- **NOW()** : 현재 날짜표시\n",
        "- **IF EXISTS** : 존재하지 않더라도 오류 발생하지 않기 \n",
        "- **DISTINCT** : 중복불가"
      ],
      "metadata": {
        "id": "W-4L-LqtcXaJ"
      }
    },
    {
      "cell_type": "code",
      "source": [
        "# 테이블 확인\n",
        "SHOW TABLES;\n",
        "\n",
        "# 테이블 생성\n",
        "CREATE TABLE topic(\n",
        "    -> id INT(11) NOT NULL AUTO_INCREMENT,\n",
        "    -> title VARCHAR(100) NOT NULL,\n",
        "    -> description TEXT NULL,\n",
        "    -> created DATETIME NOT NULL,\n",
        "    -> author VARCHAR(30) NULL,\n",
        "    -> profile VARCHAR(100) NULL,\n",
        "    -> PRIMARY KEY(id));\n",
        "# ERROR 1820 -> MYSQL에서 제공하는 ROOT비밀번호를 사용하고있는데, 다른거로 바꿔라\n",
        "# SET PASSWORD = PASSWORD('비번');  -> MYSQL 로그인 할 때 비밀번호 바꾸는 명령어\n",
        "\n",
        "# 테이블 제거\n",
        "DROP TABLE 테이블\n",
        "\n",
        "# 테이블명 변경\n",
        "RENAME TABLE 테이블명 TO 새이름\n",
        "\n",
        "# 특정 테이블 정보 조회\n",
        "DESC 테이블명;\n",
        "\n",
        "# 컬럼 추가\n",
        "ALTER TABLE 테이블명 ADD 컬럼명 컬럼타입 DEFAULT 기본값;\n",
        "ALTER TABLE 테이블명 ADD COLUMN 컬럼명 컬럼타입 DEFAULT 기본값 AFTER 앞컬럼; # 앞컬럼 뒤에 추가\n",
        "ALTER TABLE 테이블명 ADD COLUMN 컬럼명 컬럼타입 DEFAULT FIRST; # 첫번째에 추가\n",
        "\n",
        "# 컬럼 삭제\n",
        "ALTER TABLE 테이블명 DROP COLUMN 컬럼명;\n",
        "\n",
        "# 컬럼명 변경\n",
        "ALTER TABLE 테이블명 CHANGE 이름 새이름 컬럼타입;\n",
        "\n",
        "\n",
        "# 컬럼 순서변경\n",
        "ALTER TABLE 테이블명 MODIFY 뒤컬럼 컬럼타입 AFTER 앞컬럼;\n",
        "\n",
        "# 컬럼 타입변경\n",
        "ALTER TABLE 테이블명 MODIFY 컬럼명 타입;\n",
        "\n",
        "# 컬럼 기본값 변경(기존에 입력된 값은 변하지 않음)\n",
        "ALTER TABLE 테이블명 ALTER COLUMN 컬럼명 SET DEFAULT 디폴트값;"
      ],
      "metadata": {
        "id": "0W0ixPfijJyg"
      },
      "execution_count": null,
      "outputs": []
    },
    {
      "cell_type": "code",
      "source": [
        "# CREATE\n",
        "INSERT INTO 테이블명 (컬럼1, 컬럼2) VALUES (값1,값2) # AUTO_INCREMENT는 자동으로 채워지므로 안써도 됨"
      ],
      "metadata": {
        "id": "3EO7RrTIhfN1"
      },
      "execution_count": null,
      "outputs": []
    },
    {
      "cell_type": "code",
      "source": [
        "# READ\n",
        "SELECT 컬럼 FROM 테이블명;\n",
        "\n",
        "# WHERE = 조건\n",
        "SELECT 컬럼 FROM 테이블명 WHERE 컬럼 = '값'; # 조건문\n",
        "\n",
        "# ORDER BY = 정렬\n",
        "SELECT 컬럼 FROM 테이블명  ORDERBY 컬럼 DESC; # 내림차순\n",
        "\n",
        "# LIMIT 숫자  몇개만 보여줄건지"
      ],
      "metadata": {
        "id": "c4aGD5-AlMw6"
      },
      "execution_count": null,
      "outputs": []
    },
    {
      "cell_type": "code",
      "source": [
        "# UPDATE where문 꼭 써야함\n",
        "UPDATE 테이블명 SET 컬럼='변경할내용', 컬럼='변경할내용' WHERE id=2;"
      ],
      "metadata": {
        "id": "f4o6e0eelwex"
      },
      "execution_count": null,
      "outputs": []
    },
    {
      "cell_type": "code",
      "source": [
        "# DELETE where문 꼭 써야함\n",
        "DELETE FROM 테이블 WHERE 조건;"
      ],
      "metadata": {
        "id": "AvRdrycZt91z"
      },
      "execution_count": null,
      "outputs": []
    },
    {
      "cell_type": "markdown",
      "source": [
        "## 관계형 데이터베이스(RDB)"
      ],
      "metadata": {
        "id": "YbQ-USI-vQ2X"
      }
    },
    {
      "cell_type": "code",
      "source": [
        "# LEFT JOIN\n",
        "\n",
        "SELECT * FROM 테이블1 LEFT JOIN 테이블2 ON 테이블1.교컬럼 = 테이블2.교컬럼;\n",
        ">>> 테이블1 + 테이블2\n",
        "\n",
        "SELECT * FROM topic LEFT JOIN author ON topic.author_id=author.id;"
      ],
      "metadata": {
        "id": "oV1hbnJ4vUIs"
      },
      "execution_count": null,
      "outputs": []
    },
    {
      "cell_type": "markdown",
      "source": [
        "![화면 캡처 2023-01-19 161744.png](data:image/png;base64,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)"
      ],
      "metadata": {
        "id": "0Gv4k8IO5E7b"
      }
    }
  ]
}
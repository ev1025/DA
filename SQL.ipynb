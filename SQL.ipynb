{
  "nbformat": 4,
  "nbformat_minor": 0,
  "metadata": {
    "colab": {
      "provenance": [],
      "authorship_tag": "ABX9TyNs2rTak03BD/aYWCRyahNy",
      "include_colab_link": true
    },
    "kernelspec": {
      "name": "python3",
      "display_name": "Python 3"
    },
    "language_info": {
      "name": "python"
    }
  },
  "cells": [
    {
      "cell_type": "markdown",
      "metadata": {
        "id": "view-in-github",
        "colab_type": "text"
      },
      "source": [
        "<a href=\"https://colab.research.google.com/github/ev1025/DA_Study/blob/main/SQL.ipynb\" target=\"_parent\"><img src=\"https://colab.research.google.com/assets/colab-badge.svg\" alt=\"Open In Colab\"/></a>"
      ]
    },
    {
      "cell_type": "markdown",
      "source": [
        "# 설치"
      ],
      "metadata": {
        "id": "G5NICNEw3J8S"
      }
    },
    {
      "cell_type": "markdown",
      "source": [
        "**설치**\n",
        "1. Bitnami WAMP 검색하여 설치(찾아봐야함) Window에서 Apach, Mysql, PHP 한번에 설치해주는 파일    \n",
        "- 설치url : https://bitnami.com/redirect/to/1449638/bitnami-wampstack-8.0.3-2-windows-x64-installer.exe?bypassauth=false&fb=1&with_popup_skip_signin=1\n",
        "2. 오른쪽 로컬인스톨 맨위\n",
        "3. root 비밀번호설정(다중 사용프로그램)\n",
        "4. cloud with Bitnami 체크 해제, 설치\n",
        "5. Bitnami WAMP에서 Manage Severs탭에 MySQL이 초록색이어야 실행됨   \n",
        "- 출처 https://opentutorials.org/course/3161/19532\n",
        "\n",
        "**실행**\n",
        "1. cmd에서 C:\\Bitnami\\wampstack-버전\\mysql\\bin (탭눌러서 선택하면됨)\n",
        "2. mysql -uroot -p\n",
        "3. root 패스워드 입력\n",
        "\n",
        "**버전8 root 비밀번호 초기화**\n",
        "1. MySQL 중지\n",
        "2. C드라이브에 밑의 내용으로 mysql-init.txt파일 생성\n",
        "   - ALTER USER 'root'@'localhost' IDENTIFIED BY '비밀번호';\n",
        "3. cmd를 관리자권한으로 실행한 뒤 밑에 명령어 입력(MySQL을 명령어로 실행시키고, 비밀번호 변경)\n",
        "   - mysql경로\\\\mysqld --defaults-file=\"파일경로\\\\my.ini\" --init-file=C:\\mysql-init.txt\n",
        "   - 예시 : mysqld --defaults-file=\"C:\\\\Bitnami\\\\wampstack-8.0.3-2\\\\mysql\\\\my.ini\" --init-file=C:\\\\mysql-init.txt\n",
        "\n",
        "4. 새 cmd로 MySQL 실행하여 비밀번호 잘 바뀌었는지 확인\n",
        "\n",
        "- 공식문서 https://dev.mysql.com/doc/refman/8.0/en/resetting-permissions.html\n",
        "- 유튜브 https://www.youtube.com/watch?v=aUpsnwG7zOQ&t=167s\n",
        "\n"
      ],
      "metadata": {
        "id": "103OD74xsmfX"
      }
    },
    {
      "cell_type": "markdown",
      "source": [
        "# SQL 레벨업"
      ],
      "metadata": {
        "id": "mlEOExbfcYQK"
      }
    },
    {
      "cell_type": "markdown",
      "source": [
        "**데이터 캐시** \n",
        "- 데이터의 일부를 메모리에 유지하기 위해 사용하는 메모리영역\n",
        "- 휘발성이라 장애발생시 휘발됨\n",
        "\n",
        "**로그버퍼** \n",
        "- 갱신처리에 사용되는 메모리영역\n",
        "- 메모리에서 값 변경 후, commit으로 디스크의 값을 갱신처리(비동기 : 바로 처리되지 않고 후처리)\n",
        "- 도중에 장애 발생 시 처리되지 않을 수 있기 때문에 로그파일에 기록하여 장애가 유발되어도 정합성을 유지\n",
        "\n",
        "**데이터캐시에 비해 로그 버퍼의 초깃값은 낮다**\n",
        "- 트랜잭션(가장 작은 작업단위)이 대부분 검색이기 때문에 검색에 사용하는 데이터캐시에 높은 초깃값 할당\n",
        "- 갱신업무가 많은 트랜잭션인 경우 성능을 위해 로그버퍼의 초깃값을 올려줘야한다."
      ],
      "metadata": {
        "id": "ePXlPF95vTZz"
      }
    },
    {
      "cell_type": "markdown",
      "source": [
        "**SQL쿼리 실행 방법**\n",
        "1. 파서가 구문을 분석\n",
        "2. 옵티마이저가 플랜생성, 비용평가\n",
        "3. 카탈로그매니저가 통계정보를 옵티마이저에 제공\n",
        "4. 실행계획(옵티마이저가 찾은 최종 계획) ->실행계획이 SQL의 성능을 좌우한다.\n"
      ],
      "metadata": {
        "id": "WxgClBKQceyu"
      }
    },
    {
      "cell_type": "code",
      "source": [
        "# 통계정보 갱신 명령어(Mysql)\n",
        "ANALYZE 스키마.테이블"
      ],
      "metadata": {
        "id": "-FHs2P5E1__J"
      },
      "execution_count": null,
      "outputs": []
    },
    {
      "cell_type": "markdown",
      "source": [
        "**SQL구문의 성능이 낮을 때 확인 절차**"
      ],
      "metadata": {
        "id": "JkA6tnPtdb2a"
      }
    },
    {
      "cell_type": "code",
      "source": [
        "#  실행계획 확인 방법\n",
        "EXPLAIN EXTENDED\n",
        "[SQL구문]"
      ],
      "metadata": {
        "id": "7JBgucQrdOnQ"
      },
      "execution_count": null,
      "outputs": []
    },
    {
      "cell_type": "markdown",
      "source": [
        "**결합 알고리즘 종류**\n",
        "1. **Nested Loops(중첩반복)** : 한쪽의 테이블을 읽으면서 결합조건에 맞는 다른 테이블을 찾는 방법(이중중첩쿼리)\n",
        "\n",
        "2. **Sort Merge** : 원칙적으로 결합 전 정렬을 해야하며 결합키로 레코드를 정렬하고 순차적으로 결합(워킹메모리 사용)\n",
        "\n",
        "3. **Hash** : 결합 키 값을 해시값으로 매핑(해시테이블 생성을 위해 워킹메모리 사용)"
      ],
      "metadata": {
        "id": "RhgDekjdiNXN"
      }
    },
    {
      "cell_type": "markdown",
      "source": [
        "**VIEW : 자주 사용하는 SQL 구문을 저장**"
      ],
      "metadata": {
        "id": "VDdpS_Pf_UTw"
      }
    },
    {
      "cell_type": "code",
      "source": [
        "# VIEW 저장\n",
        "CREATE VIEW [뷰이름] ([필드1],[필드2]...) # 뷰이름, 필드는 내가 지정하고싶은 이름으로 (필드1 = address값, 필드2 = COUNT(*)값)\n",
        "AS\n",
        "SELECT address, COUNT(*)\n",
        "FROM ADDRESS\n",
        "GROUP BY address;"
      ],
      "metadata": {
        "id": "-gytTiQW8I5T"
      },
      "execution_count": null,
      "outputs": []
    },
    {
      "cell_type": "code",
      "source": [
        "# VIEW 구문 불러오기\n",
        "SELECT [필드1], [필드2]\n",
        "FROM [뷰이름];"
      ],
      "metadata": {
        "id": "GqbQsxni8K2E"
      },
      "execution_count": null,
      "outputs": []
    },
    {
      "cell_type": "markdown",
      "source": [
        "## **이중중첩(Subquery)**\n",
        "- FROM 구에 직접 지정한 SELECT문"
      ],
      "metadata": {
        "id": "sYk-AGxm8y4x"
      }
    },
    {
      "cell_type": "markdown",
      "source": [
        "**CASE 조건식**\n",
        "- 주로 SELECT구에서의 조건분기로 사용"
      ],
      "metadata": {
        "id": "GrW5Yyq4_qfS"
      }
    },
    {
      "cell_type": "code",
      "source": [
        "# 검색 케이스식\n",
        "CASE WHEN [조건] THEN [식]\n",
        "     WHEN [조건] THEN [식]\n",
        "     ELSE [식]\n",
        "END"
      ],
      "metadata": {
        "id": "AjICbqf0_dgs"
      },
      "execution_count": null,
      "outputs": []
    },
    {
      "cell_type": "code",
      "source": [
        "# 라벨링\n",
        "# 이름, 주소, 지역 정보(case문으로 생성)을 나타내는 테이블\n",
        "SELECT name, address,\n",
        "    CASE WHEN address ='서울시' THEN '서울'\n",
        "         WHEN address ='포천시' THEN '경기'\n",
        "         WHEN address ='대구시' THEN '경상도'\n",
        "         ELSE NULL END AS 지역\n",
        "FROM Address;"
      ],
      "metadata": {
        "id": "j8lLEzo3AQR7"
      },
      "execution_count": null,
      "outputs": []
    },
    {
      "cell_type": "code",
      "source": [
        "# 두개의 컬럼을 조건에 따라 선택하여 라벨링(2001 이전자료는 세전금액컬럼으로, 2002이후자료는 세후금액 컬럼으로 채우기)\n",
        "SELECT name, year, \n",
        "       CASE WHEN year <= 2001 THEN 세전금액\n",
        "            WHEN year >= 2002 THEN 세후금액 END AS price\n",
        "FROM Items"
      ],
      "metadata": {
        "id": "Qz2lsJ2uj833"
      },
      "execution_count": null,
      "outputs": []
    },
    {
      "cell_type": "code",
      "source": [
        "SELECT emp_name,\n",
        "       CASE WHEN COUNT(team) = 1 THEN team\n",
        "            WHEN COUNT(team) = 2 THEN '2개를 겸무'\n",
        "            WHEN COUNT(team) = 3 THEN '3개 이상을 겸무' END AS team\n",
        "FROM Employees\n",
        "GROUP BY emp_name"
      ],
      "metadata": {
        "id": "ZL2PiOxHmwn3"
      },
      "execution_count": null,
      "outputs": []
    },
    {
      "cell_type": "markdown",
      "source": [
        "**집합연산**\n"
      ],
      "metadata": {
        "id": "ZVJcEK4TBirI"
      }
    },
    {
      "cell_type": "markdown",
      "source": [
        "- UNION(합집합)\n",
        "   - 중복을 제거한 테이블 병합\n",
        "   - 필드의 수가 같을 때만 쓸 수 있다.\n",
        "   - 중복을 제거하고 싶지 않다면 UNION ALL 사용\n",
        "\n",
        "- INTERSECT(교집합)\n",
        "  - 중복된 값만 표시\n",
        "- EXCEPT(차집합)\n",
        "  - 중복된 값만 제거\n",
        "  - 교환법칙이 성립되지 않으므로 앞뒤 순서에 유의"
      ],
      "metadata": {
        "id": "rlp-CYoACSzr"
      }
    },
    {
      "cell_type": "markdown",
      "source": [
        "- UNION이 필요한 경우\n",
        "   1. 다른 테이블에서 데이터를 받아오는 경우\n",
        "   2. 좋은 인덱스가 존재할 때(CREATE INDEX) => 테이블 Full스캔과 인덱스를 사용한 검색 중 무엇이 더 빠른지 생각해봐야함"
      ],
      "metadata": {
        "id": "KVo14P6ApeCh"
      }
    },
    {
      "cell_type": "code",
      "source": [
        "SELECT *\n",
        "    FROM Address\n",
        "UNION or INTERSECT or EXCEPT# 집합 코드\n",
        "SELECT *\n",
        "    FROM Address2; "
      ],
      "metadata": {
        "id": "VnFgA-g4BlfU"
      },
      "execution_count": null,
      "outputs": []
    },
    {
      "cell_type": "markdown",
      "source": [
        "**윈도우 함수**\n",
        "- SELECT구문의 집약함수 뒤에 OVER를 작성하고 내부에 ORDER BY나 PARTITION BY를 입력\n",
        "- 종류 : SUM(), COUNT(), RANK(), ROW_NUMBER(), RANGE(), ROWS() 등.."
      ],
      "metadata": {
        "id": "Op_azSdaEjPs"
      }
    },
    {
      "cell_type": "code",
      "source": [
        "# PARTITION BY \n",
        "# GROUP BY에서 나누기만 하고 합치지 않는 것(레코드의 개수만큼 출력값이 나옴)\n",
        "SELECT address,\n",
        "       COUNT(*) OVER (PARTITION BY address)\n",
        "FROM Address;\n",
        "\n",
        "# =>\n",
        "# address | count\n",
        "# 속초시  |   1\n",
        "# 인천시  |   2\n",
        "# 인천시  |   2\n",
        "# 포천시  |   3 \n",
        "# 포천시  |   3 \n",
        "# 포천시  |   3 "
      ],
      "metadata": {
        "id": "uZ9afrLrE9xg"
      },
      "execution_count": null,
      "outputs": []
    },
    {
      "cell_type": "code",
      "source": [
        "# 윈도우함수 ORDER BY 예시\n",
        "SELECT name, age,\n",
        "       RANK() OVER (ORDER BY age DESC) as rnk\n",
        "FROM Address;"
      ],
      "metadata": {
        "id": "Tn2xSQmLFp1j"
      },
      "execution_count": null,
      "outputs": []
    },
    {
      "cell_type": "markdown",
      "source": [
        "## 집약과 자르기"
      ],
      "metadata": {
        "id": "NltD3QIJ0Asu"
      }
    },
    {
      "cell_type": "markdown",
      "source": [
        "**합쳐서 하나(p.146)**\n",
        "- 레코드별로 퍼져있는 자료를 하나로 뭉치는 집약"
      ],
      "metadata": {
        "id": "hykuRag3Bh6G"
      }
    },
    {
      "cell_type": "code",
      "source": [
        "import sqlite3\n",
        "import pandas as pd\n",
        "\n",
        "con = sqlite3.connect(':memory:')\n",
        "cursor = con.cursor()\n",
        "cursor.execute('''DROP TABLE IF EXISTS PriceByAge''')\n",
        "cursor.execute('''CREATE TABLE PriceByAge(product_id VARCHAR(32) NOT NULL,\n",
        "                low_age INTEGER NOT NULL,\n",
        "                high_age INTEGER NOT NULL,\n",
        "                price INTEGER NOT NULL,\n",
        "                PRIMARY KEY (product_id, low_age),\n",
        "                CHECK(low_age < high_age));''')\n",
        "\n",
        "cursor.execute('''INSERT INTO PriceByAge Values(\"제품1\", 0, 50 ,2000),(\"제품1\", 51,100, 3000),(\"제품2\",0,100,4200),(\"제품3\",0,20,500),(\"제품3\",31,70,800),(\"제품3\",71,100,1000),(\"제품4\",0,99,8900)''')\n",
        "con.commit\n",
        "# con.close()\n",
        "\n",
        "# 원본데이터베이스 \n",
        "raw_sql = 'select * from PriceByAge'\n",
        "raw_ans = pd.read_sql(raw_sql, con=con)\n",
        "print('원본데이터\\n', raw_ans)\n",
        "\n",
        "# 연령이 누락되지 않는 제품만뽑기\n",
        "sql = 'select product_id FROM PriceByAge Group by product_id Having sum(high_age - low_age + 1) =101;'\n",
        "ans = pd.read_sql(sql,con=con)\n",
        "print('뽑은결과\\n',ans)"
      ],
      "metadata": {
        "colab": {
          "base_uri": "https://localhost:8080/"
        },
        "id": "Z0qZugDa_e-R",
        "outputId": "2e1f20a1-75e2-473b-fd40-77eb924437af"
      },
      "execution_count": 14,
      "outputs": [
        {
          "output_type": "stream",
          "name": "stdout",
          "text": [
            "원본데이터\n",
            "   product_id  low_age  high_age  price\n",
            "0        제품1        0        50   2000\n",
            "1        제품1       51       100   3000\n",
            "2        제품2        0       100   4200\n",
            "3        제품3        0        20    500\n",
            "4        제품3       31        70    800\n",
            "5        제품3       71       100   1000\n",
            "6        제품4        0        99   8900\n",
            "뽑은결과\n",
            "   product_id\n",
            "0        제품1\n",
            "1        제품2\n"
          ]
        }
      ]
    },
    {
      "cell_type": "markdown",
      "source": [
        "**소요날짜에 적용할 수 있음**"
      ],
      "metadata": {
        "id": "2_DYEBwaHQsx"
      }
    },
    {
      "cell_type": "code",
      "source": [
        "cursor.execute('''DROP TABLE IF EXISTS HOTEL''')\n",
        "cursor.execute('''CREATE TABLE HOTEL(\n",
        "    roomnum INTEGER,\n",
        "    start_date DATE,\n",
        "    end_date DATE,\n",
        "    PRIMARY KEY(roomnum, start_date));\n",
        "''')\n",
        "cursor.execute('''INSERT INTO HOTEL VALUES (101, 20080201, 20080206),(101, 20080206, 20080208),(101,20080208,20080213),\n",
        "(202, 20080201, 20080202), (202, 20080202,20080204), \n",
        "(303, 20080201,20080212)\n",
        "''')\n",
        "con.commit()\n",
        "\n",
        "# sql = 'select * from hotel'\n",
        "sql = 'SELECT roomnum, sum(end_date - start_date) FROM HOTEL GROUP BY roomnum HAVING SUM(end_date - start_date) >=10'\n",
        "ans = pd.read_sql(sql,con=con)\n",
        "ans"
      ],
      "metadata": {
        "colab": {
          "base_uri": "https://localhost:8080/",
          "height": 112
        },
        "id": "t7T93regCPRk",
        "outputId": "1c04444c-2d88-4b97-e03f-023fb21b9de7"
      },
      "execution_count": 52,
      "outputs": [
        {
          "output_type": "execute_result",
          "data": {
            "text/plain": [
              "   roomnum  sum(end_date - start_date)\n",
              "0      101                          12\n",
              "1      303                          11"
            ],
            "text/html": [
              "\n",
              "  <div id=\"df-879e8d28-5438-46c4-8c35-e6a7a7d174e4\">\n",
              "    <div class=\"colab-df-container\">\n",
              "      <div>\n",
              "<style scoped>\n",
              "    .dataframe tbody tr th:only-of-type {\n",
              "        vertical-align: middle;\n",
              "    }\n",
              "\n",
              "    .dataframe tbody tr th {\n",
              "        vertical-align: top;\n",
              "    }\n",
              "\n",
              "    .dataframe thead th {\n",
              "        text-align: right;\n",
              "    }\n",
              "</style>\n",
              "<table border=\"1\" class=\"dataframe\">\n",
              "  <thead>\n",
              "    <tr style=\"text-align: right;\">\n",
              "      <th></th>\n",
              "      <th>roomnum</th>\n",
              "      <th>sum(end_date - start_date)</th>\n",
              "    </tr>\n",
              "  </thead>\n",
              "  <tbody>\n",
              "    <tr>\n",
              "      <th>0</th>\n",
              "      <td>101</td>\n",
              "      <td>12</td>\n",
              "    </tr>\n",
              "    <tr>\n",
              "      <th>1</th>\n",
              "      <td>303</td>\n",
              "      <td>11</td>\n",
              "    </tr>\n",
              "  </tbody>\n",
              "</table>\n",
              "</div>\n",
              "      <button class=\"colab-df-convert\" onclick=\"convertToInteractive('df-879e8d28-5438-46c4-8c35-e6a7a7d174e4')\"\n",
              "              title=\"Convert this dataframe to an interactive table.\"\n",
              "              style=\"display:none;\">\n",
              "        \n",
              "  <svg xmlns=\"http://www.w3.org/2000/svg\" height=\"24px\"viewBox=\"0 0 24 24\"\n",
              "       width=\"24px\">\n",
              "    <path d=\"M0 0h24v24H0V0z\" fill=\"none\"/>\n",
              "    <path d=\"M18.56 5.44l.94 2.06.94-2.06 2.06-.94-2.06-.94-.94-2.06-.94 2.06-2.06.94zm-11 1L8.5 8.5l.94-2.06 2.06-.94-2.06-.94L8.5 2.5l-.94 2.06-2.06.94zm10 10l.94 2.06.94-2.06 2.06-.94-2.06-.94-.94-2.06-.94 2.06-2.06.94z\"/><path d=\"M17.41 7.96l-1.37-1.37c-.4-.4-.92-.59-1.43-.59-.52 0-1.04.2-1.43.59L10.3 9.45l-7.72 7.72c-.78.78-.78 2.05 0 2.83L4 21.41c.39.39.9.59 1.41.59.51 0 1.02-.2 1.41-.59l7.78-7.78 2.81-2.81c.8-.78.8-2.07 0-2.86zM5.41 20L4 18.59l7.72-7.72 1.47 1.35L5.41 20z\"/>\n",
              "  </svg>\n",
              "      </button>\n",
              "      \n",
              "  <style>\n",
              "    .colab-df-container {\n",
              "      display:flex;\n",
              "      flex-wrap:wrap;\n",
              "      gap: 12px;\n",
              "    }\n",
              "\n",
              "    .colab-df-convert {\n",
              "      background-color: #E8F0FE;\n",
              "      border: none;\n",
              "      border-radius: 50%;\n",
              "      cursor: pointer;\n",
              "      display: none;\n",
              "      fill: #1967D2;\n",
              "      height: 32px;\n",
              "      padding: 0 0 0 0;\n",
              "      width: 32px;\n",
              "    }\n",
              "\n",
              "    .colab-df-convert:hover {\n",
              "      background-color: #E2EBFA;\n",
              "      box-shadow: 0px 1px 2px rgba(60, 64, 67, 0.3), 0px 1px 3px 1px rgba(60, 64, 67, 0.15);\n",
              "      fill: #174EA6;\n",
              "    }\n",
              "\n",
              "    [theme=dark] .colab-df-convert {\n",
              "      background-color: #3B4455;\n",
              "      fill: #D2E3FC;\n",
              "    }\n",
              "\n",
              "    [theme=dark] .colab-df-convert:hover {\n",
              "      background-color: #434B5C;\n",
              "      box-shadow: 0px 1px 3px 1px rgba(0, 0, 0, 0.15);\n",
              "      filter: drop-shadow(0px 1px 2px rgba(0, 0, 0, 0.3));\n",
              "      fill: #FFFFFF;\n",
              "    }\n",
              "  </style>\n",
              "\n",
              "      <script>\n",
              "        const buttonEl =\n",
              "          document.querySelector('#df-879e8d28-5438-46c4-8c35-e6a7a7d174e4 button.colab-df-convert');\n",
              "        buttonEl.style.display =\n",
              "          google.colab.kernel.accessAllowed ? 'block' : 'none';\n",
              "\n",
              "        async function convertToInteractive(key) {\n",
              "          const element = document.querySelector('#df-879e8d28-5438-46c4-8c35-e6a7a7d174e4');\n",
              "          const dataTable =\n",
              "            await google.colab.kernel.invokeFunction('convertToInteractive',\n",
              "                                                     [key], {});\n",
              "          if (!dataTable) return;\n",
              "\n",
              "          const docLinkHtml = 'Like what you see? Visit the ' +\n",
              "            '<a target=\"_blank\" href=https://colab.research.google.com/notebooks/data_table.ipynb>data table notebook</a>'\n",
              "            + ' to learn more about interactive tables.';\n",
              "          element.innerHTML = '';\n",
              "          dataTable['output_type'] = 'display_data';\n",
              "          await google.colab.output.renderOutput(dataTable, element);\n",
              "          const docLink = document.createElement('div');\n",
              "          docLink.innerHTML = docLinkHtml;\n",
              "          element.appendChild(docLink);\n",
              "        }\n",
              "      </script>\n",
              "    </div>\n",
              "  </div>\n",
              "  "
            ]
          },
          "metadata": {},
          "execution_count": 52
        }
      ]
    },
    {
      "cell_type": "markdown",
      "source": [
        "# MySQL"
      ],
      "metadata": {
        "id": "XA1vXKNY3Mmz"
      }
    },
    {
      "cell_type": "markdown",
      "source": [
        "- 생활코딩 참고 : https://opentutorials.org/course/3161"
      ],
      "metadata": {
        "id": "nGZjkTYNDItn"
      }
    },
    {
      "cell_type": "markdown",
      "source": [
        "- Table : 데이터를 저장하는 표\n",
        "- Database : 연관된 테이블을 모아놓은 것\n",
        "- Schema : 데이터베이스에서 테이블이 구성되는 방식과 서로 다른 엔티티 간의 관계를 표현\n",
        "   - 엔티티(Entity) : 테이블\n",
        "   - 필드(Field) : 열(Column)\n",
        "   - 레코드(Record) : 행(Row)"
      ],
      "metadata": {
        "id": "F2u4NwEM4QTp"
      }
    },
    {
      "cell_type": "markdown",
      "source": [
        "- 데이터 캐시를 효율적으로 유지하고자 LRU 알고리즘 사용\n",
        "- LRU : 가장 오래 참조되지 않은 페이지 제거(FIFO같은 알고리즘 중 하나라고 보면됨)"
      ],
      "metadata": {
        "id": "UkTdoGZGnQFq"
      }
    },
    {
      "cell_type": "code",
      "source": [
        "# mysql monitor\n",
        "mysql -u유저이름 # -u는 사용자를 뜻함 root는 관리자권한\n",
        "mysql -u유저이름 -p비밀번호 # -p는 비밀번호\n",
        "mysql -uroot -p -h서버주소 # -h서버주소에 접속(안쓰면 자동으로 localhost)"
      ],
      "metadata": {
        "id": "amfKWA0B6t-i"
      },
      "execution_count": null,
      "outputs": []
    },
    {
      "cell_type": "markdown",
      "source": [
        "## 데이터베이스"
      ],
      "metadata": {
        "id": "NbfmZ6MpY69Q"
      }
    },
    {
      "cell_type": "code",
      "source": [
        "# 데이터베이스 만들기\n",
        "CREATE DATABASE 데이터베이스명;\n",
        "\n",
        "# 데이터베이스 삭제\n",
        "DROP DATABASE [IF EXISTS] 데이터베이스명; \n",
        "# 데이터베이스 확인\n",
        "SHOW DATABASES;\n",
        "\n",
        "# 데이터베이스 변경\n",
        "USE 데이터베이스명\n",
        "\n",
        "# 현재 사용중인 DB 확인\n",
        "SELECT database();"
      ],
      "metadata": {
        "id": "j0MhrNubXwyx"
      },
      "execution_count": null,
      "outputs": []
    },
    {
      "cell_type": "markdown",
      "source": [
        "## 테이블"
      ],
      "metadata": {
        "id": "_BTh1xPgY9GU"
      }
    },
    {
      "cell_type": "markdown",
      "source": [
        "- **AUTO_INCREMENT** : 추가할 때 마다 자동으로 1씩 증가하도록 설정\n",
        "- **VARCHAR와 CHAR의 차이** : VAR는 변동이있음\n",
        "- **DATA와 DATATIME** : 시간까지 표시하는지 여부\n",
        "- **NOW()** : 현재 날짜표시\n",
        "- **IF EXISTS** : 존재하지 않더라도 오류 발생하지 않기 \n",
        "- **DISTINCT** : 중복불가"
      ],
      "metadata": {
        "id": "W-4L-LqtcXaJ"
      }
    },
    {
      "cell_type": "markdown",
      "source": [
        "[**데이터 타입**](https://www.techonthenet.com/mysql/datatypes.php)\n",
        "- numeric(n, m) : n은 소수점 앞 최대 개수, m은 소수점 뒤 최대 개수(남는 자리는 패딩처리) \n",
        "- real : 소수점 아래 6개까지\n",
        "- double : 소수점 아래 15개 까지\n",
        "- date 타입은 2008년 2월 1일이면 20080201로 입력"
      ],
      "metadata": {
        "id": "OO6gzVWhIE_Y"
      }
    },
    {
      "cell_type": "code",
      "source": [
        "# 테이블 확인\n",
        "SHOW TABLES;\n",
        "\n",
        "# 테이블 생성\n",
        "CREATE TABLE topic(\n",
        "    -> id INT(11) NOT NULL AUTO_INCREMENT,\n",
        "    -> title VARCHAR(100) NOT NULL,\n",
        "    -> description TEXT NULL,\n",
        "    -> created DATETIME NOT NULL,\n",
        "    -> author VARCHAR(30) NULL,\n",
        "    -> profile VARCHAR(100) NULL,\n",
        "    -> PRIMARY KEY(id));\n",
        "# ERROR 1820 -> MYSQL에서 제공하는 ROOT비밀번호를 사용하고있는데, 다른거로 바꿔라\n",
        "# SET PASSWORD = PASSWORD('비번');  -> MYSQL 로그인 할 때 비밀번호 바꾸는 명령어\n",
        "\n",
        "# 테이블 제거\n",
        "DROP TABLE 테이블\n",
        "\n",
        "# 테이블명 변경\n",
        "RENAME TABLE 테이블명 TO 새이름\n",
        "\n",
        "# 특정 테이블 정보 조회\n",
        "DESC 테이블명;\n",
        "\n",
        "# 컬럼 추가\n",
        "ALTER TABLE 테이블명 ADD 컬럼명 컬럼타입 DEFAULT 기본값;\n",
        "ALTER TABLE 테이블명 ADD COLUMN 컬럼명 컬럼타입 DEFAULT 기본값 AFTER 앞컬럼; # 앞컬럼 뒤에 추가\n",
        "ALTER TABLE 테이블명 ADD COLUMN 컬럼명 컬럼타입 DEFAULT FIRST; # 첫번째에 추가\n",
        "\n",
        "# 컬럼 삭제\n",
        "ALTER TABLE 테이블명 DROP COLUMN 컬럼명;\n",
        "\n",
        "# 컬럼명 변경\n",
        "ALTER TABLE 테이블명 CHANGE 이름 새이름 컬럼타입;\n",
        "\n",
        "\n",
        "# 컬럼 순서변경\n",
        "ALTER TABLE 테이블명 MODIFY 뒤컬럼 컬럼타입 AFTER 앞컬럼;\n",
        "\n",
        "# 컬럼 타입변경\n",
        "ALTER TABLE 테이블명 MODIFY 컬럼명 타입;\n",
        "\n",
        "# 컬럼 기본값 변경(기존에 입력된 값은 변하지 않음)\n",
        "ALTER TABLE 테이블명 ALTER COLUMN 컬럼명 SET DEFAULT 디폴트값;"
      ],
      "metadata": {
        "id": "0W0ixPfijJyg"
      },
      "execution_count": null,
      "outputs": []
    },
    {
      "cell_type": "code",
      "source": [
        "# CREATE\n",
        "INSERT INTO 테이블명 (컬럼1, 컬럼2) VALUES (값1,값2),(값3, 값4), (값5, 값6); # AUTO_INCREMENT는 자동으로 채워지므로 안써도 됨"
      ],
      "metadata": {
        "id": "3EO7RrTIhfN1"
      },
      "execution_count": null,
      "outputs": []
    },
    {
      "cell_type": "code",
      "source": [
        "# READ\n",
        "SELECT 컬럼 FROM 테이블명 WHERE 컬럼 조건 GROUP BY 컬럼 ORDER BY 컬럼 DESC HAVING 조건;\n",
        "\n",
        "# WHERE = 조건\n",
        "SELECT 컬럼 FROM 테이블명 WHERE 컬럼 = '값'; \n",
        "\n",
        "SELECT 컬럼 FROM 테이블명 WHERE 컬럼 ='A' OR 컬럼 ='B' OR 컬럼 =  'C'  \n",
        "SELECT 컬럼 FROM 테이블명 WHERE 컬럼 IN ('A','B','C') # IN 뒤에 (SELECT문)도 받을 수 있음\n",
        "\n",
        "SELECT 컬럼 FROM 테이블명 WHERE 컬럼 IS NULL     # 컬럼의 결측치\n",
        "SELECT 컬럼 FROM 테이블명 WHERE 컬럼 IS NOT NULL # 컬럼의 비결측치\n",
        "\n",
        "# ORDER BY = 정렬\n",
        "SELECT 컬럼 FROM 테이블명  ORDERBY 컬럼 DESC; # 내림차순\n",
        "\n",
        "# HAVING = 생성 된 집합에서의 조건\n",
        "SELECT 컬럼 FROM 테이블명 WHERE 컬럼 IS NOT NULL HAVING 컬럼>2\n",
        "\n",
        "# LIMIT 숫자  몇개만 보여줄건지\n",
        "# OFFSET 시작 인덱스"
      ],
      "metadata": {
        "id": "c4aGD5-AlMw6"
      },
      "execution_count": null,
      "outputs": []
    },
    {
      "cell_type": "code",
      "source": [
        "# ROWNUM\n",
        "# 인덱스 번호 생성(정렬x)\n",
        "SELECT ROWNUM, t.*\n",
        "FROM [테이블] t\n",
        "\n",
        "# 필드순으로 정렬된 인덱스 번호 생성(서브쿼리)\n",
        "SELECT ROWNUM, t.*\n",
        "FROM (SELECT t1.* \n",
        "      FROM [테이블] t1\n",
        "      ORDER BY t1.[필드]) AS t"
      ],
      "metadata": {
        "id": "xkEivCsRIAi1"
      },
      "execution_count": null,
      "outputs": []
    },
    {
      "cell_type": "code",
      "source": [
        "# ROW_NUMBER()\n",
        "# 인덱스 번호 생성(필드1, 필드2를 기준으로)\n",
        "SELECT ROW_NUMBER() OVER (ORDER BY t.[필드1] t.[필드2]) AS row_num,\n",
        "       t.*\n",
        "FROM [테이블] AS t\n",
        "\n",
        "# 인덱스번호 따로 (필드1이 1인 값들 중에 필드2의 순서정렬 => 필드1이 2인 값들중에 필드2의 순서정렬 ....)\n",
        "SELECT ROW_NUMBER() OVER (PARTITION BY t.[필드1] ORDER BY t.[필드1], t.[필드2]) AS row_num,\n",
        "       t.*\n",
        "FROM [테이블] AS t"
      ],
      "metadata": {
        "id": "rhlN-IvKIy0X"
      },
      "execution_count": null,
      "outputs": []
    },
    {
      "cell_type": "code",
      "source": [
        "# RANK() : 같은 값이면 건너뜀(공동3등 다음은 5등) => 1등, 2등, 3등(2명), 5등 ...\n",
        "# DENSE_RANK() : 같은 값일 때 건너뛰지 않음(공동3등 다음은 4등) => 1등, 2등, 3등(2명), 4등 ...\n",
        "SELECT name, age,\n",
        "       RANK() OVER (ORDER BY age DESC) AS rnk\n",
        "FROM Address;"
      ],
      "metadata": {
        "id": "UzPeDJ_NN3UB"
      },
      "execution_count": null,
      "outputs": []
    },
    {
      "cell_type": "code",
      "source": [
        "# UPDATE where문 꼭 써야함\n",
        "# 컬럼1이 '값'인  레코드의 컬럼2와 컬럼3를 변경\n",
        "UPDATE [테이블명]\n",
        "SET [컬럼2]='변경할내용', [컬럼3]='변경할내용' \n",
        "WHERE [컬럼1]='값';"
      ],
      "metadata": {
        "id": "f4o6e0eelwex"
      },
      "execution_count": null,
      "outputs": []
    },
    {
      "cell_type": "code",
      "source": [
        "# DELETE where문 꼭 써야함\n",
        "DELETE FROM 테이블 \n",
        "WHERE 조건;"
      ],
      "metadata": {
        "id": "AvRdrycZt91z"
      },
      "execution_count": null,
      "outputs": []
    },
    {
      "cell_type": "markdown",
      "source": [
        "## 관계형 데이터베이스(RDB)"
      ],
      "metadata": {
        "id": "YbQ-USI-vQ2X"
      }
    },
    {
      "cell_type": "code",
      "source": [
        "# LEFT JOIN\n",
        "\n",
        "SELECT * FROM 테이블1 LEFT JOIN 테이블2 ON 테이블1.교컬럼 = 테이블2.교컬럼;\n",
        ">>> 테이블1 + 테이블2\n",
        "\n",
        "SELECT * FROM topic LEFT JOIN author ON topic.author_id=author.id;"
      ],
      "metadata": {
        "id": "oV1hbnJ4vUIs"
      },
      "execution_count": null,
      "outputs": []
    },
    {
      "cell_type": "markdown",
      "source": [
        "![화면 캡처 2023-01-19 161744.png](data:image/png;base64,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)"
      ],
      "metadata": {
        "id": "0Gv4k8IO5E7b"
      }
    },
    {
      "cell_type": "markdown",
      "source": [
        "## csv파일 import 오류"
      ],
      "metadata": {
        "id": "wFZJ0InuxqCw"
      }
    },
    {
      "cell_type": "markdown",
      "source": [
        "**unhandled exception: 'cp949' codec can't decode byte**   \n",
        "- 해결방법 : csv를 json으로 변경\n",
        "- https://csvjson.com/csv2json 이용하거나 밑에 코드 이용"
      ],
      "metadata": {
        "id": "PRH1eB-PyKRL"
      }
    },
    {
      "cell_type": "code",
      "source": [
        "# csv to json 파일 생성\n",
        "import csv\n",
        "import json\n",
        "\n",
        "data = []\n",
        "with open('data.csv', 'r') as csv_file:\n",
        "    reader = csv.DictReader(csv_file)\n",
        "    data = list(reader)\n",
        "\n",
        "with open('data.json', 'w') as json_file:\n",
        "    json.dump(data, json_file)"
      ],
      "metadata": {
        "id": "12NRk14zxtsd"
      },
      "execution_count": null,
      "outputs": []
    },
    {
      "cell_type": "code",
      "source": [
        "# json변경 후 변수에 저장\n",
        "import csv\n",
        "import json\n",
        "\n",
        "data = []\n",
        "with open('data.csv', 'r') as csv_file:\n",
        "    reader = csv.DictReader(csv_file)\n",
        "    data = list(reader)\n",
        "\n",
        "json_data = json.dumps(data)\n",
        "print(json_data)"
      ],
      "metadata": {
        "id": "ZUDrd2dCzISY"
      },
      "execution_count": null,
      "outputs": []
    },
    {
      "cell_type": "markdown",
      "source": [
        "## Pymysql"
      ],
      "metadata": {
        "id": "vaokgonnbEpJ"
      }
    },
    {
      "cell_type": "markdown",
      "source": [
        "참고 : https://han.gl/PqLeG"
      ],
      "metadata": {
        "id": "5xJ-YvMEdE5W"
      }
    },
    {
      "cell_type": "code",
      "source": [
        "pip install pymysql"
      ],
      "metadata": {
        "colab": {
          "base_uri": "https://localhost:8080/"
        },
        "id": "IkSQs3f1bHWP",
        "outputId": "bbefa7bc-cab9-4ae9-fde6-c610c3e75a4b"
      },
      "execution_count": null,
      "outputs": [
        {
          "output_type": "stream",
          "name": "stdout",
          "text": [
            "Looking in indexes: https://pypi.org/simple, https://us-python.pkg.dev/colab-wheels/public/simple/\n",
            "Collecting pymysql\n",
            "  Downloading PyMySQL-1.0.2-py3-none-any.whl (43 kB)\n",
            "\u001b[2K     \u001b[90m━━━━━━━━━━━━━━━━━━━━━━━━━━━━━━━━━━━━━━━━\u001b[0m \u001b[32m43.8/43.8 KB\u001b[0m \u001b[31m2.2 MB/s\u001b[0m eta \u001b[36m0:00:00\u001b[0m\n",
            "\u001b[?25hInstalling collected packages: pymysql\n",
            "Successfully installed pymysql-1.0.2\n"
          ]
        }
      ]
    },
    {
      "cell_type": "code",
      "source": [
        "import pymysql\n",
        "\n",
        "# mysql 연결자 생성\n",
        "conn = pymysql.connect(host='127.0.0.1',   # db주소\n",
        "                       user='root',        # db유저아이디\n",
        "                       password='s10e534', # db비밀번호\n",
        "                       db='opentutorials', # db이름\n",
        "                       charset='utf8')     # 한글설정\n",
        "# conn = pymysql.connect(':memory:') # 메모리에 저장\n",
        "# conn = pymysql.connect('test.db')  # 폴더에 데이터베이스 생성\n",
        "cur = conn.cursor() # 커서 생성\n",
        "\n",
        "cur.execute(\"CREATE TABLE userTable (id char(4), userName char(15), email char(20), birthYear int)\")\n",
        "cur.execute('INSERT INTO userTable values(\"hong\",\"홍지윤\",\"hang@naver.com\",1992)')\n",
        "conn.commit() # 입력한 데이터를 업데이트하기\n",
        "conn.close()  # mysql 연결 종료하기"
      ],
      "metadata": {
        "id": "tUnmQElUbGou"
      },
      "execution_count": null,
      "outputs": []
    }
  ]
}
{
  "nbformat": 4,
  "nbformat_minor": 0,
  "metadata": {
    "colab": {
      "provenance": [],
      "authorship_tag": "ABX9TyO/a8VfxMiB/BivrcJiJLhd",
      "include_colab_link": true
    },
    "kernelspec": {
      "name": "python3",
      "display_name": "Python 3"
    },
    "language_info": {
      "name": "python"
    }
  },
  "cells": [
    {
      "cell_type": "markdown",
      "metadata": {
        "id": "view-in-github",
        "colab_type": "text"
      },
      "source": [
        "<a href=\"https://colab.research.google.com/github/ev1025/DA_Study/blob/main/SQL_%EC%BD%94%ED%85%8C.ipynb\" target=\"_parent\"><img src=\"https://colab.research.google.com/assets/colab-badge.svg\" alt=\"Open In Colab\"/></a>"
      ]
    },
    {
      "cell_type": "markdown",
      "source": [
        "LV.1 조건에 부합하는 중고거래 댓글 조회하기 ([링크](https://school.programmers.co.kr/learn/courses/30/lessons/164673) )"
      ],
      "metadata": {
        "id": "sqYutUp4PIXN"
      }
    },
    {
      "cell_type": "code",
      "execution_count": null,
      "metadata": {
        "id": "8aDJN5doO--7"
      },
      "outputs": [],
      "source": [
        "SELECT B.TITLE, B.BOARD_ID, R.REPLY_ID, R.WRITER_ID, R.CONTENTS, DATE_FORMAT(R.CREATED_DATE, '%Y-%m-%d') AS CREATED_DATE\n",
        "FROM USED_GOODS_BOARD B JOIN USED_GOODS_REPLY R\n",
        "ON B.BOARD_ID = R.BOARD_ID\n",
        "WHERE DATE_FORMAT(B.CREATED_DATE, '%Y-%m') = '2022-10'\n",
        "ORDER BY R.CREATED_DATE ASC, B.TITLE ASC;"
      ]
    },
    {
      "cell_type": "markdown",
      "source": [
        "LV.1  특정 옵션이 포함된 자동차 리스트 구하기 ([링크](https://school.programmers.co.kr/learn/courses/30/lessons/157343))"
      ],
      "metadata": {
        "id": "JZ0paivczq6Q"
      }
    },
    {
      "cell_type": "code",
      "source": [
        "# 핵심은 LIKE와 %\n",
        "SELECT CAR_ID, CAR_TYPE, DAILY_FEE, OPTIONS\n",
        "FROM CAR_RENTAL_COMPANY_CAR\n",
        "WHERE OPTIONS LIKE \"%네비게이션%\"\n",
        "ORDER BY CAR_ID DESC;"
      ],
      "metadata": {
        "id": "iuFtayfv1xWr"
      },
      "execution_count": null,
      "outputs": []
    },
    {
      "cell_type": "markdown",
      "source": [
        "LV.1 자동차 대여 기록에서 장기/단기 대여 구분하기 ([링크](https://school.programmers.co.kr/learn/courses/30/lessons/151138))"
      ],
      "metadata": {
        "id": "4xrZwBc81yab"
      }
    },
    {
      "cell_type": "code",
      "source": [
        "# 핵심은 DATE FORMAT과 CASE문, DATEDIFF +1\n",
        "\n",
        "SELECT HISTORY_ID, CAR_ID,\n",
        "        DATE_FORMAT(START_DATE, '%Y-%m-%d') AS START_DATE,\n",
        "        DATE_FORMAT(END_DATE, '%Y-%m-%d') AS END_DATE,\n",
        "        CASE WHEN ABS(DATEDIFF(START_DATE, END_DATE))+1 >= 30 THEN '장기 대여'\n",
        "        ELSE '단기 대여'\n",
        "        END AS RENT_TYPE\n",
        "FROM CAR_RENTAL_COMPANY_RENTAL_HISTORY\n",
        "WHERE DATE_FORMAT(START_DATE,'%Y-%m') = '2022-09' \n",
        "ORDER BY HISTORY_ID DESC;\n"
      ],
      "metadata": {
        "id": "XOPESnpi6BWW"
      },
      "execution_count": null,
      "outputs": []
    },
    {
      "cell_type": "markdown",
      "source": [
        "LV.1 평균 일일 대여 요금 구하기 ([링크](https://school.programmers.co.kr/learn/courses/30/lessons/151136))"
      ],
      "metadata": {
        "id": "KI2FVOZTe8sb"
      }
    },
    {
      "cell_type": "code",
      "source": [
        "SELECT ROUND(AVG(DAILY_FEE)) AS AVERAGE_FEE\n",
        "FROM CAR_RENTAL_COMPANY_CAR\n",
        "WHERE car_type = 'SUV'"
      ],
      "metadata": {
        "id": "twshJN4ufBYu"
      },
      "execution_count": null,
      "outputs": []
    },
    {
      "cell_type": "markdown",
      "source": [
        "LV.1 조건에 맞는 도서 리스트 출력하기 ([링크](https://school.programmers.co.kr/learn/courses/30/lessons/144853))"
      ],
      "metadata": {
        "id": "CPoCAZBFfFpt"
      }
    },
    {
      "cell_type": "code",
      "source": [
        "SELECT BOOK_ID, DATE_FORMAT(PUBLISHED_DATE, '%Y-%m-%d') AS PUBLISHED_DATE\n",
        "FROM BOOK \n",
        "WHERE DATE_FORMAT(PUBLISHED_DATE, '%Y') = '2021'\n",
        "AND CATEGORY = '인문'"
      ],
      "metadata": {
        "id": "vGfIIV8xltcm"
      },
      "execution_count": null,
      "outputs": []
    },
    {
      "cell_type": "markdown",
      "source": [
        "LV.1 과일로 만든 아이스크림 고르기 ([링크](https://school.programmers.co.kr/learn/courses/30/lessons/133025))"
      ],
      "metadata": {
        "id": "gCyjn_nwl0mt"
      }
    },
    {
      "cell_type": "code",
      "source": [
        "SELECT F.FLAVOR\n",
        "FROM FIRST_HALF F JOIN ICECREAM_INFO I\n",
        "ON F.FLAVOR = I.FLAVOR\n",
        "WHERE F.TOTAL_ORDER > 3000 AND I.INGREDIENT_TYPE = 'fruit_based'\n",
        "ORDER BY TOTAL_ORDER DESC;"
      ],
      "metadata": {
        "id": "4nl8Ly18ocrs"
      },
      "execution_count": null,
      "outputs": []
    },
    {
      "cell_type": "markdown",
      "source": [
        "LV.1 인기있는 아이스크림 ([링크](https://school.programmers.co.kr/learn/courses/30/lessons/133024))"
      ],
      "metadata": {
        "id": "pMMWTYf8okry"
      }
    },
    {
      "cell_type": "code",
      "source": [
        "SELECT FLAVOR\n",
        "FROM FIRST_HALF \n",
        "ORDER BY TOTAL_ORDER DESC, SHIPMENT_ID ASC;"
      ],
      "metadata": {
        "id": "WFJ6WzM0pVAk"
      },
      "execution_count": null,
      "outputs": []
    },
    {
      "cell_type": "markdown",
      "source": [
        "LV.1 흉부외과 또는 일반외과 의사 목록 출력하기 ([링크](https://school.programmers.co.kr/learn/courses/30/lessons/132203))"
      ],
      "metadata": {
        "id": "QVbS29h0pauV"
      }
    },
    {
      "cell_type": "code",
      "source": [
        "SELECT DR_NAME, DR_ID, MCDP_CD, DATE_FORMAT(HIRE_YMD, '%Y-%m-%d') as HIRE_YMD\n",
        "FROM DOCTOR \n",
        "WHERE MCDP_CD IN ('CS','GS')\n",
        "ORDER BY HIRE_YMD DESC, DR_NAME ASC ;"
      ],
      "metadata": {
        "id": "MErKi3NFqRGq"
      },
      "execution_count": null,
      "outputs": []
    },
    {
      "cell_type": "markdown",
      "source": [
        "LV.1 12세 이하인 여자 환자 목록 출력하기([링크](https://school.programmers.co.kr/learn/courses/30/lessons/132201))"
      ],
      "metadata": {
        "id": "APA0F1_ZqT99"
      }
    },
    {
      "cell_type": "code",
      "source": [
        "# CASE IS NOT NULL\n",
        "SELECT PT_NAME, PT_NO, GEND_CD, AGE, \n",
        "        CASE WHEN TLNO IS NOT NULL THEN TLNO\n",
        "        ELSE 'NONE' END AS TLNO\n",
        "FROM PATIENT\n",
        "WHERE AGE <= 12 AND GEND_CD = 'W'\n",
        "ORDER BY AGE DESC, PT_NAME ASC;\n",
        "\n",
        "# IFNULL\n",
        "SELECT PT_NAME, PT_NO, GEND_CD, AGE, \n",
        "        IFNULL(TLNO,'NONE') AS TLNO\n",
        "FROM PATIENT\n",
        "WHERE AGE <= 12 AND GEND_CD = 'W'\n",
        "ORDER BY AGE DESC, PT_NAME ASC;\n",
        "\n",
        "# IF \n",
        "SELECT PT_NAME, PT_NO, GEND_CD, AGE, \n",
        "        IF(TLNO IS NULL,'NONE', TLNO) AS TLNO\n",
        "FROM PATIENT\n",
        "WHERE AGE <= 12 AND GEND_CD = 'W'\n",
        "ORDER BY AGE DESC, PT_NAME ASC;"
      ],
      "metadata": {
        "id": "m1i_lu5zLTO-"
      },
      "execution_count": null,
      "outputs": []
    }
  ]
}
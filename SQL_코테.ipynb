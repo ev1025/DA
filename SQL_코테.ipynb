{
  "nbformat": 4,
  "nbformat_minor": 0,
  "metadata": {
    "colab": {
      "provenance": [],
      "authorship_tag": "ABX9TyPAnuqGo4/5ehFXOn49hf2+",
      "include_colab_link": true
    },
    "kernelspec": {
      "name": "python3",
      "display_name": "Python 3"
    },
    "language_info": {
      "name": "python"
    }
  },
  "cells": [
    {
      "cell_type": "markdown",
      "metadata": {
        "id": "view-in-github",
        "colab_type": "text"
      },
      "source": [
        "<a href=\"https://colab.research.google.com/github/ev1025/DA_Study/blob/main/SQL_%EC%BD%94%ED%85%8C.ipynb\" target=\"_parent\"><img src=\"https://colab.research.google.com/assets/colab-badge.svg\" alt=\"Open In Colab\"/></a>"
      ]
    },
    {
      "cell_type": "markdown",
      "source": [
        "LV.1 조건에 부합하는 중고거래 댓글 조회하기 ([링크](https://school.programmers.co.kr/learn/courses/30/lessons/164673) )"
      ],
      "metadata": {
        "id": "sqYutUp4PIXN"
      }
    },
    {
      "cell_type": "code",
      "execution_count": null,
      "metadata": {
        "id": "8aDJN5doO--7"
      },
      "outputs": [],
      "source": [
        "SELECT B.TITLE, B.BOARD_ID, R.REPLY_ID, R.WRITER_ID, R.CONTENTS, DATE_FORMAT(R.CREATED_DATE, '%Y-%m-%d') AS CREATED_DATE\n",
        "FROM USED_GOODS_BOARD B JOIN USED_GOODS_REPLY R\n",
        "ON B.BOARD_ID = R.BOARD_ID\n",
        "WHERE DATE_FORMAT(B.CREATED_DATE, '%Y-%m') = '2022-10'\n",
        "ORDER BY R.CREATED_DATE ASC, B.TITLE ASC;"
      ]
    },
    {
      "cell_type": "markdown",
      "source": [
        "LV.1  특정 옵션이 포함된 자동차 리스트 구하기 ([링크](https://school.programmers.co.kr/learn/courses/30/lessons/157343))"
      ],
      "metadata": {
        "id": "JZ0paivczq6Q"
      }
    },
    {
      "cell_type": "code",
      "source": [
        "# 핵심은 LIKE와 %\n",
        "SELECT CAR_ID, CAR_TYPE, DAILY_FEE, OPTIONS\n",
        "FROM CAR_RENTAL_COMPANY_CAR\n",
        "WHERE OPTIONS LIKE \"%네비게이션%\"\n",
        "ORDER BY CAR_ID DESC;"
      ],
      "metadata": {
        "id": "iuFtayfv1xWr"
      },
      "execution_count": null,
      "outputs": []
    },
    {
      "cell_type": "markdown",
      "source": [
        "LV.1 자동차 대여 기록에서 장기/단기 대여 구분하기 ([링크](https://school.programmers.co.kr/learn/courses/30/lessons/151138))"
      ],
      "metadata": {
        "id": "4xrZwBc81yab"
      }
    },
    {
      "cell_type": "code",
      "source": [
        "# 핵심은 DATE FORMAT과 CASE문, DATEDIFF +1\n",
        "\n",
        "SELECT HISTORY_ID, CAR_ID,\n",
        "        DATE_FORMAT(START_DATE, '%Y-%m-%d') AS START_DATE,\n",
        "        DATE_FORMAT(END_DATE, '%Y-%m-%d') AS END_DATE,\n",
        "        CASE WHEN ABS(DATEDIFF(START_DATE, END_DATE))+1 >= 30 THEN '장기 대여'\n",
        "        ELSE '단기 대여'\n",
        "        END AS RENT_TYPE\n",
        "FROM CAR_RENTAL_COMPANY_RENTAL_HISTORY\n",
        "WHERE DATE_FORMAT(START_DATE,'%Y-%m') = '2022-09' \n",
        "ORDER BY HISTORY_ID DESC;\n"
      ],
      "metadata": {
        "id": "XOPESnpi6BWW"
      },
      "execution_count": null,
      "outputs": []
    }
  ]
}
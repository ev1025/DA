{
  "nbformat": 4,
  "nbformat_minor": 0,
  "metadata": {
    "colab": {
      "provenance": [],
      "authorship_tag": "ABX9TyMtC32Eq3CKY+5jOeNY4VYy",
      "include_colab_link": true
    },
    "kernelspec": {
      "name": "python3",
      "display_name": "Python 3"
    },
    "language_info": {
      "name": "python"
    }
  },
  "cells": [
    {
      "cell_type": "markdown",
      "metadata": {
        "id": "view-in-github",
        "colab_type": "text"
      },
      "source": [
        "<a href=\"https://colab.research.google.com/github/ev1025/DA_Study/blob/main/Tableau.ipynb\" target=\"_parent\"><img src=\"https://colab.research.google.com/assets/colab-badge.svg\" alt=\"Open In Colab\"/></a>"
      ]
    },
    {
      "cell_type": "markdown",
      "source": [
        "# 태블로"
      ],
      "metadata": {
        "id": "i_Qe6eLILn-5"
      }
    },
    {
      "cell_type": "markdown",
      "source": [
        "- Data Literacy : 데이터를 보고 활용할 수 있는 능력\n",
        "- 탐색을 통해 자신이 이해하고 대화와 협업을 통해 찾은 현상과 통찰 공유"
      ],
      "metadata": {
        "id": "DUxsBpbHLyD7"
      }
    },
    {
      "cell_type": "markdown",
      "source": [
        "**측정값, 연속형(초록색 #)**\n",
        "- 숫자형식\n",
        "- 드로그앤 드롭, 더블클릭으로 차트를 만듬\n",
        "- 설정된 집계(합계, 평균 등..)에 따라 차트를 만들게 된다.\n",
        "- 색상을 입히면 그라데이션 범례\n",
        "\n",
        "**차원, 불연속형(파란색)**\n",
        "- 측정값으로 만들어진 차트를 어떻게 나눌 것인지\n",
        "- 색상을 입히면 분류해주는 범례"
      ],
      "metadata": {
        "id": "Hk6ahJPfZSeI"
      }
    },
    {
      "cell_type": "code",
      "source": [
        "# 계산식필드(매출합이 평균보다 크면 True 작으면 False)\n",
        "SUM(매출) >= WINDOW_AVG(SUM(매출))\n",
        "\n",
        "// 매출이 평균이상 == True\n",
        "// 매출이 평귱미만 == False"
      ],
      "metadata": {
        "id": "jIxcA71PBTjy"
      },
      "execution_count": null,
      "outputs": []
    },
    {
      "cell_type": "markdown",
      "source": [
        "**라인차트**\n",
        "- 시간순서에 따른 추세를 보는데 적합\n",
        "- 날짜유형\n",
        "   - 예시 : 2020년 ~ 2023년 날짜자료를 월별로 선택하면\n",
        "   - 불연속형 : 각 월의 평균값 (12개)\n",
        "   - 연속형 : 각 년도의 월별 평균값(36개)"
      ],
      "metadata": {
        "id": "QCSa8VqnBoFY"
      }
    }
  ]
}
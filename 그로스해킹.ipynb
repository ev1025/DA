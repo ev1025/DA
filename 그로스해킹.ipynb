{
  "nbformat": 4,
  "nbformat_minor": 0,
  "metadata": {
    "colab": {
      "provenance": [],
      "authorship_tag": "ABX9TyMxwzEetJbx8yY8t2iPWwtf",
      "include_colab_link": true
    },
    "kernelspec": {
      "name": "python3",
      "display_name": "Python 3"
    },
    "language_info": {
      "name": "python"
    }
  },
  "cells": [
    {
      "cell_type": "markdown",
      "metadata": {
        "id": "view-in-github",
        "colab_type": "text"
      },
      "source": [
        "<a href=\"https://colab.research.google.com/github/ev1025/DA_Study/blob/main/%EA%B7%B8%EB%A1%9C%EC%8A%A4%ED%95%B4%ED%82%B9.ipynb\" target=\"_parent\"><img src=\"https://colab.research.google.com/assets/colab-badge.svg\" alt=\"Open In Colab\"/></a>"
      ]
    },
    {
      "cell_type": "markdown",
      "source": [
        "**기획단계 주의사항**\n",
        "- 정말 사용자가 원하는 서비스인가?\n",
        "- 최소한의 기능으로 사용자에게 가치를 전달하는가?\n",
        "\n",
        "**가설을 토대로 최소한의 기능을 가진 제품으로 반응을 테스트 한 뒤 반응이 좋은 것을 개발해야한다.**\n",
        "\n",
        "**기능을 늘린다고 실패할 제품이 성공하지는 않음(서비스 개선 = 기능추가가 되어선 안된다.)**\n"
      ],
      "metadata": {
        "id": "uHKT46rd-qxy"
      }
    },
    {
      "cell_type": "markdown",
      "source": [
        "**제품-시장 적합성**\n",
        "- 고객이 원하는 제품을 만드는 것\n",
        "- 우리가 생각하는 문제가 있긴 한가?\n",
        "- 우리가 만든 제품이 정말 그 문제를 해결하는가?\n",
        "- 가설이 무엇이며 검증이 되었는가?\n"
      ],
      "metadata": {
        "id": "56T0Khk9uzl6"
      }
    },
    {
      "cell_type": "markdown",
      "source": [
        "**제품-시장 적합성 확인 지표(PMF, Product-Market Fit)**\n",
        "1. 리텐션 : 적합성을 만족하는 제품은 초기 일정 시간이 지나면 기울기가 유지된다.\n",
        "2. 전환률(퍼널분석)\n",
        "3. 순수추천지수(NPS) : 비추천, 소극적추천, 적극적추천 그룹으로 나누어서 구하는 지수\n",
        "   - -1에서 1사이의 값, 양수만 되도 긍정적\n",
        "   - 충성사용자를 확인하는 지표(적당히 좋아하는 사람보다 구하기 힘듬)\n",
        ">$ NPS = \\frac{적극추천그룹 - 비추천그룹}{전체 응답자}$\n",
        "\n",
        "**적합성이 충분하지 않으면 제품을 다시 점검해볼 필요가 있다.**"
      ],
      "metadata": {
        "id": "_lLP1kY6vZbR"
      }
    },
    {
      "cell_type": "markdown",
      "source": [
        "- 도움이 되지 않는 지표 : 순 가입자수, 순수 활동유저\n",
        "- **하지 말아야 할 행동**\n",
        "   - 브레인스토밍, 새기능 추가 : 새로운걸 추가하려는 노력보다는 요구사항을 다시 탐구해보아야 한다.\n",
        "   - 전환률 개선을 위한 실험 : 적합하지 않은 상태에서 일시적으로 전환률이 높아지는 것은 의미가 없다.\n",
        "\n",
        "- **해야하는 행동**\n",
        "  - 정량분석 : 사용자 데이터 분석\n",
        "  - 정성분석 : 사용자 인터뷰(포커스그룹 인터뷰보다는 1:1 인터뷰가 더 좋음, 모더레이터가 할 필요 없음)\n",
        "  \n",
        "        - 미래가 아닌 과거와 현재에 초점\n",
        "        - 가정이 아닌 경험을 질문\n",
        "        - 결과가 아닌 과정을 깊게 살펴볼 것\n",
        "        - 기억이 아닌 습관을 통해 드러난 구체적인 경험\n",
        "        - 일반화된 진술이 아닌 개인의 경험이 드러나도록\n",
        "        - 편향된 믿음이 아닌 순수한 호기심으로 접근"
      ],
      "metadata": {
        "id": "Ak76NAqs7xTx"
      }
    },
    {
      "cell_type": "markdown",
      "source": [
        "## AARRR"
      ],
      "metadata": {
        "id": "KhrPVOJcf_RM"
      }
    },
    {
      "cell_type": "markdown",
      "source": [
        "**과업기반 지표관리** \n",
        "   - 각 부서로 나누어서 지표를 관리\n",
        "   - 전체적으로 서비스 관점에서 무엇이 중요한 지표인지 판단하기 어렵다. (핵심지표가 나뉘고 우선순위를 결정하기 어려움)\n",
        "   - 놓치게되는 지표가 생기게 마련이다."
      ],
      "metadata": {
        "id": "HB9B4YbhgFnH"
      }
    },
    {
      "cell_type": "markdown",
      "source": [
        "**AARRR (프레임워크기반 지표관리)** \n",
        "- 그로스 해킹은 핵심지표를 찾고, 그 지표를 성장시키는 방법을 찾는 활동\n",
        "- 사용자의 서비스 이용흐름에 따라 단계별 주요 지표를 서비스관점에서 정의\n",
        "- 우선 지표를 정의한 후 해당 지표를 원하는 방향으로 움직이게 하기 위한 과업을 고민해야한다.\n"
      ],
      "metadata": {
        "id": "Ha8IFhhxk62n"
      }
    },
    {
      "cell_type": "markdown",
      "source": [
        "   - Acquisition(유치) : 사용자를 어떻게 데려올 것인가?\n",
        "   - Activation(활성화) : 사용자가 핵심기능을 사용하는가?\n",
        "   - Retention(유지) : 사용자가 지속적으로 방문하는가? \n",
        "   - Revenue(수익화) : 사용자가 핵심 기능을 사용하기 위해 결제하는가?\n",
        "   - Referral(추천) : 사용자가 서비스를 주변에 추천하는가?"
      ],
      "metadata": {
        "id": "jenelwHNk-QZ"
      }
    },
    {
      "cell_type": "markdown",
      "source": [
        "**AARRR의 활용 방법**\n",
        "1. 각 단계별 풀어야하는 문제를 확인\n",
        "2. 각 단계별 핵심지표를 선정하고, 현재 지표의 위치를 측정\n",
        "3. 측정된 위치의 의미를 이해한다.\n",
        "4. 개선 목표를 정하고 실험을 통해 단계적으로 개선"
      ],
      "metadata": {
        "id": "EnN_gmNCl7ZX"
      }
    },
    {
      "cell_type": "markdown",
      "source": [
        "**AARRR의 순서**\n",
        "1. 활성화, 유지율\n",
        "2. 고객유치,  추천\n",
        "3. 수익화"
      ],
      "metadata": {
        "id": "iBYcQdstlVD9"
      }
    },
    {
      "cell_type": "markdown",
      "source": [
        "### **Acquisition(고객 유치)**\n"
      ],
      "metadata": {
        "id": "rYRk95ten32s"
      }
    },
    {
      "cell_type": "markdown",
      "source": [
        "- 고객 유치에 기여한 채널의 성과를 판단할 수 있는 모델을 만드는 것\n",
        "- 유입채널에 따라 사용자를 구분하는 방법\n",
        "  - 자발적 유입(Organic User)\n",
        "  - 마케팅 활동을 통해 유입(Paid User)\n",
        "  - GA나 앱스플라이어 등에서 지원하는 기능(하지만,  Direct나 Organic 유저는 식별불가의 유저를 포함해서 보여줌)\n",
        "\n",
        "- `즉, Organic유저를 늘리기보다 식별불가 유저의 유입을 줄이는 방법에 대해 고민해야한다.`"
      ],
      "metadata": {
        "id": "XDs9ccN_qY2S"
      }
    },
    {
      "cell_type": "markdown",
      "source": [
        "#### **고객 획득 비용 (CAC, Customer Acquisition Cost)**"
      ],
      "metadata": {
        "id": "NGgUJv3_qa-_"
      }
    },
    {
      "cell_type": "markdown",
      "source": [
        "- 고객유치의 핵심 지표\n",
        "- 채널별 평균 고객 획득 비용\n",
        "\n",
        "> $고객획득비용 = \\frac{마케팅비용}{가입 고객 수}$ => 아무의미없음"
      ],
      "metadata": {
        "id": "2EmG97DcqrT3"
      }
    },
    {
      "cell_type": "markdown",
      "source": [
        "**UTM 파라미터(Urchin Tracking Module)**\n",
        "- 서비스로 인입된 트래픽이 어느 경로를 통해 들어왔는지 그 출처를 확인할 수 있도록 URL 뒤에 추가된 파라미터\n",
        "\n",
        "- **구조**\n",
        "   - URL뒤에 ?를 붙인 뒤 utm_source, utm_campaign 같은 파라미터를 추가\n",
        "   - Source(장소정보), Campaign(강조할 문구), Medium(매체), term(검색어), content(콘텐츠)\n",
        "   - 동시에 사용할 경우 &으로 연결\n",
        "   - 구글이 제공하는 campaign url builder로 만듬\n",
        "   "
      ],
      "metadata": {
        "id": "Lm5zVVsVseaD"
      }
    },
    {
      "cell_type": "markdown",
      "source": [
        "**모바일 앱 어트리뷰션(Attribution)**\n",
        "- 모바일기여도 확인을 위해서 사용하는 도구\n",
        "- 대부분 유료이며 새로운 기술이 필요하다.\n"
      ],
      "metadata": {
        "id": "ATFRPaEZkn0t"
      }
    },
    {
      "cell_type": "markdown",
      "source": [
        "**어트리뷰션 윈도우(룩백 윈도우)**\n",
        "- 앱 광고를 클릭한 고객이 설치까지 완료하는데 걸리는 시간(광고의 기여도 인정기간), 표준화 되어있지 않다.\n",
        "    - Veiw-through : 조회를 통해 발생하는 기여\n",
        "    - Click-through : 클릭을 통해 발생하는 기여(어트리뷰션 윈도우를 더 길게 책정하는 편)\n",
        "\n"
      ],
      "metadata": {
        "id": "6wA43-uMsHuq"
      }
    },
    {
      "cell_type": "markdown",
      "source": [
        "**어트리뷰션 모델**\n",
        "-  여러 광고를 접하고 앱실행이 이루어 졌을 때 기여도를 정하는 방법\n",
        "- **싱글터치 어트리뷰션(퍼스트클릭, 라스트클릭)** : 처음이나 마지막에 클릭한 광고를 100% 기여도로 인정, (주로 라스트클릭 채택)\n",
        "- **멀티 터치 어트리뷰션** : 접점이 있는 모든 채널에 기여도 분배\n",
        "   - 선형(Linear) : 모든 접점에 같은 가중치 부여\n",
        "   - 타임 디케이(Time Decay) : 시간의 흐름에 따라 가중치 부여(최근일수록 높은 가중치)\n",
        "   - U자형(U-Shape) : 처음과 마지막 접점에 높은 가중치부여(처음과 마지막에만 가중치를 주기도 함)\n",
        "- 채널의 특성에 맞게 다른 기준치를 정해야한다.(일괄적으로 기준을 정하는건 좋지 않음)"
      ],
      "metadata": {
        "id": "qH-7SCF9te_h"
      }
    },
    {
      "cell_type": "markdown",
      "source": [
        "**딥링크와 디퍼드 딥링크**\n",
        "- 딥링크 : 모바일앱을 설치한 사용자가 딥링크를 누르면 웹브라우저 대신 앱이 실행되며 렌딩페이지로 이동하여 전환률을 상승시킴(단, 앱이 설치되어 있어야 한다)\n",
        "- 디퍼드 딥링크 : 앱을 설치하지 않은 사람은 앱설치단계를 거친 후 렌딩페이지로 연결 \n",
        "- 딥링크는 사용 맥락이 유지되어 사용자 경험에 좋은 영향을 준다.\n",
        "- 딥링크 생성시 파라미터를 추가하여 유입경로 파악이 가능하다."
      ],
      "metadata": {
        "id": "PJeH_RZh45ax"
      }
    }
  ]
}
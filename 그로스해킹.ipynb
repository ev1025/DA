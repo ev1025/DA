{
  "nbformat": 4,
  "nbformat_minor": 0,
  "metadata": {
    "colab": {
      "provenance": [],
      "authorship_tag": "ABX9TyNbX84Kx96Yz9ecBJS0Xb8b",
      "include_colab_link": true
    },
    "kernelspec": {
      "name": "python3",
      "display_name": "Python 3"
    },
    "language_info": {
      "name": "python"
    }
  },
  "cells": [
    {
      "cell_type": "markdown",
      "metadata": {
        "id": "view-in-github",
        "colab_type": "text"
      },
      "source": [
        "<a href=\"https://colab.research.google.com/github/ev1025/DA_Study/blob/main/%EA%B7%B8%EB%A1%9C%EC%8A%A4%ED%95%B4%ED%82%B9.ipynb\" target=\"_parent\"><img src=\"https://colab.research.google.com/assets/colab-badge.svg\" alt=\"Open In Colab\"/></a>"
      ]
    },
    {
      "cell_type": "markdown",
      "source": [
        "**기획단계 주의사항**\n",
        "- 정말 사용자가 원하는 서비스인가?\n",
        "- 최소한의 기능으로 사용자에게 가치를 전달하는가?\n",
        "\n",
        "**가설을 토대로 최소한의 기능을 가진 제품으로 반응을 테스트 한 뒤 반응이 좋은 것을 개발해야한다.**\n",
        "\n",
        "**서비스 개선 = 기능추가가 되어선 안된다.**\n"
      ],
      "metadata": {
        "id": "uHKT46rd-qxy"
      }
    },
    {
      "cell_type": "markdown",
      "source": [
        "**제품-시장 적합성**\n",
        "- 고객이 원하는 제품을 만드는 것\n",
        "- 우리가 생각하는 문제가 있긴 한가?\n",
        "- 우리가 만든 제품이 정말 그 문제를 해결하는가?\n",
        "- 가설이 무엇이며 검증이 되었는가?\n"
      ],
      "metadata": {
        "id": "56T0Khk9uzl6"
      }
    },
    {
      "cell_type": "markdown",
      "source": [
        "**제품-시장 적합성 확인 지표(PMF, Product-Market Fit)**\n",
        "1. 리텐션 : 적합성을 만족하는 제품은 초기 일정 시간이 지나면 기울기가 유지된다.\n",
        "2. 전환률(퍼널분석)\n",
        "3. 순수추천지수(NPS) : 비추천, 소극적추천, 적극적추천 그룹으로 나누어서 구하는 지수\n",
        "   - -1에서 1사이의 값, 양수만 되도 긍정적\n",
        "   - 충성사용자를 확인하는 지표(적당히 좋아하는 사람보다 구하기 힘듬)\n",
        ">$ NPS = \\frac{적극추천그룹 - 비추천그룹}{전체 응답자}$\n",
        "\n",
        "**적합성이 충분하지 않으면 제품을 다시 점검해볼 필요가 있다.**"
      ],
      "metadata": {
        "id": "_lLP1kY6vZbR"
      }
    },
    {
      "cell_type": "markdown",
      "source": [
        "- 도움이 되지 않는 지표 : 순 가입자수, 순수 활동유저\n",
        "- **하지 말아야 할 행동**\n",
        "   - 브레인스토밍, 새기능 추가 : 새로운걸 추가하려는 노력보다는 요구사항을 다시 탐구해보아야 한다.\n",
        "   - 전환률 개선을 위한 실험 : 적합하지 않은 상태에서 일시적으로 전환률이 높아지는 것은 의미가 없다.\n",
        "\n",
        "- **해야하는 행동**\n",
        "  - 정량분석 : 사용자 데이터 분석\n",
        "  - 정성분석 : 사용자 인터뷰(포커스그룹 인터뷰보다는 1:1 인터뷰가 더 좋음, 모더레이터가 할 필요 없음)\n",
        "  \n",
        "        - 미래가 아닌 과거와 현재에 초점\n",
        "        - 가정이 아닌 경험을 질문\n",
        "        - 결과가 아닌 과정을 깊게 살펴볼 것\n",
        "        - 기억이 아닌 습관을 통해 드러난 구체적인 경험\n",
        "        - 일반화된 진술이 아닌 개인의 경험이 드러나도록\n",
        "        - 편향된 믿음이 아닌 순수한 호기심으로 접근"
      ],
      "metadata": {
        "id": "Ak76NAqs7xTx"
      }
    }
  ]
}
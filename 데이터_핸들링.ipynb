{
  "nbformat": 4,
  "nbformat_minor": 0,
  "metadata": {
    "colab": {
      "provenance": [],
      "collapsed_sections": [
        "_R5rc_4w_TWT",
        "gjC-GOY04p_o",
        "aM6VMwed5G0G",
        "gHkEIr7N5cn3",
        "2DTJKzKd6A42",
        "u2giqqV441a9",
        "0JZd5tGuG1lC",
        "76wLpQ8MEnf5",
        "uRtqgBS3HpuZ",
        "UTVOjgLLfysj",
        "Ngx5Uwp3YXDF",
        "k39yDpK6JCvl"
      ],
      "authorship_tag": "ABX9TyNRtRlrbYnU35Vb6lxf2KS2",
      "include_colab_link": true
    },
    "kernelspec": {
      "name": "python3",
      "display_name": "Python 3"
    },
    "language_info": {
      "name": "python"
    }
  },
  "cells": [
    {
      "cell_type": "markdown",
      "metadata": {
        "id": "view-in-github",
        "colab_type": "text"
      },
      "source": [
        "<a href=\"https://colab.research.google.com/github/ev1025/DA_Study/blob/main/%EB%8D%B0%EC%9D%B4%ED%84%B0_%ED%95%B8%EB%93%A4%EB%A7%81.ipynb\" target=\"_parent\"><img src=\"https://colab.research.google.com/assets/colab-badge.svg\" alt=\"Open In Colab\"/></a>"
      ]
    },
    {
      "cell_type": "markdown",
      "source": [
        "## Pandas"
      ],
      "metadata": {
        "id": "PEZxeTl4EY6N"
      }
    },
    {
      "cell_type": "markdown",
      "source": [
        "## Datetime"
      ],
      "metadata": {
        "id": "_R5rc_4w_TWT"
      }
    },
    {
      "cell_type": "markdown",
      "source": [
        "**strftime** : datetime형식을 문자열 형식으로\n",
        "\n",
        "**strptime** : 문자열형식의 날짜를 datetime형식으로\n",
        "\n",
        "**공식문서**: https://docs.python.org/ko/3/library/datetime.html#strftime-strptime-behavior\n",
        "\n",
        "**Pandas**   \n",
        "https://mindscale.kr/course/pandas-basic/datetime/   \n",
        "https://durian9s-coding-tree.tistory.com/8"
      ],
      "metadata": {
        "id": "nahqWgxT_Vup"
      }
    },
    {
      "cell_type": "code",
      "source": [
        "# 날짜 -> 문자\n",
        "import datetime\n",
        "날짜형식.strftime('%Y-%m-%d %H:%M:%S') # 연월일 시분초"
      ],
      "metadata": {
        "id": "zAba94X2_UvO"
      },
      "execution_count": null,
      "outputs": []
    },
    {
      "cell_type": "code",
      "source": [
        "# 문자 -> 날짜\n",
        "import datetime\n",
        "datetime.datetime.strptime('2023-01-24', '%Y-%m-%d')"
      ],
      "metadata": {
        "colab": {
          "base_uri": "https://localhost:8080/"
        },
        "id": "c7e0DcsJBl1S",
        "outputId": "95715f60-2ec1-4c0f-e147-1742afc135f6"
      },
      "execution_count": null,
      "outputs": [
        {
          "output_type": "execute_result",
          "data": {
            "text/plain": [
              "datetime.datetime(2023, 1, 24, 0, 0)"
            ]
          },
          "metadata": {},
          "execution_count": 2
        }
      ]
    },
    {
      "cell_type": "code",
      "source": [
        "df['날짜컬럼'].dt.year # 연도 정보\n",
        "df['날짜컬럼'].dt.month # 월 정보\n",
        "df['날짜컬럼'].dt.day # 일 정보\n",
        "df['날짜컬럼'].dt.hour # 시간 정보\n",
        "df['날짜컬럼'].dt.minute # 분 정보\n",
        "df['날짜컬럼'].dt.second # 초 정보"
      ],
      "metadata": {
        "id": "8q-xjVcVEwWJ"
      },
      "execution_count": null,
      "outputs": []
    },
    {
      "cell_type": "code",
      "source": [
        "# df -> datetime\n",
        "df = pd.to_datetime(df, format='%H:%M', )"
      ],
      "metadata": {
        "id": "Q-SyaIvRCGRN"
      },
      "execution_count": null,
      "outputs": []
    },
    {
      "cell_type": "code",
      "source": [
        "# 기간구하기\n",
        "x = 날짜데이터\n",
        "diff = x - pd.to_datetime('2020-02-12 15:39')\n",
        "diff.days"
      ],
      "metadata": {
        "id": "VAqNH_FGGbWp"
      },
      "execution_count": null,
      "outputs": []
    },
    {
      "cell_type": "code",
      "source": [
        "# 날짜에 기간 더하기 x에 15일 더하면?\n",
        "x + pd.Timedelta(days=15)"
      ],
      "metadata": {
        "id": "uK8kpVwlGnFi"
      },
      "execution_count": null,
      "outputs": []
    },
    {
      "cell_type": "markdown",
      "source": [
        "### Dataframe(문자열,내장함수 혼재)"
      ],
      "metadata": {
        "id": "OOFApnfGEkZ4"
      }
    },
    {
      "cell_type": "code",
      "source": [
        "import pandas as pd\n",
        "\n",
        "df = pd.DataFrame([[1,2],[3,4]],columns = ['컬럼1','컬럼2'],index=['행1','행2'])\n",
        "df"
      ],
      "metadata": {
        "colab": {
          "base_uri": "https://localhost:8080/",
          "height": 112
        },
        "id": "CN93S7GZK1sf",
        "outputId": "143bcbb9-471c-4592-de3d-48ec7219a8bf"
      },
      "execution_count": null,
      "outputs": [
        {
          "output_type": "execute_result",
          "data": {
            "text/plain": [
              "    컬럼1  컬럼2\n",
              "행1    1    2\n",
              "행2    3    4"
            ],
            "text/html": [
              "\n",
              "  <div id=\"df-df2bcb1c-be84-4648-b043-533e873ecad5\">\n",
              "    <div class=\"colab-df-container\">\n",
              "      <div>\n",
              "<style scoped>\n",
              "    .dataframe tbody tr th:only-of-type {\n",
              "        vertical-align: middle;\n",
              "    }\n",
              "\n",
              "    .dataframe tbody tr th {\n",
              "        vertical-align: top;\n",
              "    }\n",
              "\n",
              "    .dataframe thead th {\n",
              "        text-align: right;\n",
              "    }\n",
              "</style>\n",
              "<table border=\"1\" class=\"dataframe\">\n",
              "  <thead>\n",
              "    <tr style=\"text-align: right;\">\n",
              "      <th></th>\n",
              "      <th>컬럼1</th>\n",
              "      <th>컬럼2</th>\n",
              "    </tr>\n",
              "  </thead>\n",
              "  <tbody>\n",
              "    <tr>\n",
              "      <th>행1</th>\n",
              "      <td>1</td>\n",
              "      <td>2</td>\n",
              "    </tr>\n",
              "    <tr>\n",
              "      <th>행2</th>\n",
              "      <td>3</td>\n",
              "      <td>4</td>\n",
              "    </tr>\n",
              "  </tbody>\n",
              "</table>\n",
              "</div>\n",
              "      <button class=\"colab-df-convert\" onclick=\"convertToInteractive('df-df2bcb1c-be84-4648-b043-533e873ecad5')\"\n",
              "              title=\"Convert this dataframe to an interactive table.\"\n",
              "              style=\"display:none;\">\n",
              "        \n",
              "  <svg xmlns=\"http://www.w3.org/2000/svg\" height=\"24px\"viewBox=\"0 0 24 24\"\n",
              "       width=\"24px\">\n",
              "    <path d=\"M0 0h24v24H0V0z\" fill=\"none\"/>\n",
              "    <path d=\"M18.56 5.44l.94 2.06.94-2.06 2.06-.94-2.06-.94-.94-2.06-.94 2.06-2.06.94zm-11 1L8.5 8.5l.94-2.06 2.06-.94-2.06-.94L8.5 2.5l-.94 2.06-2.06.94zm10 10l.94 2.06.94-2.06 2.06-.94-2.06-.94-.94-2.06-.94 2.06-2.06.94z\"/><path d=\"M17.41 7.96l-1.37-1.37c-.4-.4-.92-.59-1.43-.59-.52 0-1.04.2-1.43.59L10.3 9.45l-7.72 7.72c-.78.78-.78 2.05 0 2.83L4 21.41c.39.39.9.59 1.41.59.51 0 1.02-.2 1.41-.59l7.78-7.78 2.81-2.81c.8-.78.8-2.07 0-2.86zM5.41 20L4 18.59l7.72-7.72 1.47 1.35L5.41 20z\"/>\n",
              "  </svg>\n",
              "      </button>\n",
              "      \n",
              "  <style>\n",
              "    .colab-df-container {\n",
              "      display:flex;\n",
              "      flex-wrap:wrap;\n",
              "      gap: 12px;\n",
              "    }\n",
              "\n",
              "    .colab-df-convert {\n",
              "      background-color: #E8F0FE;\n",
              "      border: none;\n",
              "      border-radius: 50%;\n",
              "      cursor: pointer;\n",
              "      display: none;\n",
              "      fill: #1967D2;\n",
              "      height: 32px;\n",
              "      padding: 0 0 0 0;\n",
              "      width: 32px;\n",
              "    }\n",
              "\n",
              "    .colab-df-convert:hover {\n",
              "      background-color: #E2EBFA;\n",
              "      box-shadow: 0px 1px 2px rgba(60, 64, 67, 0.3), 0px 1px 3px 1px rgba(60, 64, 67, 0.15);\n",
              "      fill: #174EA6;\n",
              "    }\n",
              "\n",
              "    [theme=dark] .colab-df-convert {\n",
              "      background-color: #3B4455;\n",
              "      fill: #D2E3FC;\n",
              "    }\n",
              "\n",
              "    [theme=dark] .colab-df-convert:hover {\n",
              "      background-color: #434B5C;\n",
              "      box-shadow: 0px 1px 3px 1px rgba(0, 0, 0, 0.15);\n",
              "      filter: drop-shadow(0px 1px 2px rgba(0, 0, 0, 0.3));\n",
              "      fill: #FFFFFF;\n",
              "    }\n",
              "  </style>\n",
              "\n",
              "      <script>\n",
              "        const buttonEl =\n",
              "          document.querySelector('#df-df2bcb1c-be84-4648-b043-533e873ecad5 button.colab-df-convert');\n",
              "        buttonEl.style.display =\n",
              "          google.colab.kernel.accessAllowed ? 'block' : 'none';\n",
              "\n",
              "        async function convertToInteractive(key) {\n",
              "          const element = document.querySelector('#df-df2bcb1c-be84-4648-b043-533e873ecad5');\n",
              "          const dataTable =\n",
              "            await google.colab.kernel.invokeFunction('convertToInteractive',\n",
              "                                                     [key], {});\n",
              "          if (!dataTable) return;\n",
              "\n",
              "          const docLinkHtml = 'Like what you see? Visit the ' +\n",
              "            '<a target=\"_blank\" href=https://colab.research.google.com/notebooks/data_table.ipynb>data table notebook</a>'\n",
              "            + ' to learn more about interactive tables.';\n",
              "          element.innerHTML = '';\n",
              "          dataTable['output_type'] = 'display_data';\n",
              "          await google.colab.output.renderOutput(dataTable, element);\n",
              "          const docLink = document.createElement('div');\n",
              "          docLink.innerHTML = docLinkHtml;\n",
              "          element.appendChild(docLink);\n",
              "        }\n",
              "      </script>\n",
              "    </div>\n",
              "  </div>\n",
              "  "
            ]
          },
          "metadata": {},
          "execution_count": 2
        }
      ]
    },
    {
      "cell_type": "code",
      "execution_count": null,
      "metadata": {
        "id": "y521oDKTFfK5"
      },
      "outputs": [],
      "source": [
        "# csv파일 불러오기\n",
        "df = pd.read_csv('url',sep='구분기호', encoding='코드') # euc-kr\n",
        "# usecols=['컬럼이름','컬럼이름']  # 일부 컬럼만 불러오기\n",
        "# skiprows=5 or [1,2,3,4,5]        # 위에서 5열 빼고 불러오기\n",
        "# nrows = 3                        # 위에서 3열 불러오기\n",
        "# index_col = '컬럼명' or 컬럼번호 # 해당 컬럼을 인덱스로 사용\n",
        "# names = ['컬럼1','컬럼2']        # 컬럼이름을 변경\n",
        "# header = None or 0               # 컬럼명이 없는 자료라면 None 첫번째행을 컬럼명으로 쓸거면 0\n",
        "# parse_dates = ['컬럼']           # datetime 컬럼 날짜형식으로 받아오기"
      ]
    },
    {
      "cell_type": "code",
      "source": [
        "# csv파일로 저장\n",
        "df.to_csv('저장할파일명.csv',index=False)"
      ],
      "metadata": {
        "id": "veG8KiQHMJQG"
      },
      "execution_count": null,
      "outputs": []
    },
    {
      "cell_type": "code",
      "source": [
        "# 모든 행과 열 표시\n",
        "pd.set_option('display.max_columns', None)\n",
        "pd.set_option('display.max_rows', None)"
      ],
      "metadata": {
        "id": "-XkMqCEuTNBo"
      },
      "execution_count": null,
      "outputs": []
    },
    {
      "cell_type": "code",
      "source": [
        "# 샘플링을 통해 데이터 둘러보기\n",
        "df['컬럼'].sample(n=,random_state=)            # 행중에 n개의 랜덤샘플 추출\n",
        "df.sample(frac=0.5, replace=, random_state=)   # frac비율만큼만 랜덤샘플 추출(frac을 1이상으로해서 복원추출가능replace는 무조건True여야함)\n",
        "df.sample(n=, weight='a', random_state=)       # a열이 큰 값을 기준으로 랜덤추출"
      ],
      "metadata": {
        "id": "PKCFkCy3UfEA"
      },
      "execution_count": null,
      "outputs": []
    },
    {
      "cell_type": "code",
      "source": [
        "# 행,열 개수\n",
        "df.shape\n",
        "df.shape[0]\n",
        "df.shape[1]"
      ],
      "metadata": {
        "id": "TEQPVrJ8OhPx"
      },
      "execution_count": null,
      "outputs": []
    },
    {
      "cell_type": "code",
      "source": [
        "# 데이터 타입, 이름, 개수 확인\n",
        "df.info()"
      ],
      "metadata": {
        "id": "zc8A2n9OFyp-"
      },
      "execution_count": null,
      "outputs": []
    },
    {
      "cell_type": "code",
      "source": [
        "# 결측치 개수 확인\n",
        "df.isnull().sum()"
      ],
      "metadata": {
        "id": "aUA26gqNFvRx"
      },
      "execution_count": null,
      "outputs": []
    },
    {
      "cell_type": "code",
      "source": [
        "# 결측치 제거\n",
        "df.dropna(axis=, how = all or any)"
      ],
      "metadata": {
        "id": "cUOYUhwRF_2i"
      },
      "execution_count": null,
      "outputs": []
    },
    {
      "cell_type": "code",
      "source": [
        "# 중복확인\n",
        "df[df.duplicated(subset=['컬럼1', '컬럼2'])]"
      ],
      "metadata": {
        "id": "Nhdj7m6YXoC4"
      },
      "execution_count": null,
      "outputs": []
    },
    {
      "cell_type": "code",
      "source": [
        "# 중복제거\n",
        "df.duplicates(subset=['컬럼1', '컬럼2'])"
      ],
      "metadata": {
        "id": "BevPeJDQj4Jm"
      },
      "execution_count": null,
      "outputs": []
    },
    {
      "cell_type": "code",
      "source": [
        "# 수치형데이터들 평균합계 등 확인\n",
        "df.describe()"
      ],
      "metadata": {
        "id": "iXF4CpuwFzta"
      },
      "execution_count": null,
      "outputs": []
    },
    {
      "cell_type": "code",
      "source": [
        "# 데이터프레임의 카테고리 데이터를 추가하는 방법\n",
        "# 한 열이 수치형 데이터 일 때, \n",
        "df['수치형 컬럼'].describe() # 데이터 범위 확인\n",
        "\n",
        "bins = [min, 25%, 50%, 75%, max] # 최하~ 최상 구간 수 확인\n",
        "\n",
        "# 범위에 따라 원하는 레이블명을 입력\n",
        "labels = ['Low', 'Medium', 'Moderately High', 'High']\n",
        "\n",
        "#'cut'을 통해 continuous data를 category data로 변경\n",
        "df['level'] = pd.cut(x=df['수치형 컬럼'], bins=bins, labels=labels)"
      ],
      "metadata": {
        "id": "F7SDRfCcAGpo"
      },
      "execution_count": null,
      "outputs": []
    },
    {
      "cell_type": "code",
      "source": [
        "# 분위수 구하기 (https://support.minitab.com/ko-kr/minitab/20/help-and-how-to/graphs/boxplot/interpret-the-results/quartiles/)\n",
        "df.quantile(0.25)  # 일분위 \n",
        "df.quantile(0.5)   # 이분위\n",
        "df.quantile(0.75)  # 삼분위\n",
        "df['컬럼1'].quantile(0.75) -df['컬럼1'].quantile(0.25) # 사분위 3-1분위 구간"
      ],
      "metadata": {
        "id": "j1fSosjsQyq9"
      },
      "execution_count": null,
      "outputs": []
    },
    {
      "cell_type": "code",
      "source": [
        "# 수치형 데이터 걸러내기\n",
        "df.select_dtypes(include='object') # 범주형 데이터만 추출(object)\n",
        "df.select_dtypes(exclude='object') # 수치형 데이터만 추출"
      ],
      "metadata": {
        "colab": {
          "base_uri": "https://localhost:8080/",
          "height": 112
        },
        "id": "-b3mTTG5MzFK",
        "outputId": "d4da58f8-0d9f-4820-e227-766c68fa1e51"
      },
      "execution_count": null,
      "outputs": [
        {
          "output_type": "execute_result",
          "data": {
            "text/plain": [
              "    컬럼1  컬럼2\n",
              "열1    1    2\n",
              "열2    3    4"
            ],
            "text/html": [
              "\n",
              "  <div id=\"df-e83ed894-b08f-40d4-acdb-a76de6e4319d\">\n",
              "    <div class=\"colab-df-container\">\n",
              "      <div>\n",
              "<style scoped>\n",
              "    .dataframe tbody tr th:only-of-type {\n",
              "        vertical-align: middle;\n",
              "    }\n",
              "\n",
              "    .dataframe tbody tr th {\n",
              "        vertical-align: top;\n",
              "    }\n",
              "\n",
              "    .dataframe thead th {\n",
              "        text-align: right;\n",
              "    }\n",
              "</style>\n",
              "<table border=\"1\" class=\"dataframe\">\n",
              "  <thead>\n",
              "    <tr style=\"text-align: right;\">\n",
              "      <th></th>\n",
              "      <th>컬럼1</th>\n",
              "      <th>컬럼2</th>\n",
              "    </tr>\n",
              "  </thead>\n",
              "  <tbody>\n",
              "    <tr>\n",
              "      <th>열1</th>\n",
              "      <td>1</td>\n",
              "      <td>2</td>\n",
              "    </tr>\n",
              "    <tr>\n",
              "      <th>열2</th>\n",
              "      <td>3</td>\n",
              "      <td>4</td>\n",
              "    </tr>\n",
              "  </tbody>\n",
              "</table>\n",
              "</div>\n",
              "      <button class=\"colab-df-convert\" onclick=\"convertToInteractive('df-e83ed894-b08f-40d4-acdb-a76de6e4319d')\"\n",
              "              title=\"Convert this dataframe to an interactive table.\"\n",
              "              style=\"display:none;\">\n",
              "        \n",
              "  <svg xmlns=\"http://www.w3.org/2000/svg\" height=\"24px\"viewBox=\"0 0 24 24\"\n",
              "       width=\"24px\">\n",
              "    <path d=\"M0 0h24v24H0V0z\" fill=\"none\"/>\n",
              "    <path d=\"M18.56 5.44l.94 2.06.94-2.06 2.06-.94-2.06-.94-.94-2.06-.94 2.06-2.06.94zm-11 1L8.5 8.5l.94-2.06 2.06-.94-2.06-.94L8.5 2.5l-.94 2.06-2.06.94zm10 10l.94 2.06.94-2.06 2.06-.94-2.06-.94-.94-2.06-.94 2.06-2.06.94z\"/><path d=\"M17.41 7.96l-1.37-1.37c-.4-.4-.92-.59-1.43-.59-.52 0-1.04.2-1.43.59L10.3 9.45l-7.72 7.72c-.78.78-.78 2.05 0 2.83L4 21.41c.39.39.9.59 1.41.59.51 0 1.02-.2 1.41-.59l7.78-7.78 2.81-2.81c.8-.78.8-2.07 0-2.86zM5.41 20L4 18.59l7.72-7.72 1.47 1.35L5.41 20z\"/>\n",
              "  </svg>\n",
              "      </button>\n",
              "      \n",
              "  <style>\n",
              "    .colab-df-container {\n",
              "      display:flex;\n",
              "      flex-wrap:wrap;\n",
              "      gap: 12px;\n",
              "    }\n",
              "\n",
              "    .colab-df-convert {\n",
              "      background-color: #E8F0FE;\n",
              "      border: none;\n",
              "      border-radius: 50%;\n",
              "      cursor: pointer;\n",
              "      display: none;\n",
              "      fill: #1967D2;\n",
              "      height: 32px;\n",
              "      padding: 0 0 0 0;\n",
              "      width: 32px;\n",
              "    }\n",
              "\n",
              "    .colab-df-convert:hover {\n",
              "      background-color: #E2EBFA;\n",
              "      box-shadow: 0px 1px 2px rgba(60, 64, 67, 0.3), 0px 1px 3px 1px rgba(60, 64, 67, 0.15);\n",
              "      fill: #174EA6;\n",
              "    }\n",
              "\n",
              "    [theme=dark] .colab-df-convert {\n",
              "      background-color: #3B4455;\n",
              "      fill: #D2E3FC;\n",
              "    }\n",
              "\n",
              "    [theme=dark] .colab-df-convert:hover {\n",
              "      background-color: #434B5C;\n",
              "      box-shadow: 0px 1px 3px 1px rgba(0, 0, 0, 0.15);\n",
              "      filter: drop-shadow(0px 1px 2px rgba(0, 0, 0, 0.3));\n",
              "      fill: #FFFFFF;\n",
              "    }\n",
              "  </style>\n",
              "\n",
              "      <script>\n",
              "        const buttonEl =\n",
              "          document.querySelector('#df-e83ed894-b08f-40d4-acdb-a76de6e4319d button.colab-df-convert');\n",
              "        buttonEl.style.display =\n",
              "          google.colab.kernel.accessAllowed ? 'block' : 'none';\n",
              "\n",
              "        async function convertToInteractive(key) {\n",
              "          const element = document.querySelector('#df-e83ed894-b08f-40d4-acdb-a76de6e4319d');\n",
              "          const dataTable =\n",
              "            await google.colab.kernel.invokeFunction('convertToInteractive',\n",
              "                                                     [key], {});\n",
              "          if (!dataTable) return;\n",
              "\n",
              "          const docLinkHtml = 'Like what you see? Visit the ' +\n",
              "            '<a target=\"_blank\" href=https://colab.research.google.com/notebooks/data_table.ipynb>data table notebook</a>'\n",
              "            + ' to learn more about interactive tables.';\n",
              "          element.innerHTML = '';\n",
              "          dataTable['output_type'] = 'display_data';\n",
              "          await google.colab.output.renderOutput(dataTable, element);\n",
              "          const docLink = document.createElement('div');\n",
              "          docLink.innerHTML = docLinkHtml;\n",
              "          element.appendChild(docLink);\n",
              "        }\n",
              "      </script>\n",
              "    </div>\n",
              "  </div>\n",
              "  "
            ]
          },
          "metadata": {},
          "execution_count": 16
        }
      ]
    },
    {
      "cell_type": "code",
      "source": [
        "# 유일값\n",
        "df.컬럼1.unique()"
      ],
      "metadata": {
        "colab": {
          "base_uri": "https://localhost:8080/"
        },
        "id": "g8-8gcTjZgjz",
        "outputId": "5598b4ae-5e94-4d2e-fd5a-b80991ce3614"
      },
      "execution_count": null,
      "outputs": [
        {
          "output_type": "execute_result",
          "data": {
            "text/plain": [
              "array([1, 3])"
            ]
          },
          "metadata": {},
          "execution_count": 36
        }
      ]
    },
    {
      "cell_type": "code",
      "source": [
        "# 유일값 개수\n",
        "df.컬럼1.nunique()"
      ],
      "metadata": {
        "colab": {
          "base_uri": "https://localhost:8080/"
        },
        "id": "D93EPIU1Z6jZ",
        "outputId": "e5f3564b-df09-404b-a407-7852e22488d4"
      },
      "execution_count": null,
      "outputs": [
        {
          "output_type": "execute_result",
          "data": {
            "text/plain": [
              "2"
            ]
          },
          "metadata": {},
          "execution_count": 37
        }
      ]
    },
    {
      "cell_type": "code",
      "source": [
        "# 컬럼, 인덱스 목록\n",
        "df.columns\n",
        "df.index"
      ],
      "metadata": {
        "id": "BCAIZbysIbbr"
      },
      "execution_count": null,
      "outputs": []
    },
    {
      "cell_type": "code",
      "source": [
        "# 컬럼,인덱스명 바꾸기\n",
        "df.columns = ['이름1', '이름2']  # 모든 컬럼 다 바꿀 때\n",
        "df.index = ['이름1', '이름2']  # 모든 컬럼 다 바꿀 때\n",
        "\n",
        "df.rename(columns = {'옛이름1':'새이름1', '옛이름2':'새이름2'},inplace=True)\n",
        "df.rename(index = {'옛이름1':'새이름1', '옛이름2':'새이름2'},inplace=True)\n",
        "\n",
        "df.reindex('이름1','이름2') # 인덱스이름 지정(값이 없는인덱스는 Nan으로 채움)"
      ],
      "metadata": {
        "id": "JrNMPGBnIg0C"
      },
      "execution_count": null,
      "outputs": []
    },
    {
      "cell_type": "code",
      "source": [
        "# loc iloc\n",
        "df.iloc[0,0]\n",
        "df.loc['행1','컬럼1']\n",
        "\n",
        "df.iloc[lambda x: x.index % 2 == 0]\n",
        "df.loc[df['컬럼1']>1]"
      ],
      "metadata": {
        "colab": {
          "base_uri": "https://localhost:8080/",
          "height": 81
        },
        "id": "xTuvzHB2O01C",
        "outputId": "4680a81e-fa14-40ea-c8e6-d4444620a4de"
      },
      "execution_count": null,
      "outputs": [
        {
          "output_type": "execute_result",
          "data": {
            "text/plain": [
              "    컬럼1  컬럼2\n",
              "행2    3    4"
            ],
            "text/html": [
              "\n",
              "  <div id=\"df-a8cab1b8-d6d8-4da1-ada5-951b373d174d\">\n",
              "    <div class=\"colab-df-container\">\n",
              "      <div>\n",
              "<style scoped>\n",
              "    .dataframe tbody tr th:only-of-type {\n",
              "        vertical-align: middle;\n",
              "    }\n",
              "\n",
              "    .dataframe tbody tr th {\n",
              "        vertical-align: top;\n",
              "    }\n",
              "\n",
              "    .dataframe thead th {\n",
              "        text-align: right;\n",
              "    }\n",
              "</style>\n",
              "<table border=\"1\" class=\"dataframe\">\n",
              "  <thead>\n",
              "    <tr style=\"text-align: right;\">\n",
              "      <th></th>\n",
              "      <th>컬럼1</th>\n",
              "      <th>컬럼2</th>\n",
              "    </tr>\n",
              "  </thead>\n",
              "  <tbody>\n",
              "    <tr>\n",
              "      <th>행2</th>\n",
              "      <td>3</td>\n",
              "      <td>4</td>\n",
              "    </tr>\n",
              "  </tbody>\n",
              "</table>\n",
              "</div>\n",
              "      <button class=\"colab-df-convert\" onclick=\"convertToInteractive('df-a8cab1b8-d6d8-4da1-ada5-951b373d174d')\"\n",
              "              title=\"Convert this dataframe to an interactive table.\"\n",
              "              style=\"display:none;\">\n",
              "        \n",
              "  <svg xmlns=\"http://www.w3.org/2000/svg\" height=\"24px\"viewBox=\"0 0 24 24\"\n",
              "       width=\"24px\">\n",
              "    <path d=\"M0 0h24v24H0V0z\" fill=\"none\"/>\n",
              "    <path d=\"M18.56 5.44l.94 2.06.94-2.06 2.06-.94-2.06-.94-.94-2.06-.94 2.06-2.06.94zm-11 1L8.5 8.5l.94-2.06 2.06-.94-2.06-.94L8.5 2.5l-.94 2.06-2.06.94zm10 10l.94 2.06.94-2.06 2.06-.94-2.06-.94-.94-2.06-.94 2.06-2.06.94z\"/><path d=\"M17.41 7.96l-1.37-1.37c-.4-.4-.92-.59-1.43-.59-.52 0-1.04.2-1.43.59L10.3 9.45l-7.72 7.72c-.78.78-.78 2.05 0 2.83L4 21.41c.39.39.9.59 1.41.59.51 0 1.02-.2 1.41-.59l7.78-7.78 2.81-2.81c.8-.78.8-2.07 0-2.86zM5.41 20L4 18.59l7.72-7.72 1.47 1.35L5.41 20z\"/>\n",
              "  </svg>\n",
              "      </button>\n",
              "      \n",
              "  <style>\n",
              "    .colab-df-container {\n",
              "      display:flex;\n",
              "      flex-wrap:wrap;\n",
              "      gap: 12px;\n",
              "    }\n",
              "\n",
              "    .colab-df-convert {\n",
              "      background-color: #E8F0FE;\n",
              "      border: none;\n",
              "      border-radius: 50%;\n",
              "      cursor: pointer;\n",
              "      display: none;\n",
              "      fill: #1967D2;\n",
              "      height: 32px;\n",
              "      padding: 0 0 0 0;\n",
              "      width: 32px;\n",
              "    }\n",
              "\n",
              "    .colab-df-convert:hover {\n",
              "      background-color: #E2EBFA;\n",
              "      box-shadow: 0px 1px 2px rgba(60, 64, 67, 0.3), 0px 1px 3px 1px rgba(60, 64, 67, 0.15);\n",
              "      fill: #174EA6;\n",
              "    }\n",
              "\n",
              "    [theme=dark] .colab-df-convert {\n",
              "      background-color: #3B4455;\n",
              "      fill: #D2E3FC;\n",
              "    }\n",
              "\n",
              "    [theme=dark] .colab-df-convert:hover {\n",
              "      background-color: #434B5C;\n",
              "      box-shadow: 0px 1px 3px 1px rgba(0, 0, 0, 0.15);\n",
              "      filter: drop-shadow(0px 1px 2px rgba(0, 0, 0, 0.3));\n",
              "      fill: #FFFFFF;\n",
              "    }\n",
              "  </style>\n",
              "\n",
              "      <script>\n",
              "        const buttonEl =\n",
              "          document.querySelector('#df-a8cab1b8-d6d8-4da1-ada5-951b373d174d button.colab-df-convert');\n",
              "        buttonEl.style.display =\n",
              "          google.colab.kernel.accessAllowed ? 'block' : 'none';\n",
              "\n",
              "        async function convertToInteractive(key) {\n",
              "          const element = document.querySelector('#df-a8cab1b8-d6d8-4da1-ada5-951b373d174d');\n",
              "          const dataTable =\n",
              "            await google.colab.kernel.invokeFunction('convertToInteractive',\n",
              "                                                     [key], {});\n",
              "          if (!dataTable) return;\n",
              "\n",
              "          const docLinkHtml = 'Like what you see? Visit the ' +\n",
              "            '<a target=\"_blank\" href=https://colab.research.google.com/notebooks/data_table.ipynb>data table notebook</a>'\n",
              "            + ' to learn more about interactive tables.';\n",
              "          element.innerHTML = '';\n",
              "          dataTable['output_type'] = 'display_data';\n",
              "          await google.colab.output.renderOutput(dataTable, element);\n",
              "          const docLink = document.createElement('div');\n",
              "          docLink.innerHTML = docLinkHtml;\n",
              "          element.appendChild(docLink);\n",
              "        }\n",
              "      </script>\n",
              "    </div>\n",
              "  </div>\n",
              "  "
            ]
          },
          "metadata": {},
          "execution_count": 45
        }
      ]
    },
    {
      "cell_type": "code",
      "source": [
        "# 컬럼 제거\n",
        "df.drop(['컬럼1','컬럼2'], axis =)\n",
        "\n",
        "# df = df.drop(index = df[df[\"columns\"] >= 25].index) #인덱스 25보다 큰값 제거"
      ],
      "metadata": {
        "id": "k6tn8oVBIDzW"
      },
      "execution_count": null,
      "outputs": []
    },
    {
      "cell_type": "code",
      "source": [
        "# 열 추가(df에 컬럼3을 추가)\n",
        "df.assign(컬럼3 = lambda x: x.col1+2)"
      ],
      "metadata": {
        "id": "SP7NImAKuPts"
      },
      "execution_count": null,
      "outputs": []
    },
    {
      "cell_type": "markdown",
      "source": [
        "**split**"
      ],
      "metadata": {
        "id": "HMkEEeob-A21"
      }
    },
    {
      "cell_type": "code",
      "source": [
        "# str.split('기준문자', 나눌 횟수)\n",
        "text = 'Hello, world, python'\n",
        "strings = text.split(',', 1) # -1은 제한없음을 의미(default)\n",
        "print(strings)"
      ],
      "metadata": {
        "colab": {
          "base_uri": "https://localhost:8080/"
        },
        "id": "MkgR6DJzj_5o",
        "outputId": "77561432-9f33-4459-a4ff-5b2a59970cea"
      },
      "execution_count": null,
      "outputs": [
        {
          "output_type": "stream",
          "name": "stdout",
          "text": [
            "['Hello', ' world, python']\n"
          ]
        }
      ]
    },
    {
      "cell_type": "code",
      "source": [
        "# 데이터프레임 str.split('',expand=True)\n",
        "df_data = pd.DataFrame(['2018-10-11', '2018-10-12'],columns=['data'])\n",
        "\n",
        "# 리스트로 만들기\n",
        "df_data_1 = df_data['data'].str.split('-')\n",
        "print(df_data_1)\n",
        "print('-----------------------------------')\n",
        "\n",
        "# 데이터프레임에 넣어주기\n",
        "df_data[['연','월','일']]= df_data['data'].str.split('-', expand=True)\n",
        "df_data"
      ],
      "metadata": {
        "colab": {
          "base_uri": "https://localhost:8080/",
          "height": 182
        },
        "id": "zw9JftWynQ9s",
        "outputId": "138389a8-2f2a-4f47-fc65-5d193e78c27e"
      },
      "execution_count": null,
      "outputs": [
        {
          "output_type": "stream",
          "name": "stdout",
          "text": [
            "0    [2018, 10, 11]\n",
            "1    [2018, 10, 12]\n",
            "Name: data, dtype: object\n",
            "-----------------------------------\n"
          ]
        },
        {
          "output_type": "execute_result",
          "data": {
            "text/plain": [
              "         data     연   월   일\n",
              "0  2018-10-11  2018  10  11\n",
              "1  2018-10-12  2018  10  12"
            ],
            "text/html": [
              "\n",
              "  <div id=\"df-8060167e-7beb-40ca-ba70-042bf5d82c67\">\n",
              "    <div class=\"colab-df-container\">\n",
              "      <div>\n",
              "<style scoped>\n",
              "    .dataframe tbody tr th:only-of-type {\n",
              "        vertical-align: middle;\n",
              "    }\n",
              "\n",
              "    .dataframe tbody tr th {\n",
              "        vertical-align: top;\n",
              "    }\n",
              "\n",
              "    .dataframe thead th {\n",
              "        text-align: right;\n",
              "    }\n",
              "</style>\n",
              "<table border=\"1\" class=\"dataframe\">\n",
              "  <thead>\n",
              "    <tr style=\"text-align: right;\">\n",
              "      <th></th>\n",
              "      <th>data</th>\n",
              "      <th>연</th>\n",
              "      <th>월</th>\n",
              "      <th>일</th>\n",
              "    </tr>\n",
              "  </thead>\n",
              "  <tbody>\n",
              "    <tr>\n",
              "      <th>0</th>\n",
              "      <td>2018-10-11</td>\n",
              "      <td>2018</td>\n",
              "      <td>10</td>\n",
              "      <td>11</td>\n",
              "    </tr>\n",
              "    <tr>\n",
              "      <th>1</th>\n",
              "      <td>2018-10-12</td>\n",
              "      <td>2018</td>\n",
              "      <td>10</td>\n",
              "      <td>12</td>\n",
              "    </tr>\n",
              "  </tbody>\n",
              "</table>\n",
              "</div>\n",
              "      <button class=\"colab-df-convert\" onclick=\"convertToInteractive('df-8060167e-7beb-40ca-ba70-042bf5d82c67')\"\n",
              "              title=\"Convert this dataframe to an interactive table.\"\n",
              "              style=\"display:none;\">\n",
              "        \n",
              "  <svg xmlns=\"http://www.w3.org/2000/svg\" height=\"24px\"viewBox=\"0 0 24 24\"\n",
              "       width=\"24px\">\n",
              "    <path d=\"M0 0h24v24H0V0z\" fill=\"none\"/>\n",
              "    <path d=\"M18.56 5.44l.94 2.06.94-2.06 2.06-.94-2.06-.94-.94-2.06-.94 2.06-2.06.94zm-11 1L8.5 8.5l.94-2.06 2.06-.94-2.06-.94L8.5 2.5l-.94 2.06-2.06.94zm10 10l.94 2.06.94-2.06 2.06-.94-2.06-.94-.94-2.06-.94 2.06-2.06.94z\"/><path d=\"M17.41 7.96l-1.37-1.37c-.4-.4-.92-.59-1.43-.59-.52 0-1.04.2-1.43.59L10.3 9.45l-7.72 7.72c-.78.78-.78 2.05 0 2.83L4 21.41c.39.39.9.59 1.41.59.51 0 1.02-.2 1.41-.59l7.78-7.78 2.81-2.81c.8-.78.8-2.07 0-2.86zM5.41 20L4 18.59l7.72-7.72 1.47 1.35L5.41 20z\"/>\n",
              "  </svg>\n",
              "      </button>\n",
              "      \n",
              "  <style>\n",
              "    .colab-df-container {\n",
              "      display:flex;\n",
              "      flex-wrap:wrap;\n",
              "      gap: 12px;\n",
              "    }\n",
              "\n",
              "    .colab-df-convert {\n",
              "      background-color: #E8F0FE;\n",
              "      border: none;\n",
              "      border-radius: 50%;\n",
              "      cursor: pointer;\n",
              "      display: none;\n",
              "      fill: #1967D2;\n",
              "      height: 32px;\n",
              "      padding: 0 0 0 0;\n",
              "      width: 32px;\n",
              "    }\n",
              "\n",
              "    .colab-df-convert:hover {\n",
              "      background-color: #E2EBFA;\n",
              "      box-shadow: 0px 1px 2px rgba(60, 64, 67, 0.3), 0px 1px 3px 1px rgba(60, 64, 67, 0.15);\n",
              "      fill: #174EA6;\n",
              "    }\n",
              "\n",
              "    [theme=dark] .colab-df-convert {\n",
              "      background-color: #3B4455;\n",
              "      fill: #D2E3FC;\n",
              "    }\n",
              "\n",
              "    [theme=dark] .colab-df-convert:hover {\n",
              "      background-color: #434B5C;\n",
              "      box-shadow: 0px 1px 3px 1px rgba(0, 0, 0, 0.15);\n",
              "      filter: drop-shadow(0px 1px 2px rgba(0, 0, 0, 0.3));\n",
              "      fill: #FFFFFF;\n",
              "    }\n",
              "  </style>\n",
              "\n",
              "      <script>\n",
              "        const buttonEl =\n",
              "          document.querySelector('#df-8060167e-7beb-40ca-ba70-042bf5d82c67 button.colab-df-convert');\n",
              "        buttonEl.style.display =\n",
              "          google.colab.kernel.accessAllowed ? 'block' : 'none';\n",
              "\n",
              "        async function convertToInteractive(key) {\n",
              "          const element = document.querySelector('#df-8060167e-7beb-40ca-ba70-042bf5d82c67');\n",
              "          const dataTable =\n",
              "            await google.colab.kernel.invokeFunction('convertToInteractive',\n",
              "                                                     [key], {});\n",
              "          if (!dataTable) return;\n",
              "\n",
              "          const docLinkHtml = 'Like what you see? Visit the ' +\n",
              "            '<a target=\"_blank\" href=https://colab.research.google.com/notebooks/data_table.ipynb>data table notebook</a>'\n",
              "            + ' to learn more about interactive tables.';\n",
              "          element.innerHTML = '';\n",
              "          dataTable['output_type'] = 'display_data';\n",
              "          await google.colab.output.renderOutput(dataTable, element);\n",
              "          const docLink = document.createElement('div');\n",
              "          docLink.innerHTML = docLinkHtml;\n",
              "          element.appendChild(docLink);\n",
              "        }\n",
              "      </script>\n",
              "    </div>\n",
              "  </div>\n",
              "  "
            ]
          },
          "metadata": {},
          "execution_count": 76
        }
      ]
    },
    {
      "cell_type": "code",
      "source": [
        "# 함수를 iterator에 적용(순서대로)\n",
        "from functools import reduce\n",
        "# reduce(함수, iterator) \n",
        "print(df)\n",
        "print('---------')\n",
        "reduce(lambda x,y : x+y, [df['컬럼1'],df['컬럼2']]) # 컬럼값 합치기"
      ],
      "metadata": {
        "colab": {
          "base_uri": "https://localhost:8080/"
        },
        "id": "YKCsQN4dJtbU",
        "outputId": "616a375a-b2ae-438d-9633-72e906fb428a"
      },
      "execution_count": null,
      "outputs": [
        {
          "output_type": "stream",
          "name": "stdout",
          "text": [
            "    컬럼1  컬럼2\n",
            "행1    1    2\n",
            "행2    3    4\n",
            "---------\n"
          ]
        },
        {
          "output_type": "execute_result",
          "data": {
            "text/plain": [
              "행1    3\n",
              "행2    7\n",
              "dtype: int64"
            ]
          },
          "metadata": {},
          "execution_count": 9
        }
      ]
    },
    {
      "cell_type": "markdown",
      "source": [
        "**query**"
      ],
      "metadata": {
        "id": "EL0reukz_A08"
      }
    },
    {
      "cell_type": "code",
      "source": [
        "# 쿼리\n",
        "df.query('컬럼1 == 0'and'컬럼2==3')\n",
        "df[(df['컬럼1']==0) & (df['컬럼2']==3)] # and, or 안됨\n",
        "\n",
        "# df[df['컬럼1'].insull() | df['컬럼2].insull() | df['컬럼3].isnull()]"
      ],
      "metadata": {
        "id": "IAixjb2GGNUA"
      },
      "execution_count": null,
      "outputs": []
    },
    {
      "cell_type": "code",
      "source": [
        "# 그룹바이(유저번호로 묶어서 누적주문,주문시간의 합을 출력)\n",
        "df.groupby('유저번호')['누적주문','주문시간'].sum()\n",
        "df.groupby(['quality','color']).sum() # 왼쪽(quality가 묶임)\n",
        "df.groupby(['quality','color'], as_index = False).sum() # 오른쪽, 인덱싱 여부를 결정"
      ],
      "metadata": {
        "id": "9zqrB-HtNmAl"
      },
      "execution_count": null,
      "outputs": []
    },
    {
      "cell_type": "markdown",
      "source": [
        "![캡처.JPG](data:image/jpeg;base64,/9j/4AAQSkZJRgABAQEAYABgAAD/4RDmRXhpZgAATU0AKgAAAAgABQESAAMAAAABAAEAAAE7AAIAAAAFAAAIVodpAAQAAAABAAAIXJydAAEAAAAKAAAQ1OocAAcAAAgMAAAASgAAAAAc6gAAAAgAAAAAAAAAAAAAAAAAAAAAAAAAAAAAAAAAAAAAAAAAAAAAAAAAAAAAAAAAAAAAAAAAAAAAAAAAAAAAAAAAAAAAAAAAAAAAAAAAAAAAAAAAAAAAAAAAAAAAAAAAAAAAAAAAAAAAAAAAAAAAAAAAAAAAAAAAAAAAAAAAAAAAAAAAAAAAAAAAAAAAAAAAAAAAAAAAAAAAAAAAAAAAAAAAAAAAAAAAAAAAAAAAAAAAAAAAAAAAAAAAAAAAAAAAAAAAAAAAAAAAAAAAAAAAAAAAAAAAAAAAAAAAAAAAAAAAAAAAAAAAAAAAAAAAAAAAAAAAAAAAAAAAAAAAAAAAAAAAAAAAAAAAAAAAAAAAAAAAAAAAAAAAAAAAAAAAAAAAAAAAAAAAAAAAAAAAAAAAAAAAAAAAAAAAAAAAAAAAAAAAAAAAAAAAAAAAAAAAAAAAAAAAAAAAAAAAAAAAAAAAAAAAAAAAAAAAAAAAAAAAAAAAAAAAAAAAAAAAAAAAAAAAAAAAAAAAAAAAAAAAAAAAAAAAAAAAAAAAAAAAAAAAAAAAAAAAAAAAAAAAAAAAAAAAAAAAAAAAAAAAAAAAAAAAAAAAAAAAAAAAAAAAAAAAAAAAAAAAAAAAAAAAAAAAAAAAAAAAAAAAAAAAAAAAAAAAAAAAAAAAAAAAAAAAAAAAAAAAAAAAAAAAAAAAAAAAAAAAAAAAAAAAAAAAAAAAAAAAAAAAAAAAAAAAAAAAAAAAAAAAAAAAAAAAAAAAAAAAAAAAAAAAAAAAAAAAAAAAAAAAAAAAAAAAAAAAAAAAAAAAAAAAAAAAAAAAAAAAAAAAAAAAAAAAAAAAAAAAAAAAAAAAAAAAAAAAAAAAAAAAAAAAAAAAAAAAAAAAAAAAAAAAAAAAAAAAAAAAAAAAAAAAAAAAAAAAAAAAAAAAAAAAAAAAAAAAAAAAAAAAAAAAAAAAAAAAAAAAAAAAAAAAAAAAAAAAAAAAAAAAAAAAAAAAAAAAAAAAAAAAAAAAAAAAAAAAAAAAAAAAAAAAAAAAAAAAAAAAAAAAAAAAAAAAAAAAAAAAAAAAAAAAAAAAAAAAAAAAAAAAAAAAAAAAAAAAAAAAAAAAAAAAAAAAAAAAAAAAAAAAAAAAAAAAAAAAAAAAAAAAAAAAAAAAAAAAAAAAAAAAAAAAAAAAAAAAAAAAAAAAAAAAAAAAAAAAAAAAAAAAAAAAAAAAAAAAAAAAAAAAAAAAAAAAAAAAAAAAAAAAAAAAAAAAAAAAAAAAAAAAAAAAAAAAAAAAAAAAAAAAAAAAAAAAAAAAAAAAAAAAAAAAAAAAAAAAAAAAAAAAAAAAAAAAAAAAAAAAAAAAAAAAAAAAAAAAAAAAAAAAAAAAAAAAAAAAAAAAAAAAAAAAAAAAAAAAAAAAAAAAAAAAAAAAAAAAAAAAAAAAAAAAAAAAAAAAAAAAAAAAAAAAAAAAAAAAAAAAAAAAAAAAAAAAAAAAAAAAAAAAAAAAAAAAAAAAAAAAAAAAAAAAAAAAAAAAAAAAAAAAAAAAAAAAAAAAAAAAAAAAAAAAAAAAAAAAAAAAAAAAAAAAAAAAAAAAAAAAAAAAAAAAAAAAAAAAAAAAAAAAAAAAAAAAAAAAAAAAAAAAAAAAAAAAAAAAAAAAAAAAAAAAAAAAAAAAAAAAAAAAAAAAAAAAAAAAAAAAAAAAAAAAAAAAAAAAAAAAAAAAAAAAAAAAAAAAAAAAAAAAAAAAAAAAAAAAAAAAAAAAAAAAAAAAAAAAAAAAAAAAAAAAAAAAAAAAAAAAAAAAAAAAAAAAAAAAAAAAAAAAAAAAAAAAAAAAAAAAAAAAAAAAAAAAAAAAAAAAAAAAAAAAAAAAAAAAAAAAAAAAAAAAAAAAAAAAAAAAAAAAAAAAAAAAAAAAAAAAAAAAAAAAAAAAAAAAAAAAAAAAAAAAAAAAAAAAAAAAAAAAAAAAAAAAAAAAAAAAAAAAAAAAAAAAAAAAAAAAAAAAAAAAAAAAAAAAAAAAAAAAAAAAAAAAAAAAAAAAAAAAAAAAAAAAAAAAAAAAAAAAAAAAAAAAAAAAAAAAAAAAAAAAAAAAAAAAAAAAAAAAAAAAAAAAAAAAAAAAAAAAAAAAAAAAAAAAAAAAAAAAAAAAAAAAAAAAAAAAAAAAAAAAAAAAAAAAAAAAAAAAAAAAAAAAAAAAAAAAAAAAAAAAAAAAAAAAAAAAAAAAAAAAAAAAAAAAAAAAAAAAAAAAAAAAAAAAAAAAAAAAAAAAAAAAAAAAAAAAAAAAAAAAAAAAAAAAAAAAAAAAAAAAAAAAAAAAAAAAAAAAAAAAAAAAAAAAAAAAAAAAAAAAAAAAAAAAAAAAAAAAAAAAAAAAAAAAAAAAAAAAAAAAAAAAAAAAAAAAAAAAAAAAAAAAAAAAAAAAAAAAAAAAAAAAAAAAAAAAAAAAAAAAAAAAAAAAAAAAAAAAAAAAAAAAAAAAAAAAAAAAAAAAAAAAAAAAAAAAAAAAAAAAAAAAAAAAAAAAAAAAAAAAAAAAAAAAAAAAAAAAAAAAAAAAAAAAAAAAAAAAAAAAAAAAAAAAAAAAAAAAAAAAAAAAAAAAAAAAAAAAAAAAAAAAAAAAAAAAAAAAAAAAAAAAAAAAAAAAAAAAAAAAAAAAAAAAAAAAAAAAAAAAAAAAAAAAAAAAAAAAAAAAAAAAAAAAAAAAAAAAAAAAAAAAAAAAAAAAAAAAAAAAAAAAAAAAAAAAAAAAAAAAAAAAAAAAAAAAAGVudnkAAAAFkAMAAgAAABQAABCqkAQAAgAAABQAABC+kpEAAgAAAAMyNQAAkpIAAgAAAAMyNQAA6hwABwAACAwAAAieAAAAABzqAAAACAAAAAAAAAAAAAAAAAAAAAAAAAAAAAAAAAAAAAAAAAAAAAAAAAAAAAAAAAAAAAAAAAAAAAAAAAAAAAAAAAAAAAAAAAAAAAAAAAAAAAAAAAAAAAAAAAAAAAAAAAAAAAAAAAAAAAAAAAAAAAAAAAAAAAAAAAAAAAAAAAAAAAAAAAAAAAAAAAAAAAAAAAAAAAAAAAAAAAAAAAAAAAAAAAAAAAAAAAAAAAAAAAAAAAAAAAAAAAAAAAAAAAAAAAAAAAAAAAAAAAAAAAAAAAAAAAAAAAAAAAAAAAAAAAAAAAAAAAAAAAAAAAAAAAAAAAAAAAAAAAAAAAAAAAAAAAAAAAAAAAAAAAAAAAAAAAAAAAAAAAAAAAAAAAAAAAAAAAAAAAAAAAAAAAAAAAAAAAAAAAAAAAAAAAAAAAAAAAAAAAAAAAAAAAAAAAAAAAAAAAAAAAAAAAAAAAAAAAAAAAAAAAAAAAAAAAAAAAAAAAAAAAAAAAAAAAAAAAAAAAAAAAAAAAAAAAAAAAAAAAAAAAAAAAAAAAAAAAAAAAAAAAAAAAAAAAAAAAAAAAAAAAAAAAAAAAAAAAAAAAAAAAAAAAAAAAAAAAAAAAAAAAAAAAAAAAAAAAAAAAAAAAAAAAAAAAAAAAAAAAAAAAAAAAAAAAAAAAAAAAAAAAAAAAAAAAAAAAAAAAAAAAAAAAAAAAAAAAAAAAAAAAAAAAAAAAAAAAAAAAAAAAAAAAAAAAAAAAAAAAAAAAAAAAAAAAAAAAAAAAAAAAAAAAAAAAAAAAAAAAAAAAAAAAAAAAAAAAAAAAAAAAAAAAAAAAAAAAAAAAAAAAAAAAAAAAAAAAAAAAAAAAAAAAAAAAAAAAAAAAAAAAAAAAAAAAAAAAAAAAAAAAAAAAAAAAAAAAAAAAAAAAAAAAAAAAAAAAAAAAAAAAAAAAAAAAAAAAAAAAAAAAAAAAAAAAAAAAAAAAAAAAAAAAAAAAAAAAAAAAAAAAAAAAAAAAAAAAAAAAAAAAAAAAAAAAAAAAAAAAAAAAAAAAAAAAAAAAAAAAAAAAAAAAAAAAAAAAAAAAAAAAAAAAAAAAAAAAAAAAAAAAAAAAAAAAAAAAAAAAAAAAAAAAAAAAAAAAAAAAAAAAAAAAAAAAAAAAAAAAAAAAAAAAAAAAAAAAAAAAAAAAAAAAAAAAAAAAAAAAAAAAAAAAAAAAAAAAAAAAAAAAAAAAAAAAAAAAAAAAAAAAAAAAAAAAAAAAAAAAAAAAAAAAAAAAAAAAAAAAAAAAAAAAAAAAAAAAAAAAAAAAAAAAAAAAAAAAAAAAAAAAAAAAAAAAAAAAAAAAAAAAAAAAAAAAAAAAAAAAAAAAAAAAAAAAAAAAAAAAAAAAAAAAAAAAAAAAAAAAAAAAAAAAAAAAAAAAAAAAAAAAAAAAAAAAAAAAAAAAAAAAAAAAAAAAAAAAAAAAAAAAAAAAAAAAAAAAAAAAAAAAAAAAAAAAAAAAAAAAAAAAAAAAAAAAAAAAAAAAAAAAAAAAAAAAAAAAAAAAAAAAAAAAAAAAAAAAAAAAAAAAAAAAAAAAAAAAAAAAAAAAAAAAAAAAAAAAAAAAAAAAAAAAAAAAAAAAAAAAAAAAAAAAAAAAAAAAAAAAAAAAAAAAAAAAAAAAAAAAAAAAAAAAAAAAAAAAAAAAAAAAAAAAAAAAAAAAAAAAAAAAAAAAAAAAAAAAAAAAAAAAAAAAAAAAAAAAAAAAAAAAAAAAAAAAAAAAAAAAAAAAAAAAAAAAAAAAAAAAAAAAAAAAAAAAAAAAAAAAAAAAAAAAAAAAAAAAAAAAAAAAAAAAAAAAAAAAAAAAAAAAAAAAAAAAAAAAAAAAAAAAAAAAAAAAAAAAAAAAAAAAAAAAAAAAAAAAAAAAAAAAAAAAAAAAAAAAAAAAAAAAAAAAAAAAAAAAAAAAAAAAAAAAAAAAAAAAAAAAAAAAAAAAAAAAAAAAAAAAAAAAAAAAAAAAAAAAAAAAAAAAAAAAAAAAAAAAAAAAAAAAAAAAAAAAAAAAAAAAAAAAAAAAAAAAAAAAAAAAAAAAAAAAAAAAAAAAAAAAAAAAAAAAAAAAAAAAAAAAAAAAAAAAAAAAAAAAAAAAAAAAAAAAAAAAAAAAAAAAAAAAAAAAAAAAAAAAAAAAAAAAAAAAAAAAAAAAAAAAAAAAAAAAAAAAAAAAAAAAAAAAAAAAAAAAAAAAAAAAAAAAAAAAAAAAAAAAAAAAAAAAAAAAAAAAAAAAAAAAAAAAAAAAAAAAAAAAAAAAAAAAAAAAAAAAAAAAAAAAAAAAAAAAAAAAAAAAAAAAAAAAAAAAAAAAAAAAAAAAAAAAAAAAAAAAAAAAAAAAAAAAAAAAAAAAAAAAAAAAAAAAAAAAAAAAAAAAAAAAAAAAAAAAAAAAAAAAAAAAAAAAAAAAAAAAAAAAAAAAAAAAAAAAAAAAAAAAAAAAAAAAAAAAAAAAAAAAAAAAAAAAAAAAAAAAAAAAAAAAAAAAAAAAAAAAAAAAAAAAAAAAAAAAAAAAAAAAAAAAAAAAAAAAAAAAAAAAAAAAAAAAAAAAAAAAAAAAAAAAAAAAAAAAAAAAAAAAAAAAAAAAAAAAAAAAAAAAAAAAAAAAAAAAAAAAAAAAAAAAAAAAAAAAAAAAAAAAAAAAAAAAAAAAAAAAAAAAAAAAAAAAAAAAAAAAAAAAAAAAAAAAAAAAAAAAAAAAAAAAAAAAAAAAAAAAAAAAAAAAAAAAAAAAAAAAAAAAAAMjAyMzowMToxNiAxNDowODo1MwAyMDIzOjAxOjE2IDE0OjA4OjUzAAAAZQBuAHYAeQAAAP/hCxdodHRwOi8vbnMuYWRvYmUuY29tL3hhcC8xLjAvADw/eHBhY2tldCBiZWdpbj0n77u/JyBpZD0nVzVNME1wQ2VoaUh6cmVTek5UY3prYzlkJz8+DQo8eDp4bXBtZXRhIHhtbG5zOng9ImFkb2JlOm5zOm1ldGEvIj48cmRmOlJERiB4bWxuczpyZGY9Imh0dHA6Ly93d3cudzMub3JnLzE5OTkvMDIvMjItcmRmLXN5bnRheC1ucyMiPjxyZGY6RGVzY3JpcHRpb24gcmRmOmFib3V0PSJ1dWlkOmZhZjViZGQ1LWJhM2QtMTFkYS1hZDMxLWQzM2Q3NTE4MmYxYiIgeG1sbnM6ZGM9Imh0dHA6Ly9wdXJsLm9yZy9kYy9lbGVtZW50cy8xLjEvIi8+PHJkZjpEZXNjcmlwdGlvbiByZGY6YWJvdXQ9InV1aWQ6ZmFmNWJkZDUtYmEzZC0xMWRhLWFkMzEtZDMzZDc1MTgyZjFiIiB4bWxuczp4bXA9Imh0dHA6Ly9ucy5hZG9iZS5jb20veGFwLzEuMC8iPjx4bXA6Q3JlYXRlRGF0ZT4yMDIzLTAxLTE2VDE0OjA4OjUzLjI1MDwveG1wOkNyZWF0ZURhdGU+PC9yZGY6RGVzY3JpcHRpb24+PHJkZjpEZXNjcmlwdGlvbiByZGY6YWJvdXQ9InV1aWQ6ZmFmNWJkZDUtYmEzZC0xMWRhLWFkMzEtZDMzZDc1MTgyZjFiIiB4bWxuczpkYz0iaHR0cDovL3B1cmwub3JnL2RjL2VsZW1lbnRzLzEuMS8iPjxkYzpjcmVhdG9yPjxyZGY6U2VxIHhtbG5zOnJkZj0iaHR0cDovL3d3dy53My5vcmcvMTk5OS8wMi8yMi1yZGYtc3ludGF4LW5zIyI+PHJkZjpsaT5lbnZ5PC9yZGY6bGk+PC9yZGY6U2VxPg0KCQkJPC9kYzpjcmVhdG9yPjwvcmRmOkRlc2NyaXB0aW9uPjwvcmRmOlJERj48L3g6eG1wbWV0YT4NCiAgICAgICAgICAgICAgICAgICAgICAgICAgICAgICAgICAgICAgICAgICAgICAgICAgICAgICAgICAgICAgICAgICAgICAgICAgICAgICAgICAgICAgICAgICAgICAgICAgICAKICAgICAgICAgICAgICAgICAgICAgICAgICAgICAgICAgICAgICAgICAgICAgICAgICAgICAgICAgICAgICAgICAgICAgICAgICAgICAgICAgICAgICAgICAgICAgICAgICAgIAogICAgICAgICAgICAgICAgICAgICAgICAgICAgICAgICAgICAgICAgICAgICAgICAgICAgICAgICAgICAgICAgICAgICAgICAgICAgICAgICAgICAgICAgICAgICAgICAgICAgCiAgICAgICAgICAgICAgICAgICAgICAgICAgICAgICAgICAgICAgICAgICAgICAgICAgICAgICAgICAgICAgICAgICAgICAgICAgICAgICAgICAgICAgICAgICAgICAgICAgICAKICAgICAgICAgICAgICAgICAgICAgICAgICAgICAgICAgICAgICAgICAgICAgICAgICAgICAgICAgICAgICAgICAgICAgICAgICAgICAgICAgICAgICAgICAgICAgICAgICAgIAogICAgICAgICAgICAgICAgICAgICAgICAgICAgICAgICAgICAgICAgICAgICAgICAgICAgICAgICAgICAgICAgICAgICAgICAgICAgICAgICAgICAgICAgICAgICAgICAgICAgCiAgICAgICAgICAgICAgICAgICAgICAgICAgICAgICAgICAgICAgICAgICAgICAgICAgICAgICAgICAgICAgICAgICAgICAgICAgICAgICAgICAgICAgICAgICAgICAgICAgICAKICAgICAgICAgICAgICAgICAgICAgICAgICAgICAgICAgICAgICAgICAgICAgICAgICAgICAgICAgICAgICAgICAgICAgICAgICAgICAgICAgICAgICAgICAgICAgICAgICAgIAogICAgICAgICAgICAgICAgICAgICAgICAgICAgICAgICAgICAgICAgICAgICAgICAgICAgICAgICAgICAgICAgICAgICAgICAgICAgICAgICAgICAgICAgICAgICAgICAgICAgCiAgICAgICAgICAgICAgICAgICAgICAgICAgICAgICAgICAgICAgICAgICAgICAgICAgICAgICAgICAgICAgICAgICAgICAgICAgICAgICAgICAgICAgICAgICAgICAgICAgICAKICAgICAgICAgICAgICAgICAgICAgICAgICAgICAgICAgICAgICAgICAgICAgICAgICAgICAgICAgICAgICAgICAgICAgICAgICAgICAgICAgICAgICAgICAgICAgICAgICAgIAogICAgICAgICAgICAgICAgICAgICAgICAgICAgICAgICAgICAgICAgICAgICAgICAgICAgICAgICAgICAgICAgICAgICAgICAgICAgICAgICAgICAgICAgICAgICAgICAgICAgCiAgICAgICAgICAgICAgICAgICAgICAgICAgICAgICAgICAgICAgICAgICAgICAgICAgICAgICAgICAgICAgICAgICAgICAgICAgICAgICAgICAgICAgICAgICAgICAgICAgICAKICAgICAgICAgICAgICAgICAgICAgICAgICAgICAgICAgICAgICAgICAgICAgICAgICAgICAgICAgICAgICAgICAgICAgICAgICAgICAgICAgICAgICAgICAgICAgICAgICAgIAogICAgICAgICAgICAgICAgICAgICAgICAgICAgICAgICAgICAgICAgICAgICAgICAgICAgICAgICAgICAgICAgICAgICAgICAgICAgICAgICAgICAgICAgICAgICAgICAgICAgCiAgICAgICAgICAgICAgICAgICAgICAgICAgICAgICAgICAgICAgICAgICAgICAgICAgICAgICAgICAgICAgICAgICAgICAgICAgICAgICAgICAgICAgICAgICAgICAgICAgICAKICAgICAgICAgICAgICAgICAgICAgICAgICAgICAgICAgICAgICAgICAgICAgICAgICAgICAgICAgICAgICAgICAgICAgICAgICAgICAgICAgICAgICAgICAgICAgICAgICAgIAogICAgICAgICAgICAgICAgICAgICAgICAgICAgICAgICAgICAgICAgICAgICAgICAgICAgICAgICAgICAgICAgICAgICAgICAgICAgICAgICAgICAgICAgICAgICAgICAgICAgCiAgICAgICAgICAgICAgICAgICAgICAgICAgICAgICAgICAgICAgICAgICAgICAgICAgICAgICAgICAgICAgICAgICAgICAgICAgICAgICAgICAgICAgICAgICAgICAgICAgICAKICAgICAgICAgICAgICAgICAgICAgICAgICAgICAgICAgICAgICAgICAgICAgICAgICAgICAgICAgICAgICAgICAgICAgICAgICAgICAgICAgICAgICAgICAgICAgICAgICAgIAogICAgICAgICAgICAgICAgICAgICAgICAgICAgPD94cGFja2V0IGVuZD0ndyc/Pv/bAEMAAgEBAgEBAgICAgICAgIDBQMDAwMDBgQEAwUHBgcHBwYHBwgJCwkICAoIBwcKDQoKCwwMDAwHCQ4PDQwOCwwMDP/bAEMBAgICAwMDBgMDBgwIBwgMDAwMDAwMDAwMDAwMDAwMDAwMDAwMDAwMDAwMDAwMDAwMDAwMDAwMDAwMDAwMDAwMDP/AABEIAI0BgAMBIgACEQEDEQH/xAAfAAABBQEBAQEBAQAAAAAAAAAAAQIDBAUGBwgJCgv/xAC1EAACAQMDAgQDBQUEBAAAAX0BAgMABBEFEiExQQYTUWEHInEUMoGRoQgjQrHBFVLR8CQzYnKCCQoWFxgZGiUmJygpKjQ1Njc4OTpDREVGR0hJSlNUVVZXWFlaY2RlZmdoaWpzdHV2d3h5eoOEhYaHiImKkpOUlZaXmJmaoqOkpaanqKmqsrO0tba3uLm6wsPExcbHyMnK0tPU1dbX2Nna4eLj5OXm5+jp6vHy8/T19vf4+fr/xAAfAQADAQEBAQEBAQEBAAAAAAAAAQIDBAUGBwgJCgv/xAC1EQACAQIEBAMEBwUEBAABAncAAQIDEQQFITEGEkFRB2FxEyIygQgUQpGhscEJIzNS8BVictEKFiQ04SXxFxgZGiYnKCkqNTY3ODk6Q0RFRkdISUpTVFVWV1hZWmNkZWZnaGlqc3R1dnd4eXqCg4SFhoeIiYqSk5SVlpeYmZqio6Slpqeoqaqys7S1tre4ubrCw8TFxsfIycrS09TV1tfY2dri4+Tl5ufo6ery8/T19vf4+fr/2gAMAwEAAhEDEQA/AP38xkU0kA0A4WvMP2wPjtJ+y7+y/wCP/iKmnf2xJ4J0K61kWXmeX9paGMybN3ZePyrOUuWPNIqMeZ2PTsbfzpAoHFfmn8VP+Cnnxy+Ath8TIdZm+DvjK+8K/CnS/iNpk2i6FqFpbia5vkt3gnR9Qn8yNIw7o6SJvBR+nFeqfFX/AIKSaz4F+Mnxt8Jf2h4Z0tvBa+FLTwpOnh+61681jVNYS4k+xSWsd7AHkk8lEg/fwJH5m+STyxWsotK/9b8v5mcZc3vf19n/AOSR9tFhQCM1+SviT9rbxJ+1X4p+AviHx14f0my8T+E/FXxK8NapYW6eRZ3D2Oh3kf3Eup9n7vYkiR3b/vN+ySt/9kr4jfFzWfjl+zvovgLWvCvhPwnqX7PDa5pfhSTS9Rn0SC6/0JER92oeY7pI8eyaTe6QeYnzvJ5lKz5+T+vhlL/20b/r/wAC5T9S9nNOPIr4t/4J1/8ABRTxf+3N47j09tH0HTbDwh4RhPjwwxTfaLDxY97PbyafD++PlxxpZTSbHDvsuLf5/wC/9oMcEVUo8gxvl5agJhq+ef22P2mfEnwR8R/Cjwj4SPh6x8SfFnxOfD9rq/iCGS40vR0S3kupHeCOaB7iaSOExxx+dHmRx8/ASTxH9pL/AIKCfFj4Lan8ZPsjfDaS1/Z38PaLrXiSHUdGvoJ/HD3aSSyDTsXuNPj2J5cbyfbcz5Q/cOS7K5Pe5f67H3q5FKqqTX5kR/tTeIvgd+2N8fG8MWOkWviL4m/ErwL4VtbvXIHuLDQPtujRyPPdQRvBI/yI6RoJI/MkeP8AeV2K/wDBR34w6lLong+ztfht/wAJlN8abz4U33iBtMvptFvII9OuLwX0NkLrzEkj2JHJB9rf545P3ieZ8i9nzf1/h/8AkkY88eXm/rr/APIs/QiiszQ11CPRrMahcWdxfLCn2iW3gNvHJJgb2RC8mxc5+Xe/+8etadI0CiiigAooooAKKKKACiiigAooooAKKKKADNFQuPmoJ/dg1PNql3/4H+YdG/62Js0ZqInBHvXnH7U37S+i/slfBu+8ceIrHWL3SdPubK1kh06KOS4L3V1Fax48x0T/AFkyA5cdapXbt/W4S0V2emZozXiVz+2p4V8L3N0PFlh4p8EwjxrB4C0ybXdJe3j8RX8/l+Q9ls3ma3kL4E+ET93J/cJHtCjA60LVKS2f/At+DuDTW/8AXf8AyJTyKAMUDpRQA1hnvQi7c/NnP6VG4be3+e1eafs8ftI6F+0po/ii88P2mr2aeEvE+o+FL1b6KNS91ZSbJHj2O+YyfuHgnP3BS0bDb+vK56cYm8zduOMdKfmo3bDLRjhqdtBX3JM0ZryP9qD9qfRP2TfAuj6rrVjq2s3XiLXbHwzoul6WkP27V9QupPLhgjM8kMCnIdy8kiIEjJz0rc+DHxlb4uzeJlk8JeMvCreHNWfSydf09LX+1Nkccnn2pSSQTW/7zYJMjLpIMcUR1Ta/rb/NfeinFpJvr/X9eh6A3I/+vUENvIgBabe3G75cAnHYZ47ce3rzSXAJcY9D/KvN/wBo/wDaP0T9mLwt4f1XXrTVru18ReI9O8MWqWESSMl3fTiCF33ugEe9xuOTjPQ1KbclGPV2/r56C6N/1tc9KFtISpaZvlPYYBHv+n5duQXCAr0duueST6/4/wAqGPK+9IvIo0uGw028gfPncHsRwOvvnr+gwMdaf5LDpI3oSeuPbtnp1zXDeGvit/wlfxi8UeEh4a8Xaf8A8Itb2dwdavLDydI1Y3SufLtZt/754/LxINgCF09a880X9unRPE3jLVtD0fwf8QtcuvD/AI/X4fanNp+lx3EFhcm0juvt0zrMdljGkiI8z4fzDjy6qOr0/rVL82vvCXuq77X/AAb/ACR70LdvMBMzdOQO5/z+PHWpFXn72ea4P4RfHTwv8eLfXbrwrrCaxa+Htbu/D2oSxwSRiC+tX8ueHLqN+x/40ynoTiu4ij2DrRL/AC/EmMr/AI/g7E1Z+q6Pba7p09neQw3VpdRvDLDKnmRzI/31ZfcVoVzZ8G6n/wBDd4i/782P/wAjUFHhfgH/AIJo+Avhn+0v4j8YaB4f8G6J4P8AE3gxPCF74KsPDNta6bcAXck8k77MRv5iP5bxmHkfxnpXcaf+w/8ABvRvBWqeHbX4RfDK18O68YF1HSofCtillqPkO8kAmh8vy32SO7pvB2M5I5Jruj4Q1Pdt/wCEu8Rf9+bH/wCRqB4Q1Pfj/hLvEP8A35sf/kajXl5Sftc39djndF/Za+Gfhy20+DTfhx4E06102e7ms4rfw/aQx2j3UfkXTx7E+R54/kkI/wBYnyPwak1n9nfwXLZeHW0/wZ4HtNW8C27QeEbm68PwTR+GP3YjX7Ig2GCMCNPkhePKIBkcV0A8G6nj/kbvEX/fmx/+RqP+EN1P/obvEX/fmx/+RqCjzn9jv9lW1/Za8P8AirddWeseJvHfiG68U+I9UtNM/sy2vb2fj9za75PIjSNEQJ5kjnBd3d3cn2qub/4Q3U/+hu8Rf9+bH/5Go/4Q3U/+hu8Rf9+bH/5GoAh+Kfwj8K/HLwjN4f8AGXhnw/4t0C4dHn0zWbCG+s5XT5l3wzI6ceuK5vUP2Q/hXrOo+Gb2++Gfw7u7rwTFBB4dml8OWkknh+OB98aWjlP3Cxtygj2bD0rqv+EO1I/8zd4i/wC/Nj/8jUf8Ibqf/Q3eIv8AvzY//I1AGR4n/Z48BeObPxNb614H8I6xa+NGt5fEMN5o0FwmuPBs8j7UHT9/5exNm/OzYPSk8Ofs6fD/AMKeHvDej6R4F8H6TpPhG7e/0GxtNEtoYNDuX8zdPaxqmyCT99Jl4wCfMf8AvGtj/hDtS/6G7xF/35sf/kaj/hDtS/6G7xF/35sf/kagDpKK5v8A4Q3U/wDobvEX/fmx/wDkaj/hDdT/AOhu8Rf9+bH/AORqAOkorm/+EN1P/obvEX/fmx/+RqP+EN1P/obvEX/fmx/+RqAOkorm/wDhDdT/AOhu8Rf9+bH/AORqP+EN1P8A6G7xF/35sf8A5GoA6Siub/4Q3U/+hu8Rf9+bH/5Go/4Q3U/+hu8Rf9+bH/5GoA6Siub/AOEN1P8A6G7xF/35sf8A5Go/4Q7Uv+hu8Q/9+bH/AORqAOkorm/+EN1P/obvEX/fmx/+Rq1tB0yfSrNo7jUbzU3ZywluViV1GB8o8tEXHGeRnk89AAC9RRVHXvEen+GLNbjUb6z0+F3EayXMyxIzEE4BYgZwCcexoAsS87q/JC4/Zq1r4KftXfAW88b/AAxS18eah8ctYuLn4lfaNPnl8V2V1Bqc9rBvSd7vZHAkH7ueONI/s6bK/VH/AIW74W/6Gbw//wCDGH/4usHxLrvw58a6hot5rF54L1S88P3f2/S5rya1mfTbny3j8+Fn+5Jsd03pz85HTNZ+zfMpX2/zT/SwS1g4d/8AKx+evwT/AGPPj98MdP8Agdodn8LoBqHwM0vx5p/9p6tq+nSaHrc98kg02SOOC6+1+ROdnmJJGjx7/bfXD+FP+CbXxsHwm+MdhZ/DW48ML4+s/Bt7BoKf8I1o2nx6pY6t5+o/ZbXS5vIggSD7jzySTyJs3ySONlfrB/wt3wt/0M3h/wD8GMP/AMXR/wALd8Lf9DN4f/8ABjD/APF1pzS9op9v87hU99WZ+bH7QP8AwTF8Z/EnSfF2q6l8MdL8W3Fj+0fF8QrPSpm0ue51/wANPBZQXUEDTzRwJ5/knfBcSR+Z5Hz9Y61fhj+zBqVh/wAFY9S+G9vpv2X4R+F9XT48QW8VxHIlhq97ayWKWMkabvL/ANKS7uk7Dy/kr9Ev+Fu+Fv8AoZvD/wD4MYf/AIuub8Dt8L/hpNq83hseAvDcmvXr6lqj6d9ktDqd1JgvPOY/9ZI/d3y5pwbilFbLp/26kvusn6hUvJW/rdt/em16M9IHSvkP9vz9nrxF8VP2i/hP4j1H4ZL8cPhf4etdVt9Z8Ei504+XqM8cf2TUvsuozQWl0I0SeD95Jvj+0b40+/X0x/wt3wt/0M3h/wD8GMP/AMXR/wALd8Lf9DN4f/8ABjD/APF0gPz6+OX7B3xI8bfHnxteWPw9+0eLfEnjPQtZ8FfFBdQ06P8A4QHRbVLPz9O/1326Dy/Iu08i0jeCf7X87/PJVdP2DfiRpN9bXnin4aj4i+BbX4xeLvE+reATe6VP/wAJJZaih/s7Udl1NHaTeRJvfyLiRJP3gf8A1ic/ob/wt3wr/wBDL4e/8GMP/wAXR/wt3wr/ANDN4f8A/BjD/wDF0kv6/wDAf/kV/wAOH9fhJf8AtzPz7/Z9/wCCbPi7/hZ37O7fE7wbpuueE/Auk+LpbrS9Su7bU7bwsL7ULSfSNO2PI4n+zwRlE8tJI43g+R/kjc/pIvNc/wD8Ld8K/wDQy+Hv/BjD/wDF0f8AC3fC3/QzeH//AAYw/wDxdVfSxPL7zl3Pl3/grF+xbeftg6f8EY9P8E6H4yXwn8TtI1PW49QS1xa6Hvf+0f8AX/fjfEPmQpvMmxP3b4rwn4hf8E/PjBrFv4203wn4Vbwr4u1r45XXjHwn4+ju9OMfgnS/sNpH9r8jzvMn89I5LX7Ls7mSTZ5ce/8ARj/hbvhb/oZvD/8A4MYf/i6P+Fu+Fv8AoZvD/wD4MYf/AIupiuVNLr/9r/8AIL72ayqNpJ9P/tv/AJJn5S6h/wAEyPiN47074f2vi74X/ELS/DOn+A7bSoNE8F614UuNQ8LeIYLqSS91E3WqeZ5Zv3kjm+22Mn2smM+d/BjqPiz/AME7fiJ4l+OGoahqHweHjLxWvxw0fxlY/FC41XS45Y/DcElp/ou950u99vGjx+R9n8h/LMifPs3/AKZf8Lc8K/8AQy+Hv/BjD/8AF0f8Ld8Lf9DN4f8A/BjD/wDF1UXyzU49Hf8A8mUvzRC0TXf/ACsfL/7X37Q/h/8Aa0/Z/wDE3gn4Ja98G/jV4qupLb+0fDEWp6P4guBpv2qKO6uo7KedLV54N6SRi7cQeZGm/P3D82/CL/gnr8Vvh58OPCOl+JvhhqHjz4Y+F/iX4l1a6+Gt7qOgefqul3sCHTp/s0bwaS/2efz5Psu+COOSTfHH+7Sv0y/4W74V/wChm8P/APgxh/8Ai6P+Fu+Fv+hm8P8A/gxh/wDi6X9fl/kEtf69f8z87/2iv2EviT41+MvxB1zRfhj9o+Heuah8PLubwSb3Srf/AISTStLS7+26Vs8/yE+zvJbvskkSCTyNiSOlZvwb/wCCdvxC8N6pYtpfwlh8A+GV/aMh8fQaCb7S2j0vQf7K8h5NlvO8a/vPk+zxb/L/AOWe9P3lfpF/wt3wr/0M3h//AMGMP/xdH/C3PCv/AEMvh7/wYw//ABdVB8ruv61g/wA4L8SqknOHK+1vwa/Jn5RePf2KdY/4J9/s7fET4k6J8MdD0Hxt8Ifi2/jnwxqdq+m2lt4s0S6u5IE0mN4H89fLtLqSNIJ4E/ePHHBv8yv0X/YA/Z/m/Zi/ZL8HeE9QmkutejtpNS125f8A1l5ql3I91eyfjcTSV0XjF/hd8QtS0O/19vh/rl54au/t+k3OpfZLqXTLnH+vgd8mGT/bTBrpB8XfCo/5mbw//wCDGH/4upi2o8r8vwVv+CZ8vvc3r+Lv/n950lFFFBQYoxRRQAUUUUAFB5FFFADUHNDdRQGya8T/AOChXwv1745fsP8Axb8G+F7FtV8Q+J/CWo6Zptn50cH2i4nt3jjTfIyInzkcucVnKpaPMVFXZ7RA3VvYV5v+1T+0tov7JvwevPHPiKx1e80nTrmytJIdOijkuDJd3UVrHjzHRP8AWTIDlx1r4J/an/4JX6t4r1PwBo9t4E8Raj8KLXwJJpOreGvA48MR31j4hkeMz6q6a2n2d554/wB39tgkF2jxZ34kc1zv7VH/AATg+JHj7U/iJb3PwjvviX4p1jV/Cl34N8falq+kSXuh6XYx2i3VlJPNMk8c2+O7eTyI/LuDcO/XitKfJz8j/m/U56kpRpcy/l/Q/WZTkUUifcH0paDZbBRRRQB5r8bvjX/wpOLSkt/DPijxprWvXLW2naNoKWpvLnYkk8jb7qe3t0RI0J/eSKScIm93AI3x5bVvgppfjbwv4Y8T+Nodctra8sNM0lLW2v7mOfDj/j9nghj2IcuJJEIwQMvhK4P9tj4da747vfB1xH4Q8U+O/DOnTXT3+meE9ch0HxBb3LxokF3BeyXVp5cKRm6SRI7qOR/PjH7yMSJVWHT/ABx4W/ZssPCuvfD3xV4l/s/RdPtLgeC/ElnoWpyyEyiSOB0nsY4fs6QWu9454Ek89xGgCeWc18MizqJ/2vtOvfh/4d1bRfCvjDxB4h8Tfavs3hOxWyj1hJLSTyb1JDPdR2qfZ5P3bv8AaPLLlAjyeZHvd4y/a2sfB3jm10m48I+L7m1jnsbXXdWgitZLDwxcXpRIILthP5jv88e/7PHOkYkR5HSP568J8Y/sl6xrfhP4f6p43+Ef/C2LHTdP1rTpPA811pUj6Yl9fQXdlPcpPJDYzT28cHkzzRvI++TfH5/7yR9Hwv8As9/Ez4e+C7z4c3Wi33i7/hPk0GfWfGh1O0+x6ZPa2FhY33npO6XcjvHYCSAxQSB5J/3hg5etv6/r+vmYa/1/X9dj13Tf22PD91411CxutD8UaR4etJNQt7PxXeRWy6Pq1xp/mC9gg2TvdbohDOd0kCRv5D+W78Zo6R+3Bpcvh7W7jVfBfxB8OahYCym03SNSs7U6h4iivpvIsXtRDcyRjz7j93suJIHg6zpAnz15R41/Zo8b/G/wWvwn1XwzeaBoXhm68Q3Fv4s+32j6fq8d9YanY2iQwpI90siJqe+bz4ERHgfy3kGw1r+IvCnxO+LmrR+Prr4a6n4d1jwVHpi2Xh+81nTpbrxFJDei4vfs8kMzwJGY/kgeeSB3kyJkgTD1MfiibVPdh7nxf8MfQXwc+L0Pxj8MXl0NJ1nw3qGnXkmnalpGrCD7fpV0gRvLkMEk0D5SSOQPHI6bJE5647qvJf2Z/DOtWLeNvFGu6Fe+GtQ+IHiD+2jol3PBPc6YkdjZ2CJM0EkkPmOllvPlyOnz/fNetVUiQooqO6G5AOOT37/SpAkooooAKKKKACikbgV89XPjDxB4b/bP07SIvHXii+0/WvOW98O61odtZaJaRfZZJ4X0u8FpFJd3YeAeZGLu62RyTu8ceI9hHV2B6K59DUUUUAGaK4/4xfFHT/gv8JfE/i/U4bubTfCelXOs3MdtH5k8sMELyuqI38exOnGTXg/x2/4Kt/Dn9mltHj8cWeqeGdT1OCTUZNL1LVNE0/UbLTxNJGl8YJ9QjeeOTyXcQWonusYV4Ek/d0Fcrtf+un+a+8+qKM180/FP9sjUJNf07TfC/hvxjb6SfGGmaBN4sksrV9Gu3e+gjurWPfN9p+48ief9n8jejok3mbK+kQyn+tKLvHm/rZP9TPnXNydf+C1+jJaKAc0UygozSKMV8w/t7/F7xN4F13w3pei+KfEnhO3uNO1TUnn8PaLaa1eXN1b/AGdLSG6hmhn8jTZDNP5915caRmODfd2u/wDeTKUVuVGNz6fzRmvE/j7rmoah8BtL1T/hNPGngq4b7LcXWoeAtCi8SXlw0iY8uOF7K+zB5jh94g4RAS6Jvrw3xr+1z4w1jR/BenrqXjTzdO8D2Hjbxbq3w2sNH1H5LgyqZvO1B5rT7H/o07+Taefdyb4/JykbmSno3fp/X/Dkx1jdf12+96I+3s0Zr5UvPi54wm8STfEa28aX0nhCz8Z23hVfCkenWg0+6s5J47R7t5nh+1/a/OmMwMc6QeXGkfk+Z5kh468/aF+I3gbwP4J8T3njO41Wf43aZZiz0260uzWz8F319fabbw/ZNkMc80Eaag+9bp55HeCPHlgulTGXMrx8vxV19493Zf1/w3U+3KK+UT4k+Ilt8RP+FN/8LN1+bUJ9aR/+EzbTNL/tyPTjp0l35Pl/ZfsP2jz49m/7Js8h/ueZ+8r2D9lXx9qPxA+EaXGtXbahrGk6rqnh+9vDAkP2+TT9RuLEz7I/kj8zyN+xOBvrSwj06iiipAKKKKACsrxG95H4evG017WPUPJc2rXf+oR9p2b9vOzPWtWsDxfZ6pqvhbUrfR7+30nWLi2kjsr2a1N5FZzbfkkeHenmbHwdm9N3IyKzn8JUdz56/YO/am8X/tEfEf4k6PrGqeA/HPhXwdc6emh+OvBVlNZ6Prkk8BkubXY91do01u+ze8U7piVAQj5FfTslykY+d0X6tXg37Nf7KOufDX47+P8A4o+MPGGkeKvGXxAtNP0yb+xfDr6Dplpa2KyCEeRJdXUsk5eaXfI8/I8tAiBOfZvEH/Hyn+5/WtOhP2zUF7D/AM9Y/wDvuj7bD/z1j/77rnaKAOi+2Q/89I/++6PtkJ/5aR/991ztFAHRfbYf+esf/fdH22H/AJ6x/wDfdc7RQB0X22H/AJ6x/wDfdH22H/nrH/33XO0UAdF9th/56x/990fbYf8AnrH/AN91ztFAHRfbYf8AnrH/AN90fbYf+esf/fdc7RQB0X2yH/npH/33R9sh/wCekf8A33XO0UAdF9th/wCesf8A33UkUqyrlWVhnGQc1zNbPh7/AI8m/wB8/wAhQBfqG9k8qDdt3YIyMf5/+t1qaq+pXv2GBW27stjGcetDAsUVk/8ACRf9Mv8Ax+j/AISL/pl/4/QBrUVk/wDCRf8ATL/x+j/hIv8Apl/4/QBqt92vKI/2cZLn4uW/irVPHvjjxBY6beTX+k+HL5tPXStHupEePzozDax3cmxHmREuJ5kTzSQmUjKehf8ACRf9Mv8Ax+j/AISL/pl/4/RHR3B6qxrUVk/8JF/0y/8AH6P+Ei/6Zf8Aj9AGJ8X/AIYWfxm+E/iTwhqc11b6f4r0y50m7ltmVJ44Z4XjfZu3DfhjyR/KuU+JX7NLeNPiFY+KtD8d+NPAGtx6fHpl9LoI06ZdYtY5HkghnS+tbpMRvJNsePy5P38g3nNejf8ACQ/9Mv8Ax+j/AISL/pl/4/QPmdrf10/yX3I8bv8A9ifT73xs2oDxt44t/Dw1+PxTbeEoZbKPR7fUFuEunnH+i/aj5k4kkeOSd4987uiI/lmP3UKv+NZ3/CRf9Mv/AB+j/hIf+mX/AI/SirRt/WyX6IjkXNz9f+C3+rNYcUVk/wDCRf8ATL/x+j/hIv8Apl/4/TKNQPXlfxl/ZxPxX8UWOuaf438Z+BNWt7N9Mubzw/JZbtUs3ff5EyXVtPHw4JR0RJE8yTZIN5r0D/hIv+mX/j9H/CRf9Mv/AB+p5OfoB5jq/wCzBPa+GLfR/B/xG+IHw9s7N4EtV0iTT7z7Jaw2qWqWkaaja3UaR4iST7nmeZvO/wCdwcnxN+xD4b1/QdJ0vS/EHjPwvY2Omf2DfnS9QQS+I9N3b3tbuWeKST53aRvPgeK4BmkKTJvNeyf8JDj/AJZf+P0f8JD/ANMv/H6p6tt9f6/4fuEdNv67fc9jzCP9kPQ0+KTeII9c8TQ6MNQh1j/hElmtf7E/tGFI40vdog+0eYnlxny/P8jegk8vzPnrB0b9gbw/p2n6hpl14l8bappf9nyaX4dsbm6tI4vBVq8sc3l6cYII5MxyQWpjkunnkj+zR7HGX3+2/wDCQ/8ATL/x+j/hIv8Apl/4/Sj7qtH+tLBs7o8gf9iy1fwhz8QfiH/wmn9s/wBujxtu07+2/tX2X7H/AKv7F9h8v7L+58n7J5eP3mzz/wB5Xpvwt+Htj8KfBOn6Dpsk00NoJHkmuZDJcXc0khkmndu8kkjySOe7ua0v+Ei/6Zf+P0f8JF/0y/8AH6q4GtRRRSAKKKKACiiigArF8Rf8fSf7lbVYviL/AI+k/wBygD4t+NX/AAVc/wCFJfFDXPCuofD2e4vvD3jnTvD966a1/wAe+iXUEE//AAkDp5H3I5J0j8j+/wD8tK858V/tzfEL4jftM/BfxV4N0WM6Vrnhvx1dp4bvPF89hpet2tjfWkdrqM7x2r/vJIEeSP8AcSeX9o2eZ9+Svq74o/sMfC34x+NvE3iLxJ4Tt9S1jxr4ck8J6xcG9uo/temuPng2Rvsjkz/y0TZJ8ifvPk4vad+x18ONIv8AwfPa+GY4W8A+Hp/C+hbb6dI9P06eOOOeAJ5nz+ZHAnzyb3+So97k/vf/AGvL/wDbfN9kL+v/ACb+vw8z4V+M3/BSrxF4u8JeMvij8M4/Emk60/7Ptr40s7LVPEnmaHpG++uEd00/7LJG99Hs/wBe77JEjjTZH9+vVPF//BVjxf8ACn/hG/DEfwj1j4heO7fwjp/ijxLbeGv7V1Py0upNkKWr2ulyRyXEiJI+yf7DB/Akkn8HvfhT/gnh8HPBHh+fS7DwTbx6dceEf+EBmtptRu7iOTRN8j/Zfnd/+Wjv8/8ArP8AppVe8/4J3fCjUbjQ7r+yfFNnqXh/TDoMGo2njLW7TULjTvM3/Zbq6juknuoEf/Vx3EjpH/BWvuc/9f3v/kok+9/X+GP/AMjI9rsLr7fp8FzsuIPtCJJsmTy5I/8Afqaj/V0VJYUUUUAeSftheAtL8R/DC41bUJvGn9paPH5ej22g+MtV8O/2hezyJBBA72N1Bv8AMn8uP95/q/MrkvjtpXif4Gfsw+BfAfhvUvEvibXtYvrHwu+q3mvSW+oah+7kknnn1GTzJ4PM8h0knj3zxpJvg/eIle5+LvBmm+N7exh1S2F0mn30GpQrvePZPA+9H/7ZyfPXO+O/gB4S+Jsmtf2xps01xr0FpDdTQ3txaXCfZZJJLV4JIXR4JI5JpHSa32SB/wDlp8grP7P/AG9/X/txp7Q+ePAOjXHxn1PSvhzq2p+O/BEPg/TNYkvbTTPiFqt9eSaol3Akc/8Aa8kiXd1BHHPvRJ/3f79EeP5I653wF8SvE/xt+Ed98VtW17xZo/ibwWnhr+ztNs9XntNLvPP07TL668+yTy4Lrz5L2eD9/HJ5flp5HlyV9Ea/+xL8N9e8I6Hoc+j6rBa+H3nktZrPxDqNpqFx9q+e6+1XUE8c91HcSfvJ0nkk89/nffJWj4i/ZP8AAvifx/pXia60WT+0tHS1SCG21C6t9Pk+yyeZa+fZI6Wk7wSfPA88b+W/3NlbU37vv/1v736Ga+0fNXxB+Jfif4N/Di1+Lml614o1zxV4ovfFNpe6Vc6vdXGlxpa2OrXdrHBp+/yIJIJNPgg3xxpJJ5km/wAySStrxnoWp/B/xbbeCNJ8b+PLzSPH0Gi/2nfX3iK6v7y0efUvIuntZ5Hd7U3kb7NkEkccezfAiPXvnh39lLwT4U+I2peJ7PSbj+0dW+0STw3OqXc+n28k/wDx8yQ2TyPaWrz8+Y8EaPJ5j79+96zdC/Yk+GvhvwRrnhu30TUZ9N8QJBBdPea7qN5eRxwP5lqkF1NO89rHBJ88EcEiJBJ86eW9RD44/wBf9ulT96HJD/wL/wBuGfssfatAuviH4SbUNc1XS/A/ij+zNLudY1GfUrySB9OsL7Y91O8k8/lyXUib5JHk2R17p4e/48m/3z/IVwnwv+FGh/Bvwqmi6Db3EFijvPI95fT395eO/wB957md5J5pP+mkjvJXd+Hv+PJv98/yFaSJL9Z/iT/jxXkD94B6E8HocHB/n071oVn+I13WK88h8gepwfx/KpWoGPRRRSAKKKKACuDsf2jfCup/GF/Anna7b6/Gkgh+2aDqNpp+obE3ulrevAlpdPHG/wByCR3/AHcn/POSu8r561LxFeeNv2zNAh01PiBqsfh++n/tGw1vwpPYeH/D8KWk8H26x1D7LBHdTySOieX591+7kk2RwbJJEPtcofZ5j6Foorw/9qbw34y13xjpWm+G9S8SWGm+OLKbw1e3mnST/wDEkk3xzi+R0/1En2VL5PP/AOenkJ/coLjG565qnjLTdC8QaVpV1c+Xfa488dlDsf8A0jYnmP8A+Q6h17x1pPhae6OpXLadb2dn9tnvLm3kgs7eHp+8un/cf8A376+Y9M+GnjP9ofxB4H1Lxp/wsDw/BcapfQahbWF7PpkmnwQad9kf9/B5c8Ec92k88bwSJJJHJB+88v8Ad1z/AMT/AIZeNvid+zB4u8N68nxI1KO3+HTwQpDdalBeahdWt9d7PngdJJ7uSBIPMT/WT7/499Zyk1NR7/8AyN/+AY83ucx9rUV8M32l+OdZ/aw8N/YPGfxI8K+D7OfR5PCENz4K8Y6t/aGl+RB58Go3X22O0gnkkS6ST+2rR54PMjfzP9X5f3NW3L7nMWFFFFSAV578cP2nvC/7O3lt4mt/GjwzWz3TXOj+CtY163gRPvvNNZWs8cH/AG02V6FXnv7Rml3njLQ/D/hWKz1Cex8Wa3BaavNbQeZHb2KJJdz+f/0zn8j7L/291Eoy+y7AaniL46+G/CnwytfFl9c6lFo+oQwSWSJpd1PqF556eYkcdkifa3n/AOmEcfmf9M65/wAZ/tg+A/AGnaHfaxea7pq69apexpN4b1Lz9PtOP399H5G/T4P78l35Ecf8fevOv20tP/4TzWvCs19pvxQg8I+B/Ej/ANvP4Ytb6PULyCfSpPIntX07/TnjjnnjST7J+8/1n/LPfXnGnt4q+Hfg/wAQW3iDwx8QfEV98TPA6eHfDbnR7vVrz9xd6n9ltdUmRH+yyfZNQsd893Ike/z98m9HpSk/4sVfyLpxvHklofTV7+094Kt/jBH4DbVbxvEDy+R+70y6k09LryPP+ySXvl/ZEu/I/eeRJJ5+x432fvErN0f9s34c61ea9CNeuIE8N2sl9d3N5pd1Z2dxaxyeW89rNPCkd7GkmxHe0kk+eSP+/HXi9p4e1q2MvwobQ/E8niBfHNj4kXW/7Iuv7HfT0nt7t7r+0NnkeZH5LweR5nn70/1fl/vK4u98KeIvHfwo+HWg6b4N8aWOo/AvSLH/AISSCbQbq0ju3sb7TZJLHTnnSNNR+0R6fPseDfH/AKvf/rEjqoNyhzf4fx3/APAfxIp6/FofTcX7aXw9l+Hcnif7f4g+yR6p/Yr6a/hfVY9c+3bPM+y/2X5H2/zPI/f7PI/1H7//AFf7yu5+H/jnSviZ4N03XdEvDfaXqUMc9tN5ckfmJ/uSfvEf/Yf546+YbrxbdS/GSD4zf8In8QP+EHj15LTyf+ET1H+2Nn9lSWn9o/2X5H2/y/PfyP8AUeZ5fz/6j95Xtf7JfhzUvD3wYR9Ut7yxuNX1vWNdSzvI/LuLOC+1G7u4I3T+B4454/k/5Z1QHutFFFABRRRQAUUUUAFU77S4759zb6uUUAZ//CPQ/wB6T86P+Eeh/vSfnWhRmgDP/wCEeh/vSfnR/wAI9D/ek/OtDdXmv7U37TOi/slfBu+8ceIrHWL3SdPubK1kh06KOS4L3V1Fax43uif6yZBy460Ad1/wj0P96T86P+Eeh/vSfnWhRQBn/wDCPQ/3pPzo/wCEeh/vSfnWhRQBn/8ACPQ/3pPzo/4R6H+9J+dcV8avjJrHwksLW50z4deMfH0Mwke5k0K90i3GmRx4O+b+0b214PONm/7h3bBWVZ/tB6p4h+Bfhnx1ofwx+IOvt4otobuPQLeTSrPV7CGaPeHnF1fQ26Y+TKJO75ccffwAelf8I9D/AHpPzo/4R6H+9J+deBS/t3Xw+D8fj1fgp8WLnRbVdSfUVF74at20dLKd45pJnm1dI3j/AHUkiSQSSI8ab84KZ17r9tbT7bXdLtZfA/xEt7KZNM/t7UntrQW/hC41Hy/s9rff6V5hkHnR+Z9lSeOASI8jpH89AHs3/CPQ/wB6T86P+Eeh/vSfnXn2hftEPP8AGJvCGqeDfGHh1bp549I1nURZHT/EDw/6zyPJuXnjwvz/AOkQQ7x9zfWTqX7Y/h9YviN/Z+k+KNauPhnfW2m3sNnaxx/2vdz7NkVk88kccn7xxC7u6RpIkiFx5bkR7T3ecD1f/hHof70n51asrNbGIqu4gnPNc38L/FupeOPBlvqGq+Fde8F30jMj6XrU1i95DhiNztZTzwfP1+SQ11VWAVQ8Q/8AHkv++P5Gr9Dcik9gOXorqKKYHL0V1FFAHL0V1HQUZyKPtcwfZ5Tl6K6iigJa7HL0V02Nq0EbhRLWz7BpsczRXSNwKchxQ5PtoBzNFdRRQBy9FdRRQBy9FdOB8tBHy1MZcrsg15rs5iiujIxnmnZ96OZ9rL+r/h+AXvuc1RXT7hSbhimA6iiimAUUUUAFFFV57hLWBppWWNI13szfwUAWKK+V/wBhf9ujWP2x/jV8YrFtHtdP8E+D59KfwheBc3muWN1BI4vpD5jp5czwmSD5I/3bp1NfUUl1HH9941/4HQBJt+WvE/8AgoV8Lde+OX7EHxa8HeF7FtV8Q+J/CWo6Zptn50cH2i4nt3jjTfIyInzkcucV7R9th/56x/8AfdBvIT/y0j/77qJQvHlKjLlfMfmD+1R/wSu1bxVqXgDR7fwJ4h1P4UWvgSTSdW8NeCP+EZjvrHxDI8Zn1V01tPs7zzx/u/tsEgu0eLO/Ejmud/an/wCCb3xJ+IGr/EK2uPhJffEzxVrOr+FLnwb491LV9IkvNA0uxjs1urKSeaaOeOYPHdvIYI/LnNy79eD+rn2yIN/rI/8Avqj7ZEW/1kf/AH1WilNar+bm/wDJuY56lGE48v8AXYtLwKKh+2w/89Y/++6PtsP/AD1j/wC+6RsTUVD9th/56x/990fbYf8AnrH/AN90AcH+0J4U1L4g/DaTw/p9q15Drt5a2WqAXf2fZpzzqL35uDzb+YnyfP8APTPinfeMJPC3jDT/AA1of+nLoif2FftqCRi4vpPtCFNh/wBX5G2B95+/5mB9yu/+2w/89Y/++6PtsP8Az1j/AO+6Ps8ofa5jyrx98KZLb4d+C/A2gafcTeGYL+ysdSAutptdMtkMuHaR98vmPBBA4+d3E7k8byPJv2iP2bdb+KXx4uLHw9Z/ELR9B8VXOmX3iq6ivdHh8Kaq9o8Y3zKS+rfaxDDAiJB5MEnlQiR3TzA/1b9rh/56x/8AfVDXkP8Az0j/AO+qPtcwfZ5Yny95fxQ+KPxO8UR3Hgnx14I8Sta6ro3hbxjfHQdS8OeGIHfEd1HZQ6n9rnmnSGCQmeDhxs/cxmTfj/Dj9mvx18KrH4jWPj7w34L+MngzU9N0yys/DGg+E4bCTW/KJ3701XV54H2b98nnunmPlw5f5H+uBeRbf9bH/wB9UG8i2/62P/vqp9n7nKH2jyD9jn4Z3Xwq+F99Zt4bbwRo97rE99ovhXzIG/4RmyfZstP3DyQIN6vJ5cDvHH52xDhK9nHFQi9hH/LSP/vupIpVlXKsrDOMg5qiYw5R1Q3zlIcr97PB9OD/APq4B69KmqG8RpIxtYq2SQQM44P4/lg01uUyaiiikAUUUUARlvlrwK++O3iLxP8Atb+EtJ0HUYV8AQyanpWputokh1jVIYd7xpN/BHaeWUfZ9+eR0z/o8iV7+y8V4eP+CenwVtPjPo/j6y+GPgDR/Fmi38+pLqVj4csbe5u7qfOZpZBD5jyb23h94O/nrTD7Nup7lRRRSA5D4xfE+x+DHwl8TeMNThvJtM8K6Tc6zdR2sfmTyQwQvK6ojfx7E6cZNeDfHb/gq18O/wBmhtHj8cWeqeGdS1SCTUZNK1LVNE0/UbLTxNJGl8YJ9QjeeOTyHcQWonusYV4Ek/d17x8YPhnafGX4T+IvB+pzXVvp/irS7nSbuW2ZUnjhnheN9hYMN+HPJH8q5P4kfs1yeNPiDY+KtD8eeNPAGtx6fHpd9LoA06ZdYtY5HlghuEvrW6TEbyTbHj8uT9/IN5zQa+7yX6nDfFP9sXUJ9e07TPC/hvxlBpLeMNL0CXxZJZWr6Ndu99BHc2sZeb7T9x5E8/7P5G9HjSbzNlfR8bZmYfT+VeIXv7FWn3fjhtSHjbxxb+Hl8Qx+K7bwlBLZR6Pb6gtwl08//Hr9rPmTiSR45J3j3zu6Ij+WY/cQvyUo6U/68jm5H7S/T/h/8/wJKKKKZoFeFftneH/FjeDP7Y8LfE7xx4H1SPy9M0/TtEstInt9TvrqZILXz/t2n3biPzJI95jKbI/Mftmvda5fxp8O7Pxjrnhe8ubi+RvDGq/2pbRwzGOOeX7LcW+JsD502zs+P76Ie2KAOC+O3hbVvD/wLj1CX4oePfCsvhCwe71PVfD2m6RPe62Y4fn3w3VjdR7ndC+yCOP53xyOK80+Inws+LWj/BHwfu+OnxF034ialDa6MIrDS/DstpeajM8kklxMj6RJnyI/MdxH5CPHafwOd9e6eLPgrZ+M4NUh1DWPEclrqmsadrP2cXmIoJLKS3kSCP5Pkgke1QyJ/Hvk/v1reJvAdv4h8Y+H9cnkumm8OSTyW0EbfuXkmj8je477I3kA/wCuj0W1uH2eU+Vtf/ah1rwh+1DdabefEt21ix8X6d4di+Gy2enJJe6TdfZ7f+2H/d/bj++ufO+0RyJa4jEHl798ldtonxP1L4R/GnxcurfEXXfH3hnS9P8AN1lbnT7CNPDerzTQfYdKsns4IXkmuI5z/os7z3GGsfnH2hPP9J1P4Dv4j+LsfijVPGni7WtL0+4S70zwxOLKPR9LukTZ56eTbR3czj95hLi4mjV33iMOkZj43wP+wRpOjeF5PDXjLxh4i+LXgeZDnwt400Pw7d6V53nicXTiDTIJ5LjfufzJJHJd5JH3v89ENI8stf8Ahl+upPL73N/XxX/4BwX/AAnHxq8XfATXPss3iq48YW/jma1vY/BlvocepaRpf+vFrD/aj/YXePfHA8zl3f8AeOg5Gz3v9n3xfD47+DHhzVbfVNc177RamOa71u3gt9TaZGMc6XKW8ccMc6SI6OkcaoHQgVx3hH9g3wn8IPB2taV8Kby5+DB8Qav/AGxeXXg7RNEt3k+TZ9m8uexmg8nj/nn5g7SDmvT/AIZ/D/TvhT4J07w7pQm+w2KN887mS4uJHffJNI/8ckkjvI793cmpjG0eX+trf8EnkfPzX/q9/wDgHTUUUVRoFFFFAABiuV+Kvwr0X42/DTXPB/iOzkvPDviOzfT9QtY7qa3NxBImySPfC6OmVyPkcHk11QOaCcGl8QbHzj+y/wD8E+fD/wCyf8ePHnjDw7r3iq8svF1np9jbaVqeu6pqX9mJaxmPHmXd1P5/JHll0BgQFEwjkV7p4h/4+U/3K2A/NY/iL/j6T/cpkKKiUaK+O/jX/wAFW/8AhSfxR1vwrqHw9nuL7w94507w/eumtf8AHvol1BBP/wAJA6eR9yOSdI/I/v8A/LSvOfFf7c3xC+Iv7THwX8VeCtFjOla54b8dXaeHbzxfPYaXrdrY3tpHa6jO8dq/7ySBHkj/AHEnl/aNnmffkqeaHxf18PMV/X/k3KfoVRX5j/Gb/gpT4i8XeEfGfxR+GkfiTSdaf9n218aWdlqniTzND0jffTxu6af9lkje+j2f6+R9kiRxpsj+/Xqfi/8A4Kt+L/hP/wAI34Yj+EesfEPx3b+EdP8AFHii28NnVdT8tLqTZClq9rpbxyXEiJI+y4+wwfwJJJ/A7/1/4F/8iT7T+v8AwH/5I+5aKhsLr7fp8FzsuIPtCJJsmTy5I/8AfqamWFFFFABRXkn7YXgLS/FHwvuNW1CTxodS0dPL0e20Hxlqvh3+0L6eRIIIHexuoN/mT+XH+8/1fmVp6V8HdQ8Lfs46d4Pt/G3jGK+0XTYIJvEklyl3rF68f+skee6Sf55Nj73+/wDvPkkT5HqJVOWEplfbPSKK+S/iNp+r+MP2Cvhzr1unxV1jxJa+FYLuHUvDfieewksLp9NST+0dRRLpJL6OORPng8i+kk8z/j0nrmvjp8S9a0v4lN4k/tL4oX2qb/Dt34EuNBGox+E9U06f7P8AavtWxP7N3zyPdp5d+/n+X5HkfvHStZx5Zcn9f1/Xcn7MZn2z1or4m074v6/4D+KeveOZrzxpcWtxd+JY7K8vNVnn8N+LI7WG7ntbHTtPeb/RZ4I7L55/Ig+0fZ53SS6jn8yqOmX3jzQvhdrNjrGn/ESDXPFEGj+IdXv9H8caj4i1TUNEe+jTUXtbJEjj0u78h33waTH/AMtP3EjyJHWMKl58n+H/AMm//Z94Knun3PWz4e/48m/3z/IV85/sKeMpvEXhfxppsH/CWSeHPDfiV7DQZvE891JrEllJY2l3+/8At3+l+ZHJdTx/6X+/8uOPfX0Z4e/48m/3z/IVvLYC/VfUr37DArbd2WxjOPWrFUPELEWaAfxSAHkj1Ocj0xnt061nLYCD/hIv+mX/AI/R/wAJF/0y/wDH6zaKYGl/wkX/AEy/8fo/4SL/AKZf+P1m0UAaX/CRf9M//H6P+Ei/6Z/+P1m1zuufFrw34c+Jfh/wfe6rbweJvFFpdXel2BR/MvILXy/Pf/rnHvT/AFn/AD0o+1yhLR36Haf8JF/0y/8AH6P+Ei/6Zf8Aj9ZtFBXKaX/CQ5/5Zf8Aj9A8Q4/5Zf8Aj9czqnjLTdC8QaVpV1c+Xfa488dlDsf/AEjYnmP/AOQ6h1/x1pPhWe6OpXTabb2dn9tnvLm3kgs7eHOPnun/AHH/AADfvojq0n1M+Za+R1n/AAkX/TL/AMfo/wCEi/6Zf+P1m0VXL9xRpf8ACRf9Mv8Ax+j/AISL/pl/4/WbRUgaX/CRf9Mv/H6P+Ei/6Zf+P1m1578cP2nfC/7OxjbxNb+NHhmtnumudH8Faxr1vAiffeaaxtZ44f8Atpsoul8RXKeqf8JF/wBMv/H6P+Ei/wCmX/j9eb+Ov2jPBfw1+FEPjjxFr8Gh+Gri1juoZr+CS3uJ96eZGiQOnnvP5f8Ayx8vzP8AYqH4hftMeE/hdrGj2et3GswnXwnkXkGg313p8CO/lo91dQwvBapJI/8Ay8SR0fasTdWv6/hb/M9O/wCEi/6Zf+P0f8JF/wBMv/H68pH7U/gY/GL/AIQP+1b1vEnn/ZX26Tdyafb3fk/aPskl75P2RLryPn8iSTz/AC5I38v56h8M/tc/D3xbrmv6fa+IWtf+EZhnu7251HTruw094IH2TzwXU0aQXVvA/wAkkkEjxx/x0RtLb+tL/kHNG9v6/q+h65/wkX/TL/x+j/hIv+mX/j9eMy/tmeBLD4dL4nupPGFrZXOo/wBk2NtdeCtYg1TU7rZv2Wunva/a7r93vk3wQSJsSR/+Wb13Xw/8c6V8TPBum67ot4b7S9SgjntpvLkj8xP9yT50f/Yf546q3u3A9CoooqQCiiigAooooAKxfEX/AB9J/uVtVTvtKjvZAzFqAPB/ij+wx8LfjF428TeIvEvhO31LWPGvht/Cer3P226j+16c4+eDZG+yN/8ApvHsk+RP3nyVe079jr4b6Rf+DprXwzHC/gDw9P4X0LbfTpHp+nTxxxzwbPM+fzI4E+eTe/yV7N/wj0P96T86P+Eeh/vSfnS+zy/1/WsvvA+fvCX/AATx+DvgnQJ9LsfBtvHptx4Q/wCEBmtptRu545NE3yP9k+ed/wDlo7/P/rP+mlV77/gnZ8Kb+40O5/svxPa6l4f0s6FBqVn4y1yz1C407zPM+y3V0l0k91Bv+5HcSSRx/wAFfQ50CHH3pPzoGgQ/3pPzp8+vN/X9e8yfZx/r+v7sTJ/1dFbH/CPQ/wB6T86P+Eeh/vSfnQUY9FbH/CPQ/wB6T86P+Eeh/vSfnQByfi7wbpvja3sYdUtxdJp99BqUKb3j8ueCTej/APbOT56ji8A6TH4o1XWltf8AiaaxZQWN7Nvf/SIIPP8ALTZ/22n/AO/ldh/wj0P96T86P+Eeh/vSfnR9jkA8b8W/sjeB/G/hjw3ol5beJINH8L2SabZWGm+KNV023uLVEjj8i6SCeOO9j8tPuT+Z/wAtP+ej1qap+zv4V174i6d4ovLfWJ77R4447GzfWr7+x7fy/uSJp3n/AGHz4/4J/I8yP/npXqH/AAj0P96T86P+Eeh/vSfnR9vnA8a8K/sh+AfA/wAR7jxRpujXi30813cJZy6xfT6XZz3X+vmg06Sd7S1nk3yeZJBBHJJ58/8Az0k3weH/ANjLwD4N8L63pWj2fiTTYPECQQT3Nt4r1WDULeCB98Fra3SXXn2VpH8+yC3kjgj3v8n7ySvbP+Eeh/vSfnR/wj0P96T86AOJ+HHw40n4SeD7PRdBs/sunwb5CHnkubieR33yTzTyO8k08kjvJJJI7ySSPvd67fw9/wAeTf75/kKT/hHof70n51asrNbGIqu4gnPNAE1UfEIJs0wwUeYN3ODjB6cH/PXjNXqoeIf+PJf98fyNAnqY1FFFAwooooAK+TdP8EfGy1/bM8M+IPEHgvwHe6beaxqKPrGm+K76eTT9LSCRLWD7K+lpGkkaPv8A9e/mTySfvI4/LRPrKij7XMEtYcoV4f8AtTeG/GWu+MNK03w3qXiSx03xxZTeGr28055/+JHJ5kc4vkdP9RJ9lS+Tz/8Anp5Cf3K9wooK5j5J0z4aeM/2h/EHgfUvGn/CwPD8Fxql9b6jbWF7PpkmnwQad9kf9/B5c8Ec92k88b28iSSRyQfvPL/d1z/xQ+Gfjb4nfsweLvDevJ8SNSjt/h08EKQ3WpQXmoXVrfXez54HSSe7kgSDzE/1k/mfx76+1qKzlBuoqie3/wAjb/gkcseRx7nwzfaX451n9rDw39g8Z/Ejwr4Ps59Hk8IQ3Pgrxjq39oaX5EHnwajdfbY7SCeSRLpJP7atHng8yN/M/wBX5f3NRRW3N7nKMKKKKkArz39ozS7zxlonh/wrFZ6hPY+LNbgtNXmtoPMjt7FEku5/P/6Zz+R9l/7e69Coosn8RXMeZ/HnULnxt8D/AIr6LY6Jrn26z0W9sIN9j+71R5LHfH9l/wCe/wB/Z/10jkSvNf2vdZ1C68D6H4V0uP4gXWv3Gmf6L4es/Ck994b8TzPsjjtdUvY7X/Qo45E/5+7X/WfP56fu6+lqKPtXJqJSVvX8bf5HyN448BeJPEH7S0ng/wAOal4hm0C48XWXjPVLe58FajaW+nzwPBO/l67O6Wk8EkkKJ9lgjkn8yf8A1iRxyeX5dpfw58YfELwhdabpej/EiPWNP8PXUer2Gq+GnsLfwfO+o2F3Pp2iXV0iQX0c/wBln/5aX0f+jwfv4I9kcn6FUVnGLjDlj/WlvyDlje/9f1fU+J/sF5oPhL/hLfDWrfGDQ9H8N+KEn8GzeMPBvibxpqEjz6dJBfRz6e7/ANrfZPnfy3nkg8ueP5P3Ekccn0R+xv8AD7XPhz8AdPs/Ef26PWNQ1DVNauobl4/tFv8Abr64u/IfZ8kfl+f5eyOR/L/56Sf6yvUKK2v7vKB//9k=)"
      ],
      "metadata": {
        "id": "4mTj5gBe_GMv"
      }
    },
    {
      "cell_type": "markdown",
      "source": [
        "**groupby**"
      ],
      "metadata": {
        "id": "1twGkfBz_C6B"
      }
    },
    {
      "cell_type": "code",
      "source": [
        "df.groupby('컬럼')['컬럼'] = > Series\n",
        "df.groupby('컬럼')[['컬럼']] = > dataframe"
      ],
      "metadata": {
        "id": "KkG9_lHpH5Cu"
      },
      "execution_count": null,
      "outputs": []
    },
    {
      "cell_type": "code",
      "source": [
        "# 데이터 일치 여부를 bool로 출력\n",
        "# Series : index의 값이 일치 = True\n",
        "# Dataframe : index와 columns의 값이 일치 = True\n",
        "# Dict = Key(columns)의 value값이 일치 = True\n",
        "\n",
        "df.isin(values) # values에 시리즈,데이터프레임,딕셔너리 넣으면 됨\n",
        "df.isin([1,3])  # list를 넣으면 해당 인자값이 있는 곳에 True 반환\n",
        "\n",
        "df[df.index.isin(is_null.index)] # null값만 모은 데이터의 인덱스를 가져와서 null데이터만 출력"
      ],
      "metadata": {
        "id": "wfYuoBHob0ZK"
      },
      "execution_count": null,
      "outputs": []
    },
    {
      "cell_type": "markdown",
      "source": [
        "**padding**"
      ],
      "metadata": {
        "id": "-3rMBBfm_Fny"
      }
    },
    {
      "cell_type": "code",
      "source": [
        "# 왼쪽으로 채울글자를 n만큼 채워줌\n",
        "str.pad(n, fillchar='채울글자')"
      ],
      "metadata": {
        "id": "qqYGpVqRrRWq"
      },
      "execution_count": null,
      "outputs": []
    },
    {
      "cell_type": "code",
      "source": [
        "# zfill(숫자) 왼쪽으로 0을 채워줌, 마이너스를 맨 왼쪽으로 이동\n",
        "print('38'.zfill(5))\n",
        "print('-38'.zfill(5))"
      ],
      "metadata": {
        "colab": {
          "base_uri": "https://localhost:8080/"
        },
        "id": "oaXIErQXeJCk",
        "outputId": "9e85f723-a521-4891-ef8a-9fa265eaca58"
      },
      "execution_count": null,
      "outputs": [
        {
          "output_type": "stream",
          "name": "stdout",
          "text": [
            "00038\n",
            "-0038\n"
          ]
        }
      ]
    },
    {
      "cell_type": "code",
      "source": [
        "# rjust, ljust, 왼쪽 오른쪽 선택해서 원하는 글자를 채워줌, 마이너스위치그대로\n",
        "print('38'.rjust(5,'a'))\n",
        "print('-38'.rjust(5,'a'))"
      ],
      "metadata": {
        "colab": {
          "base_uri": "https://localhost:8080/"
        },
        "id": "U8TXRIehebVA",
        "outputId": "07125c08-58cd-4a93-dc2c-96c83287751d"
      },
      "execution_count": null,
      "outputs": [
        {
          "output_type": "stream",
          "name": "stdout",
          "text": [
            "aaa38\n",
            "aa-38\n"
          ]
        }
      ]
    },
    {
      "cell_type": "markdown",
      "source": [
        "**strip**"
      ],
      "metadata": {
        "id": "Kus0WSLxAwhM"
      }
    },
    {
      "cell_type": "code",
      "source": [
        "# strip() 문자열의 공백이나 매개변수를 제거\n",
        "# lstrip() 왼쪽만 제거, rstrip() 오른쪽 제거\n",
        "\n",
        "str1 = \"****Welcome to Entity05****\" # 양쪽 제거\n",
        "after_strip = str1.strip(\"*\")\n",
        "print(after_strip)\n",
        "\n",
        "str2 = \"Welcome to Entity05\"        \n",
        "after_strip1 = str2.strip(\"05\")\n",
        "print(after_strip1)\n",
        "\n",
        "str3 = \"Welcome to Entity05\"         # 문장 중간의 값인 to는 제거하지 않음\n",
        "after_strip3 = str3.strip(\"to\")\n",
        "print(after_strip3)"
      ],
      "metadata": {
        "colab": {
          "base_uri": "https://localhost:8080/"
        },
        "id": "C6qzfpZCsC6h",
        "outputId": "1feb670b-efff-4114-f2aa-af434301b591"
      },
      "execution_count": null,
      "outputs": [
        {
          "output_type": "stream",
          "name": "stdout",
          "text": [
            "Welcome to Entity05\n",
            "Welcome to Entity\n",
            "Welcome to Entity05\n"
          ]
        }
      ]
    },
    {
      "cell_type": "markdown",
      "source": [
        "**정렬**"
      ],
      "metadata": {
        "id": "9VG-iTqRA2Gx"
      }
    },
    {
      "cell_type": "code",
      "source": [
        "# 값의 개수(False), 비율(True)\n",
        "df.value_counts(normalize=False, ascending=True)"
      ],
      "metadata": {
        "colab": {
          "base_uri": "https://localhost:8080/"
        },
        "id": "Z1rNDq_7KoDj",
        "outputId": "af5a9cf0-05f1-4c6b-c4cd-a9176ea48645"
      },
      "execution_count": null,
      "outputs": [
        {
          "output_type": "execute_result",
          "data": {
            "text/plain": [
              "컬럼1  컬럼2\n",
              "1    2      1\n",
              "3    4      1\n",
              "dtype: int64"
            ]
          },
          "metadata": {},
          "execution_count": 13
        }
      ]
    },
    {
      "cell_type": "code",
      "source": [
        "# by순서로 정렬\n",
        "df.sort_values(by=['컬럼1','컬럼2'])"
      ],
      "metadata": {
        "id": "GhVNcUX3J2j4"
      },
      "execution_count": null,
      "outputs": []
    },
    {
      "cell_type": "code",
      "source": [
        "# 인덱스를 숫자로 초기화 시키고 column에 추가\n",
        "df.reset_index(drop=True)"
      ],
      "metadata": {
        "id": "ocdC1tLQayle"
      },
      "execution_count": null,
      "outputs": []
    },
    {
      "cell_type": "code",
      "source": [
        "# 컬럼1을 인덱스로 \n",
        "df.set_index('컬럼1',inplace=True)"
      ],
      "metadata": {
        "id": "lA9vbk8sd57J"
      },
      "execution_count": null,
      "outputs": []
    },
    {
      "cell_type": "code",
      "source": [
        "# 순서 지정 정렬\n",
        "# 내가 원하는 순서대로 정렬하도록 바꾸는 법\n",
        "yoil_dict = {'월':0,'화':1,'수':2,'목':3,'금':4,'토':5,'일':6}\n",
        "\n",
        "group_day['yoil'] = sorted(group_day['yoil'], key=lambda x : yoil_dict[x])"
      ],
      "metadata": {
        "id": "OkwnlZbwN-_S"
      },
      "execution_count": null,
      "outputs": []
    },
    {
      "cell_type": "code",
      "source": [
        "# 인덱스 순서 지정\n",
        "df.reindex(['월','화','수','목','금','토','일'])"
      ],
      "metadata": {
        "id": "ezOaKGgqWHls"
      },
      "execution_count": null,
      "outputs": []
    },
    {
      "cell_type": "markdown",
      "source": [
        "**피벗 테이블**"
      ],
      "metadata": {
        "id": "WCYDSyKxA6ba"
      }
    },
    {
      "cell_type": "code",
      "source": [
        "df.pivot_table(index='', columns='', values='개수값', aggfunc=lambda x: len(x)/1000).fillna(0) # aggfunc는 값에 적용해줄 함수"
      ],
      "metadata": {
        "id": "V54KFfRatFMy"
      },
      "execution_count": null,
      "outputs": []
    },
    {
      "cell_type": "markdown",
      "source": [
        "#### **데이터합치기**"
      ],
      "metadata": {
        "id": "gjC-GOY04p_o"
      }
    },
    {
      "cell_type": "code",
      "source": [
        "import pandas as pd\n",
        "df_sum1 = pd.DataFrame({'a':['a0','a1','a2','a3'],\n",
        "                   'b':['b0','b1','b2','b3'],\n",
        "                   'c':['c0','c1','c2','c3']},\n",
        "                  index = [0,1,2,3])\n",
        "\n",
        "df_sum2 = pd.DataFrame({'a':['a2','a3','a4','a5'],\n",
        "                   'b':['b2','b3','b4','b5'],\n",
        "                   'c':['c2','c3','c4','c5'],\n",
        "                   'd':['d2','d3','d4','d5']},\n",
        "                   index = [2,3,4,5])"
      ],
      "metadata": {
        "id": "Wt_XGlRp5AhT"
      },
      "execution_count": null,
      "outputs": []
    },
    {
      "cell_type": "markdown",
      "source": [
        "##### **concat**"
      ],
      "metadata": {
        "id": "aM6VMwed5G0G"
      }
    },
    {
      "cell_type": "code",
      "source": [
        "df_concat0 = pd.concat([df_sum1,df_sum2], axis=0)\n",
        "df_concat0"
      ],
      "metadata": {
        "colab": {
          "base_uri": "https://localhost:8080/",
          "height": 300
        },
        "id": "dZahtiIS5KdT",
        "outputId": "99d44cf4-035e-44b4-8562-5fc30a2d6691"
      },
      "execution_count": null,
      "outputs": [
        {
          "output_type": "execute_result",
          "data": {
            "text/plain": [
              "    a   b   c    d\n",
              "0  a0  b0  c0  NaN\n",
              "1  a1  b1  c1  NaN\n",
              "2  a2  b2  c2  NaN\n",
              "3  a3  b3  c3  NaN\n",
              "2  a2  b2  c2   d2\n",
              "3  a3  b3  c3   d3\n",
              "4  a4  b4  c4   d4\n",
              "5  a5  b5  c5   d5"
            ],
            "text/html": [
              "\n",
              "  <div id=\"df-cbfa263a-cd2d-4b55-903c-5bb540fe032a\">\n",
              "    <div class=\"colab-df-container\">\n",
              "      <div>\n",
              "<style scoped>\n",
              "    .dataframe tbody tr th:only-of-type {\n",
              "        vertical-align: middle;\n",
              "    }\n",
              "\n",
              "    .dataframe tbody tr th {\n",
              "        vertical-align: top;\n",
              "    }\n",
              "\n",
              "    .dataframe thead th {\n",
              "        text-align: right;\n",
              "    }\n",
              "</style>\n",
              "<table border=\"1\" class=\"dataframe\">\n",
              "  <thead>\n",
              "    <tr style=\"text-align: right;\">\n",
              "      <th></th>\n",
              "      <th>a</th>\n",
              "      <th>b</th>\n",
              "      <th>c</th>\n",
              "      <th>d</th>\n",
              "    </tr>\n",
              "  </thead>\n",
              "  <tbody>\n",
              "    <tr>\n",
              "      <th>0</th>\n",
              "      <td>a0</td>\n",
              "      <td>b0</td>\n",
              "      <td>c0</td>\n",
              "      <td>NaN</td>\n",
              "    </tr>\n",
              "    <tr>\n",
              "      <th>1</th>\n",
              "      <td>a1</td>\n",
              "      <td>b1</td>\n",
              "      <td>c1</td>\n",
              "      <td>NaN</td>\n",
              "    </tr>\n",
              "    <tr>\n",
              "      <th>2</th>\n",
              "      <td>a2</td>\n",
              "      <td>b2</td>\n",
              "      <td>c2</td>\n",
              "      <td>NaN</td>\n",
              "    </tr>\n",
              "    <tr>\n",
              "      <th>3</th>\n",
              "      <td>a3</td>\n",
              "      <td>b3</td>\n",
              "      <td>c3</td>\n",
              "      <td>NaN</td>\n",
              "    </tr>\n",
              "    <tr>\n",
              "      <th>2</th>\n",
              "      <td>a2</td>\n",
              "      <td>b2</td>\n",
              "      <td>c2</td>\n",
              "      <td>d2</td>\n",
              "    </tr>\n",
              "    <tr>\n",
              "      <th>3</th>\n",
              "      <td>a3</td>\n",
              "      <td>b3</td>\n",
              "      <td>c3</td>\n",
              "      <td>d3</td>\n",
              "    </tr>\n",
              "    <tr>\n",
              "      <th>4</th>\n",
              "      <td>a4</td>\n",
              "      <td>b4</td>\n",
              "      <td>c4</td>\n",
              "      <td>d4</td>\n",
              "    </tr>\n",
              "    <tr>\n",
              "      <th>5</th>\n",
              "      <td>a5</td>\n",
              "      <td>b5</td>\n",
              "      <td>c5</td>\n",
              "      <td>d5</td>\n",
              "    </tr>\n",
              "  </tbody>\n",
              "</table>\n",
              "</div>\n",
              "      <button class=\"colab-df-convert\" onclick=\"convertToInteractive('df-cbfa263a-cd2d-4b55-903c-5bb540fe032a')\"\n",
              "              title=\"Convert this dataframe to an interactive table.\"\n",
              "              style=\"display:none;\">\n",
              "        \n",
              "  <svg xmlns=\"http://www.w3.org/2000/svg\" height=\"24px\"viewBox=\"0 0 24 24\"\n",
              "       width=\"24px\">\n",
              "    <path d=\"M0 0h24v24H0V0z\" fill=\"none\"/>\n",
              "    <path d=\"M18.56 5.44l.94 2.06.94-2.06 2.06-.94-2.06-.94-.94-2.06-.94 2.06-2.06.94zm-11 1L8.5 8.5l.94-2.06 2.06-.94-2.06-.94L8.5 2.5l-.94 2.06-2.06.94zm10 10l.94 2.06.94-2.06 2.06-.94-2.06-.94-.94-2.06-.94 2.06-2.06.94z\"/><path d=\"M17.41 7.96l-1.37-1.37c-.4-.4-.92-.59-1.43-.59-.52 0-1.04.2-1.43.59L10.3 9.45l-7.72 7.72c-.78.78-.78 2.05 0 2.83L4 21.41c.39.39.9.59 1.41.59.51 0 1.02-.2 1.41-.59l7.78-7.78 2.81-2.81c.8-.78.8-2.07 0-2.86zM5.41 20L4 18.59l7.72-7.72 1.47 1.35L5.41 20z\"/>\n",
              "  </svg>\n",
              "      </button>\n",
              "      \n",
              "  <style>\n",
              "    .colab-df-container {\n",
              "      display:flex;\n",
              "      flex-wrap:wrap;\n",
              "      gap: 12px;\n",
              "    }\n",
              "\n",
              "    .colab-df-convert {\n",
              "      background-color: #E8F0FE;\n",
              "      border: none;\n",
              "      border-radius: 50%;\n",
              "      cursor: pointer;\n",
              "      display: none;\n",
              "      fill: #1967D2;\n",
              "      height: 32px;\n",
              "      padding: 0 0 0 0;\n",
              "      width: 32px;\n",
              "    }\n",
              "\n",
              "    .colab-df-convert:hover {\n",
              "      background-color: #E2EBFA;\n",
              "      box-shadow: 0px 1px 2px rgba(60, 64, 67, 0.3), 0px 1px 3px 1px rgba(60, 64, 67, 0.15);\n",
              "      fill: #174EA6;\n",
              "    }\n",
              "\n",
              "    [theme=dark] .colab-df-convert {\n",
              "      background-color: #3B4455;\n",
              "      fill: #D2E3FC;\n",
              "    }\n",
              "\n",
              "    [theme=dark] .colab-df-convert:hover {\n",
              "      background-color: #434B5C;\n",
              "      box-shadow: 0px 1px 3px 1px rgba(0, 0, 0, 0.15);\n",
              "      filter: drop-shadow(0px 1px 2px rgba(0, 0, 0, 0.3));\n",
              "      fill: #FFFFFF;\n",
              "    }\n",
              "  </style>\n",
              "\n",
              "      <script>\n",
              "        const buttonEl =\n",
              "          document.querySelector('#df-cbfa263a-cd2d-4b55-903c-5bb540fe032a button.colab-df-convert');\n",
              "        buttonEl.style.display =\n",
              "          google.colab.kernel.accessAllowed ? 'block' : 'none';\n",
              "\n",
              "        async function convertToInteractive(key) {\n",
              "          const element = document.querySelector('#df-cbfa263a-cd2d-4b55-903c-5bb540fe032a');\n",
              "          const dataTable =\n",
              "            await google.colab.kernel.invokeFunction('convertToInteractive',\n",
              "                                                     [key], {});\n",
              "          if (!dataTable) return;\n",
              "\n",
              "          const docLinkHtml = 'Like what you see? Visit the ' +\n",
              "            '<a target=\"_blank\" href=https://colab.research.google.com/notebooks/data_table.ipynb>data table notebook</a>'\n",
              "            + ' to learn more about interactive tables.';\n",
              "          element.innerHTML = '';\n",
              "          dataTable['output_type'] = 'display_data';\n",
              "          await google.colab.output.renderOutput(dataTable, element);\n",
              "          const docLink = document.createElement('div');\n",
              "          docLink.innerHTML = docLinkHtml;\n",
              "          element.appendChild(docLink);\n",
              "        }\n",
              "      </script>\n",
              "    </div>\n",
              "  </div>\n",
              "  "
            ]
          },
          "metadata": {},
          "execution_count": 119
        }
      ]
    },
    {
      "cell_type": "code",
      "source": [
        "df_concat2 = pd.concat([df_sum1,df_sum2], axis=1)\n",
        "df_concat2"
      ],
      "metadata": {
        "colab": {
          "base_uri": "https://localhost:8080/",
          "height": 238
        },
        "id": "K1x-Wo4P5V_w",
        "outputId": "414148ee-a416-4a3c-9816-6d3b31f50b7a"
      },
      "execution_count": null,
      "outputs": [
        {
          "output_type": "execute_result",
          "data": {
            "text/plain": [
              "     a    b    c    a    b    c    d\n",
              "0   a0   b0   c0  NaN  NaN  NaN  NaN\n",
              "1   a1   b1   c1  NaN  NaN  NaN  NaN\n",
              "2   a2   b2   c2   a2   b2   c2   d2\n",
              "3   a3   b3   c3   a3   b3   c3   d3\n",
              "4  NaN  NaN  NaN   a4   b4   c4   d4\n",
              "5  NaN  NaN  NaN   a5   b5   c5   d5"
            ],
            "text/html": [
              "\n",
              "  <div id=\"df-8ccf4d61-1a5d-40b5-9e44-2f93f3846675\">\n",
              "    <div class=\"colab-df-container\">\n",
              "      <div>\n",
              "<style scoped>\n",
              "    .dataframe tbody tr th:only-of-type {\n",
              "        vertical-align: middle;\n",
              "    }\n",
              "\n",
              "    .dataframe tbody tr th {\n",
              "        vertical-align: top;\n",
              "    }\n",
              "\n",
              "    .dataframe thead th {\n",
              "        text-align: right;\n",
              "    }\n",
              "</style>\n",
              "<table border=\"1\" class=\"dataframe\">\n",
              "  <thead>\n",
              "    <tr style=\"text-align: right;\">\n",
              "      <th></th>\n",
              "      <th>a</th>\n",
              "      <th>b</th>\n",
              "      <th>c</th>\n",
              "      <th>a</th>\n",
              "      <th>b</th>\n",
              "      <th>c</th>\n",
              "      <th>d</th>\n",
              "    </tr>\n",
              "  </thead>\n",
              "  <tbody>\n",
              "    <tr>\n",
              "      <th>0</th>\n",
              "      <td>a0</td>\n",
              "      <td>b0</td>\n",
              "      <td>c0</td>\n",
              "      <td>NaN</td>\n",
              "      <td>NaN</td>\n",
              "      <td>NaN</td>\n",
              "      <td>NaN</td>\n",
              "    </tr>\n",
              "    <tr>\n",
              "      <th>1</th>\n",
              "      <td>a1</td>\n",
              "      <td>b1</td>\n",
              "      <td>c1</td>\n",
              "      <td>NaN</td>\n",
              "      <td>NaN</td>\n",
              "      <td>NaN</td>\n",
              "      <td>NaN</td>\n",
              "    </tr>\n",
              "    <tr>\n",
              "      <th>2</th>\n",
              "      <td>a2</td>\n",
              "      <td>b2</td>\n",
              "      <td>c2</td>\n",
              "      <td>a2</td>\n",
              "      <td>b2</td>\n",
              "      <td>c2</td>\n",
              "      <td>d2</td>\n",
              "    </tr>\n",
              "    <tr>\n",
              "      <th>3</th>\n",
              "      <td>a3</td>\n",
              "      <td>b3</td>\n",
              "      <td>c3</td>\n",
              "      <td>a3</td>\n",
              "      <td>b3</td>\n",
              "      <td>c3</td>\n",
              "      <td>d3</td>\n",
              "    </tr>\n",
              "    <tr>\n",
              "      <th>4</th>\n",
              "      <td>NaN</td>\n",
              "      <td>NaN</td>\n",
              "      <td>NaN</td>\n",
              "      <td>a4</td>\n",
              "      <td>b4</td>\n",
              "      <td>c4</td>\n",
              "      <td>d4</td>\n",
              "    </tr>\n",
              "    <tr>\n",
              "      <th>5</th>\n",
              "      <td>NaN</td>\n",
              "      <td>NaN</td>\n",
              "      <td>NaN</td>\n",
              "      <td>a5</td>\n",
              "      <td>b5</td>\n",
              "      <td>c5</td>\n",
              "      <td>d5</td>\n",
              "    </tr>\n",
              "  </tbody>\n",
              "</table>\n",
              "</div>\n",
              "      <button class=\"colab-df-convert\" onclick=\"convertToInteractive('df-8ccf4d61-1a5d-40b5-9e44-2f93f3846675')\"\n",
              "              title=\"Convert this dataframe to an interactive table.\"\n",
              "              style=\"display:none;\">\n",
              "        \n",
              "  <svg xmlns=\"http://www.w3.org/2000/svg\" height=\"24px\"viewBox=\"0 0 24 24\"\n",
              "       width=\"24px\">\n",
              "    <path d=\"M0 0h24v24H0V0z\" fill=\"none\"/>\n",
              "    <path d=\"M18.56 5.44l.94 2.06.94-2.06 2.06-.94-2.06-.94-.94-2.06-.94 2.06-2.06.94zm-11 1L8.5 8.5l.94-2.06 2.06-.94-2.06-.94L8.5 2.5l-.94 2.06-2.06.94zm10 10l.94 2.06.94-2.06 2.06-.94-2.06-.94-.94-2.06-.94 2.06-2.06.94z\"/><path d=\"M17.41 7.96l-1.37-1.37c-.4-.4-.92-.59-1.43-.59-.52 0-1.04.2-1.43.59L10.3 9.45l-7.72 7.72c-.78.78-.78 2.05 0 2.83L4 21.41c.39.39.9.59 1.41.59.51 0 1.02-.2 1.41-.59l7.78-7.78 2.81-2.81c.8-.78.8-2.07 0-2.86zM5.41 20L4 18.59l7.72-7.72 1.47 1.35L5.41 20z\"/>\n",
              "  </svg>\n",
              "      </button>\n",
              "      \n",
              "  <style>\n",
              "    .colab-df-container {\n",
              "      display:flex;\n",
              "      flex-wrap:wrap;\n",
              "      gap: 12px;\n",
              "    }\n",
              "\n",
              "    .colab-df-convert {\n",
              "      background-color: #E8F0FE;\n",
              "      border: none;\n",
              "      border-radius: 50%;\n",
              "      cursor: pointer;\n",
              "      display: none;\n",
              "      fill: #1967D2;\n",
              "      height: 32px;\n",
              "      padding: 0 0 0 0;\n",
              "      width: 32px;\n",
              "    }\n",
              "\n",
              "    .colab-df-convert:hover {\n",
              "      background-color: #E2EBFA;\n",
              "      box-shadow: 0px 1px 2px rgba(60, 64, 67, 0.3), 0px 1px 3px 1px rgba(60, 64, 67, 0.15);\n",
              "      fill: #174EA6;\n",
              "    }\n",
              "\n",
              "    [theme=dark] .colab-df-convert {\n",
              "      background-color: #3B4455;\n",
              "      fill: #D2E3FC;\n",
              "    }\n",
              "\n",
              "    [theme=dark] .colab-df-convert:hover {\n",
              "      background-color: #434B5C;\n",
              "      box-shadow: 0px 1px 3px 1px rgba(0, 0, 0, 0.15);\n",
              "      filter: drop-shadow(0px 1px 2px rgba(0, 0, 0, 0.3));\n",
              "      fill: #FFFFFF;\n",
              "    }\n",
              "  </style>\n",
              "\n",
              "      <script>\n",
              "        const buttonEl =\n",
              "          document.querySelector('#df-8ccf4d61-1a5d-40b5-9e44-2f93f3846675 button.colab-df-convert');\n",
              "        buttonEl.style.display =\n",
              "          google.colab.kernel.accessAllowed ? 'block' : 'none';\n",
              "\n",
              "        async function convertToInteractive(key) {\n",
              "          const element = document.querySelector('#df-8ccf4d61-1a5d-40b5-9e44-2f93f3846675');\n",
              "          const dataTable =\n",
              "            await google.colab.kernel.invokeFunction('convertToInteractive',\n",
              "                                                     [key], {});\n",
              "          if (!dataTable) return;\n",
              "\n",
              "          const docLinkHtml = 'Like what you see? Visit the ' +\n",
              "            '<a target=\"_blank\" href=https://colab.research.google.com/notebooks/data_table.ipynb>data table notebook</a>'\n",
              "            + ' to learn more about interactive tables.';\n",
              "          element.innerHTML = '';\n",
              "          dataTable['output_type'] = 'display_data';\n",
              "          await google.colab.output.renderOutput(dataTable, element);\n",
              "          const docLink = document.createElement('div');\n",
              "          docLink.innerHTML = docLinkHtml;\n",
              "          element.appendChild(docLink);\n",
              "        }\n",
              "      </script>\n",
              "    </div>\n",
              "  </div>\n",
              "  "
            ]
          },
          "metadata": {},
          "execution_count": 121
        }
      ]
    },
    {
      "cell_type": "markdown",
      "source": [
        "##### **merge**"
      ],
      "metadata": {
        "id": "gHkEIr7N5cn3"
      }
    },
    {
      "cell_type": "code",
      "source": [
        "# 데이터 합치기\n",
        "'''\n",
        "left : df1를 기준으로 df2에 Nan 표시\n",
        "right : df2를 기준으로 df1에 Nan 표시\n",
        "inner : 교집합만 표시 (기본값)\n",
        "outer : 모든 값 표시\n",
        "'''\n",
        "pd.merge(df1,df2, how='inner',on='기준컬럼')"
      ],
      "metadata": {
        "id": "jeDmPqMwH3a9"
      },
      "execution_count": null,
      "outputs": []
    },
    {
      "cell_type": "code",
      "source": [
        "df_merge = pd.merge(df_sum1, df_sum2, how='outer')\n",
        "df_merge"
      ],
      "metadata": {
        "colab": {
          "base_uri": "https://localhost:8080/",
          "height": 238
        },
        "id": "Ftr8wjCv5mLo",
        "outputId": "a45a0e4c-b441-45d9-9bb3-afc712f5411b"
      },
      "execution_count": null,
      "outputs": [
        {
          "output_type": "execute_result",
          "data": {
            "text/plain": [
              "    a   b   c    d\n",
              "0  a0  b0  c0  NaN\n",
              "1  a1  b1  c1  NaN\n",
              "2  a2  b2  c2   d2\n",
              "3  a3  b3  c3   d3\n",
              "4  a4  b4  c4   d4\n",
              "5  a5  b5  c5   d5"
            ],
            "text/html": [
              "\n",
              "  <div id=\"df-f054b12a-4cf5-4ff9-baae-5244ee4552a4\">\n",
              "    <div class=\"colab-df-container\">\n",
              "      <div>\n",
              "<style scoped>\n",
              "    .dataframe tbody tr th:only-of-type {\n",
              "        vertical-align: middle;\n",
              "    }\n",
              "\n",
              "    .dataframe tbody tr th {\n",
              "        vertical-align: top;\n",
              "    }\n",
              "\n",
              "    .dataframe thead th {\n",
              "        text-align: right;\n",
              "    }\n",
              "</style>\n",
              "<table border=\"1\" class=\"dataframe\">\n",
              "  <thead>\n",
              "    <tr style=\"text-align: right;\">\n",
              "      <th></th>\n",
              "      <th>a</th>\n",
              "      <th>b</th>\n",
              "      <th>c</th>\n",
              "      <th>d</th>\n",
              "    </tr>\n",
              "  </thead>\n",
              "  <tbody>\n",
              "    <tr>\n",
              "      <th>0</th>\n",
              "      <td>a0</td>\n",
              "      <td>b0</td>\n",
              "      <td>c0</td>\n",
              "      <td>NaN</td>\n",
              "    </tr>\n",
              "    <tr>\n",
              "      <th>1</th>\n",
              "      <td>a1</td>\n",
              "      <td>b1</td>\n",
              "      <td>c1</td>\n",
              "      <td>NaN</td>\n",
              "    </tr>\n",
              "    <tr>\n",
              "      <th>2</th>\n",
              "      <td>a2</td>\n",
              "      <td>b2</td>\n",
              "      <td>c2</td>\n",
              "      <td>d2</td>\n",
              "    </tr>\n",
              "    <tr>\n",
              "      <th>3</th>\n",
              "      <td>a3</td>\n",
              "      <td>b3</td>\n",
              "      <td>c3</td>\n",
              "      <td>d3</td>\n",
              "    </tr>\n",
              "    <tr>\n",
              "      <th>4</th>\n",
              "      <td>a4</td>\n",
              "      <td>b4</td>\n",
              "      <td>c4</td>\n",
              "      <td>d4</td>\n",
              "    </tr>\n",
              "    <tr>\n",
              "      <th>5</th>\n",
              "      <td>a5</td>\n",
              "      <td>b5</td>\n",
              "      <td>c5</td>\n",
              "      <td>d5</td>\n",
              "    </tr>\n",
              "  </tbody>\n",
              "</table>\n",
              "</div>\n",
              "      <button class=\"colab-df-convert\" onclick=\"convertToInteractive('df-f054b12a-4cf5-4ff9-baae-5244ee4552a4')\"\n",
              "              title=\"Convert this dataframe to an interactive table.\"\n",
              "              style=\"display:none;\">\n",
              "        \n",
              "  <svg xmlns=\"http://www.w3.org/2000/svg\" height=\"24px\"viewBox=\"0 0 24 24\"\n",
              "       width=\"24px\">\n",
              "    <path d=\"M0 0h24v24H0V0z\" fill=\"none\"/>\n",
              "    <path d=\"M18.56 5.44l.94 2.06.94-2.06 2.06-.94-2.06-.94-.94-2.06-.94 2.06-2.06.94zm-11 1L8.5 8.5l.94-2.06 2.06-.94-2.06-.94L8.5 2.5l-.94 2.06-2.06.94zm10 10l.94 2.06.94-2.06 2.06-.94-2.06-.94-.94-2.06-.94 2.06-2.06.94z\"/><path d=\"M17.41 7.96l-1.37-1.37c-.4-.4-.92-.59-1.43-.59-.52 0-1.04.2-1.43.59L10.3 9.45l-7.72 7.72c-.78.78-.78 2.05 0 2.83L4 21.41c.39.39.9.59 1.41.59.51 0 1.02-.2 1.41-.59l7.78-7.78 2.81-2.81c.8-.78.8-2.07 0-2.86zM5.41 20L4 18.59l7.72-7.72 1.47 1.35L5.41 20z\"/>\n",
              "  </svg>\n",
              "      </button>\n",
              "      \n",
              "  <style>\n",
              "    .colab-df-container {\n",
              "      display:flex;\n",
              "      flex-wrap:wrap;\n",
              "      gap: 12px;\n",
              "    }\n",
              "\n",
              "    .colab-df-convert {\n",
              "      background-color: #E8F0FE;\n",
              "      border: none;\n",
              "      border-radius: 50%;\n",
              "      cursor: pointer;\n",
              "      display: none;\n",
              "      fill: #1967D2;\n",
              "      height: 32px;\n",
              "      padding: 0 0 0 0;\n",
              "      width: 32px;\n",
              "    }\n",
              "\n",
              "    .colab-df-convert:hover {\n",
              "      background-color: #E2EBFA;\n",
              "      box-shadow: 0px 1px 2px rgba(60, 64, 67, 0.3), 0px 1px 3px 1px rgba(60, 64, 67, 0.15);\n",
              "      fill: #174EA6;\n",
              "    }\n",
              "\n",
              "    [theme=dark] .colab-df-convert {\n",
              "      background-color: #3B4455;\n",
              "      fill: #D2E3FC;\n",
              "    }\n",
              "\n",
              "    [theme=dark] .colab-df-convert:hover {\n",
              "      background-color: #434B5C;\n",
              "      box-shadow: 0px 1px 3px 1px rgba(0, 0, 0, 0.15);\n",
              "      filter: drop-shadow(0px 1px 2px rgba(0, 0, 0, 0.3));\n",
              "      fill: #FFFFFF;\n",
              "    }\n",
              "  </style>\n",
              "\n",
              "      <script>\n",
              "        const buttonEl =\n",
              "          document.querySelector('#df-f054b12a-4cf5-4ff9-baae-5244ee4552a4 button.colab-df-convert');\n",
              "        buttonEl.style.display =\n",
              "          google.colab.kernel.accessAllowed ? 'block' : 'none';\n",
              "\n",
              "        async function convertToInteractive(key) {\n",
              "          const element = document.querySelector('#df-f054b12a-4cf5-4ff9-baae-5244ee4552a4');\n",
              "          const dataTable =\n",
              "            await google.colab.kernel.invokeFunction('convertToInteractive',\n",
              "                                                     [key], {});\n",
              "          if (!dataTable) return;\n",
              "\n",
              "          const docLinkHtml = 'Like what you see? Visit the ' +\n",
              "            '<a target=\"_blank\" href=https://colab.research.google.com/notebooks/data_table.ipynb>data table notebook</a>'\n",
              "            + ' to learn more about interactive tables.';\n",
              "          element.innerHTML = '';\n",
              "          dataTable['output_type'] = 'display_data';\n",
              "          await google.colab.output.renderOutput(dataTable, element);\n",
              "          const docLink = document.createElement('div');\n",
              "          docLink.innerHTML = docLinkHtml;\n",
              "          element.appendChild(docLink);\n",
              "        }\n",
              "      </script>\n",
              "    </div>\n",
              "  </div>\n",
              "  "
            ]
          },
          "metadata": {},
          "execution_count": 123
        }
      ]
    },
    {
      "cell_type": "code",
      "source": [
        "# merge 여러개 => 요런식 ((df1 +df2) +df3)+df4)\n",
        "from functools import reduce\n",
        "data = [df1,df2,df3]\n",
        "reduce(lambda x,y : pd.merge(x,y), data)"
      ],
      "metadata": {
        "id": "IVj6SCMlKm92"
      },
      "execution_count": null,
      "outputs": []
    },
    {
      "cell_type": "markdown",
      "source": [
        "##### **join**"
      ],
      "metadata": {
        "id": "2DTJKzKd6A42"
      }
    },
    {
      "cell_type": "code",
      "source": [
        "df_join = df_sum1.join(df_sum2, how='right', lsuffix='1', rsuffix='2')\n",
        "df_join"
      ],
      "metadata": {
        "colab": {
          "base_uri": "https://localhost:8080/",
          "height": 175
        },
        "id": "x2RKQeJVw4_q",
        "outputId": "6486f3d8-5299-4d15-c177-159828ee6af6"
      },
      "execution_count": null,
      "outputs": [
        {
          "output_type": "execute_result",
          "data": {
            "text/plain": [
              "    a1   b1   c1  a2  b2  c2   d\n",
              "2   a2   b2   c2  a2  b2  c2  d2\n",
              "3   a3   b3   c3  a3  b3  c3  d3\n",
              "4  NaN  NaN  NaN  a4  b4  c4  d4\n",
              "5  NaN  NaN  NaN  a5  b5  c5  d5"
            ],
            "text/html": [
              "\n",
              "  <div id=\"df-08125708-cf1b-40a4-a541-7942fb697736\">\n",
              "    <div class=\"colab-df-container\">\n",
              "      <div>\n",
              "<style scoped>\n",
              "    .dataframe tbody tr th:only-of-type {\n",
              "        vertical-align: middle;\n",
              "    }\n",
              "\n",
              "    .dataframe tbody tr th {\n",
              "        vertical-align: top;\n",
              "    }\n",
              "\n",
              "    .dataframe thead th {\n",
              "        text-align: right;\n",
              "    }\n",
              "</style>\n",
              "<table border=\"1\" class=\"dataframe\">\n",
              "  <thead>\n",
              "    <tr style=\"text-align: right;\">\n",
              "      <th></th>\n",
              "      <th>a1</th>\n",
              "      <th>b1</th>\n",
              "      <th>c1</th>\n",
              "      <th>a2</th>\n",
              "      <th>b2</th>\n",
              "      <th>c2</th>\n",
              "      <th>d</th>\n",
              "    </tr>\n",
              "  </thead>\n",
              "  <tbody>\n",
              "    <tr>\n",
              "      <th>2</th>\n",
              "      <td>a2</td>\n",
              "      <td>b2</td>\n",
              "      <td>c2</td>\n",
              "      <td>a2</td>\n",
              "      <td>b2</td>\n",
              "      <td>c2</td>\n",
              "      <td>d2</td>\n",
              "    </tr>\n",
              "    <tr>\n",
              "      <th>3</th>\n",
              "      <td>a3</td>\n",
              "      <td>b3</td>\n",
              "      <td>c3</td>\n",
              "      <td>a3</td>\n",
              "      <td>b3</td>\n",
              "      <td>c3</td>\n",
              "      <td>d3</td>\n",
              "    </tr>\n",
              "    <tr>\n",
              "      <th>4</th>\n",
              "      <td>NaN</td>\n",
              "      <td>NaN</td>\n",
              "      <td>NaN</td>\n",
              "      <td>a4</td>\n",
              "      <td>b4</td>\n",
              "      <td>c4</td>\n",
              "      <td>d4</td>\n",
              "    </tr>\n",
              "    <tr>\n",
              "      <th>5</th>\n",
              "      <td>NaN</td>\n",
              "      <td>NaN</td>\n",
              "      <td>NaN</td>\n",
              "      <td>a5</td>\n",
              "      <td>b5</td>\n",
              "      <td>c5</td>\n",
              "      <td>d5</td>\n",
              "    </tr>\n",
              "  </tbody>\n",
              "</table>\n",
              "</div>\n",
              "      <button class=\"colab-df-convert\" onclick=\"convertToInteractive('df-08125708-cf1b-40a4-a541-7942fb697736')\"\n",
              "              title=\"Convert this dataframe to an interactive table.\"\n",
              "              style=\"display:none;\">\n",
              "        \n",
              "  <svg xmlns=\"http://www.w3.org/2000/svg\" height=\"24px\"viewBox=\"0 0 24 24\"\n",
              "       width=\"24px\">\n",
              "    <path d=\"M0 0h24v24H0V0z\" fill=\"none\"/>\n",
              "    <path d=\"M18.56 5.44l.94 2.06.94-2.06 2.06-.94-2.06-.94-.94-2.06-.94 2.06-2.06.94zm-11 1L8.5 8.5l.94-2.06 2.06-.94-2.06-.94L8.5 2.5l-.94 2.06-2.06.94zm10 10l.94 2.06.94-2.06 2.06-.94-2.06-.94-.94-2.06-.94 2.06-2.06.94z\"/><path d=\"M17.41 7.96l-1.37-1.37c-.4-.4-.92-.59-1.43-.59-.52 0-1.04.2-1.43.59L10.3 9.45l-7.72 7.72c-.78.78-.78 2.05 0 2.83L4 21.41c.39.39.9.59 1.41.59.51 0 1.02-.2 1.41-.59l7.78-7.78 2.81-2.81c.8-.78.8-2.07 0-2.86zM5.41 20L4 18.59l7.72-7.72 1.47 1.35L5.41 20z\"/>\n",
              "  </svg>\n",
              "      </button>\n",
              "      \n",
              "  <style>\n",
              "    .colab-df-container {\n",
              "      display:flex;\n",
              "      flex-wrap:wrap;\n",
              "      gap: 12px;\n",
              "    }\n",
              "\n",
              "    .colab-df-convert {\n",
              "      background-color: #E8F0FE;\n",
              "      border: none;\n",
              "      border-radius: 50%;\n",
              "      cursor: pointer;\n",
              "      display: none;\n",
              "      fill: #1967D2;\n",
              "      height: 32px;\n",
              "      padding: 0 0 0 0;\n",
              "      width: 32px;\n",
              "    }\n",
              "\n",
              "    .colab-df-convert:hover {\n",
              "      background-color: #E2EBFA;\n",
              "      box-shadow: 0px 1px 2px rgba(60, 64, 67, 0.3), 0px 1px 3px 1px rgba(60, 64, 67, 0.15);\n",
              "      fill: #174EA6;\n",
              "    }\n",
              "\n",
              "    [theme=dark] .colab-df-convert {\n",
              "      background-color: #3B4455;\n",
              "      fill: #D2E3FC;\n",
              "    }\n",
              "\n",
              "    [theme=dark] .colab-df-convert:hover {\n",
              "      background-color: #434B5C;\n",
              "      box-shadow: 0px 1px 3px 1px rgba(0, 0, 0, 0.15);\n",
              "      filter: drop-shadow(0px 1px 2px rgba(0, 0, 0, 0.3));\n",
              "      fill: #FFFFFF;\n",
              "    }\n",
              "  </style>\n",
              "\n",
              "      <script>\n",
              "        const buttonEl =\n",
              "          document.querySelector('#df-08125708-cf1b-40a4-a541-7942fb697736 button.colab-df-convert');\n",
              "        buttonEl.style.display =\n",
              "          google.colab.kernel.accessAllowed ? 'block' : 'none';\n",
              "\n",
              "        async function convertToInteractive(key) {\n",
              "          const element = document.querySelector('#df-08125708-cf1b-40a4-a541-7942fb697736');\n",
              "          const dataTable =\n",
              "            await google.colab.kernel.invokeFunction('convertToInteractive',\n",
              "                                                     [key], {});\n",
              "          if (!dataTable) return;\n",
              "\n",
              "          const docLinkHtml = 'Like what you see? Visit the ' +\n",
              "            '<a target=\"_blank\" href=https://colab.research.google.com/notebooks/data_table.ipynb>data table notebook</a>'\n",
              "            + ' to learn more about interactive tables.';\n",
              "          element.innerHTML = '';\n",
              "          dataTable['output_type'] = 'display_data';\n",
              "          await google.colab.output.renderOutput(dataTable, element);\n",
              "          const docLink = document.createElement('div');\n",
              "          docLink.innerHTML = docLinkHtml;\n",
              "          element.appendChild(docLink);\n",
              "        }\n",
              "      </script>\n",
              "    </div>\n",
              "  </div>\n",
              "  "
            ]
          },
          "metadata": {},
          "execution_count": 125
        }
      ]
    },
    {
      "cell_type": "code",
      "source": [
        "# List -> 문자열로 합치기\n",
        "df_abc = ['a','b','c']\n",
        "\n",
        "print(''.join(df_abc))\n",
        "print('_'.join(df_abc))\n",
        "print(\"띄고\\n\".join(df_abc))"
      ],
      "metadata": {
        "colab": {
          "base_uri": "https://localhost:8080/"
        },
        "id": "P_NXSAGA6fcL",
        "outputId": "24304ea5-442f-45e9-c441-f8f4f42acf8e"
      },
      "execution_count": null,
      "outputs": [
        {
          "output_type": "stream",
          "name": "stdout",
          "text": [
            "abc\n",
            "a_b_c\n",
            "a띄고\n",
            "b띄고\n",
            "c\n"
          ]
        }
      ]
    },
    {
      "cell_type": "markdown",
      "source": [
        "##### **melt**"
      ],
      "metadata": {
        "id": "u2giqqV441a9"
      }
    },
    {
      "cell_type": "code",
      "source": [
        "# pd.melt(데이터, \n",
        "#         id_vars=['열1','열2'],     # 기준이 될 열\n",
        "#         value_vars=['열3','열4'],  # 값으로 넘어갈 열\n",
        "#         var_name = '열제목',       # 값으로 넘어간 열의 열제목이 들어가는 컬럼 제목\n",
        "#         value_name = '값제목')     # 값으로 넘어간 열의 값들의 제목\n",
        "\n",
        "df_melt = pd.DataFrame({'나이':['41','42','43','44'],\n",
        "                       '성별':['남','남','여','여'],\n",
        "                       '스타':[1,2,3,4],\n",
        "                       'YG':['아이유','BTS','현빈','손예진'],\n",
        "                       'SM':['장동건','고소영','이나영','원빈']})\n",
        "df_melt # 밑에 결과값 참고"
      ],
      "metadata": {
        "colab": {
          "base_uri": "https://localhost:8080/",
          "height": 175
        },
        "id": "fhHh6hnUykOK",
        "outputId": "bcacbe2c-3c27-4099-cca6-4640863bca95"
      },
      "execution_count": null,
      "outputs": [
        {
          "output_type": "execute_result",
          "data": {
            "text/plain": [
              "   나이 성별  스타   YG   SM\n",
              "0  41  남   1  아이유  장동건\n",
              "1  42  남   2  BTS  고소영\n",
              "2  43  여   3   현빈  이나영\n",
              "3  44  여   4  손예진   원빈"
            ],
            "text/html": [
              "\n",
              "  <div id=\"df-57e6116f-d2f9-4f92-adfa-5f24c43f372a\">\n",
              "    <div class=\"colab-df-container\">\n",
              "      <div>\n",
              "<style scoped>\n",
              "    .dataframe tbody tr th:only-of-type {\n",
              "        vertical-align: middle;\n",
              "    }\n",
              "\n",
              "    .dataframe tbody tr th {\n",
              "        vertical-align: top;\n",
              "    }\n",
              "\n",
              "    .dataframe thead th {\n",
              "        text-align: right;\n",
              "    }\n",
              "</style>\n",
              "<table border=\"1\" class=\"dataframe\">\n",
              "  <thead>\n",
              "    <tr style=\"text-align: right;\">\n",
              "      <th></th>\n",
              "      <th>나이</th>\n",
              "      <th>성별</th>\n",
              "      <th>스타</th>\n",
              "      <th>YG</th>\n",
              "      <th>SM</th>\n",
              "    </tr>\n",
              "  </thead>\n",
              "  <tbody>\n",
              "    <tr>\n",
              "      <th>0</th>\n",
              "      <td>41</td>\n",
              "      <td>남</td>\n",
              "      <td>1</td>\n",
              "      <td>아이유</td>\n",
              "      <td>장동건</td>\n",
              "    </tr>\n",
              "    <tr>\n",
              "      <th>1</th>\n",
              "      <td>42</td>\n",
              "      <td>남</td>\n",
              "      <td>2</td>\n",
              "      <td>BTS</td>\n",
              "      <td>고소영</td>\n",
              "    </tr>\n",
              "    <tr>\n",
              "      <th>2</th>\n",
              "      <td>43</td>\n",
              "      <td>여</td>\n",
              "      <td>3</td>\n",
              "      <td>현빈</td>\n",
              "      <td>이나영</td>\n",
              "    </tr>\n",
              "    <tr>\n",
              "      <th>3</th>\n",
              "      <td>44</td>\n",
              "      <td>여</td>\n",
              "      <td>4</td>\n",
              "      <td>손예진</td>\n",
              "      <td>원빈</td>\n",
              "    </tr>\n",
              "  </tbody>\n",
              "</table>\n",
              "</div>\n",
              "      <button class=\"colab-df-convert\" onclick=\"convertToInteractive('df-57e6116f-d2f9-4f92-adfa-5f24c43f372a')\"\n",
              "              title=\"Convert this dataframe to an interactive table.\"\n",
              "              style=\"display:none;\">\n",
              "        \n",
              "  <svg xmlns=\"http://www.w3.org/2000/svg\" height=\"24px\"viewBox=\"0 0 24 24\"\n",
              "       width=\"24px\">\n",
              "    <path d=\"M0 0h24v24H0V0z\" fill=\"none\"/>\n",
              "    <path d=\"M18.56 5.44l.94 2.06.94-2.06 2.06-.94-2.06-.94-.94-2.06-.94 2.06-2.06.94zm-11 1L8.5 8.5l.94-2.06 2.06-.94-2.06-.94L8.5 2.5l-.94 2.06-2.06.94zm10 10l.94 2.06.94-2.06 2.06-.94-2.06-.94-.94-2.06-.94 2.06-2.06.94z\"/><path d=\"M17.41 7.96l-1.37-1.37c-.4-.4-.92-.59-1.43-.59-.52 0-1.04.2-1.43.59L10.3 9.45l-7.72 7.72c-.78.78-.78 2.05 0 2.83L4 21.41c.39.39.9.59 1.41.59.51 0 1.02-.2 1.41-.59l7.78-7.78 2.81-2.81c.8-.78.8-2.07 0-2.86zM5.41 20L4 18.59l7.72-7.72 1.47 1.35L5.41 20z\"/>\n",
              "  </svg>\n",
              "      </button>\n",
              "      \n",
              "  <style>\n",
              "    .colab-df-container {\n",
              "      display:flex;\n",
              "      flex-wrap:wrap;\n",
              "      gap: 12px;\n",
              "    }\n",
              "\n",
              "    .colab-df-convert {\n",
              "      background-color: #E8F0FE;\n",
              "      border: none;\n",
              "      border-radius: 50%;\n",
              "      cursor: pointer;\n",
              "      display: none;\n",
              "      fill: #1967D2;\n",
              "      height: 32px;\n",
              "      padding: 0 0 0 0;\n",
              "      width: 32px;\n",
              "    }\n",
              "\n",
              "    .colab-df-convert:hover {\n",
              "      background-color: #E2EBFA;\n",
              "      box-shadow: 0px 1px 2px rgba(60, 64, 67, 0.3), 0px 1px 3px 1px rgba(60, 64, 67, 0.15);\n",
              "      fill: #174EA6;\n",
              "    }\n",
              "\n",
              "    [theme=dark] .colab-df-convert {\n",
              "      background-color: #3B4455;\n",
              "      fill: #D2E3FC;\n",
              "    }\n",
              "\n",
              "    [theme=dark] .colab-df-convert:hover {\n",
              "      background-color: #434B5C;\n",
              "      box-shadow: 0px 1px 3px 1px rgba(0, 0, 0, 0.15);\n",
              "      filter: drop-shadow(0px 1px 2px rgba(0, 0, 0, 0.3));\n",
              "      fill: #FFFFFF;\n",
              "    }\n",
              "  </style>\n",
              "\n",
              "      <script>\n",
              "        const buttonEl =\n",
              "          document.querySelector('#df-57e6116f-d2f9-4f92-adfa-5f24c43f372a button.colab-df-convert');\n",
              "        buttonEl.style.display =\n",
              "          google.colab.kernel.accessAllowed ? 'block' : 'none';\n",
              "\n",
              "        async function convertToInteractive(key) {\n",
              "          const element = document.querySelector('#df-57e6116f-d2f9-4f92-adfa-5f24c43f372a');\n",
              "          const dataTable =\n",
              "            await google.colab.kernel.invokeFunction('convertToInteractive',\n",
              "                                                     [key], {});\n",
              "          if (!dataTable) return;\n",
              "\n",
              "          const docLinkHtml = 'Like what you see? Visit the ' +\n",
              "            '<a target=\"_blank\" href=https://colab.research.google.com/notebooks/data_table.ipynb>data table notebook</a>'\n",
              "            + ' to learn more about interactive tables.';\n",
              "          element.innerHTML = '';\n",
              "          dataTable['output_type'] = 'display_data';\n",
              "          await google.colab.output.renderOutput(dataTable, element);\n",
              "          const docLink = document.createElement('div');\n",
              "          docLink.innerHTML = docLinkHtml;\n",
              "          element.appendChild(docLink);\n",
              "        }\n",
              "      </script>\n",
              "    </div>\n",
              "  </div>\n",
              "  "
            ]
          },
          "metadata": {},
          "execution_count": 113
        }
      ]
    },
    {
      "cell_type": "code",
      "source": [
        "df_melt = pd.melt(df_melt,\n",
        "                  id_vars = ['나이','성별','스타'],\n",
        "                  value_vars = ['YG','SM'],\n",
        "                  var_name = '소속사', # 기존열 이름\n",
        "                  value_name='이름')   # 기존값 이름\n",
        "df_melt"
      ],
      "metadata": {
        "colab": {
          "base_uri": "https://localhost:8080/",
          "height": 300
        },
        "id": "DWjoXT2j0q-j",
        "outputId": "1f606774-3b9e-44b2-8f01-4841d0648ecd"
      },
      "execution_count": null,
      "outputs": [
        {
          "output_type": "execute_result",
          "data": {
            "text/plain": [
              "   나이 성별  스타 소속사   이름\n",
              "0  41  남   1  YG  아이유\n",
              "1  42  남   2  YG  BTS\n",
              "2  43  여   3  YG   현빈\n",
              "3  44  여   4  YG  손예진\n",
              "4  41  남   1  SM  장동건\n",
              "5  42  남   2  SM  고소영\n",
              "6  43  여   3  SM  이나영\n",
              "7  44  여   4  SM   원빈"
            ],
            "text/html": [
              "\n",
              "  <div id=\"df-ddbd8f70-e8c7-4567-a94d-5385dbd05fe7\">\n",
              "    <div class=\"colab-df-container\">\n",
              "      <div>\n",
              "<style scoped>\n",
              "    .dataframe tbody tr th:only-of-type {\n",
              "        vertical-align: middle;\n",
              "    }\n",
              "\n",
              "    .dataframe tbody tr th {\n",
              "        vertical-align: top;\n",
              "    }\n",
              "\n",
              "    .dataframe thead th {\n",
              "        text-align: right;\n",
              "    }\n",
              "</style>\n",
              "<table border=\"1\" class=\"dataframe\">\n",
              "  <thead>\n",
              "    <tr style=\"text-align: right;\">\n",
              "      <th></th>\n",
              "      <th>나이</th>\n",
              "      <th>성별</th>\n",
              "      <th>스타</th>\n",
              "      <th>소속사</th>\n",
              "      <th>이름</th>\n",
              "    </tr>\n",
              "  </thead>\n",
              "  <tbody>\n",
              "    <tr>\n",
              "      <th>0</th>\n",
              "      <td>41</td>\n",
              "      <td>남</td>\n",
              "      <td>1</td>\n",
              "      <td>YG</td>\n",
              "      <td>아이유</td>\n",
              "    </tr>\n",
              "    <tr>\n",
              "      <th>1</th>\n",
              "      <td>42</td>\n",
              "      <td>남</td>\n",
              "      <td>2</td>\n",
              "      <td>YG</td>\n",
              "      <td>BTS</td>\n",
              "    </tr>\n",
              "    <tr>\n",
              "      <th>2</th>\n",
              "      <td>43</td>\n",
              "      <td>여</td>\n",
              "      <td>3</td>\n",
              "      <td>YG</td>\n",
              "      <td>현빈</td>\n",
              "    </tr>\n",
              "    <tr>\n",
              "      <th>3</th>\n",
              "      <td>44</td>\n",
              "      <td>여</td>\n",
              "      <td>4</td>\n",
              "      <td>YG</td>\n",
              "      <td>손예진</td>\n",
              "    </tr>\n",
              "    <tr>\n",
              "      <th>4</th>\n",
              "      <td>41</td>\n",
              "      <td>남</td>\n",
              "      <td>1</td>\n",
              "      <td>SM</td>\n",
              "      <td>장동건</td>\n",
              "    </tr>\n",
              "    <tr>\n",
              "      <th>5</th>\n",
              "      <td>42</td>\n",
              "      <td>남</td>\n",
              "      <td>2</td>\n",
              "      <td>SM</td>\n",
              "      <td>고소영</td>\n",
              "    </tr>\n",
              "    <tr>\n",
              "      <th>6</th>\n",
              "      <td>43</td>\n",
              "      <td>여</td>\n",
              "      <td>3</td>\n",
              "      <td>SM</td>\n",
              "      <td>이나영</td>\n",
              "    </tr>\n",
              "    <tr>\n",
              "      <th>7</th>\n",
              "      <td>44</td>\n",
              "      <td>여</td>\n",
              "      <td>4</td>\n",
              "      <td>SM</td>\n",
              "      <td>원빈</td>\n",
              "    </tr>\n",
              "  </tbody>\n",
              "</table>\n",
              "</div>\n",
              "      <button class=\"colab-df-convert\" onclick=\"convertToInteractive('df-ddbd8f70-e8c7-4567-a94d-5385dbd05fe7')\"\n",
              "              title=\"Convert this dataframe to an interactive table.\"\n",
              "              style=\"display:none;\">\n",
              "        \n",
              "  <svg xmlns=\"http://www.w3.org/2000/svg\" height=\"24px\"viewBox=\"0 0 24 24\"\n",
              "       width=\"24px\">\n",
              "    <path d=\"M0 0h24v24H0V0z\" fill=\"none\"/>\n",
              "    <path d=\"M18.56 5.44l.94 2.06.94-2.06 2.06-.94-2.06-.94-.94-2.06-.94 2.06-2.06.94zm-11 1L8.5 8.5l.94-2.06 2.06-.94-2.06-.94L8.5 2.5l-.94 2.06-2.06.94zm10 10l.94 2.06.94-2.06 2.06-.94-2.06-.94-.94-2.06-.94 2.06-2.06.94z\"/><path d=\"M17.41 7.96l-1.37-1.37c-.4-.4-.92-.59-1.43-.59-.52 0-1.04.2-1.43.59L10.3 9.45l-7.72 7.72c-.78.78-.78 2.05 0 2.83L4 21.41c.39.39.9.59 1.41.59.51 0 1.02-.2 1.41-.59l7.78-7.78 2.81-2.81c.8-.78.8-2.07 0-2.86zM5.41 20L4 18.59l7.72-7.72 1.47 1.35L5.41 20z\"/>\n",
              "  </svg>\n",
              "      </button>\n",
              "      \n",
              "  <style>\n",
              "    .colab-df-container {\n",
              "      display:flex;\n",
              "      flex-wrap:wrap;\n",
              "      gap: 12px;\n",
              "    }\n",
              "\n",
              "    .colab-df-convert {\n",
              "      background-color: #E8F0FE;\n",
              "      border: none;\n",
              "      border-radius: 50%;\n",
              "      cursor: pointer;\n",
              "      display: none;\n",
              "      fill: #1967D2;\n",
              "      height: 32px;\n",
              "      padding: 0 0 0 0;\n",
              "      width: 32px;\n",
              "    }\n",
              "\n",
              "    .colab-df-convert:hover {\n",
              "      background-color: #E2EBFA;\n",
              "      box-shadow: 0px 1px 2px rgba(60, 64, 67, 0.3), 0px 1px 3px 1px rgba(60, 64, 67, 0.15);\n",
              "      fill: #174EA6;\n",
              "    }\n",
              "\n",
              "    [theme=dark] .colab-df-convert {\n",
              "      background-color: #3B4455;\n",
              "      fill: #D2E3FC;\n",
              "    }\n",
              "\n",
              "    [theme=dark] .colab-df-convert:hover {\n",
              "      background-color: #434B5C;\n",
              "      box-shadow: 0px 1px 3px 1px rgba(0, 0, 0, 0.15);\n",
              "      filter: drop-shadow(0px 1px 2px rgba(0, 0, 0, 0.3));\n",
              "      fill: #FFFFFF;\n",
              "    }\n",
              "  </style>\n",
              "\n",
              "      <script>\n",
              "        const buttonEl =\n",
              "          document.querySelector('#df-ddbd8f70-e8c7-4567-a94d-5385dbd05fe7 button.colab-df-convert');\n",
              "        buttonEl.style.display =\n",
              "          google.colab.kernel.accessAllowed ? 'block' : 'none';\n",
              "\n",
              "        async function convertToInteractive(key) {\n",
              "          const element = document.querySelector('#df-ddbd8f70-e8c7-4567-a94d-5385dbd05fe7');\n",
              "          const dataTable =\n",
              "            await google.colab.kernel.invokeFunction('convertToInteractive',\n",
              "                                                     [key], {});\n",
              "          if (!dataTable) return;\n",
              "\n",
              "          const docLinkHtml = 'Like what you see? Visit the ' +\n",
              "            '<a target=\"_blank\" href=https://colab.research.google.com/notebooks/data_table.ipynb>data table notebook</a>'\n",
              "            + ' to learn more about interactive tables.';\n",
              "          element.innerHTML = '';\n",
              "          dataTable['output_type'] = 'display_data';\n",
              "          await google.colab.output.renderOutput(dataTable, element);\n",
              "          const docLink = document.createElement('div');\n",
              "          docLink.innerHTML = docLinkHtml;\n",
              "          element.appendChild(docLink);\n",
              "        }\n",
              "      </script>\n",
              "    </div>\n",
              "  </div>\n",
              "  "
            ]
          },
          "metadata": {},
          "execution_count": 114
        }
      ]
    },
    {
      "cell_type": "markdown",
      "source": [
        "### Serise"
      ],
      "metadata": {
        "id": "0JZd5tGuG1lC"
      }
    },
    {
      "cell_type": "code",
      "source": [
        "Sr_1 = pd.Series([1,2],index=['행1','행2'])\n",
        "Sr_1"
      ],
      "metadata": {
        "colab": {
          "base_uri": "https://localhost:8080/"
        },
        "id": "Goc0xUuYLtjZ",
        "outputId": "9284dddd-b2a1-4a03-b2c9-994badc8164d"
      },
      "execution_count": null,
      "outputs": [
        {
          "output_type": "execute_result",
          "data": {
            "text/plain": [
              "행1    1\n",
              "행2    2\n",
              "dtype: int64"
            ]
          },
          "metadata": {},
          "execution_count": 29
        }
      ]
    },
    {
      "cell_type": "code",
      "source": [
        "# Series to DateFrame\n",
        "Sr_2 = Sr_1.to_frame('열1')\n",
        "Sr_2"
      ],
      "metadata": {
        "colab": {
          "base_uri": "https://localhost:8080/",
          "height": 112
        },
        "id": "VAoJS6s1S6hr",
        "outputId": "73fc0db5-3096-4f4d-9f9c-8977771da5b3"
      },
      "execution_count": null,
      "outputs": [
        {
          "output_type": "execute_result",
          "data": {
            "text/plain": [
              "    열1\n",
              "행1   1\n",
              "행2   2"
            ],
            "text/html": [
              "\n",
              "  <div id=\"df-573bffd4-8874-4107-a3b9-cea3fcf19cdd\">\n",
              "    <div class=\"colab-df-container\">\n",
              "      <div>\n",
              "<style scoped>\n",
              "    .dataframe tbody tr th:only-of-type {\n",
              "        vertical-align: middle;\n",
              "    }\n",
              "\n",
              "    .dataframe tbody tr th {\n",
              "        vertical-align: top;\n",
              "    }\n",
              "\n",
              "    .dataframe thead th {\n",
              "        text-align: right;\n",
              "    }\n",
              "</style>\n",
              "<table border=\"1\" class=\"dataframe\">\n",
              "  <thead>\n",
              "    <tr style=\"text-align: right;\">\n",
              "      <th></th>\n",
              "      <th>열1</th>\n",
              "    </tr>\n",
              "  </thead>\n",
              "  <tbody>\n",
              "    <tr>\n",
              "      <th>행1</th>\n",
              "      <td>1</td>\n",
              "    </tr>\n",
              "    <tr>\n",
              "      <th>행2</th>\n",
              "      <td>2</td>\n",
              "    </tr>\n",
              "  </tbody>\n",
              "</table>\n",
              "</div>\n",
              "      <button class=\"colab-df-convert\" onclick=\"convertToInteractive('df-573bffd4-8874-4107-a3b9-cea3fcf19cdd')\"\n",
              "              title=\"Convert this dataframe to an interactive table.\"\n",
              "              style=\"display:none;\">\n",
              "        \n",
              "  <svg xmlns=\"http://www.w3.org/2000/svg\" height=\"24px\"viewBox=\"0 0 24 24\"\n",
              "       width=\"24px\">\n",
              "    <path d=\"M0 0h24v24H0V0z\" fill=\"none\"/>\n",
              "    <path d=\"M18.56 5.44l.94 2.06.94-2.06 2.06-.94-2.06-.94-.94-2.06-.94 2.06-2.06.94zm-11 1L8.5 8.5l.94-2.06 2.06-.94-2.06-.94L8.5 2.5l-.94 2.06-2.06.94zm10 10l.94 2.06.94-2.06 2.06-.94-2.06-.94-.94-2.06-.94 2.06-2.06.94z\"/><path d=\"M17.41 7.96l-1.37-1.37c-.4-.4-.92-.59-1.43-.59-.52 0-1.04.2-1.43.59L10.3 9.45l-7.72 7.72c-.78.78-.78 2.05 0 2.83L4 21.41c.39.39.9.59 1.41.59.51 0 1.02-.2 1.41-.59l7.78-7.78 2.81-2.81c.8-.78.8-2.07 0-2.86zM5.41 20L4 18.59l7.72-7.72 1.47 1.35L5.41 20z\"/>\n",
              "  </svg>\n",
              "      </button>\n",
              "      \n",
              "  <style>\n",
              "    .colab-df-container {\n",
              "      display:flex;\n",
              "      flex-wrap:wrap;\n",
              "      gap: 12px;\n",
              "    }\n",
              "\n",
              "    .colab-df-convert {\n",
              "      background-color: #E8F0FE;\n",
              "      border: none;\n",
              "      border-radius: 50%;\n",
              "      cursor: pointer;\n",
              "      display: none;\n",
              "      fill: #1967D2;\n",
              "      height: 32px;\n",
              "      padding: 0 0 0 0;\n",
              "      width: 32px;\n",
              "    }\n",
              "\n",
              "    .colab-df-convert:hover {\n",
              "      background-color: #E2EBFA;\n",
              "      box-shadow: 0px 1px 2px rgba(60, 64, 67, 0.3), 0px 1px 3px 1px rgba(60, 64, 67, 0.15);\n",
              "      fill: #174EA6;\n",
              "    }\n",
              "\n",
              "    [theme=dark] .colab-df-convert {\n",
              "      background-color: #3B4455;\n",
              "      fill: #D2E3FC;\n",
              "    }\n",
              "\n",
              "    [theme=dark] .colab-df-convert:hover {\n",
              "      background-color: #434B5C;\n",
              "      box-shadow: 0px 1px 3px 1px rgba(0, 0, 0, 0.15);\n",
              "      filter: drop-shadow(0px 1px 2px rgba(0, 0, 0, 0.3));\n",
              "      fill: #FFFFFF;\n",
              "    }\n",
              "  </style>\n",
              "\n",
              "      <script>\n",
              "        const buttonEl =\n",
              "          document.querySelector('#df-573bffd4-8874-4107-a3b9-cea3fcf19cdd button.colab-df-convert');\n",
              "        buttonEl.style.display =\n",
              "          google.colab.kernel.accessAllowed ? 'block' : 'none';\n",
              "\n",
              "        async function convertToInteractive(key) {\n",
              "          const element = document.querySelector('#df-573bffd4-8874-4107-a3b9-cea3fcf19cdd');\n",
              "          const dataTable =\n",
              "            await google.colab.kernel.invokeFunction('convertToInteractive',\n",
              "                                                     [key], {});\n",
              "          if (!dataTable) return;\n",
              "\n",
              "          const docLinkHtml = 'Like what you see? Visit the ' +\n",
              "            '<a target=\"_blank\" href=https://colab.research.google.com/notebooks/data_table.ipynb>data table notebook</a>'\n",
              "            + ' to learn more about interactive tables.';\n",
              "          element.innerHTML = '';\n",
              "          dataTable['output_type'] = 'display_data';\n",
              "          await google.colab.output.renderOutput(dataTable, element);\n",
              "          const docLink = document.createElement('div');\n",
              "          docLink.innerHTML = docLinkHtml;\n",
              "          element.appendChild(docLink);\n",
              "        }\n",
              "      </script>\n",
              "    </div>\n",
              "  </div>\n",
              "  "
            ]
          },
          "metadata": {},
          "execution_count": 27
        }
      ]
    },
    {
      "cell_type": "code",
      "source": [
        "Sr_1.index"
      ],
      "metadata": {
        "colab": {
          "base_uri": "https://localhost:8080/"
        },
        "id": "0e_aI8_SG8Tb",
        "outputId": "abebdfd4-baad-460a-937a-99353884643e"
      },
      "execution_count": null,
      "outputs": [
        {
          "output_type": "execute_result",
          "data": {
            "text/plain": [
              "Index(['열1', '열2'], dtype='object')"
            ]
          },
          "metadata": {},
          "execution_count": 6
        }
      ]
    },
    {
      "cell_type": "code",
      "source": [
        "Sr_1.index.values"
      ],
      "metadata": {
        "colab": {
          "base_uri": "https://localhost:8080/"
        },
        "id": "Q0r-SRCkHJzZ",
        "outputId": "abb1e99f-1a76-4d77-96ac-f24b29480320"
      },
      "execution_count": null,
      "outputs": [
        {
          "output_type": "execute_result",
          "data": {
            "text/plain": [
              "array(['열1', '열2'], dtype=object)"
            ]
          },
          "metadata": {},
          "execution_count": 7
        }
      ]
    },
    {
      "cell_type": "code",
      "source": [
        "list(Sr_1.index.values)"
      ],
      "metadata": {
        "colab": {
          "base_uri": "https://localhost:8080/"
        },
        "id": "yiBydi53HWkK",
        "outputId": "43f341e1-5567-4c3d-8224-bdc957631dad"
      },
      "execution_count": null,
      "outputs": [
        {
          "output_type": "execute_result",
          "data": {
            "text/plain": [
              "['열1', '열2']"
            ]
          },
          "metadata": {},
          "execution_count": 8
        }
      ]
    },
    {
      "cell_type": "code",
      "source": [
        "Sr_1.values"
      ],
      "metadata": {
        "colab": {
          "base_uri": "https://localhost:8080/"
        },
        "id": "oC-i5c3YrW9B",
        "outputId": "0816cdbc-090e-427a-a5de-7419873274e6"
      },
      "execution_count": null,
      "outputs": [
        {
          "output_type": "execute_result",
          "data": {
            "text/plain": [
              "array([1, 2])"
            ]
          },
          "metadata": {},
          "execution_count": 30
        }
      ]
    },
    {
      "cell_type": "code",
      "source": [
        "# 멀티인덱싱 Series를 Data프레임으로 바꾸는 법\n",
        "Sr_4 = Sr_1.unstack()"
      ],
      "metadata": {
        "id": "xXO6mCiBY9oX"
      },
      "execution_count": null,
      "outputs": []
    },
    {
      "cell_type": "markdown",
      "source": [
        "### Dict"
      ],
      "metadata": {
        "id": "OMtI3ZDBYFHi"
      }
    },
    {
      "cell_type": "code",
      "source": [
        "# dict 합치기\n",
        "dict3 = dict(dict1,**dict2)"
      ],
      "metadata": {
        "id": "wB2O254jYHiI"
      },
      "execution_count": null,
      "outputs": []
    },
    {
      "cell_type": "markdown",
      "source": [
        "## Numpy"
      ],
      "metadata": {
        "id": "76wLpQ8MEnf5"
      }
    },
    {
      "cell_type": "code",
      "source": [
        "# 반복함수\n",
        "np.repeat('A',5) # A를 5개 가진 배열 생성"
      ],
      "metadata": {
        "id": "WmG71PCNEqQm"
      },
      "execution_count": null,
      "outputs": []
    },
    {
      "cell_type": "code",
      "source": [
        "# 시작, 끝점을 num개로 나눈 1차원 배열(끝점을 포함, 간격표시하지않음)\n",
        "np.linspace(start, stop, num, endpoint=True, retstep=False)"
      ],
      "metadata": {
        "id": "KOctP-UbPgOl"
      },
      "execution_count": null,
      "outputs": []
    },
    {
      "cell_type": "code",
      "source": [
        "# np.where(조건, 참값,거짓값)\n",
        "import numpy as np\n",
        "\n",
        "a = np.arange(5, 15) # array([ 5,  6,  7,  8,  9, 10, 11, 12, 13, 14])\n",
        "\n",
        "# 1차원 데이터\n",
        "print(np.where(a > 10)) # 만족하는 인덱스 출력 -> (array([6, 7, 8, 9]),)\n",
        "print(np.where(a > 10, True, False)) # 만족하는 값은 True로 아닌값은 False로"
      ],
      "metadata": {
        "colab": {
          "base_uri": "https://localhost:8080/"
        },
        "id": "vB4EAh__u0Zd",
        "outputId": "0ce691e6-3e60-488f-a771-8b43bf61bc08"
      },
      "execution_count": null,
      "outputs": [
        {
          "output_type": "stream",
          "name": "stdout",
          "text": [
            "(array([6, 7, 8, 9]),)\n",
            "[False False False False False False  True  True  True  True]\n"
          ]
        }
      ]
    },
    {
      "cell_type": "code",
      "source": [
        "# 2차원데이터 (axis가 (0,0), (0,2),(1,0)인 값의 인덱스를 나타내는 것) \n",
        "b = np.array([[15, 8, 12], [11, 7, 3]])\n",
        "np.where(b > 10) # (array([0, 0, 1]),  => axis=0의 인덱스\n",
        "                 #  array([0, 2, 0]))  => axis=1의 인덱스"
      ],
      "metadata": {
        "colab": {
          "base_uri": "https://localhost:8080/"
        },
        "id": "qKhU6rXsvecG",
        "outputId": "7febf05c-fe26-4070-f740-7c1b47e129eb"
      },
      "execution_count": null,
      "outputs": [
        {
          "output_type": "execute_result",
          "data": {
            "text/plain": [
              "(array([0, 0, 1]), array([0, 2, 0]))"
            ]
          },
          "metadata": {},
          "execution_count": 84
        }
      ]
    },
    {
      "cell_type": "markdown",
      "source": [
        "## 그래프"
      ],
      "metadata": {
        "id": "uRtqgBS3HpuZ"
      }
    },
    {
      "cell_type": "markdown",
      "source": [
        "- boxplot : 데이터의 사분위수, 최소값,최대값, 이상치 확인 (수치형 데이터)\n",
        "\n",
        "- barplot : 데이터를 비교하는데 유용한 시각화, 데이터빈도, 비율 (범주형데이터)\n",
        "\n",
        "- scatterplot : 두 변수간 관계를 확인 (수치형 - 수치형)"
      ],
      "metadata": {
        "id": "8yIjvHNELmzP"
      }
    },
    {
      "cell_type": "code",
      "source": [
        "# 한글 그래프 폰트(plt.rc('font', family='NanumBarunGothic'))\n",
        "!sudo apt-get install -y fonts-nanum\n",
        "!sudo fc-cache -fv\n",
        "!rm ~/.cache/matplotlib -rf"
      ],
      "metadata": {
        "id": "u4d3ob1lX602"
      },
      "execution_count": null,
      "outputs": []
    },
    {
      "cell_type": "code",
      "source": [
        "# rc는 한 번만 적용하면 모든 그래프에 적용된다는 장점이자 단점이 있다.\n",
        "plt.rc('font', family ='글꼴') \n",
        "plt.rc(\"font\", family='Malgun Gothic')\n",
        "mpl.rc('axes', unicode_minus=False) # 한글로 바꾸면 마이너스표시가 안뜰때 처리방법\n",
        "plt.rc('font', size=20)        # 기본 폰트 크기\n",
        "plt.rc('axes', labelsize=20)   # x,y축 label 폰트 크기\n",
        "plt.rc('axes', titlesize=SMALL_SIZE)     # fontsize of the axes title\n",
        "plt.rc('xtick', labelsize=50)  # x축 눈금 폰트 크기 \n",
        "plt.rc('ytick', labelsize=20)  # y축 눈금 폰트 크기\n",
        "plt.rc('legend', fontsize=20)  # 범례 폰트 크기\n",
        "plt.rc('figure', titlesize=50) # figure title 폰트 크기\n",
        "plt.rc('legend', fontsize=SMALL_SIZE)    # legend fontsize"
      ],
      "metadata": {
        "id": "OvMk4COIf4xJ"
      },
      "execution_count": null,
      "outputs": []
    },
    {
      "cell_type": "code",
      "source": [
        "# plt 그래프 화질조정1\n",
        "%config InlineBackend.figure_format='retina'\n",
        "\n",
        "# plt 그래프 화질조정2\n",
        "from IPython.display import set_matplotlib_formats\n",
        "set_matplotlib_formats('retina')"
      ],
      "metadata": {
        "id": "0Le3Tnxi8QqW"
      },
      "execution_count": null,
      "outputs": []
    },
    {
      "cell_type": "code",
      "source": [
        "# x축은 시간, y축은 요일 이런식의 피벗테이블에서 사용가능\n",
        "plt.figure(figsize=(20,10))\n",
        "\n",
        "data = df.pivot_table(index='', columns='', values='개수값', aggfunc=lambda x: len(x)/1000).fillna(0) # aggfunc는 값에 적용해줄 함수\n",
        "\n",
        "sns.heatmap(data, annot=True, linewidths=0.5, fmt = '.2f', cmap='YlGnBu')\n",
        "plt.yticks(len(range(df.index)), df.index, rotation='horizontal')\n",
        "plt.ylabel('요일',rotation='horizontal', labelpad=30, fontsize=20)\n",
        "plt.xlabel('주문시간', labelpad=15, fontsize=20)\n",
        "# 히트맵 y축 맞추기\n",
        "b, t = plt.ylim() # discover the values for bottom and top\n",
        "b += 0.5 # Add 0.5 to the bottom\n",
        "t -= 0.5 # Subtract 0.5 from the top\n",
        "plt.ylim(b, t) # update the ylim(bottom, top) values\n",
        "\n",
        "plt.title('요일별 주문 시간',pad=20)\n",
        "\n",
        "plt.show();"
      ],
      "metadata": {
        "id": "E4Hv-0h3lcjk"
      },
      "execution_count": null,
      "outputs": []
    },
    {
      "cell_type": "code",
      "source": [
        "# 그래프 .plot\n",
        "df.plot(kind='bar', \n",
        "        title='Average Wine Quality by Color',\n",
        "        fontsize=13, \n",
        "        color=['red', 'blue'],\n",
        "        alpha=0.4);                           "
      ],
      "metadata": {
        "id": "MqQkRgWaDCcd"
      },
      "execution_count": null,
      "outputs": []
    },
    {
      "cell_type": "code",
      "source": [
        "# plt.scatter(index없이 column이름만 있는 데이터에서 사용)\n",
        "plt.scatter(x, y, \n",
        "            alpha = 0~1,  # 투명도\n",
        "            s = z         # 마커의 크기 (x가 요일 y가 시간이면 z는 판매량)\n",
        "            c = z         # 마커의 색상\n",
        "            cmap='blues' or 'rainbow' or 'viridis'\n",
        "            vmin=0, vmax=최대길이) # 컬러바 범위 조절\n",
        "\n",
        "plt.gca().invert_yaxis() # y축 오름차순\n",
        "plt.colorbar()       # 오른쪽에 범위 바 생성\n",
        "plt.clim(0,최대길이) # vmin vmax와 동일"
      ],
      "metadata": {
        "id": "1bkiEzHqQldP"
      },
      "execution_count": null,
      "outputs": []
    },
    {
      "cell_type": "markdown",
      "source": [
        "23번문제부터"
      ],
      "metadata": {
        "id": "0Q2RlTG1dXkn"
      }
    },
    {
      "cell_type": "markdown",
      "source": [
        "## 내장함수"
      ],
      "metadata": {
        "id": "bRIzjFBzWWTI"
      }
    },
    {
      "cell_type": "markdown",
      "source": [
        "**zip**"
      ],
      "metadata": {
        "id": "hDzl-oqPBbp6"
      }
    },
    {
      "cell_type": "code",
      "source": [
        "# 같은 크기의 리스트를 묶어주는 함수(여러개도 묶을 수 있음 zip(a,b,c,d))\n",
        "# 크기가 모자한 것은 제거(a = 5개고 a[1:]는 4개니까 4개만 출력되는 것을 볼 수 있음)\n",
        "a=[1,3,2,5,4]\n",
        "for p1, p2 in zip(a,a[1:]):\n",
        "\tprint(p1, p2)"
      ],
      "metadata": {
        "colab": {
          "base_uri": "https://localhost:8080/"
        },
        "id": "FlzdmcaqWZ84",
        "outputId": "dad8f319-53f4-4a7f-923a-a5c2a1b1f984"
      },
      "execution_count": null,
      "outputs": [
        {
          "output_type": "stream",
          "name": "stdout",
          "text": [
            "1 3\n",
            "3 2\n",
            "2 5\n",
            "5 4\n"
          ]
        }
      ]
    },
    {
      "cell_type": "markdown",
      "source": [
        "**append, extend**"
      ],
      "metadata": {
        "id": "2RTjOgfWBdA1"
      }
    },
    {
      "cell_type": "code",
      "source": [
        "# append - 데이터 형태를 보존하여 삽입\n",
        "# extend - 데이터 형태를 보존하지 않고 인자별로 삽입\n",
        "list1 = [1,2,3]\n",
        "list2 = {4,5,6}\n",
        "lsit3 = 7,8,9\n",
        "\n",
        "list1.append(list2)\n",
        "print(f'append : {list1}')\n",
        "\n",
        "list1.extend(lsit3)\n",
        "print(f'extend : {list1}')"
      ],
      "metadata": {
        "colab": {
          "base_uri": "https://localhost:8080/"
        },
        "id": "By6ksm-GFBje",
        "outputId": "891a2968-4557-4f63-d2ac-253f55261128"
      },
      "execution_count": null,
      "outputs": [
        {
          "output_type": "stream",
          "name": "stdout",
          "text": [
            "append : [1, 2, 3, {4, 5, 6}]\n",
            "extend : [1, 2, 3, {4, 5, 6}, 7, 8, 9]\n"
          ]
        }
      ]
    },
    {
      "cell_type": "code",
      "source": [
        "# 데이터프레임에서 concat과 같은 방법\n",
        "df1.append(df2, ignore_index=True)\n",
        "df1.concat(df2)"
      ],
      "metadata": {
        "colab": {
          "base_uri": "https://localhost:8080/"
        },
        "id": "KkbuwKNmFO9s",
        "outputId": "ee53a7f9-beb4-4737-d533-1069a44f3967"
      },
      "execution_count": null,
      "outputs": [
        {
          "output_type": "execute_result",
          "data": {
            "text/plain": [
              "[1, 2, 3, [4, 5, 6], 4, 5, 6, 4, 5, 6]"
            ]
          },
          "metadata": {},
          "execution_count": 6
        }
      ]
    },
    {
      "cell_type": "code",
      "source": [
        "# .agg : 함수적용\n",
        "df.agg({'price': np.mean, 'quantity': np.sum}) # price컬럼에 평균, quantity컬럼에 합계 적용"
      ],
      "metadata": {
        "id": "nMhFmf_xOQ7V"
      },
      "execution_count": null,
      "outputs": []
    },
    {
      "cell_type": "code",
      "source": [
        "# apply: 함수적용\n",
        "df.apply(함수, axis=0) # column별 함수적용(default)\n",
        "df.apply(함수, axis=1) # rows별 함수적용"
      ],
      "metadata": {
        "id": "7cY0zcLCOzRS"
      },
      "execution_count": null,
      "outputs": []
    },
    {
      "cell_type": "code",
      "source": [
        "# key값과 완전 일치하는 것만 변경\n",
        "df.replace({'male':'남', 'female':'여'})\n",
        "df.replace( ['male','female'], [0, 1])  # male -> 0 / female -> 1 한 번에 변형\n",
        "\n",
        "# 포함된 값 모두 변경 (str의 의미는 Series 전체에 적용됨을 의미)\n",
        "df.str.replace('a','b')         # a가 포함된 것들 모두 b로 바꿈\n",
        "df.str.replace('[_!.\\d+]', '')  # []안의 문자 모두 ''로 바꿈\n",
        "df.str.replace(r'[^a-zA-Z]', '', regex=True)"
      ],
      "metadata": {
        "id": "oexsoqz8Zs44"
      },
      "execution_count": null,
      "outputs": []
    },
    {
      "cell_type": "code",
      "source": [
        "# 정규표현식이 포함된 값 가져오기\n",
        "df.str.extract('(\\d+)')"
      ],
      "metadata": {
        "id": "X_TKSnjSasSy"
      },
      "execution_count": null,
      "outputs": []
    },
    {
      "cell_type": "code",
      "source": [
        "# 포함된 값 bool형태로 불러오기\n",
        "df.str.contains(' ',na=True)  #  Nan값을 치환하려면 na=bool값"
      ],
      "metadata": {
        "id": "wckOzR8yqfBw"
      },
      "execution_count": null,
      "outputs": []
    },
    {
      "cell_type": "code",
      "source": [
        "# 각 데이터 접두사, 접미사 추가\n",
        "df['col'] = df['col'].astype('str') + '접미사'\n",
        "df['col'] = '접두사' + df['col'].astype('str')"
      ],
      "metadata": {
        "id": "ApWgiy4W23Bt"
      },
      "execution_count": null,
      "outputs": []
    },
    {
      "cell_type": "code",
      "source": [
        "# loc 사용 예시\n",
        "\n",
        "# 잘못된 예\n",
        "for i in range(len(df)):\n",
        "    df['col'][i] = df['col'][i].strftime('%m')\n",
        "\n",
        "# 좋은 예\n",
        "for i in range(len(df)):\n",
        "    df.loc[i,'col'] = df.loc[i,'col'].strftime('%m')"
      ],
      "metadata": {
        "id": "SetEdzNk3HfA"
      },
      "execution_count": null,
      "outputs": []
    },
    {
      "cell_type": "markdown",
      "source": [
        "## 정규표현식"
      ],
      "metadata": {
        "id": "UTVOjgLLfysj"
      }
    },
    {
      "cell_type": "code",
      "source": [
        "# 데이터프레임의 전화번호 정리하기\n",
        "import re\n",
        "\n",
        "def convert(phone_number):\n",
        "  phone_number = re.sub(r\"\\D\", \"\", phone_number)[-8:]\n",
        "  final_number = '010' + '-' + phone_number[:4] + '-' + phone_number[-4:]\n",
        "  return final_number\n",
        "\n",
        "df.전화번호 = df.전화번호.apply(convert)"
      ],
      "metadata": {
        "id": "Gs7yqmVLf0kE"
      },
      "execution_count": null,
      "outputs": []
    },
    {
      "cell_type": "markdown",
      "source": [
        "## For문 "
      ],
      "metadata": {
        "id": "Ngx5Uwp3YXDF"
      }
    },
    {
      "cell_type": "code",
      "source": [
        "# df.shape이 (n,k)일 때\n",
        "# df행별로 값을 묶어줄 때\n",
        "records=[]\n",
        "for i in range(len(df)): # len(df) = n\n",
        "    records.append([df.values[i,j] for j in range(len(df.columns))]) # len(df.columns) = k"
      ],
      "metadata": {
        "id": "e7VCAd2wYWb0"
      },
      "execution_count": null,
      "outputs": []
    },
    {
      "cell_type": "markdown",
      "source": [
        "## 분류모델"
      ],
      "metadata": {
        "id": "k39yDpK6JCvl"
      }
    },
    {
      "cell_type": "markdown",
      "source": [
        "#### 연관성분석(association rule)"
      ],
      "metadata": {
        "id": "2kDOSncYL6iH"
      }
    },
    {
      "cell_type": "code",
      "source": [
        "# 1. 데이터프레임을 이중리스트로 만들기\n",
        "# 주문번호 별 주문 리스트 나누기(한 번 주문 할 때 어떤 물건을 같이 사는지 확인하기 위해서)\n",
        "\n",
        "# 연관규칙분석을 위해 요소 비교를 하는 과정에서 시간이 오래걸려서 리스트 대신 array를 사용하였다.\n",
        "# 하나의 iterator 요소간 비교에서 zip 함수를 사용 할 수 있었다.\n",
        "# 마지막 열은 record에 append 되지 않는 점을 확인하여 if문을 하나 더 추가하여 마지막 열 추가\n",
        "\n",
        "df_array = df.values # 전체 데이터를 array화 하여 계산속도 증가\n",
        "\n",
        "record = [] # 주문번호 별 주문내역리스트\n",
        "record2 =[] # 한 주문에 포함 된 내역\n",
        "\n",
        "for p1, p2 in zip(df_array, df_array[1:]): # 0과1 1과2 ... 비교하도록 for문 \n",
        "\n",
        "    if p1[0]==p2[0]:              # 주문번호가 같으면 record2에 추가\n",
        "        record2.append(p1[2])\n",
        "\n",
        "        if p1[2]==df_array[-2][2]: # 전체데이터의 마지막열에 도달하면 마지막 주문내역 record에 추가\n",
        "            record2.append(p2[2])\n",
        "            record.append(record2)\n",
        "  \n",
        "    else:\n",
        "        record2.append(p1[2])    # 주문번호가 다르면 해당 주문의 마지막 물건이다. 주문번호 마지막 목록을 record2에 추가하고\n",
        "        record.append(record2)   # 해당 주문을 그룹화한 record2를 record에 추가하고\n",
        "        record2 = []             # record2를 초기화"
      ],
      "metadata": {
        "id": "WmnRGxW_L-3Q"
      },
      "execution_count": null,
      "outputs": []
    },
    {
      "cell_type": "markdown",
      "source": [
        "**surpport (지지도)**\n",
        "- $P(A∩B)$ \n",
        "- A,B가 동시에 일어난 수 / 전체 거래 수\n",
        "- A와 B가 동시에 거래되는 비중 \n",
        "\n",
        "**confidence (신뢰도)**\n",
        "- $P(A∩B)/P(A)$\n",
        "- A,B가 동시에 일어난 수 / A가 일어난 수\n",
        "- A를 포함하는 거래 중 A,B가 동시에 거래되는 비중\n",
        "\n",
        "**lift(향상도)**\n",
        "- $P(A∩B) / P(A)*P(B)$  = $P(B|A) / P(B)$\n",
        "- A,B가 동시에 일어난 수 / 독립된 A * 독립된 B\n",
        "- AB, AC가 같은 신뢰도를 가질 때, B와 C 중 어느것이 더 관련있는지\n",
        "- (lift = 1) 독립 / (lift > 1) 양의 상관관계 / (lift < 1) 음의 상관관계  \n",
        "\n",
        "> **Tip**   \n",
        "1. 지지도,신뢰도, 향상도가 모두 높다 = 좋은 rule\n",
        "2. 지지도가 낮고 신뢰와 향상도가 높다 = 실효성이 떨어짐"
      ],
      "metadata": {
        "id": "OTQB3D7BMljS"
      }
    },
    {
      "cell_type": "markdown",
      "source": [
        "##### **apriori공식문서** : http://rasbt.github.io/mlxtend/user_guide/frequent_patterns/apriori/"
      ],
      "metadata": {
        "id": "4FcAq1DrSBw9"
      }
    },
    {
      "cell_type": "code",
      "source": [
        "# 2. 이중리스트로 만든 df를 원핫인코딩 형태로 바꿔줌(컬렴명 = 제품명, 값 = 0이나 1 값)\n",
        "from mlxtend.preprocessing import TransactionEncoder\n",
        "\n",
        "te = TransactionEncoder()\n",
        "te_ary = te.fit(record).transform(record) # fit = 고유한 라벨을 갖게됨 / transform = 원핫인코딩,numpy배열로 전환\n",
        "ap_data = pd.DataFrame(te_ary,columns=te.columns_) # 원핫 인코딩 된 데이터프레임으로 변환"
      ],
      "metadata": {
        "id": "B12mKMt9Mgam"
      },
      "execution_count": null,
      "outputs": []
    },
    {
      "cell_type": "code",
      "source": [
        "# 3-1. 원하는 support를 설정하여 연관분석 시행\n",
        "# 데이터용량이 커서 메모리부족현상발생 시 ->FP-growth 알고리즘 사용\n",
        "from mlxtend.frequent_patterns import apriori, association_rules\n",
        "\n",
        "frequent_itemsets = apriori(ap_data, min_support=0.1, use_colnames=True) # 지지도 확인용\n",
        "frequent_itemsets_chart = association_rules(frequent_itemsets, metric='confidence', min_threshold=0.1) # 지지도,신뢰도,향상도 등등 확인"
      ],
      "metadata": {
        "id": "Lu6hbqmgM6Qx"
      },
      "execution_count": null,
      "outputs": []
    },
    {
      "cell_type": "markdown",
      "source": [
        "#####TPgrowth"
      ],
      "metadata": {
        "id": "We7D6mMzNYyw"
      }
    },
    {
      "cell_type": "code",
      "source": [
        "# 3-2. 위의 3-1이 안될 경우 사용\n",
        "%pip install mlxtend --upgrade"
      ],
      "metadata": {
        "id": "ti9nHsPiNd0q"
      },
      "execution_count": null,
      "outputs": []
    },
    {
      "cell_type": "code",
      "source": [
        "# import에러 발생하여 mlxtend 버전업그레이드 진행\n",
        "# apriori보다 빠르다.\n",
        "from mlxtend.frequent_patterns import fpgrowth\n",
        "\n",
        "result = fpgrowth(ap_data, min_support=0.01, use_colnames=True)\n",
        "result_chart = association_rules(result, metric='confidence',  min_threshold=0.01)"
      ],
      "metadata": {
        "id": "iVttg3dgNkVD"
      },
      "execution_count": null,
      "outputs": []
    },
    {
      "cell_type": "markdown",
      "source": [
        "#### K-Means"
      ],
      "metadata": {
        "id": "J8BIwa-xJLBr"
      }
    },
    {
      "cell_type": "code",
      "source": [
        "# 1. 데이터 스케일링\n",
        "from sklearn.cluster import KMeans\n",
        "from sklearn.preprocessing import MinMaxScaler\n",
        "\n",
        "df_model = df[['누적주문','주문텀']] # 데이터중 필요한 것만 뽑아서(수치형)\n",
        "scaler = MinMaxScaler()\n",
        "sc_data = scaler.fit_transform(df_model)"
      ],
      "metadata": {
        "id": "smZVHslYJKcK"
      },
      "execution_count": null,
      "outputs": []
    },
    {
      "cell_type": "code",
      "source": [
        "# 2. 스케일링된 데이터로 Elbow Method 사용하여 적절한 k 측정\n",
        "from yellowbrick.cluster import KElbowVisualizer\n",
        "\n",
        "model = KMeans()\n",
        "visualizer = KElbowVisualizer(model, k=(1,10))\n",
        "visualizer.fit(sc_data)\n",
        "# 파란색 선 : 군집의 중심에서의 평균거리\n",
        "# 초록색 선 : 계산에 걸린 시간\n",
        "# 검은색 선 : 적정 k"
      ],
      "metadata": {
        "id": "xBhoHbZ7JEmI"
      },
      "execution_count": null,
      "outputs": []
    },
    {
      "cell_type": "code",
      "source": [
        "k = 2\n",
        "model = KMeans(n_clusters=k, random_state=12)\n",
        "model.fit(sc_data)\n",
        "\n",
        "df['cluster'] = model.fit_predict(sc_data)"
      ],
      "metadata": {
        "id": "60JBzAvTLGzZ"
      },
      "execution_count": null,
      "outputs": []
    },
    {
      "cell_type": "code",
      "source": [
        "plt.rc('font', family='NanumBarunGothic')\n",
        "plt.figure(figsize=(12,8))\n",
        "for i in range(k):\n",
        "    plt.scatter(df.loc[df_graph['cluster']==i, '누적주문'], \n",
        "                df.loc[df_graph['cluster']==i, '주문텀'])\n",
        "plt.xlabel('누적주문')\n",
        "plt.ylabel('주문텀')\n",
        "plt.legend(['고객1', '고객2'])\n",
        "plt.show();"
      ],
      "metadata": {
        "id": "D6GNFZrxQ8jl"
      },
      "execution_count": null,
      "outputs": []
    }
  ]
}
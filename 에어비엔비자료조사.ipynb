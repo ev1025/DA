{
  "nbformat": 4,
  "nbformat_minor": 0,
  "metadata": {
    "colab": {
      "provenance": [],
      "authorship_tag": "ABX9TyNC2GUYgnM7qjOxPr2Lc3LI",
      "include_colab_link": true
    },
    "kernelspec": {
      "name": "python3",
      "display_name": "Python 3"
    },
    "language_info": {
      "name": "python"
    }
  },
  "cells": [
    {
      "cell_type": "markdown",
      "metadata": {
        "id": "view-in-github",
        "colab_type": "text"
      },
      "source": [
        "<a href=\"https://colab.research.google.com/github/ev1025/DA_Study/blob/main/%EC%97%90%EC%96%B4%EB%B9%84%EC%97%94%EB%B9%84%EC%9E%90%EB%A3%8C%EC%A1%B0%EC%82%AC.ipynb\" target=\"_parent\"><img src=\"https://colab.research.google.com/assets/colab-badge.svg\" alt=\"Open In Colab\"/></a>"
      ]
    },
    {
      "cell_type": "markdown",
      "source": [
        "## 데이터에 대해서\n",
        "\n",
        "`age_gender_bkts.csv`\n",
        "\n",
        "- **population_in_thousands** : 국가의 전체인구\n",
        "\n",
        "`countries.csv`\n",
        "\n",
        "- **distance_km** : 미국에서 목적지까지의 거리\n",
        "- **destination_km2** : 목적지의 토지 크기\n",
        "- **levenshtein distance** : 단어적 유사도거리(사전에 등록되어있지 않은 단어가 있을 경우 유사한 단어로 뜻을 치환) -> 목적지의 언어와 미국의 언어간 유사도를 나타낸듯\n",
        "\n",
        "`sessions.csv`\n",
        "\n",
        "- 사용순서대로 나열된 정보\n",
        "- **secs_elapsed** : secs_elapsed is the number of seconds between actions were recorded.\n",
        "(이전 작업부터 이후작업까지 경과된 시간일 것이라는 추측도 있음)\n",
        "\n",
        "`train_users2.csv`\n",
        "\n",
        "- train_users2와 sessions의 고유 id 개수 차이\n",
        "    - train_users2 : 213,451개\n",
        "    - sessions : 135,483개\n",
        "    - 두 파일의 intersection = 73,815개\n",
        "    - 확인해 본 결과  train_users2와 일치하지 않는 61669개의 id중 61668개의 id가 test_users와 일치\n",
        "- unknown인 데이터들을 모두 nan값으로 바꿔서 nan인 데이터들의 특징을 확인\n",
        "    - age, gender의 경우 에어비엔비 홈페이지에서 가입한 고객들임(가입화면문제)\n",
        "    - country_destination가 NDF면 date_first_booking도 nan\n",
        "- 2013년까지 date_first_booking(예약)이  date_account_created(계정생성)보다 빠른 경우가 있음   \n",
        "(2013년까지는 가입 전에 검색도 가능했기때문)\n",
        "- (NDF와 미국이 대부분을 차지하므로 분석에선 뺴고 사용하는게 나을지도..?)\n",
        "- 에어비엔비는 18세 이상 사용가능 (대부분 14세 이하를 제거했음)\n",
        "- 데이터의 예약 날짜가 가입 후 1년 이내일 것이라는 얘기가 있음(확인은 못함)\n",
        "\n",
        "## 대회 팁들\n",
        "\n",
        "- 가능한한 많은 테이블의 데이터를 train에 압축시키는 것이 좋을 것\n",
        "- 각 이벤트가 수행된 횟수와 함께 사용자의 빈도 매트릭스를 구축, 그 위에 PCA를 적용하고 상위 7개 기능을 선택\n",
        "- 이벤트당 평균 시간이 포함된 사용자 빈도 매트릭스\n",
        "- 공휴일 데이터 사용하기 ([https://pypi.org/project/holidays/](https://pypi.org/project/holidays/) )\n",
        "\n",
        "## 하고싶은 분석\n",
        "\n",
        "1. 각 나라별 숙박요금인상에 의해 순이익이 상승하였다.\n",
        "(나라별 물가수준이 미국대비 몇프로 차이인지 피쳐만들기)\n",
        "    \n",
        "    (**2021년) 전년대비 매출이 67%, 순이익이 289% 상승**\n",
        "    \n",
        "    - 예약건수는 3% 감소, 수수료 동결\n",
        "    - 평균 `숙박요금`과 `여행기간 증가`로 인한 매출 상승\n",
        "        \n",
        "        해외/도시   ⇒ 국내/시골\n",
        "        \n",
        "        단기숙박    ⇒ 장기숙박\n",
        "        \n",
        "        다인용숙박 ⇒ 독채/프리미엄 숙박\n",
        "        \n",
        "    - 호스트전용 보험인 aircover 출시로 호스트 증가를 위해 노력\n",
        "2. 언어 유사도가 여행지 선정에 영향을 미치는지\n",
        "(언어 유사도가 높은 나라가 선호도도 높은지, 인구통계학적 자료로 비교)\n",
        "3. 여행지별 세션에서 머무르는 평균 시간이 다른지?\n",
        "4. 대회팁에서 말했던 PCA를 통해 퍼널분석 및 다양한 로그분석을 해서 포트폴리오를 작성하는 것이 좋을 것 같습니다. (기능구현 방안에 대해서는 따로 생각나는게 없네요..)"
      ],
      "metadata": {
        "id": "2jiP-40-YDJq"
      }
    }
  ]
}
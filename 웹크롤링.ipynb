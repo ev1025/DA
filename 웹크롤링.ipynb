{
 "cells": [
  {
   "attachments": {},
   "cell_type": "markdown",
   "metadata": {},
   "source": [
    "# 웹 크롤링"
   ]
  },
  {
   "attachments": {},
   "cell_type": "markdown",
   "metadata": {},
   "source": [
    "### Requests"
   ]
  },
  {
   "attachments": {},
   "cell_type": "markdown",
   "metadata": {},
   "source": [
    "- HTTP에 요청을 보내는 용도"
   ]
  },
  {
   "cell_type": "code",
   "execution_count": null,
   "metadata": {},
   "outputs": [],
   "source": [
    "pip install requests"
   ]
  },
  {
   "cell_type": "code",
   "execution_count": 2,
   "metadata": {},
   "outputs": [
    {
     "data": {
      "text/plain": [
       "200"
      ]
     },
     "execution_count": 2,
     "metadata": {},
     "output_type": "execute_result"
    }
   ],
   "source": [
    "import requests\n",
    "\n",
    "url = 'https://www.google.com/webhp?hl=ko&sa=X&ved=0ahUKEwj6-caR1vn9AhVnklYBHWTbBu8QPAgI'\n",
    "resp = requests.get(url)\n",
    "\n",
    "resp.status_code # 응답코드 "
   ]
  },
  {
   "cell_type": "code",
   "execution_count": 6,
   "metadata": {},
   "outputs": [
    {
     "name": "stdout",
     "output_type": "stream",
     "text": [
      "성공\n"
     ]
    }
   ],
   "source": [
    "# 에러가 발생했을 때 에러를 따로 빼주는 코드\n",
    "from requests.exceptions import HTTPError\n",
    "\n",
    "try:\n",
    "    resp = requests.get(url)\n",
    "    resp.raise_for_status()  # 200(정상)코드가 아닌경우 에러발생\n",
    "except HTTPError as Err:\n",
    "    print('HTTP 에러가 발생했습니다.')\n",
    "except Exception as Err:\n",
    "    print('다른 에러가 발생했습니다.')\n",
    "else:\n",
    "    print('성공')"
   ]
  },
  {
   "cell_type": "code",
   "execution_count": 9,
   "metadata": {},
   "outputs": [
    {
     "data": {
      "text/plain": [
       "'<!doctype html><html itemscope=\"\" itemtype=\"http://schema.org/WebPage\" lang=\"ko\"><head><meta content=\"text/html; charset=UTF-8\" http-equiv=\"Content-Type\"><meta content=\"/images/branding/googleg/1x/googleg_standard_color_128dp.png\" itemprop=\"image\"><title>Google</title><script nonce=\"Rsi8kdy-6SC0tDgomLF4iA\">(function(){window.google={kEI:\\'_UUgZM_iMubk2roP872e6AQ\\',kEXPI:\\'0,1356781,2628,6059,206,4804,2316,383,246,5,1129120,1197728,673,380090,16114,19397,9287,22431,1361,12316,2819,14764,4998,13228,3847,6884,31560,885,1987,2891,8348,3406,606,60690,15756,3,576,6459,14124,4,1528,2304,42127,13658,4437,9358,7428,5815,2542,4094,7596,1,14261,27893,2,14022,25739,5679,1020,31122,4569,6255,23421,1252,5835,14967,4333,19,7465,445,2,2,1,24626,2006,8155,7381,15970,872,19634,7,1922,9779,21390,14764,6305,2007,18192,20136,14,82,20206,1622,1748,30,12,4965,8378,6513,4097,3857,527,991,2265,765,427,5684,1410,890,7405,1296,508,7553,676,1150,1093,1016,632,109,1127,450,12575,1386,2717,1856,130,4,623,536,1636,709,736,1551,611,670,1,2750,1000,556,202,44,1286,1150,534,13,1252,196,87,100,1607,563,5777,225,657,3590,2171,396,1581,3357,5,1939,1141,75,273,484,411,25,4,454,380,222,23,197,504,635,3,482,381,93,688,3,334,187,3037,2,936,345,1,118,100,545,66,124,302,1613,359,19,528,17,1256,618,89,41,399,506,684,2,196,264,250,2,349,525,1263,9,674,128,178,12,212,1380,5,5219480,335,396,17,8798430,3311,141,795,19735,1,1,4967,1,23945863,4042142,1964,5417,11256,2893,6250,12561,1539,1600,807,1414289\\',kBL:\\'VEUU\\',kOPI:89978449};google.sn=\\'webhp\\';google.kHL=\\'ko\\';})();(function(){\\nvar f=this||self;var h,k=[];function l(a){for(var b;a&&(!a.getAttribute||!(b=a.getAttribute(\"eid\")));)a=a.parentNode;return b||h}function m(a){for(var b=null;a&&(!a.getAttribute||!(b=a.getAttribute(\"leid\")));)a=a.parentNode;return b}\\nfunction n(a,b,c,d,g){var e=\"\";c||-1!==b.search(\"&ei=\")||(e=\"&ei=\"+l(d),-1===b.search(\"&lei=\")&&(d=m(d))&&(e+=\"&lei=\"+d));d=\"\";!c&&f._cshid&&-1===b.search(\"&cshid=\")&&\"slh\"!==a&&(d=\"&cshid=\"+f._cshid);c=c||\"/\"+(g||\"gen_204\")+\"?atyp=i&ct=\"+a+\"&cad=\"+b+e+\"&zx=\"+Date.now()+d;/^http:/i.test(c)&&\"https:\"===window.location.protocol&&(google.ml&&google.ml(Error(\"a\"),!1,{src:c,glmm:1}),c=\"\");return c};h=google.kEI;google.getEI=l;google.getLEI=m;google.ml=function(){return null};google.log=function(a,b,c,d,g){if(c=n(a,b,c,d,g)){a=new Image;var e=k.length;k[e]=a;a.onerror=a.onload=a.onabort=function(){delete k[e]};a.src=c}};google.logUrl=n;}).call(this);(function(){google.y={};google.sy=[];google.x=function(a,b){if(a)var c=a.id;else{do c=Math.random();while(google.y[c])}google.y[c]=[a,b];return!1};google.sx=function(a){google.sy.push(a)};google.lm=[];google.plm=function(a){google.lm.push.apply(google.lm,a)};google.lq=[];google.load=function(a,b,c){google.lq.push([[a],b,c])};google.loadAll=function(a,b){google.lq.push([a,b])};google.bx=!1;google.lx=function(){};}).call(this);google.f={};(function(){\\ndocument.documentElement.addEventListener(\"submit\",function(b){var a;if(a=b.target){var c=a.getAttribute(\"data-submitfalse\");a=\"1\"===c||\"q\"===c&&!a.elements.q.value?!0:!1}else a=!1;a&&(b.preventDefault(),b.stopPropagation())},!0);document.documentElement.addEventListener(\"click\",function(b){var a;a:{for(a=b.target;a&&a!==document.documentElement;a=a.parentElement)if(\"A\"===a.tagName){a=\"1\"===a.getAttribute(\"data-nohref\");break a}a=!1}a&&b.preventDefault()},!0);}).call(this);</script><style>#gbar,#guser{font-size:13px;padding-top:1px !important;}#gbar{height:22px}#guser{padding-bottom:7px !important;text-align:right}.gbh,.gbd{border-top:1px solid #c9d7f1;font-size:1px}.gbh{height:0;position:absolute;top:24px;width:100%}@media all{.gb1{height:22px;margin-right:.5em;vertical-align:top}#gbar{float:left}}a.gb1,a.gb4{text-decoration:underline !important}a.gb1,a.gb4{color:#00c !important}.gbi .gb4{color:#dd8e27 !important}.gbf .gb4{color:#900 !important}\\n</style><style>body,td,a,p,.h{font-family:굴림,돋움,arial,sans-serif}.ko{font-size:9pt}body{margin:0;overflow-y:scroll}#gog{padding:3px 8px 0}td{line-height:.8em}.gac_m td{line-height:17px}form{margin-bottom:20px}.h{color:#1558d6}em{font-weight:bold;font-style:normal}.lst{height:25px;width:496px}.gsfi,.lst{font:18px arial,sans-serif}.gsfs{font:17px arial,sans-serif}.ds{display:inline-box;display:inline-block;margin:3px 0 4px;margin-left:4px}input{font-family:inherit}body{background:#fff;color:#000}a{color:#4b11a8;text-decoration:none}a:hover,a:active{text-decoration:underline}.fl a{color:#1558d6}a:visited{color:#4b11a8}.sblc{padding-top:5px}.sblc a{display:block;margin:2px 0;margin-left:13px;font-size:11px}.lsbb{background:#f8f9fa;border:solid 1px;border-color:#dadce0 #70757a #70757a #dadce0;height:30px}.lsbb{display:block}#WqQANb a{display:inline-block;margin:0 12px}.lsb{background:url(/images/nav_logo229.png) 0 -261px repeat-x;border:none;color:#000;cursor:pointer;height:30px;margin:0;outline:0;font:15px arial,sans-serif;vertical-align:top}.lsb:active{background:#dadce0}.lst:focus{outline:none}.Ucigb{width:458px}</style><script nonce=\"Rsi8kdy-6SC0tDgomLF4iA\">(function(){window.google.erd={jsr:1,bv:1765,de:true};\\nvar h=this||self;var k,l=null!=(k=h.mei)?k:1,n,p=null!=(n=h.sdo)?n:!0,q=0,r,t=google.erd,v=t.jsr;google.ml=function(a,b,d,m,e){e=void 0===e?2:e;b&&(r=a&&a.message);if(google.dl)return google.dl(a,e,d),null;if(0>v){window.console&&console.error(a,d);if(-2===v)throw a;b=!1}else b=!a||!a.message||\"Error loading script\"===a.message||q>=l&&!m?!1:!0;if(!b)return null;q++;d=d||{};b=encodeURIComponent;var c=\"/gen_204?atyp=i&ei=\"+b(google.kEI);google.kEXPI&&(c+=\"&jexpid=\"+b(google.kEXPI));c+=\"&srcpg=\"+b(google.sn)+\"&jsr=\"+b(t.jsr)+\"&bver=\"+b(t.bv);var f=a.lineNumber;void 0!==f&&(c+=\"&line=\"+f);var g=\\na.fileName;g&&(0<g.indexOf(\"-extension:/\")&&(e=3),c+=\"&script=\"+b(g),f&&g===window.location.href&&(f=document.documentElement.outerHTML.split(\"\\\\n\")[f],c+=\"&cad=\"+b(f?f.substring(0,300):\"No script found.\")));c+=\"&jsel=\"+e;for(var u in d)c+=\"&\",c+=b(u),c+=\"=\",c+=b(d[u]);c=c+\"&emsg=\"+b(a.name+\": \"+a.message);c=c+\"&jsst=\"+b(a.stack||\"N/A\");12288<=c.length&&(c=c.substr(0,12288));a=c;m||google.log(0,\"\",a);return a};window.onerror=function(a,b,d,m,e){r!==a&&(a=e instanceof Error?e:Error(a),void 0===d||\"lineNumber\"in a||(a.lineNumber=d),void 0===b||\"fileName\"in a||(a.fileName=b),google.ml(a,!1,void 0,!1,\"SyntaxError\"===a.name||\"SyntaxError\"===a.message.substring(0,11)||-1!==a.message.indexOf(\"Script error\")?3:0));r=null;p&&q>=l&&(window.onerror=null)};})();</script></head><body bgcolor=\"#fff\"><script nonce=\"Rsi8kdy-6SC0tDgomLF4iA\">(function(){var src=\\'/images/nav_logo229.png\\';var iesg=false;document.body.onload = function(){window.n && window.n();if (document.images){new Image().src=src;}\\nif (!iesg){document.f&&document.f.q.focus();document.gbqf&&document.gbqf.q.focus();}\\n}\\n})();</script><div id=\"mngb\"><div id=gbar><nobr><b class=gb1>검색</b> <a class=gb1 href=\"https://www.google.co.kr/imghp?hl=ko&tab=wi\">이미지</a> <a class=gb1 href=\"https://maps.google.co.kr/maps?hl=ko&tab=wl\">지도</a> <a class=gb1 href=\"https://play.google.com/?hl=ko&tab=w8\">Play</a> <a class=gb1 href=\"https://www.youtube.com/?tab=w1\">YouTube</a> <a class=gb1 href=\"https://news.google.com/?tab=wn\">뉴스</a> <a class=gb1 href=\"https://mail.google.com/mail/?tab=wm\">Gmail</a> <a class=gb1 href=\"https://drive.google.com/?tab=wo\">드라이브</a> <a class=gb1 style=\"text-decoration:none\" href=\"https://www.google.co.kr/intl/ko/about/products?tab=wh\"><u>더보기</u> &raquo;</a></nobr></div><div id=guser width=100%><nobr><span id=gbn class=gbi></span><span id=gbf class=gbf></span><span id=gbe></span><a href=\"http://www.google.co.kr/history/optout?hl=ko\" class=gb4>웹 기록</a> | <a  href=\"/preferences?hl=ko\" class=gb4>설정</a> | <a target=_top id=gb_70 href=\"https://accounts.google.com/ServiceLogin?hl=ko&passive=true&continue=https://www.google.com/webhp%3Fhl%3Dko%26sa%3DX%26ved%3D0ahUKEwj6-caR1vn9AhVnklYBHWTbBu8QPAgI&ec=GAZAAQ\" class=gb4>로그인</a></nobr></div><div class=gbh style=left:0></div><div class=gbh style=right:0></div></div><center><br clear=\"all\" id=\"lgpd\"><div id=\"lga\"><img alt=\"Google\" height=\"92\" src=\"/images/branding/googlelogo/1x/googlelogo_white_background_color_272x92dp.png\" style=\"padding:28px 0 14px\" width=\"272\" id=\"hplogo\"><br><br></div><form action=\"/search\" name=\"f\"><table cellpadding=\"0\" cellspacing=\"0\"><tr valign=\"top\"><td width=\"25%\">&nbsp;</td><td align=\"center\" nowrap=\"\"><input name=\"ie\" value=\"EUC-KR\" type=\"hidden\"><input value=\"ko\" name=\"hl\" type=\"hidden\"><input name=\"source\" type=\"hidden\" value=\"hp\"><input name=\"biw\" type=\"hidden\"><input name=\"bih\" type=\"hidden\"><div class=\"ds\" style=\"height:32px;margin:4px 0\"><div style=\"position:relative;zoom:1\"><input class=\"lst Ucigb\" style=\"margin:0;padding:5px 8px 0 6px;vertical-align:top;color:#000;padding-right:38px\" autocomplete=\"off\" value=\"\" title=\"Google 검색\" maxlength=\"2048\" name=\"q\" size=\"57\"><img src=\"/textinputassistant/tia.png\" style=\"position:absolute;cursor:pointer;right:5px;top:4px;z-index:300\" data-script-url=\"/textinputassistant/11/ko_tia.js\" id=\"tsuid_1\" alt=\"\" height=\"23\" width=\"27\"><script nonce=\"Rsi8kdy-6SC0tDgomLF4iA\">(function(){var id=\\'tsuid_1\\';document.getElementById(id).onclick = function(){var s = document.createElement(\\'script\\');s.src = this.getAttribute(\\'data-script-url\\');(document.getElementById(\\'xjsc\\')||document.body).appendChild(s);};})();</script></div></div><br style=\"line-height:0\"><span class=\"ds\"><span class=\"lsbb\"><input class=\"lsb\" value=\"Google 검색\" name=\"btnG\" type=\"submit\"></span></span><span class=\"ds\"><span class=\"lsbb\"><input class=\"lsb\" id=\"tsuid_2\" value=\"I’m Feeling Lucky\" name=\"btnI\" type=\"submit\"><script nonce=\"Rsi8kdy-6SC0tDgomLF4iA\">(function(){var id=\\'tsuid_2\\';document.getElementById(id).onclick = function(){if (this.form.q.value){this.checked = 1;if (this.form.iflsig)this.form.iflsig.disabled = false;}\\nelse top.location=\\'/doodles/\\';};})();</script><input value=\"AOEireoAAAAAZCBUDWvmtWauJCTb1w5DJCR4WPtjSPr1\" name=\"iflsig\" type=\"hidden\"></span></span></td><td class=\"fl sblc\" align=\"left\" nowrap=\"\" width=\"25%\"><a href=\"/advanced_search?hl=ko&amp;authuser=0\">고급검색</a></td></tr></table><input id=\"gbv\" name=\"gbv\" type=\"hidden\" value=\"1\"><script nonce=\"Rsi8kdy-6SC0tDgomLF4iA\">(function(){var a,b=\"1\";if(document&&document.getElementById)if(\"undefined\"!=typeof XMLHttpRequest)b=\"2\";else if(\"undefined\"!=typeof ActiveXObject){var c,d,e=[\"MSXML2.XMLHTTP.6.0\",\"MSXML2.XMLHTTP.3.0\",\"MSXML2.XMLHTTP\",\"Microsoft.XMLHTTP\"];for(c=0;d=e[c++];)try{new ActiveXObject(d),b=\"2\"}catch(h){}}a=b;if(\"2\"==a&&-1==location.search.indexOf(\"&gbv=2\")){var f=google.gbvu,g=document.getElementById(\"gbv\");g&&(g.value=a);f&&window.setTimeout(function(){location.href=f},0)};}).call(this);</script></form><div id=\"gac_scont\"></div><div style=\"font-size:83%;min-height:3.5em\"><br></div><span id=\"footer\"><div style=\"font-size:10pt\"><div style=\"margin:19px auto;text-align:center\" id=\"WqQANb\"><a href=\"/intl/ko/ads/\">광고</a><a href=\"http://www.google.co.kr/intl/ko/services/\">비즈니스 솔루션</a><a href=\"/intl/ko/about.html\">Google 정보</a><a href=\"https://www.google.com/setprefdomain?prefdom=KR&amp;prev=https://www.google.co.kr/&amp;sig=K_CU2nyL5R-gwI5mRy6eBiJ8WFr4U%3D\">Google.co.kr</a></div></div><p style=\"font-size:8pt;color:#70757a\">&copy; 2023 - <a href=\"/intl/ko/policies/privacy/\">개인정보처리방침</a> - <a href=\"/intl/ko/policies/terms/\">약관</a></p></span></center><script nonce=\"Rsi8kdy-6SC0tDgomLF4iA\">(function(){window.google.cdo={height:757,width:1440};(function(){var a=window.innerWidth,b=window.innerHeight;if(!a||!b){var c=window.document,d=\"CSS1Compat\"==c.compatMode?c.documentElement:c.body;a=d.clientWidth;b=d.clientHeight}a&&b&&(a!=google.cdo.width||b!=google.cdo.height)&&google.log(\"\",\"\",\"/client_204?&atyp=i&biw=\"+a+\"&bih=\"+b+\"&ei=\"+google.kEI);}).call(this);})();</script> <script nonce=\"Rsi8kdy-6SC0tDgomLF4iA\">(function(){google.xjs={ck:\\'xjs.hp.TY6eF88EEio.L.X.O\\',cs:\\'ACT90oG3Ss4i5aZZuUdNsf4YH9FwGn6HsQ\\',excm:[]};})();</script>  <script nonce=\"Rsi8kdy-6SC0tDgomLF4iA\">(function(){var u=\\'/xjs/_/js/k\\\\x3dxjs.hp.en.p3_Gx7UnK-Y.O/am\\\\x3dAACgEwBAAYAF/d\\\\x3d1/ed\\\\x3d1/rs\\\\x3dACT90oG7E2X0AH6kcQ0nfE9MG6LliMdsAw/m\\\\x3dsb_he,d\\';var amd=0;\\nvar d=this||self,e=function(a){return a};var g;var l=function(a,b){this.g=b===h?a:\"\"};l.prototype.toString=function(){return this.g+\"\"};var h={};\\nfunction m(){var a=u;google.lx=function(){p(a);google.lx=function(){}};google.bx||google.lx()}\\nfunction p(a){google.timers&&google.timers.load&&google.tick&&google.tick(\"load\",\"xjsls\");var b=document;var c=\"SCRIPT\";\"application/xhtml+xml\"===b.contentType&&(c=c.toLowerCase());c=b.createElement(c);c.id=\"base-js\";a=null===a?\"null\":void 0===a?\"undefined\":a;if(void 0===g){b=null;var k=d.trustedTypes;if(k&&k.createPolicy){try{b=k.createPolicy(\"goog#html\",{createHTML:e,createScript:e,createScriptURL:e})}catch(q){d.console&&d.console.error(q.message)}g=b}else g=b}a=(b=g)?b.createScriptURL(a):a;a=new l(a,h);c.src=a instanceof l&&a.constructor===l?a.g:\"type_error:TrustedResourceUrl\";var f,n;(f=(a=null==(n=(f=(c.ownerDocument&&c.ownerDocument.defaultView||window).document).querySelector)?void 0:n.call(f,\"script[nonce]\"))?a.nonce||a.getAttribute(\"nonce\")||\"\":\"\")&&c.setAttribute(\"nonce\",f);document.body.appendChild(c);google.psa=!0};google.xjsu=u;setTimeout(function(){0<amd?google.caft(function(){return m()},amd):m()},0);})();window._ = window._ || {};window._DumpException = _._DumpException = function(e){throw e;};window._s = window._s || {};_s._DumpException = _._DumpException;window._qs = window._qs || {};_qs._DumpException = _._DumpException;function _F_installCss(c){}\\n(function(){google.jl={blt:\\'none\\',chnk:0,dw:false,dwu:true,emtn:0,end:0,ico:false,ikb:0,ine:false,injs:\\'none\\',injt:0,injth:0,injv2:false,lls:\\'default\\',pdt:0,rep:0,snet:true,strt:0,ubm:false,uwp:true};})();(function(){var pmc=\\'{\\\\x22d\\\\x22:{},\\\\x22sb_he\\\\x22:{\\\\x22agen\\\\x22:true,\\\\x22cgen\\\\x22:true,\\\\x22client\\\\x22:\\\\x22heirloom-hp\\\\x22,\\\\x22dh\\\\x22:true,\\\\x22ds\\\\x22:\\\\x22\\\\x22,\\\\x22fl\\\\x22:true,\\\\x22host\\\\x22:\\\\x22google.com\\\\x22,\\\\x22jsonp\\\\x22:true,\\\\x22msgs\\\\x22:{\\\\x22cibl\\\\x22:\\\\x22검색어 지우기\\\\x22,\\\\x22dym\\\\x22:\\\\x22이것을 찾으셨나요?\\\\x22,\\\\x22lcky\\\\x22:\\\\x22I’m Feeling Lucky\\\\x22,\\\\x22lml\\\\x22:\\\\x22자세히 알아보기\\\\x22,\\\\x22psrc\\\\x22:\\\\x22검색어가 \\\\\\\\u003Ca href\\\\x3d\\\\\\\\\\\\x22/history\\\\\\\\\\\\x22\\\\\\\\u003E웹 기록\\\\\\\\u003C/a\\\\\\\\u003E에서 삭제되었습니다.\\\\x22,\\\\x22psrl\\\\x22:\\\\x22삭제\\\\x22,\\\\x22sbit\\\\x22:\\\\x22이미지로 검색\\\\x22,\\\\x22srch\\\\x22:\\\\x22Google 검색\\\\x22},\\\\x22ovr\\\\x22:{},\\\\x22pq\\\\x22:\\\\x22\\\\x22,\\\\x22rfs\\\\x22:[],\\\\x22sbas\\\\x22:\\\\x220 3px 8px 0 rgba(0,0,0,0.2),0 0 0 1px rgba(0,0,0,0.08)\\\\x22,\\\\x22stok\\\\x22:\\\\x22D0rDFd_XPFEvDqp99-vbZ1ek7WM\\\\x22}}\\';google.pmc=JSON.parse(pmc);})();</script>       </body></html>'"
      ]
     },
     "execution_count": 9,
     "metadata": {},
     "output_type": "execute_result"
    }
   ],
   "source": [
    "resp.text # 가져온 html문자열을 텍스트로 확인"
   ]
  },
  {
   "attachments": {},
   "cell_type": "markdown",
   "metadata": {},
   "source": [
    "### BeautifulSoup"
   ]
  },
  {
   "attachments": {},
   "cell_type": "markdown",
   "metadata": {},
   "source": [
    "- 응답받은 데이터를 파싱하여 정보를 찾아내는 기능\n",
    "- 문자열로 구성된 특정 문서들(HTML, XML) 등을 파이썬에서 쉽게 사용할 수 있도록 변환해주는 작업\n",
    "- parser의 종류는 html.parser, html5lib 등이 있다."
   ]
  },
  {
   "cell_type": "code",
   "execution_count": null,
   "metadata": {},
   "outputs": [],
   "source": [
    "pip install BeautifulSoup4"
   ]
  },
  {
   "cell_type": "code",
   "execution_count": 15,
   "metadata": {},
   "outputs": [],
   "source": [
    "import requests\n",
    "from bs4 import BeautifulSoup\n",
    "\n",
    "url = 'https://www.google.com/webhp?hl=ko&sa=X&ved=0ahUKEwj6-caR1vn9AhVnklYBHWTbBu8QPAgI'\n",
    "page = requests.get(url)\n",
    "\n",
    "soup = BeautifulSoup(page.content, 'html.parser') # content : 가져온 페이지를 HTML형태로 만듬 / text :가져온 페이지를 문자열로 만듬"
   ]
  },
  {
   "attachments": {},
   "cell_type": "markdown",
   "metadata": {},
   "source": [
    "### 요소찾기(find, select)"
   ]
  },
  {
   "attachments": {},
   "cell_type": "markdown",
   "metadata": {},
   "source": [
    "**find(한 개의 요소 찾기)**"
   ]
  },
  {
   "cell_type": "code",
   "execution_count": null,
   "metadata": {},
   "outputs": [],
   "source": [
    "# 여러개가 존재하면 가장 첫 번째 값을 출력\n",
    "dog_element = soup.find(id='dog')"
   ]
  },
  {
   "attachments": {},
   "cell_type": "markdown",
   "metadata": {},
   "source": [
    "**find_all(여러개의 요소 찾기)**"
   ]
  },
  {
   "cell_type": "code",
   "execution_count": null,
   "metadata": {},
   "outputs": [],
   "source": [
    "# 여러 개 모두 출력\n",
    "cat_element = soup.find_all(class_='cat')"
   ]
  },
  {
   "cell_type": "code",
   "execution_count": null,
   "metadata": {},
   "outputs": [],
   "source": [
    "# 중첩해서 찾을 수도 있다.\n",
    "cat_element = soup.find_all(class_='cat')\n",
    "\n",
    "for i in cat_element:\n",
    "    i.soup.find(class_='fish')"
   ]
  },
  {
   "cell_type": "code",
   "execution_count": null,
   "metadata": {},
   "outputs": [],
   "source": [
    "# 태그사용법\n",
    "soup.find_all('div')\n",
    "\n",
    "# string 검색(string은 문자열로 return되기 때문에 반드시 앞에 태그(div나 p같은)와 함께 사용해야한다.)\n",
    "soup.find_all('div', string = 'raining')\n",
    "soup.find_all('p', string=lambda text: 'raining' in text.lower())\n",
    "\n",
    "# 여러개 중첩가능\n",
    "soup.find_all('div', class_='cat', id='dog') \n",
    "\n",
    "# text를 이용해 내부문자 뽑기\n",
    "cat_el = soup.find('div', class_='cat')\n",
    "cat_el.text       # 해당 태그의 문자열 뽑기\n",
    "cat_el.text.strip # 불필요한 띄어쓰기 제거"
   ]
  },
  {
   "attachments": {},
   "cell_type": "markdown",
   "metadata": {},
   "source": [
    "### Selenium\n"
   ]
  },
  {
   "attachments": {},
   "cell_type": "markdown",
   "metadata": {},
   "source": [
    "- 업무 자동화 라이브러리\n",
    "- 크롬드라이버 최선으로 사용할 것 ([크롬 드라이버](https://chromedriver.chromium.org/downloads))"
   ]
  },
  {
   "cell_type": "code",
   "execution_count": null,
   "metadata": {},
   "outputs": [],
   "source": [
    "pip install selenium"
   ]
  },
  {
   "cell_type": "code",
   "execution_count": null,
   "metadata": {},
   "outputs": [],
   "source": [
    "from selenium import webdriver\n",
    "from selenium.webdriver.common.keys import Keys\n",
    "from selenium.webdriver.common.by import By\n",
    "\n",
    "driver = webdriver.Chrome(\"C:/Users/eg287/chromedriver\") # 나의 웹드라이버의 위치(설정-도움말-버전에서 확인 후 최신 드라이버 사용)\n",
    "driver.get(\"url\") # 웹사이트 방문\n",
    "\n",
    "driver.find_element(By.명령어, \"선택자\")\n",
    "\n",
    "# 팝업 창 제거\n",
    "driver.find_element(By.CSS_SELECTOR, \"button#intro_popup_close\").click()\n",
    "\n",
    "# 시간 대기\n",
    "driver.implicitly_wait(10) # 암묵적 대기 : 로드 되면 대기하지 않고 진행\n",
    "\n",
    "# 검색하기\n",
    "search_box = driver.find_element(By.CSS_SELECTOR, \"선택자\") # 검색창 찾기\n",
    "search_box.send_keys(\"검색어\")     # 검색어 입력\n",
    "time.sleep(3)                     # 로드시간 대기            \n",
    "search_box.send_keys(Keys.ENTER)  # 검색 버튼 누르기(엔터)\n"
   ]
  },
  {
   "attachments": {},
   "cell_type": "markdown",
   "metadata": {},
   "source": [
    "### 크롤링 연습"
   ]
  },
  {
   "attachments": {},
   "cell_type": "markdown",
   "metadata": {},
   "source": [
    "**탑텐몰 크롤링**"
   ]
  },
  {
   "cell_type": "code",
   "execution_count": null,
   "metadata": {},
   "outputs": [],
   "source": [
    "from selenium import webdriver\n",
    "from selenium.webdriver.common.keys import Keys\n",
    "from selenium.webdriver.common.by import By\n",
    "import time\n",
    "from bs4 import BeautifulSoup\n",
    "import requests\n",
    "import pandas as pd\n",
    "\n",
    "driver = webdriver.Chrome(\"C:/Users/eg287/chromedriver\") # 나의 웹드라이버의 위치(설정-도움말-버전에서 확인 후 최신 드라이버 사용)\n",
    "driver.get(\"https://www.topten10mall.com/kr/front/search/categorySearch.do?ctgNo=37341\") # 웹사이트 방문\n",
    "\n",
    "\n",
    "driver.implicitly_wait(10) # 페이지 로드시간 10초 (암묵적 대기 : 로드 되면 대기하지 않고 진행)\n",
    "\n",
    "# 검색\n",
    "search_box = driver.find_element(By.CSS_SELECTOR, \"#searchWord\") # 검색창 찾기\n",
    "search_box.send_keys(\"셔츠\")      # 검색어 입력\n",
    "time.sleep(3)                                \n",
    "search_box.send_keys(Keys.ENTER)  # 검색 버튼 누르기(엔터)\n",
    "\n",
    "\n",
    "\n",
    "# 추출한 데이터 저장할 DataFrame 생성\n",
    "empty = pd.DataFrame(columns=['name','price','discount'])\n",
    "num = 0 # 추출한 값을 넣을 인덱스번호\n",
    "\n",
    "# 크롤링\n",
    "for p in range(10):\n",
    "    # 5초 delay\n",
    "    time.sleep(2)\n",
    "    \n",
    "    # 현재 랜더링된 페이지의 HTML 가져오기\n",
    "    # 방법1\n",
    "    # raw = driver.page_source \n",
    "\n",
    "    # 방법2 requests [BeutifulSoup(raw.content, 'html.parser')로 변경]\n",
    "    # raw = requests.get(\"https://www.topten10mall.com/kr/front/search/totalSearch.do?searchTerm=%EC%85%94%EC%B8%A0\") \n",
    "\n",
    "    # 방법3 자바 (추출할 범위)\n",
    "    js_script = \"document.querySelector('#divList').innerHTML\" # document.querySelector : 선택자('selector') / .innerHTML : HTML형식으로 변환\n",
    "    raw = driver.execute_script(\"return \" + js_script)         # execute_script : 자바스크립트 코드 사용 / \"return \" : 뒤의 값을 출력해라 \n",
    "    \n",
    "    \n",
    "    # 파서로 추출할 대상 선택\n",
    "    # CSS selector를 클래스(.card-goods__body)로 지정해서 여러개의 contents가 존재\n",
    "    html = BeautifulSoup(raw, 'html.parser')\n",
    "    contents = html.select('.card-goods__body') # List형식으로 저장됨\n",
    "\n",
    "    # 각 클래스(.card-goods__body)별 이름,가격,할인률 추출\n",
    "    for i in contents:\n",
    "        name = i.select_one('.card-goods__text').text\n",
    "        try:\n",
    "            price = i.select_one('.card-goods__price').text\n",
    "        except:\n",
    "            price = 'NULL'\n",
    "        try:\n",
    "            discount = i.select_one('.card-goods__discount').text\n",
    "        except:\n",
    "            discount = '0%'\n",
    "\n",
    "        # empty 데이터프레임에 추출한 값 넣기\n",
    "        empty_dict = {'name':name, 'price':price, 'discount':discount}\n",
    "        for key,value in empty_dict.items():\n",
    "            empty.loc[num,key] = value\n",
    "        num += 1 # 인덱스 번호 1씩 증가하도록\n",
    "\n",
    "        # print(name, price, discount)\n",
    "        \n",
    "        \n",
    "    # 다음 페이지로 이동(다음페이지 없을 때 까지)\n",
    "    try:\n",
    "        next_btn = driver.find_element(By.CSS_SELECTOR, \"#searchGoods > nav > ul > li:nth-child(12) > a > span\")\n",
    "        next_btn.click()\n",
    "    except:\n",
    "        print(\"데이터 수집 완료\")\n",
    "        break\n",
    "\n",
    "\n",
    "empty.to_csv(path_or_buf='./크롤링.csv',index=False)"
   ]
  }
 ],
 "metadata": {
  "kernelspec": {
   "display_name": "Python 3",
   "language": "python",
   "name": "python3"
  },
  "language_info": {
   "codemirror_mode": {
    "name": "ipython",
    "version": 3
   },
   "file_extension": ".py",
   "mimetype": "text/x-python",
   "name": "python",
   "nbconvert_exporter": "python",
   "pygments_lexer": "ipython3",
   "version": "3.10.8"
  },
  "orig_nbformat": 4
 },
 "nbformat": 4,
 "nbformat_minor": 2
}

{
  "cells": [
    {
      "cell_type": "markdown",
      "metadata": {
        "id": "view-in-github",
        "colab_type": "text"
      },
      "source": [
        "<a href=\"https://colab.research.google.com/github/ev1025/DA_Study/blob/main/%EC%9B%B9%ED%81%AC%EB%A1%A4%EB%A7%81.ipynb\" target=\"_parent\"><img src=\"https://colab.research.google.com/assets/colab-badge.svg\" alt=\"Open In Colab\"/></a>"
      ]
    },
    {
      "cell_type": "markdown",
      "metadata": {
        "id": "DorrHo-Hnt_x"
      },
      "source": [
        "# 웹 크롤링"
      ]
    },
    {
      "cell_type": "markdown",
      "metadata": {
        "id": "2d42P7Wtnt_0"
      },
      "source": [
        "### Requests"
      ]
    },
    {
      "cell_type": "markdown",
      "metadata": {
        "id": "vFrbZeghnt_0"
      },
      "source": [
        "- HTTP에 요청을 보내는 용도\n",
        "- [유저정보 사이트](https://www.useragentstring.com/pages/useragentstring.php)"
      ]
    },
    {
      "cell_type": "code",
      "execution_count": null,
      "metadata": {
        "id": "VHuehMmqnt_1"
      },
      "outputs": [],
      "source": [
        "pip install requests"
      ]
    },
    {
      "cell_type": "code",
      "execution_count": null,
      "metadata": {
        "id": "zJa5WbW4nt_3",
        "outputId": "0bb020a5-df3a-47a6-b723-32d26b643802"
      },
      "outputs": [
        {
          "data": {
            "text/plain": [
              "200"
            ]
          },
          "execution_count": 2,
          "metadata": {},
          "output_type": "execute_result"
        }
      ],
      "source": [
        "import requests\n",
        "# 로봇이 크롤링을 차단한 경우 {'User-Agent':'유저정보'}\n",
        "headers = {'User-Agent':'Mozilla/5.0 (Windows NT 6.3; Win64; x64) AppleWebKit/537.36 (KHTML, like Gecko) Chrome/63.0.3239.132 Safari/537.36'}\n",
        "url = 'https://www.google.com/webhp?hl=ko&sa=X&ved=0ahUKEwj6-caR1vn9AhVnklYBHWTbBu8QPAgI'\n",
        "resp = requests.get(url,headers=headers)\n",
        "\n",
        "resp.status_code # 응답코드 "
      ]
    },
    {
      "cell_type": "code",
      "execution_count": null,
      "metadata": {
        "id": "l-JJro4Nnt_4",
        "outputId": "358d6d56-c2d7-4a67-924a-2219fcb293dd"
      },
      "outputs": [
        {
          "name": "stdout",
          "output_type": "stream",
          "text": [
            "성공\n"
          ]
        }
      ],
      "source": [
        "# 에러가 발생했을 때 에러를 따로 빼주는 코드\n",
        "from requests.exceptions import HTTPError\n",
        "\n",
        "try:\n",
        "    resp = requests.get(url)\n",
        "    resp.raise_for_status()  # 200(정상)코드가 아닌경우 에러발생\n",
        "except HTTPError as Err:\n",
        "    print('HTTP 에러가 발생했습니다.')\n",
        "except Exception as Err:\n",
        "    print('다른 에러가 발생했습니다.')\n",
        "else:\n",
        "    print('성공')"
      ]
    },
    {
      "cell_type": "code",
      "execution_count": null,
      "metadata": {
        "id": "vjc2a7zSnt_5"
      },
      "outputs": [],
      "source": [
        "resp.text # <html>형태를 '<html>'문자열로 보기"
      ]
    },
    {
      "cell_type": "markdown",
      "metadata": {
        "id": "jKLqNydjnt_6"
      },
      "source": [
        "### BeautifulSoup"
      ]
    },
    {
      "cell_type": "markdown",
      "metadata": {
        "id": "Wpqm7OSCnt_6"
      },
      "source": [
        "- 응답받은 데이터를 파싱하여 정보를 찾아내는 기능\n",
        "- 문자열로 구성된 특정 문서들(HTML, XML) 등을 파이썬에서 쉽게 사용할 수 있도록 변환해주는 작업\n",
        "- parser의 종류는 html.parser, html5lib 등이 있다."
      ]
    },
    {
      "cell_type": "code",
      "execution_count": null,
      "metadata": {
        "id": "l6w-t45Int_6"
      },
      "outputs": [],
      "source": [
        "pip install BeautifulSoup4"
      ]
    },
    {
      "cell_type": "code",
      "execution_count": null,
      "metadata": {
        "id": "_hXA0zuint_7"
      },
      "outputs": [],
      "source": [
        "import requests\n",
        "from bs4 import BeautifulSoup\n",
        "\n",
        "url = 'https://www.google.com/webhp?hl=ko&sa=X&ved=0ahUKEwj6-caR1vn9AhVnklYBHWTbBu8QPAgI'\n",
        "page = requests.get(url)\n",
        "\n",
        "soup = BeautifulSoup(page.content, 'html.parser') # content : 가져온 페이지를 HTML형태로 만듬 / text :가져온 페이지를 문자열로 만듬"
      ]
    },
    {
      "cell_type": "markdown",
      "metadata": {
        "id": "KlWzFqWent_7"
      },
      "source": [
        "### **find, select**\n",
        "- 선택자를 찾아서 HTML형식을 list에 저장"
      ]
    },
    {
      "cell_type": "markdown",
      "metadata": {
        "id": "bP9Mx3jYnt_7"
      },
      "source": [
        "**find(한 개의 요소 찾기)**"
      ]
    },
    {
      "cell_type": "code",
      "execution_count": null,
      "metadata": {
        "id": "H9o-_o8Hnt_8"
      },
      "outputs": [],
      "source": [
        "# 여러개가 존재하면 가장 첫 번째 값을 출력\n",
        "dog_element = soup.find(id='dog')"
      ]
    },
    {
      "cell_type": "markdown",
      "metadata": {
        "id": "FQBTPbwDnt_8"
      },
      "source": [
        "**find_all(여러개의 요소 찾기)**"
      ]
    },
    {
      "cell_type": "code",
      "execution_count": null,
      "metadata": {
        "id": "1ym-wOA0nt_8"
      },
      "outputs": [],
      "source": [
        "# 여러 개 모두 출력\n",
        "cat_element = soup.find_all(class_='cat')"
      ]
    },
    {
      "cell_type": "code",
      "execution_count": null,
      "metadata": {
        "id": "ozrAQxHUnt_9"
      },
      "outputs": [],
      "source": [
        "# 중첩해서 찾을 수도 있다.\n",
        "cat_element = soup.find_all(class_='cat')\n",
        "\n",
        "for i in cat_element:\n",
        "    i.soup.find(class_='fish')"
      ]
    },
    {
      "cell_type": "code",
      "execution_count": null,
      "metadata": {
        "id": "cRjYHTZBnt_9"
      },
      "outputs": [],
      "source": [
        "# 태그사용법\n",
        "soup.find_all('div')\n",
        "\n",
        "# string 검색(string은 문자열로 return되기 때문에 반드시 앞에 태그(div나 p같은)와 함께 사용해야한다.)\n",
        "soup.find_all('div', string = 'raining')\n",
        "soup.find_all('p', string=lambda text: 'raining' in text.lower())\n",
        "\n",
        "# 여러개 중첩가능\n",
        "soup.find_all('div', class_='cat', id='dog') \n",
        "\n",
        "# text를 이용해 내부문자 뽑기\n",
        "cat_el = soup.find('div', class_='cat')\n",
        "cat_el.text       # 해당 태그의 문자열 뽑기\n",
        "cat_el.text.strip # 불필요한 띄어쓰기 제거"
      ]
    },
    {
      "cell_type": "markdown",
      "metadata": {
        "id": "fQeRt3Rxnt_-"
      },
      "source": [
        "### Selenium\n"
      ]
    },
    {
      "cell_type": "markdown",
      "metadata": {
        "id": "WBxMu11Tnt_-"
      },
      "source": [
        "- 업무 자동화 라이브러리\n",
        "- 크롬드라이버 최선으로 사용할 것 ([크롬 드라이버](https://chromedriver.chromium.org/downloads))"
      ]
    },
    {
      "cell_type": "code",
      "execution_count": null,
      "metadata": {
        "id": "20i1hjy3nt__"
      },
      "outputs": [],
      "source": [
        "pip install selenium"
      ]
    },
    {
      "cell_type": "code",
      "execution_count": null,
      "metadata": {
        "id": "d20vp9eMnt__"
      },
      "outputs": [],
      "source": [
        "from selenium.webdriver.common.keys import Keys\n",
        "from selenium.webdriver.common.by import By\n",
        "\n",
        "driver.get(\"url\") # 웹사이트 방문\n",
        "\n",
        "driver.find_element(By.명령어, \"선택자\")\n",
        "\n",
        "# 시간 대기\n",
        "driver.implicitly_wait(10) # 암묵적 대기 : 로드 되면 대기하지 않고 진행\n",
        "\n",
        "# 검색하기\n",
        "search_box = driver.find_element(By.CSS_SELECTOR, \"선택자\") # 검색창 찾기\n",
        "search_box.send_keys(\"검색어\")    # 글자 입력            \n",
        "search_box.send_keys(Keys.ENTER)  # 검색 버튼 누르기(엔터)\n",
        "search_box.sendKeys(Keys.chord(Keys.CONTROL,\"a\", Keys.DELETE)) # 검색어 제거\n",
        "search_box.clear() # 검색어제거"
      ]
    },
    {
      "cell_type": "code",
      "source": [
        "# 클릭하기1\n",
        "from selenium.webdriver import ActionChains\n",
        "\n",
        "actions = webdriver.ActionChains(browser).click(element)\n",
        "actions.perform()\n",
        "\n",
        "# 클릭하기2\n",
        "element.click()\n",
        "\n",
        "# 클릭하기3\n",
        "element.send_keys(Keys.ENTER)"
      ],
      "metadata": {
        "id": "PRIVvqwphQH9"
      },
      "execution_count": null,
      "outputs": []
    },
    {
      "cell_type": "markdown",
      "source": [
        "**element 가져오기**\n",
        "- 해당 경로의 element나 html로 가져옴\n",
        "- 하나의 뭉텅이인 경우 하나의 요소로 나타남\n",
        "- [ ]형태로 가져와서 인덱스를 사용하여 하나씩 추출가능   "
      ],
      "metadata": {
        "id": "EqxJks75pwv5"
      }
    },
    {
      "cell_type": "code",
      "source": [
        "# element 추출\n",
        "element = driver.find_elements(By.CSS_SELECTOR, '선택자') # 선택자인 요소를 저장\n",
        "html = driver.find_elements(By.CSS_SELECTOR, '선택자').get_attribute(\"innerHTML\") # 선택자가 있는 페이지의 HTML 저장\n",
        "\n",
        "element[0].text # 0번째 요소의 문자 가져오기\n",
        "element[0].send_keys(Keys.ENTER) # 0번째 요소 누르기\n",
        "element[0].find_elements(By.CSS_SELECTOR, '선택자') # element의 요소에서 선택자인 요소 뽑기"
      ],
      "metadata": {
        "id": "1XJdAIV1pdyI"
      },
      "execution_count": null,
      "outputs": []
    },
    {
      "cell_type": "markdown",
      "source": [
        "**handles(탭, 팝업관리)**"
      ],
      "metadata": {
        "id": "q6Z8qjUCse1n"
      }
    },
    {
      "cell_type": "code",
      "source": [
        "# 현재 열려있는 탭 리스트 출력\n",
        "driver.window_handles \n",
        "\n",
        "# 마지막 탭으로 이동하기\n",
        "last_tab = driver.window_handles[-1]\n",
        "driver.switch_to.window(window_name=last_tab)"
      ],
      "metadata": {
        "id": "xrbZ4tpnc35B"
      },
      "execution_count": null,
      "outputs": []
    },
    {
      "cell_type": "code",
      "source": [
        "# 팝업창 제거\n",
        "main = driver.window_handles # 열려있는 창 list로 저장(첫 번째 값이 메인창)\n",
        "\n",
        "for i in main:\n",
        "    if i != main[0]: \n",
        "        driver.switch_to.window(i) # 메인이 아닌 창을 선택 후 \n",
        "        driver.close()             # 창 종료\n",
        "\n",
        "driver.switch_to.window(main[0])   # 팝업창 다 제거 후 메인창 실행"
      ],
      "metadata": {
        "id": "quNkambIlOjy"
      },
      "execution_count": null,
      "outputs": []
    },
    {
      "cell_type": "code",
      "source": [
        "from selenium.webdriver.support.ui import WebDriverWait\n",
        "from selenium.webdriver.support import expected_conditions as EC\n",
        "\n",
        "# 최대 10초 동안 페이지 로드를 기다린다.\n",
        "WebDriverWait(driver, 10) \n",
        "# 해당 선택자가 선택될 때까지\n",
        ".until(EC.presence_of_element_located((By.ID, \"\"))\n",
        "\n",
        "# 사용 예시\n",
        "try:\n",
        "    element = WebDriverWait(driver, 10).until(\n",
        "        EC.presence_of_element_located((By.ID, \"\"))\n",
        "finally:\n",
        "    driver.quit()"
      ],
      "metadata": {
        "id": "C7TsX0nTeCJJ"
      },
      "execution_count": null,
      "outputs": []
    },
    {
      "cell_type": "markdown",
      "source": [
        "**iframe**\n",
        "- 창속의 창이 있는 경우로 내부 창으로 이동해줘야함\n",
        "- iframe을 개발자도구에 검색해서 찾으면 됨\n",
        "- 창 간에 이동시에는 기본창으로 넘어간 후에 이동하는 것이 좋음"
      ],
      "metadata": {
        "id": "2Bbt0wNVskX5"
      }
    },
    {
      "cell_type": "code",
      "source": [
        "driver.switch_to.default_content()\n",
        "driver.switch_to.frame('아이프레임명')"
      ],
      "metadata": {
        "id": "41xaiZo5sqsI"
      },
      "execution_count": null,
      "outputs": []
    },
    {
      "cell_type": "markdown",
      "source": [
        "**스크롤 컨트롤**\n",
        "- 방법1은 iframe영역의 스크롤 이동이 안됨"
      ],
      "metadata": {
        "id": "jbrjaYoyKSnT"
      }
    },
    {
      "cell_type": "code",
      "source": [
        "# 방법1\n",
        "# 현재스크롤 높이로\n",
        "now_height = driver.execute_script(\"return document.body.scrollHeight\")\n",
        "\n",
        "while True:\n",
        "    # 스크롤 다운\n",
        "    driver.execute_script(\"window.scrollTo(0, document.body.scrollHeight);\")\n",
        "    # 2초 대기\n",
        "    time.sleep(2)\n",
        "\n",
        "    # 스크롤다운 1회 후 높이\n",
        "    new_height = driver.execute_script(\"return document.body.scrollHeight\")\n",
        "\n",
        "    # 스크롤 전, 후 높이가 같다면 끝내라\n",
        "    if new_height == now_height:\n",
        "        break\n",
        "    # 스크롤 전, 후 높이가 다르면 첫 높이 갱신\n",
        "    now_height = new_height"
      ],
      "metadata": {
        "id": "uds1AECkOrLf"
      },
      "execution_count": null,
      "outputs": []
    },
    {
      "cell_type": "code",
      "source": [
        " # 검색된 값의 수 비교로\n",
        "    driver.find_element(By.CSS_SELECTOR, \"#_pcmap_list_scroll_container\").click()\n",
        "    # 초기 검색된 개수\n",
        "    lis = driver.find_elements(By.CSS_SELECTOR, \"li.VLTHu.OW9LQ\")\n",
        "    before_len = len(lis)\n",
        "\n",
        "    while True:\n",
        "        # 스크롤 1회 다운\n",
        "        driver.find_element(By.CSS_SELECTOR, \"body\").send_keys(Keys.END)\n",
        "        time.sleep(1.5)\n",
        "\n",
        "        # 스크롤 다운 후 검색된 개수\n",
        "        lis = driver.find_elements(By.CSS_SELECTOR, \"li.VLTHu.OW9LQ\")\n",
        "        after_len = len(lis)\n",
        "\n",
        "        # 개수가 최대치로 같아지면 스크롤 다운 종료\n",
        "        if before_len == after_len:\n",
        "            break"
      ],
      "metadata": {
        "id": "MlGwLdZOtZEG"
      },
      "execution_count": null,
      "outputs": []
    },
    {
      "cell_type": "code",
      "source": [
        "# 방법 2 (마지막요소를 알때 마지막요소까지 스크롤링)\n",
        "from selenium.webdriver import ActionChains\n",
        "\n",
        "# id가 something 인 element\n",
        "some_tag = driver.find_element_by_id('something')\n",
        "\n",
        "# somthing element 까지 스크롤\n",
        "action = ActionChains(driver)\n",
        "action.move_to_element(some_tag).perform()"
      ],
      "metadata": {
        "id": "7UKSezEmKfxR"
      },
      "execution_count": null,
      "outputs": []
    },
    {
      "cell_type": "code",
      "source": [
        "# 스크롤 방법3\n",
        "# scrollelement를 찾아서 숫자만큼 스크롤이동 시킨다.\n",
        "scroll= driver.find_element(By.XPATH,'//*[@id=\"_pcmap_list_scroll_container\"]') \n",
        "driver.execute_script(\"arguments[0].scrollBy(0, arguments[0].숫자)\", scroll) # 숫자 = 스크롤 할 좌표, scrollHeight도 가능"
      ],
      "metadata": {
        "id": "Dail7q1iJ7ke"
      },
      "execution_count": null,
      "outputs": []
    },
    {
      "cell_type": "code",
      "source": [
        "# 스크롤 방법4\n",
        "# 스크롤이 있는 element 클릭\n",
        "scroll= driver.find_element(By.XPATH,'//*[@id=\"_pcmap_list_scroll_container\"]') \n",
        "scroll.click()\n",
        "driver.find_element(By.CSS_SELECTOR, \"body\").send_keys(Keys.END)"
      ],
      "metadata": {
        "id": "oKK6QSUIJ7cy"
      },
      "execution_count": null,
      "outputs": []
    },
    {
      "cell_type": "markdown",
      "source": [
        "**자동처리 드라이버**"
      ],
      "metadata": {
        "id": "OTJv0nfBrMkc"
      }
    },
    {
      "cell_type": "code",
      "source": [
        "pip install webdriver_manager"
      ],
      "metadata": {
        "id": "grqzMRScMsqN"
      },
      "execution_count": null,
      "outputs": []
    },
    {
      "cell_type": "code",
      "source": [
        "from selenium.webdriver.chrome.service import Service\n",
        "from webdriver_manager.chrome import ChromeDriverManager\n",
        "\n",
        "driver = webdriver.Chrome(service=Service(ChromeDriverManager().install()))"
      ],
      "metadata": {
        "id": "M3dZtih6Mq83"
      },
      "execution_count": null,
      "outputs": []
    },
    {
      "cell_type": "markdown",
      "source": [
        "**창 뜨지 않고 실행**"
      ],
      "metadata": {
        "id": "Hf8h40_wRJtj"
      }
    },
    {
      "cell_type": "code",
      "source": [
        "from selenium import webdriver\n",
        "\n",
        "options = webdriver.ChromeOptions()\n",
        "options.add_argument('headless')\n",
        "options.add_argument('--disable-gpu--')\n",
        "options.add_argument('lang=ko_KR')\n",
        "\n",
        "driver = webdriver.Chrome('경로', options=options)\n",
        "driver.get(url)\n",
        "driver.quit()"
      ],
      "metadata": {
        "id": "TgaWcvp3RJYr"
      },
      "execution_count": null,
      "outputs": []
    },
    {
      "cell_type": "markdown",
      "source": [
        "**각종 오류**\n"
      ],
      "metadata": {
        "id": "CgF-P3qFTSDa"
      }
    },
    {
      "cell_type": "markdown",
      "source": [
        "클릭 오류 1\n",
        "(ElementClickInterceptedException)\n",
        "- 브라우저가 선택하지 못하는 경우가 가끔 있음\n",
        "- 자바스크립트를 이용하면 클릭가능"
      ],
      "metadata": {
        "id": "bxSu24nkTVHk"
      }
    },
    {
      "cell_type": "code",
      "source": [
        "from selenium.webdriver import ActionChains\n",
        "\n",
        "element = driver.find_element(By.CSS_SELECTOR, '')\n",
        "driver.execute_script(\"arguments[0].click();\", element)\n",
        "\n",
        "element = driver.find_element(By.CSS_SELECTOR, '')\n",
        "webdriver.ActionChains(driver).move_to_element(element).click(element).perform()"
      ],
      "metadata": {
        "id": "bco_H5cFTT3k"
      },
      "execution_count": null,
      "outputs": []
    },
    {
      "cell_type": "markdown",
      "source": [
        "클릭 오류 2 (StaleElementReferenceException)\n",
        "- 이전에 존재하던 요소가 사라진 경우\n",
        "- iframe을 이동했는지 확인\n",
        "- time.sleep 적절한지 확인"
      ],
      "metadata": {
        "id": "q0TMtHREWc2_"
      }
    },
    {
      "cell_type": "markdown",
      "source": [
        "# 네이버 api"
      ],
      "metadata": {
        "id": "Y9vs1pmr1Fnr"
      }
    },
    {
      "cell_type": "markdown",
      "source": [
        "## [네이버 클라우드 플랫폼](https://www.ncloud.com/?language=ko-KR) Maps API 코드(Reverse Geocoding)"
      ],
      "metadata": {
        "id": "g0ksujxD1HAY"
      }
    },
    {
      "cell_type": "code",
      "source": [
        "import requests\n",
        "\n",
        "# 비밀키\n",
        "client_id = \"\"\n",
        "client_secret = \"\"\n",
        "\n",
        "# 주소 텍스트\n",
        "query = \"주소\"\n",
        "\n",
        "endpoint = \"https://naveropenapi.apigw.ntruss.com/map-geocode/v2/geocode\"\n",
        "url = f\"{endpoint}?query={query}\"\n",
        "\n",
        "# 헤더\n",
        "headers = {\n",
        "    \"X-NCP-APIGW-API-KEY-ID\": client_id,\n",
        "    \"X-NCP-APIGW-API-KEY\": client_secret,\n",
        "}\n",
        "\n",
        "# 요청\n",
        "res = requests.get(url, headers=headers)\n",
        "res.json()"
      ],
      "metadata": {
        "id": "gxcD4dQD1KAp"
      },
      "execution_count": null,
      "outputs": []
    },
    {
      "cell_type": "markdown",
      "source": [
        "## 네이버 Open AI 지역검색"
      ],
      "metadata": {
        "id": "2LhmuGVI1MF3"
      }
    },
    {
      "cell_type": "code",
      "source": [
        "import requests\n",
        "from urllib.parse import quote     # 한글 -> ASCII코드\n",
        "import pandas as pd                \n",
        "\n",
        "client_id = \"\"\n",
        "client_secret = \"\"\n",
        "\n",
        "headers = {\n",
        "   'X-Naver-Client-Id':  client_id,\n",
        "   'X-Naver-Client-Secret': client_secret\n",
        "}\n",
        "\n",
        "url = \"https://openapi.naver.com/v1/search/local.json\" # local을 blog나 shop등으로 변경하면 조회가능\n",
        "\n",
        "# 검색어 목록\n",
        "search =['서울 동물병원']\n",
        "\n",
        "# 검색어 마다 실행\n",
        "for query in search:\n",
        "    disp = '5'       # 출력개수(없어도됨)\n",
        "    start = '1'      # 시작번호(없어도됨)\n",
        "\n",
        "    params = {'query' : query,\n",
        "            'display' : disp,\n",
        "            'start' : start}\n",
        "\n",
        "    resp = requests.get(url, headers=headers, params=params)\n",
        "\n",
        "    if resp.status_code ==200:\n",
        "    print(resp.json().get('items'))\n",
        "\n",
        "\n",
        "    # 요청결과 저장\n",
        "    search_list = []\n",
        "\n",
        "    for i in range(5):\n",
        "        temp = []\n",
        "        temp.append(resp.json().get('items')[i]['title'])\n",
        "        temp.append(resp.json().get('items')[i]['category'])\n",
        "        temp.append(resp.json().get('items')[i]['address'].split()[0])\n",
        "        temp.append(resp.json().get('items')[i]['address'].split()[1])\n",
        "        temp.append(resp.json().get('items')[i]['mapx'])\n",
        "        temp.append(resp.json().get('items')[i]['mapy'])\n",
        "        temp.append(resp.json().get('items')[i]['link'])\n",
        "        search_list.append(temp)\n",
        "\n",
        "    # csv 저장\n",
        "    # 파일명 /'w'쓰기모드 / 한글인코딩 / 자동줄바꿈(두칸띄고 쓰는거) 하지않음\n",
        "    f = open(f'{query}.csv', 'w', encoding='utf-8-sig', newline='')\n",
        "    csvwriter = csv.writer(f)\n",
        "\n",
        "    # 컬럼명 입력\n",
        "    csvwriter.writerow(['이름','업종','시','행정구','mapx','mapy','링크주소'])\n",
        "    # 행 데이터 입력\n",
        "    for j in search_list: \n",
        "        csvwriter.writerow(j)\n",
        "\n",
        "    f.close()\n",
        "    \n",
        "    # 하나의 검색어 추출이 완료되면 표시\n",
        "    print(f'{query} 완료')"
      ],
      "metadata": {
        "id": "F9G-17NM1OE0"
      },
      "execution_count": null,
      "outputs": []
    }
  ],
  "metadata": {
    "kernelspec": {
      "display_name": "Python 3",
      "language": "python",
      "name": "python3"
    },
    "language_info": {
      "codemirror_mode": {
        "name": "ipython",
        "version": 3
      },
      "file_extension": ".py",
      "mimetype": "text/x-python",
      "name": "python",
      "nbconvert_exporter": "python",
      "pygments_lexer": "ipython3",
      "version": "3.10.8"
    },
    "orig_nbformat": 4,
    "colab": {
      "provenance": [],
      "include_colab_link": true
    }
  },
  "nbformat": 4,
  "nbformat_minor": 0
}
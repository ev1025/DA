{
  "nbformat": 4,
  "nbformat_minor": 0,
  "metadata": {
    "colab": {
      "provenance": [],
      "authorship_tag": "ABX9TyMoYUdyN0kQwX9xzuKftOK2",
      "include_colab_link": true
    },
    "kernelspec": {
      "name": "python3",
      "display_name": "Python 3"
    },
    "language_info": {
      "name": "python"
    }
  },
  "cells": [
    {
      "cell_type": "markdown",
      "metadata": {
        "id": "view-in-github",
        "colab_type": "text"
      },
      "source": [
        "<a href=\"https://colab.research.google.com/github/ev1025/DA_Study/blob/main/%EC%BD%94%EB%94%A9%ED%85%8C%EC%8A%A4%ED%8A%B8.ipynb\" target=\"_parent\"><img src=\"https://colab.research.google.com/assets/colab-badge.svg\" alt=\"Open In Colab\"/></a>"
      ]
    },
    {
      "cell_type": "markdown",
      "source": [
        "[LV.1](https://school.programmers.co.kr/learn/courses/30/lessons/164673) 조건에 부합하는 중고거래 댓글 조회하기 "
      ],
      "metadata": {
        "id": "sqYutUp4PIXN"
      }
    },
    {
      "cell_type": "code",
      "execution_count": null,
      "metadata": {
        "id": "8aDJN5doO--7"
      },
      "outputs": [],
      "source": [
        "SELECT B.TITLE, B.BOARD_ID, R.REPLY_ID, R.WRITER_ID, R.CONTENTS, DATE_FORMAT(R.CREATED_DATE, '%Y-%m-%d') AS CREATED_DATE\n",
        "FROM USED_GOODS_BOARD B JOIN USED_GOODS_REPLY R\n",
        "ON B.BOARD_ID = R.BOARD_ID\n",
        "WHERE DATE_FORMAT(B.CREATED_DATE, '%Y-%m') = '2022-10'\n",
        "ORDER BY R.CREATED_DATE ASC, B.TITLE ASC;"
      ]
    }
  ]
}
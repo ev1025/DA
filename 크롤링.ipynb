{
  "nbformat": 4,
  "nbformat_minor": 0,
  "metadata": {
    "colab": {
      "provenance": [],
      "authorship_tag": "ABX9TyObayFkyAcMTZQ1Qot0gJnT",
      "include_colab_link": true
    },
    "kernelspec": {
      "name": "python3",
      "display_name": "Python 3"
    },
    "language_info": {
      "name": "python"
    }
  },
  "cells": [
    {
      "cell_type": "markdown",
      "metadata": {
        "id": "view-in-github",
        "colab_type": "text"
      },
      "source": [
        "<a href=\"https://colab.research.google.com/github/ev1025/DA_Study/blob/main/%ED%81%AC%EB%A1%A4%EB%A7%81.ipynb\" target=\"_parent\"><img src=\"https://colab.research.google.com/assets/colab-badge.svg\" alt=\"Open In Colab\"/></a>"
      ]
    },
    {
      "cell_type": "code",
      "execution_count": null,
      "metadata": {
        "id": "VBqFu9pmg4Vw"
      },
      "outputs": [],
      "source": [
        "pip install selenium"
      ]
    },
    {
      "cell_type": "code",
      "source": [
        "pip install BeautifulSoup"
      ],
      "metadata": {
        "id": "AGyQLEz-hBal"
      },
      "execution_count": null,
      "outputs": []
    },
    {
      "cell_type": "code",
      "source": [
        "from selenium import webdriver\n",
        "from selenium.webdriver.common.keys import Keys\n",
        "from selenium.webdriver.common.by import By\n",
        "import time\n",
        "from bs4 import BeautifulSoup"
      ],
      "metadata": {
        "id": "kbCWH_Q4g9Tu"
      },
      "execution_count": null,
      "outputs": []
    },
    {
      "cell_type": "markdown",
      "source": [
        "[크롬 드라이버](https://chromedriver.chromium.org/downloads)"
      ],
      "metadata": {
        "id": "uKRcLwgthmiq"
      }
    },
    {
      "cell_type": "code",
      "source": [
        "# 나의 웹드라이버의 위치(설정-도움말-버전에서 확인 후 최신 드라이버 사용)\n",
        "driver = webdriver.Chrome(\"C:/Users/eg287/chromedriver\")\n",
        "\n",
        " # 사용할 웹사이트 주소\n",
        "driver.get(\"https://map.naver.com/v5/search\")           "
      ],
      "metadata": {
        "id": "6UI-PWFzhULl"
      },
      "execution_count": null,
      "outputs": []
    },
    {
      "cell_type": "code",
      "source": [
        "# 팝업 창 제거\n",
        "# driver.find_element(By.CSS_SELECTOR, \"button#intro_popup_close\").click()"
      ],
      "metadata": {
        "id": "4OkMlyukhb6j"
      },
      "execution_count": null,
      "outputs": []
    },
    {
      "cell_type": "code",
      "source": [
        "# 검색창에 검색어 입력\n",
        "search_box = driver.find_element(By.CSS_SELECTOR, \"div.input_box>input.input_search\")\n",
        "search_box.send_keys(\"동물 미용실\")\n",
        "\n",
        "time.sleep(3)\n",
        "\n",
        "# 검색 버튼 누르기\n",
        "search_box.send_keys(Keys.ENTER)"
      ],
      "metadata": {
        "id": "VzzwFKMPhciT"
      },
      "execution_count": null,
      "outputs": []
    }
  ]
}
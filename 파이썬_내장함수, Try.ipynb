{
  "nbformat": 4,
  "nbformat_minor": 0,
  "metadata": {
    "colab": {
      "provenance": [],
      "collapsed_sections": [
        "pVTt_Fc83bgk",
        "IFYWE7WUaNx4",
        "9WNL69L242Rb",
        "oH27nGvSFtCR",
        "HOy4FFtt7L6-",
        "zhgjTBEGh5i-",
        "Qy_o6myBnv2G",
        "mAjTNJ11rzrY",
        "aTXNxRRbmBmr",
        "4CYnkgur9HBW",
        "xaY6cz2VVUuA",
        "FHKBI7WNeqvj",
        "eO0TxVnV_BdQ",
        "ih6aZ7LDVhSb",
        "at3E6tuKLl-c",
        "KsI3ArJcJbDq",
        "kYO6Q-vwLp-7",
        "-i7x5QRRx3w-",
        "Kutety7EXlm3",
        "QVegzGreXnF9",
        "iDvuuEth3_Ui",
        "7GYH9ny08peP",
        "xJKNWSQOt-Mq",
        "ssGHws4-pUod",
        "Xq4B6OCAXH0D",
        "GlQsYP2AW_Ze",
        "XmuObmEDXJ9U"
      ],
      "authorship_tag": "ABX9TyPzHrBtwS+EqspqMBfVK0OJ",
      "include_colab_link": true
    },
    "kernelspec": {
      "name": "python3",
      "display_name": "Python 3"
    },
    "language_info": {
      "name": "python"
    }
  },
  "cells": [
    {
      "cell_type": "markdown",
      "metadata": {
        "id": "view-in-github",
        "colab_type": "text"
      },
      "source": [
        "<a href=\"https://colab.research.google.com/github/ev1025/DA/blob/main/%ED%8C%8C%EC%9D%B4%EC%8D%AC%EB%82%B4%EC%9E%A5%ED%95%A8%EC%88%98%2C%20Try.ipynb\" target=\"_parent\"><img src=\"https://colab.research.google.com/assets/colab-badge.svg\" alt=\"Open In Colab\"/></a>"
      ]
    },
    {
      "cell_type": "markdown",
      "source": [
        "# 파이썬 내장함수"
      ],
      "metadata": {
        "id": "ox3iYOaP3Zjr"
      }
    },
    {
      "cell_type": "markdown",
      "source": [
        "### Map함수\n",
        "- 함수를 iterator에 적용한다.\n",
        "- 출력 시에 list 사용\n",
        "- map(함수, 적용할 iterator)"
      ],
      "metadata": {
        "id": "pVTt_Fc83bgk"
      }
    },
    {
      "cell_type": "code",
      "execution_count": null,
      "metadata": {
        "colab": {
          "base_uri": "https://localhost:8080/"
        },
        "id": "rtvqwPPb3DaX",
        "outputId": "2e68095a-77c4-4a29-9515-1ce2daac7c34"
      },
      "outputs": [
        {
          "output_type": "stream",
          "name": "stdout",
          "text": [
            "lambda : [1, 4, 9, 16, 25]\n",
            "type : ['1', '2', '3', '4', '5']\n"
          ]
        }
      ],
      "source": [
        "iterator = [1,2,3,4,5]\n",
        "\n",
        "# 함수 적용\n",
        "mapping = map(lambda x: x**2, iterator)\n",
        "print(f\"lambda : {list(mapping)}\")\n",
        "\n",
        "# 타입 적용\n",
        "mapping2= map(str, iterator)\n",
        "print(f\"type : {list(mapping2)}\")"
      ]
    },
    {
      "cell_type": "markdown",
      "source": [
        "### reduce함수\n",
        "- reduce(함수, iterator)\n",
        "- 함수에는 두 element를 연산하는 로직을 넣어야한다."
      ],
      "metadata": {
        "id": "IFYWE7WUaNx4"
      }
    },
    {
      "cell_type": "code",
      "source": [
        "from functools import reduce\n",
        "\n",
        "def SumFunction(x, y):\n",
        "    return x + y\n",
        "    \n",
        "target = list(range(1,10))\n",
        "reduce(SumFunction, target)"
      ],
      "metadata": {
        "colab": {
          "base_uri": "https://localhost:8080/"
        },
        "id": "OMv6ruGxacS5",
        "outputId": "8600ae3d-9e3a-40eb-ba44-50c5a79f8b9d"
      },
      "execution_count": null,
      "outputs": [
        {
          "output_type": "execute_result",
          "data": {
            "text/plain": [
              "45"
            ]
          },
          "metadata": {},
          "execution_count": 130
        }
      ]
    },
    {
      "cell_type": "code",
      "source": [
        "reduce(lambda x,y : x+y, target)"
      ],
      "metadata": {
        "colab": {
          "base_uri": "https://localhost:8080/"
        },
        "id": "2wYu1lSucL8Z",
        "outputId": "b276eeaf-f0f4-45e3-9f65-0658fe46dd6a"
      },
      "execution_count": null,
      "outputs": [
        {
          "output_type": "execute_result",
          "data": {
            "text/plain": [
              "45"
            ]
          },
          "metadata": {},
          "execution_count": 129
        }
      ]
    },
    {
      "cell_type": "code",
      "source": [
        "# comprehension으로 하는 법\n",
        "import numpy as np\n",
        "print(np.sum([x for x in range(1,10)]))"
      ],
      "metadata": {
        "colab": {
          "base_uri": "https://localhost:8080/"
        },
        "id": "LKFMT-5dbq-V",
        "outputId": "c177ff2f-2add-469d-aded-2b2b1118255f"
      },
      "execution_count": null,
      "outputs": [
        {
          "output_type": "stream",
          "name": "stdout",
          "text": [
            "45\n"
          ]
        }
      ]
    },
    {
      "cell_type": "markdown",
      "source": [
        "### Filter함수\n",
        "- 조건(함수)가 참인 iterator만 출력\n",
        "- 출력 시 list 사용\n",
        "- filter(함수, iterator)"
      ],
      "metadata": {
        "id": "9WNL69L242Rb"
      }
    },
    {
      "cell_type": "code",
      "source": [
        "iterator = [1,2,3,4,5]\n",
        "\n",
        "def 짝수(x):\n",
        "    iterators = True if x%2 ==0 else False\n",
        "    return iterators  \n",
        "\n",
        "filtering = filter(짝수,iterator)\n",
        "\n",
        "print(list(filtering))"
      ],
      "metadata": {
        "colab": {
          "base_uri": "https://localhost:8080/"
        },
        "id": "_vWXCkY24Rqw",
        "outputId": "51f1acfd-21f8-4eb3-c3fe-ea86d38f5abf"
      },
      "execution_count": null,
      "outputs": [
        {
          "output_type": "stream",
          "name": "stdout",
          "text": [
            "[2, 4]\n"
          ]
        }
      ]
    },
    {
      "cell_type": "code",
      "source": [
        "iterator = [1,2,3,4,5]\n",
        "\n",
        "filtering = filter(lambda x : x%2==0, iterator)\n",
        "print(list(filtering))"
      ],
      "metadata": {
        "colab": {
          "base_uri": "https://localhost:8080/"
        },
        "id": "q0rKFb1e77jT",
        "outputId": "90eaba29-1ccf-4afe-fecf-49900cac3f13"
      },
      "execution_count": null,
      "outputs": [
        {
          "output_type": "stream",
          "name": "stdout",
          "text": [
            "[2, 4]\n"
          ]
        }
      ]
    },
    {
      "cell_type": "markdown",
      "source": [
        "### zip\n",
        "- zip(iterator1, iterator2, iterator3...)\n",
        "- 여러개의 iterator를 묶어준다.\n",
        "- list로 프린트시 [튜플,튜플...]형태,  dict로 프린트시 dict형태\n",
        "- 원소의 개수가 맞지 않을 경우, 적은 개수에 맞춤\n",
        "- 가변인자를 받기 때문에 여러 iterator를 병렬처리 할 수 있다.\n",
        "* 가변인자(*args) : 개수가 여러개인 인자(\"a\"처럼 1개가 아닌 \"abcdsf\"처럼 여러개의 인자)"
      ],
      "metadata": {
        "id": "oH27nGvSFtCR"
      }
    },
    {
      "cell_type": "code",
      "source": [
        "a = {1:2, 2:3, 3:4, 4:5} # 개수가 맞지 않아서 4:5는 제외\n",
        "b = (\"A\", \"B\", \"C\")\n",
        "result = list(zip(a, b))\n",
        "print(result)"
      ],
      "metadata": {
        "colab": {
          "base_uri": "https://localhost:8080/"
        },
        "id": "bnJ2Rna6Ftxk",
        "outputId": "8eecd9da-4158-4091-c007-9f809e94cb81"
      },
      "execution_count": null,
      "outputs": [
        {
          "output_type": "stream",
          "name": "stdout",
          "text": [
            "[(1, 'A'), (2, 'B'), (3, 'C')]\n"
          ]
        }
      ]
    },
    {
      "cell_type": "code",
      "source": [
        "# 언패킹 zip(*) => 튜플로 나옴\n",
        "c, d = zip(*result)\n",
        "print(c)\n",
        "print(d)"
      ],
      "metadata": {
        "colab": {
          "base_uri": "https://localhost:8080/"
        },
        "id": "AzrlczWeGVhA",
        "outputId": "917ee1d3-b932-4ad2-aa36-639a1a8cc65d"
      },
      "execution_count": null,
      "outputs": [
        {
          "output_type": "stream",
          "name": "stdout",
          "text": [
            "(1, 2, 3)\n",
            "('A', 'B', 'C')\n"
          ]
        }
      ]
    },
    {
      "cell_type": "code",
      "source": [
        "# dict 만들기\n",
        "e = [1, 2, 3]\n",
        "f = [\"A\", \"B\", \"C\"]\n",
        "mkdict = dict(zip(e,f))\n",
        "print(mkdict)"
      ],
      "metadata": {
        "colab": {
          "base_uri": "https://localhost:8080/"
        },
        "id": "W-dHu4KjHk7v",
        "outputId": "9b6d96e5-9c06-44dc-d19c-dc6d0bd451bd"
      },
      "execution_count": null,
      "outputs": [
        {
          "output_type": "stream",
          "name": "stdout",
          "text": [
            "{1: 'A', 2: 'B', 3: 'C'}\n"
          ]
        }
      ]
    },
    {
      "cell_type": "markdown",
      "source": [
        "### 추가 함수"
      ],
      "metadata": {
        "id": "HOy4FFtt7L6-"
      }
    },
    {
      "cell_type": "markdown",
      "source": [
        "append('요소' 또는 iterator) : iterator를 형태 그대로 추가"
      ],
      "metadata": {
        "id": "rfgE9Wlana1f"
      }
    },
    {
      "cell_type": "code",
      "source": [
        "# append ( a[len(a):] = [x] )\n",
        "a = [1,2,3]\n",
        "a.append('a')\n",
        "a.append({'b':'c'})\n",
        "print(a)"
      ],
      "metadata": {
        "colab": {
          "base_uri": "https://localhost:8080/"
        },
        "id": "_iFV4yt67vnF",
        "outputId": "958307fc-4774-44b5-8ffa-ae5073be6c4a"
      },
      "execution_count": null,
      "outputs": [
        {
          "output_type": "stream",
          "name": "stdout",
          "text": [
            "[1, 2, 3, 'a', {'b': 'c'}]\n"
          ]
        }
      ]
    },
    {
      "cell_type": "markdown",
      "source": [
        "extend('요소' 또는 iterator) : 요소, iterator모두 요소별로 추가 "
      ],
      "metadata": {
        "id": "AwObkENtnfDq"
      }
    },
    {
      "cell_type": "code",
      "source": [
        "# extend ( a[len(a):] = iterable )\n",
        "a = [1,2,3]\n",
        "a.extend(('a','b'))\n",
        "print(a)"
      ],
      "metadata": {
        "colab": {
          "base_uri": "https://localhost:8080/"
        },
        "id": "N-JmAw-b8Ofm",
        "outputId": "8abbcb36-1fa6-4f9c-ca7d-cb906e0320e3"
      },
      "execution_count": null,
      "outputs": [
        {
          "output_type": "stream",
          "name": "stdout",
          "text": [
            "[1, 2, 3, 'a', 'b']\n"
          ]
        }
      ]
    },
    {
      "cell_type": "markdown",
      "source": [
        "insert(인덱스, '요소' 또는 iterator) : 원하는 인덱스에 요소나 iterator 추가"
      ],
      "metadata": {
        "id": "ccNxACswnhoW"
      }
    },
    {
      "cell_type": "code",
      "source": [
        "# insert\n",
        "a = [1,2,3]\n",
        "a.insert(1,('a','b'))\n",
        "print(a)"
      ],
      "metadata": {
        "colab": {
          "base_uri": "https://localhost:8080/"
        },
        "id": "L_9cnjNy8oW4",
        "outputId": "7fb6c811-71b1-405b-9a76-65b7eeb332e6"
      },
      "execution_count": null,
      "outputs": [
        {
          "output_type": "stream",
          "name": "stdout",
          "text": [
            "[1, ('a', 'b'), 2, 3]\n"
          ]
        }
      ]
    },
    {
      "cell_type": "markdown",
      "source": [
        "### 제거함수"
      ],
      "metadata": {
        "id": "zhgjTBEGh5i-"
      }
    },
    {
      "cell_type": "markdown",
      "source": [
        "**리스트.remove(x)**\n",
        "- 리스트에서 x를 삭제, 존재하지않으면 ValueError를 일으킴"
      ],
      "metadata": {
        "id": "sLucbt5ih_ao"
      }
    },
    {
      "cell_type": "code",
      "source": [
        "list1 = ['a', 11, 12, 43, 4, 6]\n",
        "list1.remove('a')\n",
        "print(list1)"
      ],
      "metadata": {
        "colab": {
          "base_uri": "https://localhost:8080/"
        },
        "id": "I7vaQOpsh-cE",
        "outputId": "8da36833-4cec-4227-80d2-b43dd3708fbb"
      },
      "execution_count": null,
      "outputs": [
        {
          "output_type": "stream",
          "name": "stdout",
          "text": [
            "[11, 12, 43, 4, 6]\n"
          ]
        }
      ]
    },
    {
      "cell_type": "markdown",
      "source": [
        "**리스트.pop(i)**\n",
        "- 리스트에서 인덱스에 맞는 값을 출력 후 제거\n",
        "- 인덱스를 지정하지 않으면 맨 뒤에 값을 선택"
      ],
      "metadata": {
        "id": "FuJYLq3gi772"
      }
    },
    {
      "cell_type": "code",
      "source": [
        "list2 = ['a', 11, 12, 43, 4, 6]\n",
        "a = list2.pop(0)\n",
        "\n",
        "print(list2)\n",
        "print(a)"
      ],
      "metadata": {
        "colab": {
          "base_uri": "https://localhost:8080/"
        },
        "id": "qiBqRm_Ah-K0",
        "outputId": "28c870ae-d361-44e3-853d-764d4990d833"
      },
      "execution_count": null,
      "outputs": [
        {
          "output_type": "stream",
          "name": "stdout",
          "text": [
            "[11, 12, 43, 4, 6]\n",
            "a\n"
          ]
        }
      ]
    },
    {
      "cell_type": "markdown",
      "source": [
        "**del 리스트[인덱스]**\n",
        "- 리스트에서 인덱스를 사용하여 값을 제거"
      ],
      "metadata": {
        "id": "KnEKCSA9jo1M"
      }
    },
    {
      "cell_type": "code",
      "source": [
        "a = [-1, 1, 66.25, 333, 333, 1234.5]\n",
        "\n",
        "del a[0]\n",
        "print(a)\n",
        "\n",
        "del a[0:2]\n",
        "a"
      ],
      "metadata": {
        "colab": {
          "base_uri": "https://localhost:8080/"
        },
        "id": "5CKsa1t_h89q",
        "outputId": "4ea11cf9-fc40-41a3-afe3-887ffe1227e7"
      },
      "execution_count": null,
      "outputs": [
        {
          "output_type": "stream",
          "name": "stdout",
          "text": [
            "[1, 66.25, 333, 333, 1234.5]\n"
          ]
        },
        {
          "output_type": "execute_result",
          "data": {
            "text/plain": [
              "[333, 333, 1234.5]"
            ]
          },
          "metadata": {},
          "execution_count": 165
        }
      ]
    },
    {
      "cell_type": "code",
      "source": [
        "del a[:]\n",
        "a"
      ],
      "metadata": {
        "colab": {
          "base_uri": "https://localhost:8080/"
        },
        "id": "kW5Jb1Simjsx",
        "outputId": "223d9692-d599-47ae-af1a-32e6ad51eb19"
      },
      "execution_count": null,
      "outputs": [
        {
          "output_type": "execute_result",
          "data": {
            "text/plain": [
              "[]"
            ]
          },
          "metadata": {},
          "execution_count": 175
        }
      ]
    },
    {
      "cell_type": "code",
      "source": [
        "# 리스트 자체를 없애버릴 수 있음\n",
        "del a\n",
        "a"
      ],
      "metadata": {
        "colab": {
          "base_uri": "https://localhost:8080/",
          "height": 201
        },
        "id": "56TlxLaykTDs",
        "outputId": "9f4455a4-5e4d-4723-bed9-4a0b3dba7fb0"
      },
      "execution_count": null,
      "outputs": [
        {
          "output_type": "error",
          "ename": "NameError",
          "evalue": "ignored",
          "traceback": [
            "\u001b[0;31m---------------------------------------------------------------------------\u001b[0m",
            "\u001b[0;31mNameError\u001b[0m                                 Traceback (most recent call last)",
            "\u001b[0;32m<ipython-input-176-7b8a16fae866>\u001b[0m in \u001b[0;36m<module>\u001b[0;34m\u001b[0m\n\u001b[1;32m      1\u001b[0m \u001b[0;31m# 리스트 자체를 없애버릴 수 있음\u001b[0m\u001b[0;34m\u001b[0m\u001b[0;34m\u001b[0m\u001b[0;34m\u001b[0m\u001b[0m\n\u001b[1;32m      2\u001b[0m \u001b[0;32mdel\u001b[0m \u001b[0ma\u001b[0m\u001b[0;34m\u001b[0m\u001b[0;34m\u001b[0m\u001b[0m\n\u001b[0;32m----> 3\u001b[0;31m \u001b[0ma\u001b[0m\u001b[0;34m\u001b[0m\u001b[0;34m\u001b[0m\u001b[0m\n\u001b[0m",
            "\u001b[0;31mNameError\u001b[0m: name 'a' is not defined"
          ]
        }
      ]
    },
    {
      "cell_type": "markdown",
      "source": [
        "**리스트.clear()**\n",
        "- 리스트 안의 값을 모두 제거\n",
        "- del a[:]와 같음 => []는 남김"
      ],
      "metadata": {
        "id": "VBnCXMHgmUtf"
      }
    },
    {
      "cell_type": "code",
      "source": [
        "a = [-1, 1, 66.25, 333, 333, 1234.5]\n",
        "a.clear()\n",
        "a"
      ],
      "metadata": {
        "colab": {
          "base_uri": "https://localhost:8080/"
        },
        "id": "sKoqKNnkmOYH",
        "outputId": "6d0628ea-7961-424f-a406-f175df89d13f"
      },
      "execution_count": null,
      "outputs": [
        {
          "output_type": "execute_result",
          "data": {
            "text/plain": [
              "[]"
            ]
          },
          "metadata": {},
          "execution_count": 177
        }
      ]
    },
    {
      "cell_type": "markdown",
      "source": [
        "### count\n",
        "- 리스트.count('x') : 리스트에 등장하는 횟수를 돌려줌\n"
      ],
      "metadata": {
        "id": "Qy_o6myBnv2G"
      }
    },
    {
      "cell_type": "code",
      "source": [
        "my_list = ['xyz', 'XYZ' 'abc', 'ABC']\n",
        "print(my_list.count( 'xyz' ))"
      ],
      "metadata": {
        "colab": {
          "base_uri": "https://localhost:8080/"
        },
        "id": "Q8YyKizFnvgj",
        "outputId": "0785d6cb-cda6-41f9-9db7-8f663e97616e"
      },
      "execution_count": null,
      "outputs": [
        {
          "output_type": "stream",
          "name": "stdout",
          "text": [
            "1\n"
          ]
        }
      ]
    },
    {
      "cell_type": "markdown",
      "source": [
        "### find"
      ],
      "metadata": {
        "id": "mAjTNJ11rzrY"
      }
    },
    {
      "cell_type": "markdown",
      "source": [
        "- 문자열.find('x', start, end)\n",
        "- 문자열에서 x의 인덱스를 찾아줌\n",
        "- x가 존재하지 않으면 -1 출력"
      ],
      "metadata": {
        "id": "ZxLS_7Q8r-go"
      }
    },
    {
      "cell_type": "code",
      "source": [
        "a = '1,1,3,4'\n",
        "a.find('3')"
      ],
      "metadata": {
        "colab": {
          "base_uri": "https://localhost:8080/"
        },
        "id": "8-DMM2NGrzAJ",
        "outputId": "65ac82ee-d083-474f-91a0-7eb45c884740"
      },
      "execution_count": null,
      "outputs": [
        {
          "output_type": "execute_result",
          "data": {
            "text/plain": [
              "4"
            ]
          },
          "metadata": {},
          "execution_count": 6
        }
      ]
    },
    {
      "cell_type": "markdown",
      "source": [
        "### index\n",
        "- 리스트.index('x', start, end) \n",
        "- 리스트, 문자열,튜플\n",
        "- x가 있는 인덱스 찾아주기\n",
        "- 없으면 ValueError, 제일 첫번째 값의 인덱스만 찾아줌"
      ],
      "metadata": {
        "id": "9_BN8pQwoFPc"
      }
    },
    {
      "cell_type": "code",
      "source": [
        "a = [1,1,3,4]\n",
        "a.index(1)"
      ],
      "metadata": {
        "colab": {
          "base_uri": "https://localhost:8080/"
        },
        "id": "R3981nAOodDX",
        "outputId": "0b0d5f26-f060-4d2d-f30c-6a47ef18454e"
      },
      "execution_count": null,
      "outputs": [
        {
          "output_type": "execute_result",
          "data": {
            "text/plain": [
              "0"
            ]
          },
          "metadata": {},
          "execution_count": 199
        }
      ]
    },
    {
      "cell_type": "code",
      "source": [
        "b = [1,2,1,4]\n",
        "b.index(1, 1, 3)"
      ],
      "metadata": {
        "colab": {
          "base_uri": "https://localhost:8080/"
        },
        "id": "xjRQs5hpqNmP",
        "outputId": "d8e7820c-ed18-41b1-b2d9-4a7414f6e44f"
      },
      "execution_count": null,
      "outputs": [
        {
          "output_type": "execute_result",
          "data": {
            "text/plain": [
              "2"
            ]
          },
          "metadata": {},
          "execution_count": 202
        }
      ]
    },
    {
      "cell_type": "markdown",
      "source": [
        "### enumerate"
      ],
      "metadata": {
        "id": "Oppzj6JAWOh9"
      }
    },
    {
      "cell_type": "code",
      "source": [
        "fla_list = ['A', 'B', 'C', 'D']\n",
        "enu_list = enumerate(fla_list)\n",
        "print(enu_list)\n",
        "print(next(enu_list))\n",
        "print(next(enu_list))\n",
        "print('\\n')\n",
        "\n",
        "# enumerate는 인덱스와 값을 함께 출력해주기 때문에 상황에 따라 다양하게 활용해볼 수 있다.\n",
        "for i, enu_list in enumerate(fla_list):\n",
        "    print(f'{i+1}: {enu_list}')"
      ],
      "metadata": {
        "colab": {
          "base_uri": "https://localhost:8080/"
        },
        "id": "hxa4gVzoWRQB",
        "outputId": "a9e7568b-ce10-4952-8b7f-cd3b85e43b6e"
      },
      "execution_count": null,
      "outputs": [
        {
          "output_type": "stream",
          "name": "stdout",
          "text": [
            "<enumerate object at 0x7fc00e8c2f40>\n",
            "(0, 'A')\n",
            "(1, 'B')\n",
            "\n",
            "\n",
            "1: A\n",
            "2: B\n",
            "3: C\n",
            "4: D\n"
          ]
        }
      ]
    },
    {
      "cell_type": "markdown",
      "source": [
        "### isalnum"
      ],
      "metadata": {
        "id": "0fVX-2vkftNw"
      }
    },
    {
      "cell_type": "code",
      "source": [
        "print(f'영문이나 숫자인가? {\"abcㅁㅊㅊ123\".isalnum()}')\n",
        "print(f'영문이나 숫자인가? {\"12!ad#\".isalnum()}')"
      ],
      "metadata": {
        "colab": {
          "base_uri": "https://localhost:8080/"
        },
        "id": "aFeg8dF6fxOE",
        "outputId": "7f017ab5-637e-4953-a05c-847ab7f39b2d"
      },
      "execution_count": null,
      "outputs": [
        {
          "output_type": "stream",
          "name": "stdout",
          "text": [
            "영문이나 숫자인가? True\n",
            "영문이나 숫자인가? False\n"
          ]
        }
      ]
    },
    {
      "cell_type": "markdown",
      "source": [
        "### collections Counter(문자열 문자 개수)"
      ],
      "metadata": {
        "id": "cmGqEJKF7sF_"
      }
    },
    {
      "cell_type": "code",
      "source": [
        "from collections import Counter\n",
        "a = 'hellow wolrd'\n",
        "print(Counter(a))\n",
        "print(Counter(a)['l'])"
      ],
      "metadata": {
        "colab": {
          "base_uri": "https://localhost:8080/"
        },
        "id": "tsSSsM8J7vah",
        "outputId": "1688ecb9-6412-41e3-c65f-0dcc5355546b"
      },
      "execution_count": null,
      "outputs": [
        {
          "output_type": "stream",
          "name": "stdout",
          "text": [
            "Counter({'l': 3, 'o': 2, 'w': 2, 'h': 1, 'e': 1, ' ': 1, 'r': 1, 'd': 1})\n",
            "3\n"
          ]
        }
      ]
    },
    {
      "cell_type": "markdown",
      "source": [
        "### list comprehension"
      ],
      "metadata": {
        "id": "aTXNxRRbmBmr"
      }
    },
    {
      "cell_type": "code",
      "source": [
        "# 2번 엮기\n",
        "matrix = [\n",
        "    [1, 2, 3, 4],\n",
        "    [5, 6, 7, 8],\n",
        "    [9, 10, 11, 12],\n",
        "]\n",
        "\n",
        "[[row[i] for row in matrix]for i in range(4)]"
      ],
      "metadata": {
        "colab": {
          "base_uri": "https://localhost:8080/"
        },
        "id": "csOQf9MxlG2m",
        "outputId": "c6d9cc34-214a-4080-fb5a-34f00a4ebd3a"
      },
      "execution_count": null,
      "outputs": [
        {
          "output_type": "execute_result",
          "data": {
            "text/plain": [
              "[[1, 5, 9], [2, 6, 10], [3, 7, 11], [4, 8, 12]]"
            ]
          },
          "metadata": {},
          "execution_count": 171
        }
      ]
    },
    {
      "cell_type": "markdown",
      "source": [
        "### upper, lower\n",
        "- 소문자, 대문자로 바꿔줌\n",
        "- 문자열.upper()  / 문자열.lower()\n",
        "- 문자열.isupper() : 대문자면 True, 아니면 False 반환\n",
        "- 문자열.islower() : 소문자면 True, 아니면 False 반환"
      ],
      "metadata": {
        "id": "4CYnkgur9HBW"
      }
    },
    {
      "cell_type": "code",
      "source": [
        "print(f\"ABC는 대문자이다 = {'ABC'.isupper()}\")\n",
        "print(f\"Abc는 대문자이다 = {'Abc'.isupper()}\")"
      ],
      "metadata": {
        "colab": {
          "base_uri": "https://localhost:8080/"
        },
        "id": "d6yqvzBv-HQF",
        "outputId": "dac91e4e-a30e-4ee8-bd8e-630a88599669"
      },
      "execution_count": null,
      "outputs": [
        {
          "output_type": "stream",
          "name": "stdout",
          "text": [
            "ABC는 대문자이다 = True\n",
            "Abc는 대문자이다 = False\n"
          ]
        }
      ]
    },
    {
      "cell_type": "markdown",
      "source": [
        "### ord(), chr()\n",
        "- ord('문자') : 문자를 아스키코드 숫자로 바꿔줌\n",
        "- chr('숫자') : 숫자를 아스키코드 문자로 바꿔줌"
      ],
      "metadata": {
        "id": "xaY6cz2VVUuA"
      }
    },
    {
      "cell_type": "code",
      "source": [
        "print(ord('A'))\n",
        "print(chr(65))"
      ],
      "metadata": {
        "colab": {
          "base_uri": "https://localhost:8080/"
        },
        "id": "gdgnkSb6XKbB",
        "outputId": "8e38ba1e-3fe4-4497-cc74-716605b77cfd"
      },
      "execution_count": null,
      "outputs": [
        {
          "output_type": "stream",
          "name": "stdout",
          "text": [
            "65\n",
            "A\n"
          ]
        }
      ]
    },
    {
      "cell_type": "code",
      "source": [
        "# X가 B,C,D,E,F 사이에 있는 값인지 확인하고 싶을 때\n",
        "X = ord('D')\n",
        "\n",
        "if X >= ord('B') and X <=ord('F'):\n",
        "    print('포함한다') \n",
        "else:\n",
        "    print('포함하지 않는다.')"
      ],
      "metadata": {
        "colab": {
          "base_uri": "https://localhost:8080/"
        },
        "id": "huYxiNB_VUUd",
        "outputId": "5f37b40b-33b1-452d-e422-55cabd96ea1a"
      },
      "execution_count": null,
      "outputs": [
        {
          "output_type": "stream",
          "name": "stdout",
          "text": [
            "포함한다\n"
          ]
        }
      ]
    },
    {
      "cell_type": "code",
      "source": [
        "class Human:\n",
        "    def __init__(self, name, age):\n",
        "        self.name = name\n",
        "        self.age = age\n",
        "humans = [\n",
        "    Human(\"Abi\", 29),\n",
        "    Human(\"Batista\", 32),\n",
        "    Human(\"Charlse\", 37),\n",
        "    Human(\"Dolphine\", 30),\n",
        "    Human(\"Eva\", 26),\n",
        "    Human(\"Frin\", 18),\n",
        "    Human(\"Gless\", 42),\n",
        "    Human(\"Harby\", 12),\n",
        "    Human(\"Iris\", 41),\n",
        "    Human(\"David\", 31),\n",
        "]\n",
        "\n",
        "# 첫 글자가 [C,D,E,F,G]에 포함되는지\n",
        "def quesion3():\n",
        "    a = [humans[i].name for i in range(len(humans)) for j in ['C','D','E','F','G'] if humans[i].name[0]==j]\n",
        "    b = list(filter(lambda x: x.startswith((\"C\", \"D\", \"E\", \"F\", \"G\")), [h.name for h in humans]))\n",
        "    c = [human.name for human in humans if ord(human.name[0])>=ord('C') and ord(human.name[0]) <=ord('G')]\n",
        "\n",
        "    print(a)\n",
        "    print(b)\n",
        "    print(c)\n",
        "quesion3()"
      ],
      "metadata": {
        "colab": {
          "base_uri": "https://localhost:8080/"
        },
        "id": "P_tpLZUDXia0",
        "outputId": "282ca7ca-02c6-439f-f94b-808bf8e9836a"
      },
      "execution_count": null,
      "outputs": [
        {
          "output_type": "stream",
          "name": "stdout",
          "text": [
            "['Charlse', 'Dolphine', 'Eva', 'Frin', 'Gless', 'David']\n",
            "['Charlse', 'Dolphine', 'Eva', 'Frin', 'Gless', 'David']\n",
            "['Charlse', 'Dolphine', 'Eva', 'Frin', 'Gless', 'David']\n"
          ]
        }
      ]
    },
    {
      "cell_type": "markdown",
      "source": [
        "### operator 모듈 함수\n",
        "- 키함수에 적용하는 함수, 다중 선택 가능\n",
        "- itemgetter : iterator의 인덱스를 기준으로 정렬\n",
        "- attrgetter : iterator의 컬럼명을 기준으로 정렬\n"
      ],
      "metadata": {
        "id": "FHKBI7WNeqvj"
      }
    },
    {
      "cell_type": "code",
      "source": [
        "from operator import itemgetter, attrgetter\n",
        "\n",
        "student_tuples = [\n",
        "    ('john', 'A', 15),\n",
        "    ('jane', 'B', 12),\n",
        "    ('dave', 'B', 10),\n",
        "]\n",
        "item = sorted(student_tuples, key=itemgetter(2))\n",
        "items = sorted(student_tuples, key=itemgetter(1,2)) \n",
        "\n",
        "# attr = sorted(student_objects, key=attrgetter('age','grade'))\n",
        "\n",
        "print(item)\n",
        "print(items)"
      ],
      "metadata": {
        "colab": {
          "base_uri": "https://localhost:8080/"
        },
        "id": "-eH5cHc2e5u-",
        "outputId": "08a9219b-4db0-427c-965b-bbfb80daa597"
      },
      "execution_count": null,
      "outputs": [
        {
          "output_type": "stream",
          "name": "stdout",
          "text": [
            "[('dave', 'B', 10), ('jane', 'B', 12), ('john', 'A', 15)]\n",
            "[('john', 'A', 15), ('dave', 'B', 10), ('jane', 'B', 12)]\n"
          ]
        }
      ]
    },
    {
      "cell_type": "markdown",
      "source": [
        "### sort, sorted\n",
        "**리스트.sort(key = 조건(함수) or operator, reverse=False)**\n",
        "- 기존 배열을 정렬(inplace=True), return이 없음, 리스트만 가능\n",
        "\n",
        "**sorted(iterator, key=조건 or operator, reverse=False)**   \n",
        "- 기존 배열은 유지(inplace=False), return을 정렬, 모든 iterator를 list로 변환"
      ],
      "metadata": {
        "id": "eO0TxVnV_BdQ"
      }
    },
    {
      "cell_type": "code",
      "source": [
        "# sort\n",
        "a = [3,2,1]\n",
        "b = a.sort()\n",
        "print(a)\n",
        "print(b)"
      ],
      "metadata": {
        "colab": {
          "base_uri": "https://localhost:8080/"
        },
        "id": "5zWMYAPW_Jtb",
        "outputId": "912ba1ee-edca-44bb-beb7-ceed4af5ee30"
      },
      "execution_count": null,
      "outputs": [
        {
          "output_type": "stream",
          "name": "stdout",
          "text": [
            "[1, 2, 3]\n",
            "None\n"
          ]
        }
      ]
    },
    {
      "cell_type": "code",
      "source": [
        "# sorted\n",
        "c = [3,2,1]\n",
        "d = sorted(c)\n",
        "print(c)\n",
        "print(d)"
      ],
      "metadata": {
        "colab": {
          "base_uri": "https://localhost:8080/"
        },
        "id": "Z7EOEGkt_nxr",
        "outputId": "78b6bedb-6346-455c-d60e-9e53633f9126"
      },
      "execution_count": null,
      "outputs": [
        {
          "output_type": "stream",
          "name": "stdout",
          "text": [
            "[3, 2, 1]\n",
            "[1, 2, 3]\n"
          ]
        }
      ]
    },
    {
      "cell_type": "code",
      "source": [
        "# sorted의 dict 변환\n",
        "e = {3:2,2:1}\n",
        "f = sorted(e)\n",
        "print(e)\n",
        "print(f)"
      ],
      "metadata": {
        "colab": {
          "base_uri": "https://localhost:8080/"
        },
        "id": "885VcvGaAQJU",
        "outputId": "10f4a7ca-f2e3-4f7b-aea4-d71fc9289bab"
      },
      "execution_count": null,
      "outputs": [
        {
          "output_type": "stream",
          "name": "stdout",
          "text": [
            "{3: 2, 2: 1}\n",
            "[2, 3]\n"
          ]
        }
      ]
    },
    {
      "cell_type": "code",
      "source": [
        "student_tuples = [\n",
        "    ('john', 'A', 15),\n",
        "    ('jane', 'B', 12),\n",
        "    ('dave', 'B', 10),\n",
        "]\n",
        "a = sorted(student_tuples, key=lambda student: student[2], reverse=True)\n",
        "b = sorted(student_tuples, key=lambda student: student[2], reverse=False)\n",
        "\n",
        "print(a) # 내림차순\n",
        "print(b) # 오름차순"
      ],
      "metadata": {
        "colab": {
          "base_uri": "https://localhost:8080/"
        },
        "id": "V6EGWM0hf5Bg",
        "outputId": "7839f253-1e16-403e-8543-1b053b7f4456"
      },
      "execution_count": null,
      "outputs": [
        {
          "output_type": "stream",
          "name": "stdout",
          "text": [
            "[('john', 'A', 15), ('jane', 'B', 12), ('dave', 'B', 10)]\n",
            "[('dave', 'B', 10), ('jane', 'B', 12), ('john', 'A', 15)]\n"
          ]
        }
      ]
    },
    {
      "cell_type": "code",
      "source": [
        "# operator 활용, itemgetter : 해당 인덱스 우선순위 \n",
        "from operator import itemgetter\n",
        "c = sorted(student_tuples, key=itemgetter(1,2), reverse=True)\n",
        "print(c)"
      ],
      "metadata": {
        "colab": {
          "base_uri": "https://localhost:8080/"
        },
        "id": "IN6_o37_64CO",
        "outputId": "19316d58-a52d-4cac-d1b0-d89edb2c514b"
      },
      "execution_count": null,
      "outputs": [
        {
          "output_type": "stream",
          "name": "stdout",
          "text": [
            "[('jane', 'B', 12), ('dave', 'B', 10), ('john', 'A', 15)]\n"
          ]
        }
      ]
    },
    {
      "cell_type": "markdown",
      "source": [
        "### reverse, reversed\n",
        "- 리스트를 역순\n",
        "- 리스트.reverse : 기존 배열 정렬(inplace=True), Return 없음\n",
        "- reversed(리스트 or 튜플 or str) : 기존 배열 유지(inplace=False), Return 있음"
      ],
      "metadata": {
        "id": "ih6aZ7LDVhSb"
      }
    },
    {
      "cell_type": "code",
      "source": [
        "a = ['a', 'b', 'c']\n",
        "b = a.reverse()\n",
        "print(a)\n",
        "print(b)"
      ],
      "metadata": {
        "colab": {
          "base_uri": "https://localhost:8080/"
        },
        "id": "oUCcgPO3VsZF",
        "outputId": "1ddfdfd5-baa2-4668-d89c-f67e1855232a"
      },
      "execution_count": null,
      "outputs": [
        {
          "output_type": "stream",
          "name": "stdout",
          "text": [
            "['c', 'b', 'a']\n",
            "None\n"
          ]
        }
      ]
    },
    {
      "cell_type": "code",
      "source": [
        "a = ['a', 'b', 'c']\n",
        "b = reversed(a)\n",
        "print(a)\n",
        "print(list(b))"
      ],
      "metadata": {
        "colab": {
          "base_uri": "https://localhost:8080/"
        },
        "id": "w1nbHRuoXD4o",
        "outputId": "842d5162-6dd3-402b-9d08-a59356eb8e0c"
      },
      "execution_count": null,
      "outputs": [
        {
          "output_type": "stream",
          "name": "stdout",
          "text": [
            "['a', 'b', 'c']\n",
            "['c', 'b', 'a']\n"
          ]
        }
      ]
    },
    {
      "cell_type": "code",
      "source": [
        "l = ['a', 'b', 'c']\n",
        "t = ('a', 'b', 'c')\n",
        "s = 'abc'\n",
        "\n",
        "print(reversed(l))  # <listreverseiterator object at 0x101053c10>\n",
        "print(reversed(t))  # <reversed object at 0x101053b50>\n",
        "print((reversed(s)))  # <reversed object at 0x101053c10>"
      ],
      "metadata": {
        "colab": {
          "base_uri": "https://localhost:8080/"
        },
        "id": "DTMY0y6YVLzc",
        "outputId": "1f3192d4-464b-46d8-a728-589a31153cbb"
      },
      "execution_count": null,
      "outputs": [
        {
          "output_type": "stream",
          "name": "stdout",
          "text": [
            "<list_reverseiterator object at 0x7ffa260ccdf0>\n",
            "<reversed object at 0x7ffa260cce20>\n",
            "<reversed object at 0x7ffa260ccdf0>\n"
          ]
        }
      ]
    },
    {
      "cell_type": "markdown",
      "source": [
        "### immutable, mutable\n",
        "\n"
      ],
      "metadata": {
        "id": "at3E6tuKLl-c"
      }
    },
    {
      "cell_type": "markdown",
      "source": [
        "**immutable**\n",
        "- 변경불가 객체(tuple, int float, str, bool) \n",
        "- 주소가 정해져있음\n",
        "- 변경하면 참조 대상을 바꿔버림"
      ],
      "metadata": {
        "id": "Ii09-fstM3QI"
      }
    },
    {
      "cell_type": "code",
      "source": [
        "print(\"immutable 객체\")\n",
        "a = 99\n",
        "b = 99\n",
        "c = 99\n",
        "\n",
        "print(hex(id(a)))\n",
        "print(hex(id(b)))\n",
        "print(hex(id(c)))"
      ],
      "metadata": {
        "colab": {
          "base_uri": "https://localhost:8080/"
        },
        "id": "qEBOYUvJMK_1",
        "outputId": "9f46621a-5983-4a8a-9e00-fe3cf07a9b9f"
      },
      "execution_count": null,
      "outputs": [
        {
          "output_type": "stream",
          "name": "stdout",
          "text": [
            "immutable 객체\n",
            "0xaffee0\n",
            "0xaffee0\n",
            "0xaffee0\n"
          ]
        }
      ]
    },
    {
      "cell_type": "markdown",
      "source": [
        "**mutable**\n",
        "- 변경가능 객체(list, set, dict) \n",
        "- 같은 값이라도 새로운 주소에 저장\n",
        "- 변경하면 주소 자체를 새로 할당"
      ],
      "metadata": {
        "id": "ezP8efxHM59R"
      }
    },
    {
      "cell_type": "code",
      "source": [
        "print(\"mutable 객체\")\n",
        "arr1 = [1, 2, 3]\n",
        "arr2 = [1, 2, 3]\n",
        "arr3 = [1, 2, 3]\n",
        "\n",
        "print(hex(id(arr1)))\n",
        "print(hex(id(arr2)))\n",
        "print(hex(id(arr3)))"
      ],
      "metadata": {
        "colab": {
          "base_uri": "https://localhost:8080/"
        },
        "id": "WNUOdgQHMUxP",
        "outputId": "ac77ec3d-9654-4a57-ccf7-ec0845ceea5c"
      },
      "execution_count": null,
      "outputs": [
        {
          "output_type": "stream",
          "name": "stdout",
          "text": [
            "mutable 객체\n",
            "0x7ffa26124cc0\n",
            "0x7ffa26137780\n",
            "0x7ffa26111840\n"
          ]
        }
      ]
    },
    {
      "cell_type": "markdown",
      "source": [
        "### random\n",
        "- random.seed(숫자) : 시드고정\n",
        "- random.random() : 0부터 1 사이의 수\n",
        "- random.randint(n, k) : n부터 k 사이의 정수"
      ],
      "metadata": {
        "id": "0wyVLH2_dXte"
      }
    },
    {
      "cell_type": "code",
      "source": [
        "import random\n",
        "\n",
        "print(random.random())\n",
        "print(random.randint(0,100))"
      ],
      "metadata": {
        "colab": {
          "base_uri": "https://localhost:8080/"
        },
        "id": "p_zlKtn0dkb-",
        "outputId": "17fad204-ab7e-4ce2-8656-7772c75c3ab3"
      },
      "execution_count": null,
      "outputs": [
        {
          "output_type": "stream",
          "name": "stdout",
          "text": [
            "0.3132079982242848\n",
            "36\n"
          ]
        }
      ]
    },
    {
      "cell_type": "markdown",
      "source": [
        "### 복사\n"
      ],
      "metadata": {
        "id": "KsI3ArJcJbDq"
      }
    },
    {
      "cell_type": "markdown",
      "source": [
        "**얕은 복사**\n",
        "- mutable데이터가 복사가 아닌 참조만 하는 복사\n",
        "- b = a\n",
        "- b = a[:]\n",
        "- b = a.copy()\n",
        "- b = copy.copy(a)"
      ],
      "metadata": {
        "id": "d1gPaxqMQylx"
      }
    },
    {
      "cell_type": "code",
      "source": [
        "# 얕은 복사 : 주소만 참조하여 two를 지우면 one도 지워짐\n",
        "one = {'a': 5, 'b': 4, 'c': 8}\n",
        "two = one\n",
        "del two['a']\n",
        "print(two, '주소:', hex(id(two)))\n",
        "print(one, '주소:', hex(id(one)))"
      ],
      "metadata": {
        "colab": {
          "base_uri": "https://localhost:8080/"
        },
        "id": "Y-DdVYH3KTtD",
        "outputId": "65ce9c09-7b51-4ac3-effa-0e2dccc726e7"
      },
      "execution_count": null,
      "outputs": [
        {
          "output_type": "stream",
          "name": "stdout",
          "text": [
            "{'b': 4, 'c': 8} 주소: 0x7ffa26129c00\n",
            "{'b': 4, 'c': 8} 주소: 0x7ffa26129c00\n"
          ]
        }
      ]
    },
    {
      "cell_type": "code",
      "source": [
        "# a가 하나만 삭제되어 깊은복사 같지만 안쪽 list의 주소값이 같음\n",
        "import copy\n",
        "one = {'a':2, 'b': 4, 'c': [1,2,3]}\n",
        "two = copy.copy(one)\n",
        "del two['a']\n",
        "print(two, '주소:', hex(id(two['c'])))\n",
        "print(one, '주소:', hex(id(one['c'])))"
      ],
      "metadata": {
        "colab": {
          "base_uri": "https://localhost:8080/"
        },
        "id": "mC4zP5HrJZuR",
        "outputId": "f7bdc51f-9805-417e-a82c-1dde3b738eb0"
      },
      "execution_count": null,
      "outputs": [
        {
          "output_type": "stream",
          "name": "stdout",
          "text": [
            "{'b': 4, 'c': [1, 2, 3]} 주소: 0x7ffa26202200\n",
            "{'a': 2, 'b': 4, 'c': [1, 2, 3]} 주소: 0x7ffa26202200\n"
          ]
        }
      ]
    },
    {
      "cell_type": "markdown",
      "source": [
        "**깊은 복사**\n",
        "- b = copy.deepcopy(a)"
      ],
      "metadata": {
        "id": "hUOQRQKOTeWk"
      }
    },
    {
      "cell_type": "code",
      "source": [
        "import copy                 # copy 모듈 불러오기\n",
        "\n",
        "arr1 = [1, 2, [99, 88, 77], 3]\n",
        "arr2 = copy.deepcopy(arr1)      # copy 모듈 깊은 복사\n",
        "\n",
        "print(f'arr1 : {arr1}, address : {hex(id(arr1))}')\n",
        "print(f'arr2 : {arr2}, address : {hex(id(arr2))}')"
      ],
      "metadata": {
        "colab": {
          "base_uri": "https://localhost:8080/"
        },
        "id": "htowwaekJlDZ",
        "outputId": "17e86d3d-6ad2-45fd-f084-edec3b6cdaed"
      },
      "execution_count": null,
      "outputs": [
        {
          "output_type": "stream",
          "name": "stdout",
          "text": [
            "arr1 : [1, 2, [99, 88, 77], 3], address : 0x7ffa26124e80\n",
            "arr2 : [1, 2, [99, 88, 77], 3], address : 0x7ffa26138500\n"
          ]
        }
      ]
    },
    {
      "cell_type": "markdown",
      "source": [
        "### 자료형, 내장함수 확인"
      ],
      "metadata": {
        "id": "kYO6Q-vwLp-7"
      }
    },
    {
      "cell_type": "code",
      "source": [
        "# help('자료형') : 해당 자료형에 사용할 수 있는 메소드 검색\n",
        "list_a = [3,4,1,6,9,2]\n",
        "help(list_a)"
      ],
      "metadata": {
        "id": "OAkub5OiLpKr"
      },
      "execution_count": null,
      "outputs": []
    },
    {
      "cell_type": "code",
      "source": [
        "# dir() = 현재 __name__에 저장된 목록(변수지정목록)\n",
        "# dir(변수) = 해당 변수에 적용할 수 있는 기능 목록\n",
        "dir()"
      ],
      "metadata": {
        "id": "UPq1b9wQL6tY"
      },
      "execution_count": null,
      "outputs": []
    },
    {
      "cell_type": "markdown",
      "source": [
        "### dict"
      ],
      "metadata": {
        "id": "6BNqXWNEkJlT"
      }
    },
    {
      "cell_type": "code",
      "source": [
        "# s2에서 s1에 존재하지 않는 값 찾기\n",
        "\n",
        "s1 = 'hi my name'\n",
        "s2 = 'hi my name is jinwoo'\n",
        "\n",
        "def dd(s1,s2):\n",
        "    if s1==s2:\n",
        "        return None\n",
        "\n",
        "    if s1!=s2:\n",
        "        nono = []\n",
        "        s1d = s1.split()\n",
        "        s2d = s2.split()\n",
        "        dic1 = dict.fromkeys(s1d)\n",
        "        dic2 = dict.fromkeys(s2d)\n",
        "        for i in dic2:\n",
        "            if i not in dic1:\n",
        "                nono.append(i)\n",
        "        return nono\n",
        "dd(s1,s2)"
      ],
      "metadata": {
        "colab": {
          "base_uri": "https://localhost:8080/"
        },
        "id": "VlCKOklDkMHb",
        "outputId": "2f4073ba-0d4d-4f77-f84a-9b003cf4d16d"
      },
      "execution_count": null,
      "outputs": [
        {
          "output_type": "execute_result",
          "data": {
            "text/plain": [
              "['is', 'jinwoo']"
            ]
          },
          "metadata": {},
          "execution_count": 2
        }
      ]
    },
    {
      "cell_type": "code",
      "source": [
        "# fromkeys(key배열,[값배열]) 값배열은 같은 값이 들어감\n",
        "s1 = 'hi my name'\n",
        "a= s1.split()\n",
        "b= dict.fromkeys(a,[1,2,3])\n",
        "b"
      ],
      "metadata": {
        "colab": {
          "base_uri": "https://localhost:8080/"
        },
        "id": "kn85nUjikbcR",
        "outputId": "3128950b-3c07-4e44-96cb-7dc39d25e4b2"
      },
      "execution_count": null,
      "outputs": [
        {
          "output_type": "execute_result",
          "data": {
            "text/plain": [
              "{'hi': [1, 2, 3], 'my': [1, 2, 3], 'name': [1, 2, 3]}"
            ]
          },
          "metadata": {},
          "execution_count": 1
        }
      ]
    },
    {
      "cell_type": "markdown",
      "source": [
        "### 시간(time) 함수"
      ],
      "metadata": {
        "id": "-i7x5QRRx3w-"
      }
    },
    {
      "cell_type": "markdown",
      "source": [
        "#### 시간측정"
      ],
      "metadata": {
        "id": "Kutety7EXlm3"
      }
    },
    {
      "cell_type": "code",
      "source": [
        "import time\n",
        "from functools import wraps\n",
        "\n",
        "def check_time(function):         # 소요시간 함수(시간 측정할 함수)\n",
        "\t@wraps(function)              # 래핑(시간 측정할 함수)\n",
        "\tdef measure(*args, **kwargs): # 래핑된 함수를 받아서\n",
        "\t\tstart_time = time.time()  # 시작시간\n",
        "\t\tresult = function(*args, **kwargs)  # 시작과 끝 시간의 가운데서 실행\n",
        "\t\tend_time = time.time()    # 끝나는시간 측정\n",
        "\t\tprint(f\"@check_time: {function.__name__} took {end_time - start_time}\") # 함수이름 took 걸린시간 출력\n",
        "\t\treturn result  # 함수의 결과 반환\n",
        "\n",
        "\treturn measure # 함수 결과 반환, 프린트문으로 시간알려줌"
      ],
      "metadata": {
        "id": "g7vpuixKx7ec"
      },
      "execution_count": null,
      "outputs": []
    },
    {
      "cell_type": "code",
      "source": [
        "@check_time  # 새로운 함수 앞에 붙여주면 함수 실행할 때 같이 실행됨\n",
        "def sum_n(n):\n",
        "    s = 0\n",
        "    for i in range(1, n+1):\n",
        "        s += i\n",
        "    return s\n",
        "\n",
        "if __name__ == \"__main__\":\n",
        "\tprint(sum_n(100000))"
      ],
      "metadata": {
        "colab": {
          "base_uri": "https://localhost:8080/"
        },
        "id": "FW66xAoJ2XEF",
        "outputId": "1e6ea526-2548-4b4b-f479-d8ae505d9fe4"
      },
      "execution_count": null,
      "outputs": [
        {
          "output_type": "stream",
          "name": "stdout",
          "text": [
            "@check_time: sum_n took 0.014777183532714844\n",
            "5000050000\n"
          ]
        }
      ]
    },
    {
      "cell_type": "markdown",
      "source": [
        "#### 알람"
      ],
      "metadata": {
        "id": "QVegzGreXnF9"
      }
    },
    {
      "cell_type": "code",
      "source": [
        "from time import sleep\n",
        "print('sleep(초)후에 다음 로직이 실행된다.')\n",
        "\n",
        "sleep(4)\n",
        "\n",
        "print('알람')\n"
      ],
      "metadata": {
        "colab": {
          "base_uri": "https://localhost:8080/"
        },
        "id": "TIvuSyaNXpSw",
        "outputId": "beb2a099-4ab5-413d-8f3a-a6f365e8b3ef"
      },
      "execution_count": null,
      "outputs": [
        {
          "output_type": "stream",
          "name": "stdout",
          "text": [
            "sleep(초)후에 다음 로직이 실행된다.\n",
            "알람\n"
          ]
        }
      ]
    },
    {
      "cell_type": "markdown",
      "source": [
        "### 데코레이터(@)"
      ],
      "metadata": {
        "id": "iDvuuEth3_Ui"
      }
    },
    {
      "cell_type": "markdown",
      "source": [
        "#### 데코레이터 사용법"
      ],
      "metadata": {
        "id": "I919IJmK5qT4"
      }
    },
    {
      "cell_type": "code",
      "source": [
        "from functools import wraps\n",
        "\n",
        "def 함수이름(func):  # 데코사용할 함수 이름 => @함수이름 이렇게\n",
        "    @wraps(func)     # func는 데코레이션 적용할 함수 @함수이름 밑에 쓰일 함수\n",
        "    def __wrapper(*args, **kwargs):\n",
        "        # 여기서 decoretor로 진행시키고 싶은 기능 넣으면 됨\n",
        "        # 여기에 result = func(*args, **kwargs)쓰고 return을 result로 받아도 됨\n",
        "        return func(*args, **kwargs) # 래핑된 함수의 반환값\n",
        "    return __wrapper # 래핑된 함수의 반환값"
      ],
      "metadata": {
        "id": "2D3qxxRV4Bu7"
      },
      "execution_count": null,
      "outputs": []
    },
    {
      "cell_type": "code",
      "source": [
        "#사용예시\n",
        "@함수이름\n",
        "def func(x):\n",
        "    return x*2\n",
        "\n",
        "func(10)\n",
        "# >> 데코레이터가 func를 감싸서 실행되고 반환됨"
      ],
      "metadata": {
        "id": "7iyj6L3f4644"
      },
      "execution_count": null,
      "outputs": []
    },
    {
      "cell_type": "markdown",
      "source": [
        "##### wraps를 사용하는 이유\n",
        "- 없어도 작동을 하지만 사용하지 않으면 디버깅이 어려움"
      ],
      "metadata": {
        "id": "ehb0xhRo5SrA"
      }
    },
    {
      "cell_type": "markdown",
      "source": [
        "**wraps를 사용안할때**"
      ],
      "metadata": {
        "id": "-x_Qo65O6lLA"
      }
    },
    {
      "cell_type": "code",
      "source": [
        "def without_wraps(func):\n",
        "    def __wrapper(*args, **kwargs):\n",
        "        return func(*args, **kwargs)\n",
        "    return __wrapper\n",
        "\n",
        "@without_wraps\n",
        "def my_func_a():\n",
        "    \"\"\"Here is my_func_a doc string text.\"\"\"\n",
        "    pass"
      ],
      "metadata": {
        "id": "lUo_MULc5138"
      },
      "execution_count": null,
      "outputs": []
    },
    {
      "cell_type": "code",
      "source": [
        "print(my_func_a.__doc__) # 해당 func값이 제대로 반환되지 않음\n",
        "print(my_func_a.__name__)"
      ],
      "metadata": {
        "colab": {
          "base_uri": "https://localhost:8080/"
        },
        "id": "J7WOadDW548W",
        "outputId": "7fb1c5a8-01f3-47c3-f324-1b316544b57d"
      },
      "execution_count": null,
      "outputs": [
        {
          "output_type": "stream",
          "name": "stdout",
          "text": [
            "None\n",
            "__wrapper\n"
          ]
        }
      ]
    },
    {
      "cell_type": "markdown",
      "source": [
        "**wraps를 사용했을  때**"
      ],
      "metadata": {
        "id": "gwpLAxh46pIw"
      }
    },
    {
      "cell_type": "code",
      "source": [
        "from functools import wraps\n",
        "\n",
        "def with_wraps(func):\n",
        "    @wraps(func)\n",
        "    def __wrapper(*args, **kwargs):\n",
        "       return func(*args, **kwargs)\n",
        "    return __wrapper\n",
        "\n",
        "@with_wraps\n",
        "def my_func_b():\n",
        "    \"\"\"Here is my_func_b doc string text.\"\"\"\n",
        "    pass"
      ],
      "metadata": {
        "id": "moCgA_vF6GHO"
      },
      "execution_count": null,
      "outputs": []
    },
    {
      "cell_type": "code",
      "source": [
        "print(my_func_b.__doc__) # 해당 func값이 제대로 반환 됨\n",
        "print(my_func_b.__name__)"
      ],
      "metadata": {
        "colab": {
          "base_uri": "https://localhost:8080/"
        },
        "id": "TAYgJ4VM6Jk4",
        "outputId": "96e51335-2cf6-43be-a914-de67841f061e"
      },
      "execution_count": null,
      "outputs": [
        {
          "output_type": "stream",
          "name": "stdout",
          "text": [
            "Here is my_func_b doc string text.\n",
            "my_func_b\n"
          ]
        }
      ]
    },
    {
      "cell_type": "markdown",
      "source": [
        "## 정규표현식(regex)"
      ],
      "metadata": {
        "id": "7GYH9ny08peP"
      }
    },
    {
      "cell_type": "markdown",
      "source": [
        "- iterator에선 사용하지 않음 (list, dict, tuple 등..)"
      ],
      "metadata": {
        "id": "nhN7VbkGDvx8"
      }
    },
    {
      "cell_type": "markdown",
      "source": [
        "#### escape문자\n",
        "- \\n : 줄바꿈\n",
        "- \\t : 탭(들여쓰기)\n",
        "- \\b : 백스페이스(하나 지움)\n",
        "- \\r : 앞의 글자 다 지우고 뒤에 글자를 들여쓰기\n",
        "- \\ : 뒤에 특수문자 표시하기"
      ],
      "metadata": {
        "id": "OJA-hsWmJpBs"
      }
    },
    {
      "cell_type": "code",
      "source": [
        "print(\"     \\rHello\")\n",
        "print(\"     Hello\")"
      ],
      "metadata": {
        "colab": {
          "base_uri": "https://localhost:8080/"
        },
        "id": "R7U_D5MJJTAi",
        "outputId": "7f88f403-8a89-4e66-c1d9-a60e8d74a1b6"
      },
      "execution_count": null,
      "outputs": [
        {
          "output_type": "stream",
          "name": "stdout",
          "text": [
            "     \rHello\n",
            "     Hello\n"
          ]
        }
      ]
    },
    {
      "cell_type": "markdown",
      "source": [
        "raw string : r을 붙여서 특수문자 유지"
      ],
      "metadata": {
        "id": "HdoWSwomLzRC"
      }
    },
    {
      "cell_type": "code",
      "source": [
        "print('raw string을 사용하지 않고고\\b 문자 출력하기')\n",
        "print(r'raw string을 사용하지 않지 않고고./.,,.\\\\b 문자 출력하기')\n",
        "\n",
        "# 파일 경로 출력하기\n",
        "print('C:\\programs\\nayana')\n",
        "print('C:\\\\programs\\\\nayana') # \\로 경로 살리기\n",
        "print(r'C:\\programs\\nayana')  # r로 경로 살리기"
      ],
      "metadata": {
        "colab": {
          "base_uri": "https://localhost:8080/"
        },
        "id": "Sqs5F8wLLWvm",
        "outputId": "fde0c44a-c292-4641-c3ee-c24fed57cf49"
      },
      "execution_count": null,
      "outputs": [
        {
          "output_type": "stream",
          "name": "stdout",
          "text": [
            "raw string을 사용하지 않고고\b 문자 출력하기\n",
            "raw string을 사용하지 않지 않고고./.,,.\\\\b 문자 출력하기\n",
            "C:\\programs\n",
            "ayana\n",
            "C:\\programs\\nayana\n",
            "C:\\programs\\nayana\n"
          ]
        }
      ]
    },
    {
      "cell_type": "markdown",
      "source": [
        "#### 정규식 패턴\n",
        "- I : `IGNORECASE` 대소문자 미구분 \n",
        "- X : `VERBOSE` 정규식 안의 공백 무시\n",
        "- M : `MULTILINE` 여러 줄의 문자열에 대해 패턴을 탐색할 수 있게 함\n",
        "- S : `DOTALL` 점(.)을 줄바꾸기 문자도 포함하여 매치하게 함\n",
        "- L : `LOCATE` \\w, \\W, \\b, \\B를 현재의 로케일에 영향을 받음 ??\n",
        "- U : `UNICODE` \\w, \\W, \\b, \\B가 유니코드 문자 특성에 의존함 ??   \n",
        "\n",
        "위의 패턴은 아래와 같이 사용할 수 있으며 여러 패턴을 등록하려면 | 을 사용합니다."
      ],
      "metadata": {
        "id": "FHZf1ppME2z9"
      }
    },
    {
      "cell_type": "code",
      "source": [
        "import re\n",
        "\n",
        "s = \"\"\"\n",
        "c\n",
        "b\n",
        "A\n",
        "\"\"\"\n",
        "print(re.search('a', s, re.M|re.I)) # re.M(여러줄탐색) |(구분) re.I(대소문자미구분)"
      ],
      "metadata": {
        "colab": {
          "base_uri": "https://localhost:8080/"
        },
        "id": "jsTXnMVOGIQg",
        "outputId": "4970c31b-e54d-41e5-9c71-3975729cb249"
      },
      "execution_count": null,
      "outputs": [
        {
          "output_type": "stream",
          "name": "stdout",
          "text": [
            "<re.Match object; span=(5, 6), match='A'>\n"
          ]
        }
      ]
    },
    {
      "cell_type": "markdown",
      "source": [
        "#### re.compile\n",
        "- 자주쓰는 정규표현식이나 패턴을 지정\n",
        "- re.compile('정규표현식', 패턴)\n"
      ],
      "metadata": {
        "id": "p_mZlrVXGf0E"
      }
    },
    {
      "cell_type": "code",
      "source": [
        "# re.함수(컴파일, '문자열')\n",
        "phone = re.compile(\"\"\"\n",
        "010     \n",
        "-\\d{4}  \n",
        "-\\d{4} \n",
        "\"\"\", re.VERBOSE)\n",
        "\n",
        "a = '010-9695-3199abc'\n",
        "\n",
        "print(re.search(phone, a))"
      ],
      "metadata": {
        "colab": {
          "base_uri": "https://localhost:8080/"
        },
        "id": "Qwo0RKVmCASV",
        "outputId": "e8ee763f-46ea-46f4-88db-0f0d60c3caea"
      },
      "execution_count": null,
      "outputs": [
        {
          "output_type": "stream",
          "name": "stdout",
          "text": [
            "<re.Match object; span=(0, 13), match='010-9695-3199'>\n"
          ]
        }
      ]
    },
    {
      "cell_type": "code",
      "source": [
        "# 컴파일.함수('문자열')\n",
        "phone = re.compile(\"010-\\d{4}-\\d{4}\")\n",
        "\n",
        "info = ['홍길동 010-1234-1234', '고길동 010-5678-5679']\n",
        "\n",
        "for text in info:\n",
        "    match_object = phone.search(text)\n",
        "    print(match_object.group())"
      ],
      "metadata": {
        "colab": {
          "base_uri": "https://localhost:8080/"
        },
        "id": "hbw0So2KH_D4",
        "outputId": "656d8273-c25e-45c1-e435-efcec4144357"
      },
      "execution_count": null,
      "outputs": [
        {
          "output_type": "stream",
          "name": "stdout",
          "text": [
            "010-1234-1234\n",
            "010-5678-5679\n"
          ]
        }
      ]
    },
    {
      "cell_type": "markdown",
      "source": [
        "#### re.search\n",
        "- re.search('정규표현식', '문자열',패턴)\n",
        "- 정규표현식에 해당하는 글자 찾기"
      ],
      "metadata": {
        "id": "BzxlFLqi-i7V"
      }
    },
    {
      "cell_type": "code",
      "source": [
        "import re\n",
        "\n",
        "wordlist = [\"color\", \"colour\", \"work\", \"working\",\n",
        "            \"fox\", \"worker\", \"working\"]\n",
        "\n",
        "for word in wordlist:\n",
        "    if re.search('col.r', word): \n",
        "        print(word)"
      ],
      "metadata": {
        "colab": {
          "base_uri": "https://localhost:8080/"
        },
        "id": "lUBrutT3-Un6",
        "outputId": "47501510-f51b-421e-ba8d-b9b76089e0a2"
      },
      "execution_count": null,
      "outputs": [
        {
          "output_type": "stream",
          "name": "stdout",
          "text": [
            "color\n"
          ]
        }
      ]
    },
    {
      "cell_type": "markdown",
      "source": [
        "**점(.)은 하나의 문자를 뜻하고, *를 붙이면 개수 무시**"
      ],
      "metadata": {
        "id": "7b1k0lC49yXF"
      }
    },
    {
      "cell_type": "code",
      "source": [
        "import re \n",
        "\n",
        "print(re.search('w..w', 'wow'))\n",
        "print(re.search('w..w', 'woow'))\n",
        "print(re.search('w..w', 'wooow'))\n",
        "print(re.search('w.*w','wabcdefgw'))"
      ],
      "metadata": {
        "colab": {
          "base_uri": "https://localhost:8080/"
        },
        "id": "eCrAzFzS9GCW",
        "outputId": "3584a9ea-29b2-433e-8bea-4f7ecf635f99"
      },
      "execution_count": null,
      "outputs": [
        {
          "output_type": "stream",
          "name": "stdout",
          "text": [
            "None\n",
            "<re.Match object; span=(0, 4), match='woow'>\n",
            "None\n",
            "<re.Match object; span=(0, 9), match='wabcdefgw'>\n"
          ]
        }
      ]
    },
    {
      "cell_type": "markdown",
      "source": [
        "#### re.match\n",
        "- 문자열의 처음부터 정규표현식과 일치하는 값 불러오기\n",
        "- re.match('정규표현식', '문자열', 패턴) \n"
      ],
      "metadata": {
        "id": "4jhXOF0v_E3H"
      }
    },
    {
      "cell_type": "code",
      "source": [
        "regular_expressions = '<html><head><title>Title</title>'\n",
        "\n",
        "print(len(regular_expressions))\n",
        "print(re.match('<.*>',regular_expressions))     \n",
        "print(re.match('<.*>', regular_expressions).span())  # span 출력\n",
        "print(re.match('<.*>', regular_expressions).group()) # 일치하는 값 출력"
      ],
      "metadata": {
        "colab": {
          "base_uri": "https://localhost:8080/"
        },
        "id": "puyw33DQ_Jjr",
        "outputId": "828311a6-8b1b-4a27-9f8f-406e6373c015"
      },
      "execution_count": null,
      "outputs": [
        {
          "output_type": "stream",
          "name": "stdout",
          "text": [
            "32\n",
            "<re.Match object; span=(0, 32), match='<html><head><title>Title</title>'>\n",
            "(0, 32)\n",
            "<html><head><title>Title</title>\n"
          ]
        }
      ]
    },
    {
      "cell_type": "markdown",
      "source": [
        "#### rjust, ljust\n",
        "- 문자열.rjust(총 개수, \"지정문자\")\n",
        "- 문자열에 지정문자를 채워준다.(총 개수에서 모자란 만큼만)\n"
      ],
      "metadata": {
        "id": "kNMYVonb2kQs"
      }
    },
    {
      "cell_type": "code",
      "source": [
        "print(\"500\".rjust(5,\"0\"))"
      ],
      "metadata": {
        "colab": {
          "base_uri": "https://localhost:8080/"
        },
        "id": "TYwS_e0C3N4u",
        "outputId": "041d5d2c-2cb4-4f64-bbfa-56c220d1e449"
      },
      "execution_count": null,
      "outputs": [
        {
          "output_type": "stream",
          "name": "stdout",
          "text": [
            "00500\n"
          ]
        }
      ]
    },
    {
      "cell_type": "code",
      "source": [
        "print(\"50000\".rjust(5,\"0\"))"
      ],
      "metadata": {
        "colab": {
          "base_uri": "https://localhost:8080/"
        },
        "id": "mmAnyxDl3RpA",
        "outputId": "191daf40-b8d6-4017-b59b-ec8cb95e73bf"
      },
      "execution_count": null,
      "outputs": [
        {
          "output_type": "stream",
          "name": "stdout",
          "text": [
            "50000\n"
          ]
        }
      ]
    },
    {
      "cell_type": "code",
      "source": [
        "print(\"123\".rjust(5,\"0\"))\n",
        "print(\"123\".ljust(5,\"a\"))"
      ],
      "metadata": {
        "colab": {
          "base_uri": "https://localhost:8080/"
        },
        "id": "TfO5lOAv3Rgh",
        "outputId": "973ba1ca-106c-4795-81d8-bed5784ba3fc"
      },
      "execution_count": null,
      "outputs": [
        {
          "output_type": "stream",
          "name": "stdout",
          "text": [
            "00123\n",
            "123aa\n"
          ]
        }
      ]
    },
    {
      "cell_type": "markdown",
      "source": [
        "#### zfill(정수)\n",
        "- 문자열 앞에 정수만큼 0으로 채워줌"
      ],
      "metadata": {
        "id": "xPI5jBI63wR6"
      }
    },
    {
      "cell_type": "code",
      "source": [
        "# \"002\"\n",
        "print(\"2\".zfill(3))\n",
        " \n",
        "# \"5000\"\n",
        "print(\"5000\".zfill(5))\n",
        " \n",
        "# \"00123\"\n",
        "print(\"123\".zfill(5))"
      ],
      "metadata": {
        "colab": {
          "base_uri": "https://localhost:8080/"
        },
        "id": "SZyYI1KL3zw0",
        "outputId": "923ffe03-9fc4-469d-e878-66465cc3a097"
      },
      "execution_count": null,
      "outputs": [
        {
          "output_type": "stream",
          "name": "stdout",
          "text": [
            "002\n",
            "05000\n",
            "00123\n"
          ]
        }
      ]
    },
    {
      "cell_type": "markdown",
      "source": [
        "#### split(\"구분문자\")\n",
        "- 구분문자를 기준으로 문자열을 나눔"
      ],
      "metadata": {
        "id": "odGM_CKD4Tao"
      }
    },
    {
      "cell_type": "code",
      "source": [
        "string_ = \"Hello, I am Jack and I am a data scientist\"\n",
        "\n",
        "print(string_)\n",
        "print(string_[2]) # 글자 인덱스"
      ],
      "metadata": {
        "colab": {
          "base_uri": "https://localhost:8080/"
        },
        "id": "rCGb2jOL4FOs",
        "outputId": "3a893b77-6711-42aa-c6e5-ccc0e18b96a8"
      },
      "execution_count": null,
      "outputs": [
        {
          "output_type": "stream",
          "name": "stdout",
          "text": [
            "Hello, I am Jack and I am a data scientist\n",
            "l\n"
          ]
        }
      ]
    },
    {
      "cell_type": "code",
      "source": [
        "# 띄어쓰기로 단어 나누기\n",
        "string_list = string_.split(\" \")\n",
        "string_list"
      ],
      "metadata": {
        "colab": {
          "base_uri": "https://localhost:8080/"
        },
        "id": "fLPuJjpx4XWp",
        "outputId": "4f7e3a3c-1763-441d-f71e-5867cb58be50"
      },
      "execution_count": null,
      "outputs": [
        {
          "output_type": "execute_result",
          "data": {
            "text/plain": [
              "['Hello,', 'I', 'am', 'Jack', 'and', 'I', 'am', 'a', 'data', 'scientist']"
            ]
          },
          "metadata": {},
          "execution_count": 22
        }
      ]
    },
    {
      "cell_type": "code",
      "source": [
        "# 시작, 끝 단어 일치여부(bool)\n",
        "print(string_.startswith('Hello'))\n",
        "print(string_.endswith('scientist'))\n",
        "\n",
        "print(string_.endswith('tist'))"
      ],
      "metadata": {
        "colab": {
          "base_uri": "https://localhost:8080/"
        },
        "id": "OSxL4S3y4xih",
        "outputId": "c94ced9c-0397-4b68-aeea-a95f46bb9474"
      },
      "execution_count": null,
      "outputs": [
        {
          "output_type": "stream",
          "name": "stdout",
          "text": [
            "True\n",
            "True\n",
            "True\n"
          ]
        }
      ]
    },
    {
      "cell_type": "code",
      "source": [
        "print(string_)\n",
        "print(string_.replace(\"ntist\", \"hahaha\")) # 조금이라도 일치하면 변경"
      ],
      "metadata": {
        "colab": {
          "base_uri": "https://localhost:8080/"
        },
        "id": "kZqzTjKq5duk",
        "outputId": "73c964c5-c759-4cbe-833b-328e3048aa3a"
      },
      "execution_count": null,
      "outputs": [
        {
          "output_type": "stream",
          "name": "stdout",
          "text": [
            "Hello, I am Jack and I am a data scientist\n",
            "Hello, I am Jack and I am a data sciehahaha\n"
          ]
        }
      ]
    },
    {
      "cell_type": "markdown",
      "source": [
        "### 공배수"
      ],
      "metadata": {
        "id": "nFZ1ZmZQb33c"
      }
    },
    {
      "cell_type": "code",
      "source": [
        "# 100보다 작은 5와 7의 공배수\n",
        "abc = [i*a for i in range(11) for a in range(11) if i*a==35 or i*a==70]\n",
        "list(set(abc))"
      ],
      "metadata": {
        "colab": {
          "base_uri": "https://localhost:8080/"
        },
        "id": "xb9kCXq6b59r",
        "outputId": "3018f000-baab-4d40-e0f3-7beb38c9deeb"
      },
      "execution_count": null,
      "outputs": [
        {
          "output_type": "execute_result",
          "data": {
            "text/plain": [
              "[35, 70]"
            ]
          },
          "metadata": {},
          "execution_count": 122
        }
      ]
    },
    {
      "cell_type": "code",
      "source": [
        "[i*5*7 for i in range(1,100//(5*7)+1)]"
      ],
      "metadata": {
        "colab": {
          "base_uri": "https://localhost:8080/"
        },
        "id": "036KPyvLg2k4",
        "outputId": "bf701c40-5c09-408b-fff3-fef1a087e6b1"
      },
      "execution_count": null,
      "outputs": [
        {
          "output_type": "execute_result",
          "data": {
            "text/plain": [
              "[35, 70]"
            ]
          },
          "metadata": {},
          "execution_count": 123
        }
      ]
    },
    {
      "cell_type": "code",
      "source": [
        "# 소수가 맞는지 아닌지 찾는 함수\n",
        "def part3(N):\n",
        "    num = [i for i in range(1, N+1) if N%i == 0 ]\n",
        "    if len(num)==2:\n",
        "        return True\n",
        "    else:\n",
        "        return False\n",
        "\n",
        "part3(4)"
      ],
      "metadata": {
        "id": "kEYO5LlmHFQQ"
      },
      "execution_count": null,
      "outputs": []
    },
    {
      "cell_type": "code",
      "source": [
        "# 2~ N의 소수의 개수를 나타내주는 함수\n",
        "def part3(N):\n",
        "    if N <0:\n",
        "        raise ValueError\n",
        "    elif N ==1:\n",
        "        return 0\n",
        "    else: \n",
        "        answer = 0\n",
        "        for i in range(2, N+1):\n",
        "            count=0\n",
        "            for x in range(2, i):\n",
        "                if i%x ==0:\n",
        "                    count+=1\n",
        "            if count==0:\n",
        "                answer +=1\n",
        "        return answer\n",
        "\n",
        "part3(7)"
      ],
      "metadata": {
        "colab": {
          "base_uri": "https://localhost:8080/"
        },
        "id": "H3fLxu4HJRVJ",
        "outputId": "b49e6119-28a0-454a-90c6-6f73623ac89a"
      },
      "execution_count": null,
      "outputs": [
        {
          "output_type": "execute_result",
          "data": {
            "text/plain": [
              "4"
            ]
          },
          "metadata": {},
          "execution_count": 103
        }
      ]
    },
    {
      "cell_type": "markdown",
      "source": [
        "### Try"
      ],
      "metadata": {
        "id": "BkS8S1EvpA8E"
      }
    },
    {
      "cell_type": "markdown",
      "source": [
        "- try : 값을 받음\n",
        "- except : 에러발생 시, 에러를 표시하지 않고 문구로 대체\n",
        "- else : 수식에 사용할 조건\n",
        "- finally : 위의 구문과 상관없이 실행됨\n",
        "- raise : 에러를 일으킴"
      ],
      "metadata": {
        "id": "glAe2CZEqO-N"
      }
    },
    {
      "cell_type": "code",
      "source": [
        "# 제대로 된 값을 넣을 때 까지 반복재생\n",
        "while True:\n",
        "    try:\n",
        "        x = int(input(\"Please enter a number: \"))\n",
        "        break\n",
        "    except ValueError:\n",
        "        print(\"Oops!  That was no valid number.  Try again...\")"
      ],
      "metadata": {
        "colab": {
          "base_uri": "https://localhost:8080/"
        },
        "id": "3tZ56TiAqwtV",
        "outputId": "bcf36b09-b557-4aa4-c567-e75827c7542a"
      },
      "execution_count": null,
      "outputs": [
        {
          "name": "stdout",
          "output_type": "stream",
          "text": [
            "Please enter a number: 1\n"
          ]
        }
      ]
    },
    {
      "cell_type": "code",
      "source": [
        "# while True:가 없어서 단발성\n",
        "try:\n",
        "    age = int(input('나이를 입력하세요.'))\n",
        "\n",
        "except:\n",
        "    print('숫자만 입력하세요')\n",
        "\n",
        "else:\n",
        "    if age <= 0:\n",
        "        raise ValueError('0 이상의 숫자를 입력하세요.')\n",
        "    else:\n",
        "        if age > 13 and age<20:\n",
        "            print('당신은 청소년입니다.')\n",
        "        elif age <= 13:\n",
        "            print(\"당신은 어린이입니다.\")\n",
        "        else:\n",
        "            print('당신은 성인입니다.')\n",
        "finally:\n",
        "    print('반갑습니다.')"
      ],
      "metadata": {
        "id": "4BnapxcVuB-A",
        "colab": {
          "base_uri": "https://localhost:8080/"
        },
        "outputId": "4b681f81-741d-4722-cdbd-637a41b66b01"
      },
      "execution_count": null,
      "outputs": [
        {
          "output_type": "stream",
          "name": "stdout",
          "text": [
            "나이를 입력하세요.13\n",
            "당신은 어린이입니다.\n",
            "반갑습니다.\n"
          ]
        }
      ]
    }
  ]
}

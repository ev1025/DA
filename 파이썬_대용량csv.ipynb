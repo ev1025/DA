{
  "cells": [
    {
      "cell_type": "markdown",
      "metadata": {
        "id": "view-in-github",
        "colab_type": "text"
      },
      "source": [
        "<a href=\"https://colab.research.google.com/github/ev1025/DA_Study/blob/main/%ED%8C%8C%EC%9D%B4%EC%8D%AC_%EB%8C%80%EC%9A%A9%EB%9F%89csv.ipynb\" target=\"_parent\"><img src=\"https://colab.research.google.com/assets/colab-badge.svg\" alt=\"Open In Colab\"/></a>"
      ]
    },
    {
      "cell_type": "code",
      "execution_count": null,
      "metadata": {
        "id": "eaMMaPoO_I5-"
      },
      "outputs": [],
      "source": [
        "pip install \"dask[complete]\""
      ]
    },
    {
      "cell_type": "code",
      "source": [
        "pip install openpyxl"
      ],
      "metadata": {
        "id": "OH2BtvEuFCMc"
      },
      "execution_count": null,
      "outputs": []
    },
    {
      "cell_type": "code",
      "execution_count": null,
      "metadata": {
        "id": "QuRTX7M7_I6C"
      },
      "outputs": [],
      "source": [
        "import dask.dataframe as dd\n",
        "import json\n",
        "import ast\n",
        "import os\n",
        "import sys\n",
        "import csv"
      ]
    },
    {
      "cell_type": "code",
      "source": [
        "# 현재 경로 확인\n",
        "os.getcwd() "
      ],
      "metadata": {
        "id": "A0Ptb3uJFc39"
      },
      "execution_count": null,
      "outputs": []
    },
    {
      "cell_type": "code",
      "execution_count": null,
      "metadata": {
        "id": "upFmU9WW_I6D"
      },
      "outputs": [],
      "source": [
        "# 현재 경로 변경\n",
        "os.chdir('D:\\\\train_v2.csv')"
      ]
    },
    {
      "cell_type": "code",
      "execution_count": null,
      "metadata": {
        "id": "KWZu7jsQ_I6E"
      },
      "outputs": [],
      "source": [
        "# 대용량 csv파일 병렬처리\n",
        "df = dd.read_csv('train_v2.csv', header='infer', engine='python',sep=',')"
      ]
    },
    {
      "cell_type": "markdown",
      "metadata": {
        "id": "QOUTR82G_I6E"
      },
      "source": [
        "**필드값이 너무 커서 오류 발생**\n",
        "- field larger than field limit (131072)\n",
        "- sys와 csv를 import한 뒤 코드를 입력하여 갯수 제한 해제\n"
      ]
    },
    {
      "cell_type": "code",
      "source": [
        "csv.field_size_limit(sys.maxsize)"
      ],
      "metadata": {
        "id": "qmKQRqNoGE02"
      },
      "execution_count": null,
      "outputs": []
    },
    {
      "cell_type": "markdown",
      "source": [
        "**그래도 너무 큰 경우**\n",
        "- OverflowError: Python int too large to convert to C long"
      ],
      "metadata": {
        "id": "deeTVq6qGjNe"
      }
    },
    {
      "cell_type": "code",
      "execution_count": null,
      "metadata": {
        "id": "82oza7-J_I6G"
      },
      "outputs": [],
      "source": [
        "# 필드의 값 제한 해제\n",
        "maxparse = sys.maxsize\n",
        "while True:\n",
        "    try:\n",
        "        csv.field_size_limit(maxparse)\n",
        "        break\n",
        "    except OverflowError:\n",
        "        maxparse = int(maxparse/10)"
      ]
    },
    {
      "cell_type": "code",
      "execution_count": null,
      "metadata": {
        "id": "sOduyrrI_I6I",
        "outputId": "340e0724-7c68-48a4-d345-6707d2ba73ec"
      },
      "outputs": [
        {
          "data": {
            "text/plain": [
              "\"[{'hitNumber': '1', 'time': '0', 'hour': '17', 'minute': '0', 'isInteraction': True, 'isEntrance': True, 'isExit': True, 'referer': 'https://www.google.co.uk/search?q=water+bottle&ie=utf-8&num=100&oe=utf-8&hl=en&gl=GB&uule=w+CAIQIFISCamRx0IRO1oCEXoliDJDoPjE&glp=1&gws_rd=cr&fg=1', 'page': {'pagePath': '/google+redesign/bags/water+bottles+and+tumblers', 'hostname': 'shop.googlemerchandisestore.com', 'pageTitle': 'Water Bottles & Tumblers | Drinkware | Google Merchandise Store', 'pagePathLevel1': '/google+redesign/', 'pagePathLevel2': '/bags/', 'pagePathLevel3': '/water+bottles+and+tumblers', 'pagePathLevel4': ''}, 'transaction': {'currencyCode': 'USD'}, 'item': {'currencyCode': 'USD'}, 'appInfo': {'screenName': 'shop.googlemerchandisestore.com/google+redesign/bags/water+bottles+and+tumblers', 'landingScreenName': 'shop.googlemerchandisestore.com/google+redesign/bags/water+bottles+and+tumblers', 'exitScreenName': 'shop.googlemerchandisestore.com/google+redesign/bags/water+bottles+and+tumblers', 'screenDepth': '0'}, 'exceptionInfo': {'isFatal': True}, 'product': [{'productSKU': 'GGOEGDHC074099', 'v2ProductName': 'Google 17oz Stainless Steel Sport Bottle', 'v2ProductCategory': 'Home/Drinkware/Water Bottles and Tumblers/', 'productVariant': '(not set)', 'productBrand': '(not set)', 'productPrice': '23990000', 'localProductPrice': '23990000', 'isImpression': True, 'customDimensions': [], 'customMetrics': [], 'productListName': 'Category', 'productListPosition': '1'}, {'productSKU': 'GGOEGDHQ015399', 'v2ProductName': '26 oz Double Wall Insulated Bottle', 'v2ProductCategory': 'Home/Drinkware/Water Bottles and Tumblers/', 'productVariant': '(not set)', 'productBrand': '(not set)', 'productPrice': '24990000', 'localProductPrice': '24990000', 'isImpression': True, 'customDimensions': [], 'customMetrics': [], 'productListName': 'Category', 'productListPosition': '2'}, {'productSKU': 'GGOEYDHJ056099', 'v2ProductName': '22 oz YouTube Bottle Infuser', 'v2ProductCategory': 'Home/Drinkware/Water Bottles and Tumblers/', 'productVariant': '(not set)', 'productBrand': '(not set)', 'productPrice': '4990000', 'localProductPrice': '4990000', 'isImpression': True, 'customDimensions': [], 'customMetrics': [], 'productListName': 'Category', 'productListPosition': '3'}, {'productSKU': 'GGOEGAAX0074', 'v2ProductName': 'Google 22 oz Water Bottle', 'v2ProductCategory': 'Home/Drinkware/Water Bottles and Tumblers/', 'productVariant': '(not set)', 'productBrand': '(not set)', 'productPrice': '2990000', 'localProductPrice': '2990000', 'isImpression': True, 'customDimensions': [], 'customMetrics': [], 'productListName': 'Category', 'productListPosition': '4'}], 'promotion': [], 'eCommerceAction': {'action_type': '0', 'step': '1'}, 'experiment': [], 'customVariables': [], 'customDimensions': [], 'customMetrics': [], 'type': 'PAGE', 'social': {'socialNetwork': '(not set)', 'hasSocialSourceReferral': 'No', 'socialInteractionNetworkAction': ' : '}, 'contentGroup': {'contentGroup1': '(not set)', 'contentGroup2': 'Bags', 'contentGroup3': '(not set)', 'contentGroup4': '(not set)', 'contentGroup5': '(not set)', 'previousContentGroup1': '(entrance)', 'previousContentGroup2': '(entrance)', 'previousContentGroup3': '(entrance)', 'previousContentGroup4': '(entrance)', 'previousContentGroup5': '(entrance)', 'contentGroupUniqueViews2': '1'}, 'dataSource': 'web', 'publisher_infos': []}]\""
            ]
          },
          "execution_count": 83,
          "metadata": {},
          "output_type": "execute_result"
        }
      ],
      "source": [
        "# hits의 값(dask는 구조만 가져오는 것이라서 head로 호출해줘야한다.)\n",
        "str_to_list_ast = all_data.head().loc[0,'hits']\n",
        "str_to_list_ast"
      ]
    },
    {
      "cell_type": "code",
      "execution_count": null,
      "metadata": {
        "id": "Uwl4EJcy_I6J",
        "outputId": "ce9ab682-8885-42f6-80b2-84fe0be78976"
      },
      "outputs": [
        {
          "data": {
            "text/plain": [
              "dict_keys(['hitNumber', 'time', 'hour', 'minute', 'isInteraction', 'isEntrance', 'isExit', 'referer', 'page', 'transaction', 'item', 'appInfo', 'exceptionInfo', 'product', 'promotion', 'eCommerceAction', 'experiment', 'customVariables', 'customDimensions', 'customMetrics', 'type', 'social', 'contentGroup', 'dataSource', 'publisher_infos'])"
            ]
          },
          "execution_count": 82,
          "metadata": {},
          "output_type": "execute_result"
        }
      ],
      "source": [
        "# str형식으로 된 값을 list로 바꾸기\n",
        "ast.literal_eval(str_to_list_ast)[0].keys()"
      ]
    },
    {
      "cell_type": "code",
      "source": [
        "#dask => pandas\n",
        "df = ddf.compute()\n",
        "\n",
        "# pandas => dask\n",
        "ddf = dd.from_pandas(df)"
      ],
      "metadata": {
        "id": "7Rrumh6xERDn"
      },
      "execution_count": null,
      "outputs": []
    },
    {
      "cell_type": "code",
      "source": [
        "# csv파일의 json때문에 , 를 잘못 인식하는 경우 파일이 이상하게 저장되는 현상이 있음\n",
        "# 이럴때는 xlsx파일로 저장하면됨\n",
        "df.to_excel(excel_writer= address + 'ga_data.xlsx', index=False) # 경로, 파일명을 같이 넣어줘야함"
      ],
      "metadata": {
        "id": "JuYMmRztE-1p"
      },
      "execution_count": null,
      "outputs": []
    },
    {
      "cell_type": "markdown",
      "source": [
        "## 대용량데이터 일부만 뽑기"
      ],
      "metadata": {
        "id": "UrELSLWLHNkc"
      }
    },
    {
      "cell_type": "code",
      "source": [
        "# chunksize만큼씩만 읽어오기\n",
        "address = pd.read_csv('train_v2.csv', chunksize=10000,\n",
        "                       dtype={'fullVisitorId':'object',('date','fulVisitorid', 'visitId', 'visitNumber', 'visitStartTime'):'int'})\n",
        "train_data = pd.DataFrame()"
      ],
      "metadata": {
        "id": "5bXFqi3mHPlM"
      },
      "execution_count": null,
      "outputs": []
    },
    {
      "cell_type": "code",
      "source": [
        "# i가 30이면 \n",
        "i = 0\n",
        "for row, chunk in enumerate(address):\n",
        "    train_data = pd.concat([train_data, chunk])\n",
        "    print(f'{row*10000}개')\n",
        "    i+=1\n",
        "    if i == 30:\n",
        "        break"
      ],
      "metadata": {
        "id": "75BBWBhBHQy-"
      },
      "execution_count": null,
      "outputs": []
    },
    {
      "cell_type": "code",
      "source": [
        "ad = 'D:\\\\train_v2.csv\\\\'\n",
        "train_data.to_excel(excel_writer = ad +'ga_data.xlsx', index=False)"
      ],
      "metadata": {
        "id": "MYnx9hCsHuXT"
      },
      "execution_count": null,
      "outputs": []
    }
  ],
  "metadata": {
    "kernelspec": {
      "display_name": "Python 3",
      "language": "python",
      "name": "python3"
    },
    "language_info": {
      "codemirror_mode": {
        "name": "ipython",
        "version": 3
      },
      "file_extension": ".py",
      "mimetype": "text/x-python",
      "name": "python",
      "nbconvert_exporter": "python",
      "pygments_lexer": "ipython3",
      "version": "3.8.16"
    },
    "orig_nbformat": 4,
    "colab": {
      "provenance": [],
      "include_colab_link": true
    }
  },
  "nbformat": 4,
  "nbformat_minor": 0
}
{
  "cells": [
    {
      "cell_type": "markdown",
      "metadata": {
        "id": "view-in-github",
        "colab_type": "text"
      },
      "source": [
        "<a href=\"https://colab.research.google.com/github/ev1025/DA_Study/blob/main/%ED%8C%8C%EC%9D%B4%EC%8D%AC_%EB%8C%80%EC%9A%A9%EB%9F%89csv.ipynb\" target=\"_parent\"><img src=\"https://colab.research.google.com/assets/colab-badge.svg\" alt=\"Open In Colab\"/></a>"
      ]
    },
    {
      "cell_type": "markdown",
      "source": [
        "# Dask 라이브러리"
      ],
      "metadata": {
        "id": "zPoPjSlGuemp"
      }
    },
    {
      "cell_type": "markdown",
      "source": [
        "- 대용량 병렬처리방식, 메모리에 저장하지 않고 구조만 가져오는 방식\n",
        "- .head()나 .tail()을 사용해야 데이터 확인가능"
      ],
      "metadata": {
        "id": "5vLnFjTPuhj5"
      }
    },
    {
      "cell_type": "code",
      "execution_count": null,
      "metadata": {
        "id": "eaMMaPoO_I5-"
      },
      "outputs": [],
      "source": [
        "pip install \"dask[complete]\""
      ]
    },
    {
      "cell_type": "code",
      "source": [
        "pip install openpyxl"
      ],
      "metadata": {
        "id": "OH2BtvEuFCMc"
      },
      "execution_count": null,
      "outputs": []
    },
    {
      "cell_type": "code",
      "execution_count": null,
      "metadata": {
        "id": "QuRTX7M7_I6C"
      },
      "outputs": [],
      "source": [
        "import dask.dataframe as dd\n",
        "import json\n",
        "import ast\n",
        "import os\n",
        "import sys\n",
        "import csv"
      ]
    },
    {
      "cell_type": "code",
      "source": [
        "# 현재 경로 확인\n",
        "os.getcwd() "
      ],
      "metadata": {
        "id": "A0Ptb3uJFc39"
      },
      "execution_count": null,
      "outputs": []
    },
    {
      "cell_type": "code",
      "execution_count": null,
      "metadata": {
        "id": "upFmU9WW_I6D"
      },
      "outputs": [],
      "source": [
        "# 현재 경로 변경\n",
        "os.chdir('D:\\\\train_v2.csv')"
      ]
    },
    {
      "cell_type": "code",
      "execution_count": null,
      "metadata": {
        "id": "KWZu7jsQ_I6E"
      },
      "outputs": [],
      "source": [
        "# 대용량 csv파일 병렬처리\n",
        "df = dd.read_csv('train_v2.csv', header='infer', engine='python',sep=',')"
      ]
    },
    {
      "cell_type": "code",
      "source": [
        "#dask => pandas\n",
        "df = ddf.compute()"
      ],
      "metadata": {
        "id": "cBiHqJkouuTD"
      },
      "execution_count": null,
      "outputs": []
    },
    {
      "cell_type": "code",
      "source": [
        "# pandas => dask\n",
        "ddf = dd.from_pandas(df)"
      ],
      "metadata": {
        "id": "l8g42lnNuvIy"
      },
      "execution_count": null,
      "outputs": []
    },
    {
      "cell_type": "markdown",
      "source": [
        "# CSV와 Excel"
      ],
      "metadata": {
        "id": "jOghjY12u5qS"
      }
    },
    {
      "cell_type": "markdown",
      "source": [
        "## CSV"
      ],
      "metadata": {
        "id": "hBOP1_FSxixo"
      }
    },
    {
      "cell_type": "code",
      "source": [
        "pd.read_csv('train_v2.csv',\n",
        "            chunksize=10000, # 나눠서 불러올 때\n",
        "            dtype={'fullVisitorId':'str',\n",
        "                   ('date','fulVisitorid', 'visitId', 'visitNumber', 'visitStartTime'):'int'},\n",
        "            converters={column: json.loads}, # json형식인 column이 str로 있는 경우\n",
        "            nrows = n,      # 위에서 부터 가져올 행 개수\n",
        "            skiprows=[1,2], # 위에서부터 1,2행 제외\n",
        "            skipfooter = n, # 뒤에서부터 n개 제외\n",
        "            usecols=[],     # 사용할 컬럼(숫자가능)\n",
        "            name=[],        # 컬럼이름 설정(가져오는 개수와 일치해야함)\n",
        "            sheet_name =[], # 시트명(숫자가능)\n",
        "            header = None,   # 컬럼명 없을 때\n",
        "            na_values = ['?', '??', 'N/A', 'NA', 'nan', 'NaN', '-nan', '-NaN', 'null') # 해당 값은 결측치로 인식"
      ],
      "metadata": {
        "id": "Iqon3RsIwpLq"
      },
      "execution_count": null,
      "outputs": []
    },
    {
      "cell_type": "code",
      "source": [
        "# 내보내기\n",
        "df.to_csv('경로\\\\파일.csv',\n",
        "          index= False,\n",
        "          lineterminator='\\n', # 라인분리 제대로 하도록 해줌\n",
        "          )"
      ],
      "metadata": {
        "id": "9blMwX8ovvp2"
      },
      "execution_count": null,
      "outputs": []
    },
    {
      "cell_type": "markdown",
      "source": [
        "**대용량데이터 조금씩 꺼내서 열기**"
      ],
      "metadata": {
        "id": "zKQ-AOotv1ur"
      }
    },
    {
      "cell_type": "code",
      "source": [
        "# chunksize만큼 꺼내기(바로 호출 불가)\n",
        "address = pd.read_csv('train_v2.csv', chunksize=10000,\n",
        "                       dtype={'fullVisitorId':'object',('date','fulVisitorid', 'visitId', 'visitNumber', 'visitStartTime'):'int'})\n",
        "train_data = pd.DataFrame()"
      ],
      "metadata": {
        "id": "5bXFqi3mHPlM"
      },
      "execution_count": null,
      "outputs": []
    },
    {
      "cell_type": "code",
      "source": [
        "# 1만개씩 30번 데이터 꺼내와서 빈 프레임에 넣기\n",
        "i = 0\n",
        "for row, chunk in enumerate(address):\n",
        "    train_data = pd.concat([train_data, chunk])\n",
        "    print(f'{row*10000}개')\n",
        "    i+=1\n",
        "    if i == 30:\n",
        "        break"
      ],
      "metadata": {
        "id": "75BBWBhBHQy-"
      },
      "execution_count": null,
      "outputs": []
    },
    {
      "cell_type": "markdown",
      "source": [
        "## EXCEL"
      ],
      "metadata": {
        "id": "Ocd3jVF7xkWu"
      }
    },
    {
      "cell_type": "code",
      "source": [
        "# 내보내기\n",
        "ad = 'D:\\\\train_v2.csv\\\\'\n",
        "df.to_excel(excel_writer= ad + '파일.xlsx', # 경로\n",
        "            index=False)"
      ],
      "metadata": {
        "id": "JuYMmRztE-1p"
      },
      "execution_count": null,
      "outputs": []
    },
    {
      "cell_type": "code",
      "source": [
        "# 가져오기 (xls, xlsx, xlsm, xlsb, odf, ods and odt )\n",
        "pd.read_execl('경로\\\\파일.xlsx',\n",
        "              header = None )"
      ],
      "metadata": {
        "id": "2MI0aRMLyDiw"
      },
      "execution_count": null,
      "outputs": []
    },
    {
      "cell_type": "markdown",
      "source": [
        "## 에러"
      ],
      "metadata": {
        "id": "jT0bMHlOzGkA"
      }
    },
    {
      "cell_type": "markdown",
      "metadata": {
        "id": "QOUTR82G_I6E"
      },
      "source": [
        "**필드값이 너무 큰 경우**\n",
        "- field larger than field limit (131072)\n"
      ]
    },
    {
      "cell_type": "code",
      "source": [
        "csv.field_size_limit(sys.maxsize)"
      ],
      "metadata": {
        "id": "qmKQRqNoGE02"
      },
      "execution_count": null,
      "outputs": []
    },
    {
      "cell_type": "markdown",
      "source": [
        "- OverflowError: Python int too large to convert to C long"
      ],
      "metadata": {
        "id": "deeTVq6qGjNe"
      }
    },
    {
      "cell_type": "code",
      "execution_count": null,
      "metadata": {
        "id": "82oza7-J_I6G"
      },
      "outputs": [],
      "source": [
        "# 필드의 값 제한 해제\n",
        "maxparse = sys.maxsize\n",
        "while True:\n",
        "    try:\n",
        "        csv.field_size_limit(maxparse)\n",
        "        break\n",
        "    except OverflowError:\n",
        "        maxparse = int(maxparse/10)"
      ]
    },
    {
      "cell_type": "markdown",
      "source": [
        "### json이나 list가 str로 저장된 경우"
      ],
      "metadata": {
        "id": "NxxQ6he4vQGr"
      }
    },
    {
      "cell_type": "markdown",
      "source": [
        "- json은 반드시 [{\"a\":\"b\"}]같이 \" \"로 묶여있어야한다. ' '로 묶인 경우 안됨"
      ],
      "metadata": {
        "id": "VinFui_szX_I"
      }
    },
    {
      "cell_type": "markdown",
      "source": [],
      "metadata": {
        "id": "Vh-xhEckzX6V"
      }
    },
    {
      "cell_type": "code",
      "execution_count": null,
      "metadata": {
        "id": "Uwl4EJcy_I6J"
      },
      "outputs": [],
      "source": [
        "# '[{\"a\":\"b\"}]'  => [{\"a\":'b\"}]\n",
        "# str형식으로 된 값을 list로 바꾸기\n",
        "ast.literal_eval('[{\"a\":\"b\"}]')"
      ]
    },
    {
      "cell_type": "markdown",
      "source": [
        "**컬럼값 전체를 변경해야 하는 경우**"
      ],
      "metadata": {
        "id": "DDcR6SsUzIpa"
      }
    },
    {
      "cell_type": "code",
      "source": [
        "df['json_column'] = df['json_column'].apply(json.loads)"
      ],
      "metadata": {
        "id": "thLlGbqnzMCI"
      },
      "execution_count": null,
      "outputs": []
    },
    {
      "cell_type": "markdown",
      "source": [
        "**' '로 묶인 경우**"
      ],
      "metadata": {
        "id": "gbhWm-URzkiI"
      }
    },
    {
      "cell_type": "code",
      "source": [
        "df['json_column'] = df['json_column'].str.replace(\"'\", \"\\\"\")"
      ],
      "metadata": {
        "id": "rcQ6K1PIztMo"
      },
      "execution_count": null,
      "outputs": []
    }
  ],
  "metadata": {
    "kernelspec": {
      "display_name": "Python 3",
      "language": "python",
      "name": "python3"
    },
    "language_info": {
      "codemirror_mode": {
        "name": "ipython",
        "version": 3
      },
      "file_extension": ".py",
      "mimetype": "text/x-python",
      "name": "python",
      "nbconvert_exporter": "python",
      "pygments_lexer": "ipython3",
      "version": "3.8.16"
    },
    "orig_nbformat": 4,
    "colab": {
      "provenance": [],
      "include_colab_link": true
    }
  },
  "nbformat": 4,
  "nbformat_minor": 0
}
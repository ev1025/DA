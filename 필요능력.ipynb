{
  "nbformat": 4,
  "nbformat_minor": 0,
  "metadata": {
    "colab": {
      "provenance": [],
      "authorship_tag": "ABX9TyNDOcK4QJcdnLgiju4qlgtC",
      "include_colab_link": true
    },
    "kernelspec": {
      "name": "python3",
      "display_name": "Python 3"
    },
    "language_info": {
      "name": "python"
    }
  },
  "cells": [
    {
      "cell_type": "markdown",
      "metadata": {
        "id": "view-in-github",
        "colab_type": "text"
      },
      "source": [
        "<a href=\"https://colab.research.google.com/github/ev1025/DA/blob/main/%ED%95%84%EC%9A%94%EB%8A%A5%EB%A0%A5.ipynb\" target=\"_parent\"><img src=\"https://colab.research.google.com/assets/colab-badge.svg\" alt=\"Open In Colab\"/></a>"
      ]
    },
    {
      "cell_type": "markdown",
      "source": [
        "# 필요한 공부"
      ],
      "metadata": {
        "id": "8kiiL-QY2pKD"
      }
    },
    {
      "cell_type": "markdown",
      "source": [
        "1. 마케팅 이론 :Retention, Cohort, AARRR, 로그설계, A/B테스트\n",
        "2. 필요한 기술들 : MySQL, 스칼라, 하둡, 스파크, 빅쿼리(구글), aws, 태블로 \n",
        "3. 웹페이지 접근 조회 : 구글 서치콘솔, GA, Listening Mind(유료)\n",
        "\n",
        "* 고객을 접근 시키는 방법 : 이용후기에 관련텍스트를 많이 넣어서 키워드검색이 되도록 유도한다.\n"
      ],
      "metadata": {
        "id": "8eQZb6IQ1g28"
      }
    },
    {
      "cell_type": "markdown",
      "source": [
        "# 추천책"
      ],
      "metadata": {
        "id": "boExufIF2n0S"
      }
    },
    {
      "cell_type": "markdown",
      "source": [
        "\n",
        "\n",
        "**[딥러닝]**\n",
        "- 비전 시스템을 위한 딥러닝   \n",
        "https://ebook-product.kyobobook.co.kr/dig/epd/ebook/E000002942588\n",
        "\n",
        "- 파이썬으로 만드는 OpenCV 프로젝트   \n",
        " https://product.kyobobook.co.kr/detail/S000001033077\n",
        "\n",
        "- Deep Learning Cookbook   \n",
        "https://ebook-product.kyobobook.co.kr/dig/epd/ebook/E000003455398\n",
        "\n",
        "- 케라스 창시자에게 배우는 딥러닝   \n",
        "https://ebook-product.kyobobook.co.kr/dig/epd/ebook/E000002912109\n",
        "\n",
        "- 케라스로 구현하는 고급 딥러닝 알고리즘   \n",
        "https://product.kyobobook.co.kr/detail/S000001766396\n",
        "\n",
        "- GAN 첫걸음   \n",
        "https://product.kyobobook.co.kr/detail/S000001810359\n",
        "\n",
        "- 데이터 중심 애플리케이션 설계   \n",
        "https://product.kyobobook.co.kr/detail/S000001766328\n",
        "\n",
        "- Apache Airflow 기반의 데이터 파이프라인   \n",
        "https://product.kyobobook.co.kr/detail/S000001952239\n",
        "\n",
        "**[머신러닝]**\n",
        "- 파이썬 라이브러리를 활용한 머신러닝   \n",
        "https://ebook-product.kyobobook.co.kr/dig/epd/ebook/E000002942609\n",
        "\n",
        "- 파이썬을 활용한 머신러닝 쿡북   \n",
        "https://ebook-product.kyobobook.co.kr/dig/epd/ebook/E000002942385\n",
        "\n",
        "**[파이프라인]**\n",
        "- 데이터 중심 애플리케이션 설계   \n",
        "https://product.kyobobook.co.kr/detail/S000001766328\n",
        "\n",
        "- Apache Airflow 기반의 데이터 파이프라인   \n",
        "https://product.kyobobook.co.kr/detail/S000001952239\n",
        "\n",
        "**[알고리즘]**\n",
        "- 잠자는 코딩 브레인을 깨우는 알고리즘 퍼즐 69   \n",
        "http://www.yes24.com/Product/Goods/69063562\n",
        "\n",
        "- 파이썬 알고리즘 인터뷰   \n",
        "https://github.com/onlybooks/algorithm-interview\n",
        "\n",
        "- 이것이 취업을 위한 코딩 테스트다 with 파이썬   \n",
        "http://www.yes24.com/Product/Goods/91433923\n",
        "\n",
        "\n",
        "**[기타]**\n",
        "- 완벽한 공부법   \n",
        "https://product.kyobobook.co.kr/detail/S000001792100\n",
        "\n",
        "- 빅데이터 커리어 가이드북  \n",
        "https://product.kyobobook.co.kr/detail/S000001834719\n",
        "\n",
        "- 그림으로 이해하는 aws 구조와 기술\n",
        "\n",
        "**[DE 관련책]**\n",
        "- Do it 점프 투 장고   \n",
        "https://product.kyobobook.co.kr/detail/S000001817996\n",
        "- Do it 장고를 이용한 ~~~~ (도커그림있는거)   \n",
        "https://product.kyobobook.co.kr/detail/S000001817993"
      ],
      "metadata": {
        "id": "c32YNJsf2q4P"
      }
    },
    {
      "cell_type": "markdown",
      "source": [
        "### 섹션5 조대희 코치님 추천 영상\n",
        "1) 빅데이터센터 연구원이 말하는 데이터의 중요성\n",
        "- https://www.youtube.com/watch?v=LVEZNLxuD-4&t=1s\n",
        "\n",
        "2) [알고리즘 문제 풀기 공부하는 법]\n",
        "- https://careerly.co.kr/comments/60668\n",
        "\n",
        "3) [코딩 면접을 위해 꼭 알아둬야 하는 알고리즘 패턴 8가지와 문제 유형]\n",
        "- https://careerly.co.kr/comments/62250\n",
        "\n",
        "4) [프로젝트발표영상] 예시\n",
        "- https://www.youtube.com/watch?v=ukeIsaagLBI\n",
        "\n",
        "5) 데이터 엔지니어가 하는 일은?ㅣ데이터 엔지니어 로드맵, 필요 역량\n",
        "- https://www.codestates.com/blog/content/%EB%8D%B0%EC%9D%B4%ED%84%B0%EC%97%94%EC%A7%80%EB%8B%88%EC%96%B4%EB%A1%9C%EB%93%9C%EB%A7%B5\n",
        "\n"
      ],
      "metadata": {
        "id": "gtYn1DzU4wuP"
      }
    }
  ]
}